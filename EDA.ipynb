{
 "cells": [
  {
   "cell_type": "code",
   "execution_count": 1,
   "metadata": {},
   "outputs": [],
   "source": [
    "import numpy as np\n",
    "import pandas as pd\n",
    "import seaborn as sns\n",
    "import matplotlib.pyplot as plt\n",
    "\n",
    "sns.set_theme(style=\"white\")\n",
    "import plotly.express as px\n",
    "import plotly.graph_objects as go\n",
    "from plotly.subplots import make_subplots"
   ]
  },
  {
   "cell_type": "markdown",
   "metadata": {},
   "source": [
    "### Load dataset"
   ]
  },
  {
   "cell_type": "code",
   "execution_count": 2,
   "metadata": {},
   "outputs": [
    {
     "data": {
      "text/html": [
       "<div>\n",
       "<style scoped>\n",
       "    .dataframe tbody tr th:only-of-type {\n",
       "        vertical-align: middle;\n",
       "    }\n",
       "\n",
       "    .dataframe tbody tr th {\n",
       "        vertical-align: top;\n",
       "    }\n",
       "\n",
       "    .dataframe thead th {\n",
       "        text-align: right;\n",
       "    }\n",
       "</style>\n",
       "<table border=\"1\" class=\"dataframe\">\n",
       "  <thead>\n",
       "    <tr style=\"text-align: right;\">\n",
       "      <th></th>\n",
       "      <th>index</th>\n",
       "      <th>Year</th>\n",
       "      <th>Player</th>\n",
       "      <th>Tm</th>\n",
       "      <th>Share</th>\n",
       "      <th>G</th>\n",
       "      <th>MP</th>\n",
       "      <th>PTS</th>\n",
       "      <th>TRB</th>\n",
       "      <th>AST</th>\n",
       "      <th>...</th>\n",
       "      <th>offensive_win_shares</th>\n",
       "      <th>defensive_win_shares</th>\n",
       "      <th>offensive_box_plus_minus</th>\n",
       "      <th>defensive_box_plus_minus</th>\n",
       "      <th>box_plus_minus</th>\n",
       "      <th>value_over_replacement_player</th>\n",
       "      <th>wl_pct</th>\n",
       "      <th>seed</th>\n",
       "      <th>highest_teammate_vorp</th>\n",
       "      <th>highest_teammate_ws</th>\n",
       "    </tr>\n",
       "  </thead>\n",
       "  <tbody>\n",
       "    <tr>\n",
       "      <th>0</th>\n",
       "      <td>0</td>\n",
       "      <td>1980</td>\n",
       "      <td>Kareem Abdul-Jabbar</td>\n",
       "      <td>LAL</td>\n",
       "      <td>0.665</td>\n",
       "      <td>82</td>\n",
       "      <td>38.3</td>\n",
       "      <td>24.8</td>\n",
       "      <td>10.8</td>\n",
       "      <td>4.5</td>\n",
       "      <td>...</td>\n",
       "      <td>9.5</td>\n",
       "      <td>5.3</td>\n",
       "      <td>4.8</td>\n",
       "      <td>2.4</td>\n",
       "      <td>7.2</td>\n",
       "      <td>7.3</td>\n",
       "      <td>0.731707</td>\n",
       "      <td>1</td>\n",
       "      <td>4.8</td>\n",
       "      <td>10.5</td>\n",
       "    </tr>\n",
       "    <tr>\n",
       "      <th>1</th>\n",
       "      <td>1</td>\n",
       "      <td>1980</td>\n",
       "      <td>Julius Erving</td>\n",
       "      <td>PHI</td>\n",
       "      <td>0.143</td>\n",
       "      <td>78</td>\n",
       "      <td>36.1</td>\n",
       "      <td>26.9</td>\n",
       "      <td>7.4</td>\n",
       "      <td>4.6</td>\n",
       "      <td>...</td>\n",
       "      <td>7.3</td>\n",
       "      <td>5.2</td>\n",
       "      <td>5.7</td>\n",
       "      <td>1.9</td>\n",
       "      <td>7.6</td>\n",
       "      <td>6.8</td>\n",
       "      <td>0.719512</td>\n",
       "      <td>2</td>\n",
       "      <td>2.9</td>\n",
       "      <td>8.1</td>\n",
       "    </tr>\n",
       "    <tr>\n",
       "      <th>2</th>\n",
       "      <td>2</td>\n",
       "      <td>1980</td>\n",
       "      <td>George Gervin</td>\n",
       "      <td>SAS</td>\n",
       "      <td>0.086</td>\n",
       "      <td>78</td>\n",
       "      <td>37.6</td>\n",
       "      <td>33.1</td>\n",
       "      <td>5.2</td>\n",
       "      <td>2.6</td>\n",
       "      <td>...</td>\n",
       "      <td>9.3</td>\n",
       "      <td>1.3</td>\n",
       "      <td>5.5</td>\n",
       "      <td>-1.6</td>\n",
       "      <td>3.9</td>\n",
       "      <td>4.4</td>\n",
       "      <td>0.500000</td>\n",
       "      <td>4</td>\n",
       "      <td>1.5</td>\n",
       "      <td>5.5</td>\n",
       "    </tr>\n",
       "    <tr>\n",
       "      <th>3</th>\n",
       "      <td>3</td>\n",
       "      <td>1980</td>\n",
       "      <td>Larry Bird</td>\n",
       "      <td>BOS</td>\n",
       "      <td>0.068</td>\n",
       "      <td>82</td>\n",
       "      <td>36.0</td>\n",
       "      <td>21.3</td>\n",
       "      <td>10.4</td>\n",
       "      <td>4.5</td>\n",
       "      <td>...</td>\n",
       "      <td>5.6</td>\n",
       "      <td>5.6</td>\n",
       "      <td>3.0</td>\n",
       "      <td>1.5</td>\n",
       "      <td>4.5</td>\n",
       "      <td>4.8</td>\n",
       "      <td>0.743902</td>\n",
       "      <td>1</td>\n",
       "      <td>3.8</td>\n",
       "      <td>12.2</td>\n",
       "    </tr>\n",
       "    <tr>\n",
       "      <th>4</th>\n",
       "      <td>4</td>\n",
       "      <td>1980</td>\n",
       "      <td>Tiny Archibald</td>\n",
       "      <td>BOS</td>\n",
       "      <td>0.009</td>\n",
       "      <td>80</td>\n",
       "      <td>35.8</td>\n",
       "      <td>14.1</td>\n",
       "      <td>2.5</td>\n",
       "      <td>8.4</td>\n",
       "      <td>...</td>\n",
       "      <td>5.9</td>\n",
       "      <td>2.9</td>\n",
       "      <td>1.4</td>\n",
       "      <td>-0.3</td>\n",
       "      <td>1.1</td>\n",
       "      <td>2.3</td>\n",
       "      <td>0.743902</td>\n",
       "      <td>1</td>\n",
       "      <td>4.8</td>\n",
       "      <td>12.2</td>\n",
       "    </tr>\n",
       "  </tbody>\n",
       "</table>\n",
       "<p>5 rows × 40 columns</p>\n",
       "</div>"
      ],
      "text/plain": [
       "   index  Year               Player   Tm  Share   G    MP   PTS   TRB  AST  \\\n",
       "0      0  1980  Kareem Abdul-Jabbar  LAL  0.665  82  38.3  24.8  10.8  4.5   \n",
       "1      1  1980        Julius Erving  PHI  0.143  78  36.1  26.9   7.4  4.6   \n",
       "2      2  1980        George Gervin  SAS  0.086  78  37.6  33.1   5.2  2.6   \n",
       "3      3  1980           Larry Bird  BOS  0.068  82  36.0  21.3  10.4  4.5   \n",
       "4      4  1980       Tiny Archibald  BOS  0.009  80  35.8  14.1   2.5  8.4   \n",
       "\n",
       "   ...  offensive_win_shares  defensive_win_shares  offensive_box_plus_minus  \\\n",
       "0  ...                   9.5                   5.3                       4.8   \n",
       "1  ...                   7.3                   5.2                       5.7   \n",
       "2  ...                   9.3                   1.3                       5.5   \n",
       "3  ...                   5.6                   5.6                       3.0   \n",
       "4  ...                   5.9                   2.9                       1.4   \n",
       "\n",
       "   defensive_box_plus_minus  box_plus_minus  value_over_replacement_player  \\\n",
       "0                       2.4             7.2                            7.3   \n",
       "1                       1.9             7.6                            6.8   \n",
       "2                      -1.6             3.9                            4.4   \n",
       "3                       1.5             4.5                            4.8   \n",
       "4                      -0.3             1.1                            2.3   \n",
       "\n",
       "     wl_pct seed  highest_teammate_vorp  highest_teammate_ws  \n",
       "0  0.731707    1                    4.8                 10.5  \n",
       "1  0.719512    2                    2.9                  8.1  \n",
       "2  0.500000    4                    1.5                  5.5  \n",
       "3  0.743902    1                    3.8                 12.2  \n",
       "4  0.743902    1                    4.8                 12.2  \n",
       "\n",
       "[5 rows x 40 columns]"
      ]
     },
     "execution_count": 2,
     "metadata": {},
     "output_type": "execute_result"
    }
   ],
   "source": [
    "df1 = pd.read_csv('mvp_data.csv', index_col=0).reset_index()\n",
    "df1.head()"
   ]
  },
  {
   "cell_type": "code",
   "execution_count": 3,
   "metadata": {},
   "outputs": [
    {
     "data": {
      "text/html": [
       "<div>\n",
       "<style scoped>\n",
       "    .dataframe tbody tr th:only-of-type {\n",
       "        vertical-align: middle;\n",
       "    }\n",
       "\n",
       "    .dataframe tbody tr th {\n",
       "        vertical-align: top;\n",
       "    }\n",
       "\n",
       "    .dataframe thead th {\n",
       "        text-align: right;\n",
       "    }\n",
       "</style>\n",
       "<table border=\"1\" class=\"dataframe\">\n",
       "  <thead>\n",
       "    <tr style=\"text-align: right;\">\n",
       "      <th></th>\n",
       "      <th>Year</th>\n",
       "      <th>Player</th>\n",
       "      <th>Tm</th>\n",
       "      <th>Share</th>\n",
       "      <th>G</th>\n",
       "      <th>MP</th>\n",
       "      <th>PTS</th>\n",
       "      <th>TRB</th>\n",
       "      <th>AST</th>\n",
       "      <th>STL</th>\n",
       "      <th>...</th>\n",
       "      <th>offensive_win_shares</th>\n",
       "      <th>defensive_win_shares</th>\n",
       "      <th>offensive_box_plus_minus</th>\n",
       "      <th>defensive_box_plus_minus</th>\n",
       "      <th>box_plus_minus</th>\n",
       "      <th>value_over_replacement_player</th>\n",
       "      <th>wl_pct</th>\n",
       "      <th>seed</th>\n",
       "      <th>highest_teammate_vorp</th>\n",
       "      <th>highest_teammate_ws</th>\n",
       "    </tr>\n",
       "  </thead>\n",
       "  <tbody>\n",
       "    <tr>\n",
       "      <th>0</th>\n",
       "      <td>1980</td>\n",
       "      <td>Kareem Abdul-Jabbar</td>\n",
       "      <td>LAL</td>\n",
       "      <td>0.665</td>\n",
       "      <td>82</td>\n",
       "      <td>38.3</td>\n",
       "      <td>24.8</td>\n",
       "      <td>10.8</td>\n",
       "      <td>4.5</td>\n",
       "      <td>1.0</td>\n",
       "      <td>...</td>\n",
       "      <td>9.5</td>\n",
       "      <td>5.3</td>\n",
       "      <td>4.8</td>\n",
       "      <td>2.4</td>\n",
       "      <td>7.2</td>\n",
       "      <td>7.3</td>\n",
       "      <td>0.731707</td>\n",
       "      <td>1</td>\n",
       "      <td>4.8</td>\n",
       "      <td>10.5</td>\n",
       "    </tr>\n",
       "    <tr>\n",
       "      <th>1</th>\n",
       "      <td>1980</td>\n",
       "      <td>Julius Erving</td>\n",
       "      <td>PHI</td>\n",
       "      <td>0.143</td>\n",
       "      <td>78</td>\n",
       "      <td>36.1</td>\n",
       "      <td>26.9</td>\n",
       "      <td>7.4</td>\n",
       "      <td>4.6</td>\n",
       "      <td>2.2</td>\n",
       "      <td>...</td>\n",
       "      <td>7.3</td>\n",
       "      <td>5.2</td>\n",
       "      <td>5.7</td>\n",
       "      <td>1.9</td>\n",
       "      <td>7.6</td>\n",
       "      <td>6.8</td>\n",
       "      <td>0.719512</td>\n",
       "      <td>2</td>\n",
       "      <td>2.9</td>\n",
       "      <td>8.1</td>\n",
       "    </tr>\n",
       "    <tr>\n",
       "      <th>2</th>\n",
       "      <td>1980</td>\n",
       "      <td>George Gervin</td>\n",
       "      <td>SAS</td>\n",
       "      <td>0.086</td>\n",
       "      <td>78</td>\n",
       "      <td>37.6</td>\n",
       "      <td>33.1</td>\n",
       "      <td>5.2</td>\n",
       "      <td>2.6</td>\n",
       "      <td>1.4</td>\n",
       "      <td>...</td>\n",
       "      <td>9.3</td>\n",
       "      <td>1.3</td>\n",
       "      <td>5.5</td>\n",
       "      <td>-1.6</td>\n",
       "      <td>3.9</td>\n",
       "      <td>4.4</td>\n",
       "      <td>0.500000</td>\n",
       "      <td>4</td>\n",
       "      <td>1.5</td>\n",
       "      <td>5.5</td>\n",
       "    </tr>\n",
       "    <tr>\n",
       "      <th>3</th>\n",
       "      <td>1980</td>\n",
       "      <td>Larry Bird</td>\n",
       "      <td>BOS</td>\n",
       "      <td>0.068</td>\n",
       "      <td>82</td>\n",
       "      <td>36.0</td>\n",
       "      <td>21.3</td>\n",
       "      <td>10.4</td>\n",
       "      <td>4.5</td>\n",
       "      <td>1.7</td>\n",
       "      <td>...</td>\n",
       "      <td>5.6</td>\n",
       "      <td>5.6</td>\n",
       "      <td>3.0</td>\n",
       "      <td>1.5</td>\n",
       "      <td>4.5</td>\n",
       "      <td>4.8</td>\n",
       "      <td>0.743902</td>\n",
       "      <td>1</td>\n",
       "      <td>3.8</td>\n",
       "      <td>12.2</td>\n",
       "    </tr>\n",
       "    <tr>\n",
       "      <th>4</th>\n",
       "      <td>1980</td>\n",
       "      <td>Tiny Archibald</td>\n",
       "      <td>BOS</td>\n",
       "      <td>0.009</td>\n",
       "      <td>80</td>\n",
       "      <td>35.8</td>\n",
       "      <td>14.1</td>\n",
       "      <td>2.5</td>\n",
       "      <td>8.4</td>\n",
       "      <td>1.3</td>\n",
       "      <td>...</td>\n",
       "      <td>5.9</td>\n",
       "      <td>2.9</td>\n",
       "      <td>1.4</td>\n",
       "      <td>-0.3</td>\n",
       "      <td>1.1</td>\n",
       "      <td>2.3</td>\n",
       "      <td>0.743902</td>\n",
       "      <td>1</td>\n",
       "      <td>4.8</td>\n",
       "      <td>12.2</td>\n",
       "    </tr>\n",
       "  </tbody>\n",
       "</table>\n",
       "<p>5 rows × 39 columns</p>\n",
       "</div>"
      ],
      "text/plain": [
       "   Year               Player   Tm  Share   G    MP   PTS   TRB  AST  STL  ...  \\\n",
       "0  1980  Kareem Abdul-Jabbar  LAL  0.665  82  38.3  24.8  10.8  4.5  1.0  ...   \n",
       "1  1980        Julius Erving  PHI  0.143  78  36.1  26.9   7.4  4.6  2.2  ...   \n",
       "2  1980        George Gervin  SAS  0.086  78  37.6  33.1   5.2  2.6  1.4  ...   \n",
       "3  1980           Larry Bird  BOS  0.068  82  36.0  21.3  10.4  4.5  1.7  ...   \n",
       "4  1980       Tiny Archibald  BOS  0.009  80  35.8  14.1   2.5  8.4  1.3  ...   \n",
       "\n",
       "   offensive_win_shares  defensive_win_shares  offensive_box_plus_minus  \\\n",
       "0                   9.5                   5.3                       4.8   \n",
       "1                   7.3                   5.2                       5.7   \n",
       "2                   9.3                   1.3                       5.5   \n",
       "3                   5.6                   5.6                       3.0   \n",
       "4                   5.9                   2.9                       1.4   \n",
       "\n",
       "   defensive_box_plus_minus  box_plus_minus  value_over_replacement_player  \\\n",
       "0                       2.4             7.2                            7.3   \n",
       "1                       1.9             7.6                            6.8   \n",
       "2                      -1.6             3.9                            4.4   \n",
       "3                       1.5             4.5                            4.8   \n",
       "4                      -0.3             1.1                            2.3   \n",
       "\n",
       "     wl_pct  seed  highest_teammate_vorp  highest_teammate_ws  \n",
       "0  0.731707     1                    4.8                 10.5  \n",
       "1  0.719512     2                    2.9                  8.1  \n",
       "2  0.500000     4                    1.5                  5.5  \n",
       "3  0.743902     1                    3.8                 12.2  \n",
       "4  0.743902     1                    4.8                 12.2  \n",
       "\n",
       "[5 rows x 39 columns]"
      ]
     },
     "execution_count": 3,
     "metadata": {},
     "output_type": "execute_result"
    }
   ],
   "source": [
    "drop_cols = ['index']\n",
    "df = df1.drop(drop_cols, axis=1)\n",
    "df.head()"
   ]
  },
  {
   "cell_type": "markdown",
   "metadata": {},
   "source": [
    "### Select numeric columns for correlation study"
   ]
  },
  {
   "cell_type": "code",
   "execution_count": 4,
   "metadata": {},
   "outputs": [],
   "source": [
    "numerics = ['int16', 'int32', 'int64', 'float16', 'float32', 'float64']\n",
    "num_df = df.select_dtypes(include=numerics)"
   ]
  },
  {
   "cell_type": "code",
   "execution_count": 5,
   "metadata": {},
   "outputs": [
    {
     "data": {
      "text/plain": [
       "<AxesSubplot:>"
      ]
     },
     "execution_count": 5,
     "metadata": {},
     "output_type": "execute_result"
    },
    {
     "data": {
      "image/png": "[encoded data removed]",
      "text/plain": [
       "<Figure size 792x648 with 2 Axes>"
      ]
     },
     "metadata": {},
     "output_type": "display_data"
    }
   ],
   "source": [
    "# Compute the correlation matrix\n",
    "corr = num_df.corr()\n",
    "\n",
    "# Generate a mask for the upper triangle\n",
    "mask = np.triu(np.ones_like(corr, dtype=bool))\n",
    "\n",
    "# Set up the matplotlib figure\n",
    "f, ax = plt.subplots(figsize=(11, 9))\n",
    "\n",
    "# Generate a custom diverging colormap\n",
    "cmap = sns.diverging_palette(230, 20, as_cmap=True)\n",
    "\n",
    "# Draw the heatmap with the mask and correct aspect ratio\n",
    "sns.heatmap(corr, mask=mask, cmap=cmap, vmax=.3, center=0,\n",
    "            square=True, linewidths=.5, cbar_kws={\"shrink\": .5})"
   ]
  },
  {
   "cell_type": "code",
   "execution_count": 6,
   "metadata": {},
   "outputs": [
    {
     "data": {
      "text/plain": [
       "Share                            1.000000\n",
       "value_over_replacement_player    0.609648\n",
       "WS/48                            0.601676\n",
       "WS                               0.594909\n",
       "box_plus_minus                   0.592454\n",
       "player_efficiency_rating         0.587122\n",
       "offensive_box_plus_minus         0.517377\n",
       "offensive_win_shares             0.493071\n",
       "wl_pct                           0.376641\n",
       "PTS                              0.372642\n",
       "defensive_box_plus_minus         0.323435\n",
       "usage_percentage                 0.308277\n",
       "defensive_win_shares             0.266976\n",
       "true_shooting_percentage         0.241437\n",
       "defensive_rebound_percentage     0.177382\n",
       "TRB                              0.171994\n",
       "FG%                              0.171537\n",
       "total_rebound_percentage         0.157097\n",
       "MP                               0.122162\n",
       "assist_percentage                0.115746\n",
       "free_throw_attempt_rate          0.112761\n",
       "G                                0.108894\n",
       "BLK                              0.092065\n",
       "block_percentage                 0.085497\n",
       "AST                              0.083961\n",
       "STL                              0.074834\n",
       "steal_percentage                 0.065690\n",
       "FT%                              0.058759\n",
       "offensive_rebound_percentage     0.054427\n",
       "3P%                              0.021548\n",
       "three_point_attempt_rate         0.021398\n",
       "Year                             0.014388\n",
       "highest_teammate_ws             -0.017767\n",
       "turnover_percentage             -0.031897\n",
       "highest_teammate_vorp           -0.065034\n",
       "seed                            -0.348008\n",
       "Name: Share, dtype: float64"
      ]
     },
     "execution_count": 6,
     "metadata": {},
     "output_type": "execute_result"
    }
   ],
   "source": [
    "corr['Share'].sort_values(ascending=False)"
   ]
  },
  {
   "cell_type": "markdown",
   "metadata": {},
   "source": [
    "### study correlation for candidates with above 0.35 share"
   ]
  },
  {
   "cell_type": "code",
   "execution_count": 7,
   "metadata": {},
   "outputs": [
    {
     "data": {
      "text/plain": [
       "<AxesSubplot:>"
      ]
     },
     "execution_count": 7,
     "metadata": {},
     "output_type": "execute_result"
    },
    {
     "data": {
      "image/png": "[encoded data removed]",
      "text/plain": [
       "<Figure size 792x648 with 2 Axes>"
      ]
     },
     "metadata": {},
     "output_type": "display_data"
    }
   ],
   "source": [
    "num_df2 = num_df[num_df['Share'] > 0.5]\n",
    "# Compute the correlation matrix\n",
    "corr = num_df2.corr()\n",
    "\n",
    "# Generate a mask for the upper triangle\n",
    "mask = np.triu(np.ones_like(corr, dtype=bool))\n",
    "\n",
    "# Set up the matplotlib figure\n",
    "f, ax = plt.subplots(figsize=(11, 9))\n",
    "\n",
    "# Generate a custom diverging colormap\n",
    "cmap = sns.diverging_palette(230, 20, as_cmap=True)\n",
    "\n",
    "# Draw the heatmap with the mask and correct aspect ratio\n",
    "sns.heatmap(corr, mask=mask, cmap=cmap, vmax=.3, center=0,\n",
    "            square=True, linewidths=.5, cbar_kws={\"shrink\": .5})"
   ]
  },
  {
   "cell_type": "code",
   "execution_count": 8,
   "metadata": {},
   "outputs": [
    {
     "data": {
      "text/plain": [
       "Share                            1.000000\n",
       "wl_pct                           0.431053\n",
       "WS/48                            0.384682\n",
       "offensive_box_plus_minus         0.366412\n",
       "WS                               0.340325\n",
       "offensive_win_shares             0.336560\n",
       "box_plus_minus                   0.312578\n",
       "value_over_replacement_player    0.299961\n",
       "3P%                              0.270806\n",
       "player_efficiency_rating         0.266833\n",
       "three_point_attempt_rate         0.245838\n",
       "assist_percentage                0.207330\n",
       "FT%                              0.184057\n",
       "PTS                              0.166445\n",
       "Year                             0.165394\n",
       "AST                              0.161339\n",
       "usage_percentage                 0.145449\n",
       "true_shooting_percentage         0.143247\n",
       "G                                0.136640\n",
       "highest_teammate_ws              0.117440\n",
       "highest_teammate_vorp            0.081204\n",
       "defensive_box_plus_minus         0.074001\n",
       "steal_percentage                 0.056924\n",
       "defensive_win_shares             0.056664\n",
       "STL                              0.039402\n",
       "MP                              -0.040005\n",
       "FG%                             -0.042018\n",
       "defensive_rebound_percentage    -0.055384\n",
       "turnover_percentage             -0.058834\n",
       "TRB                             -0.091395\n",
       "total_rebound_percentage        -0.106308\n",
       "BLK                             -0.160691\n",
       "block_percentage                -0.163547\n",
       "offensive_rebound_percentage    -0.189773\n",
       "free_throw_attempt_rate         -0.214848\n",
       "seed                            -0.221358\n",
       "Name: Share, dtype: float64"
      ]
     },
     "execution_count": 8,
     "metadata": {},
     "output_type": "execute_result"
    }
   ],
   "source": [
    "corr['Share'].sort_values(ascending=False)"
   ]
  },
  {
   "cell_type": "code",
   "execution_count": 9,
   "metadata": {},
   "outputs": [
    {
     "data": {
      "application/vnd.plotly.v1+json": {
       "config": {
        "plotlyServerURL": "https://plot.ly"
       },
       "data": [
        {
         "customdata": [
          [
           "Kareem Abdul-Jabbar",
           1980
          ],
          [
           "Julius Erving",
           1981
          ],
          [
           "Moses Malone",
           1982
          ],
          [
           "Moses Malone",
           1983
          ],
          [
           "Larry Bird",
           1984
          ],
          [
           "Larry Bird",
           1985
          ],
          [
           "Larry Bird",
           1986
          ],
          [
           "Magic Johnson",
           1987
          ],
          [
           "Michael Jordan",
           1988
          ],
          [
           "Magic Johnson",
           1989
          ],
          [
           "Magic Johnson",
           1990
          ],
          [
           "Michael Jordan",
           1991
          ],
          [
           "Michael Jordan",
           1992
          ],
          [
           "Charles Barkley",
           1993
          ],
          [
           "Hakeem Olajuwon",
           1994
          ],
          [
           "David Robinson",
           1995
          ],
          [
           "Michael Jordan",
           1996
          ],
          [
           "Karl Malone",
           1997
          ],
          [
           "Michael Jordan",
           1998
          ],
          [
           "Karl Malone",
           1999
          ],
          [
           "Shaquille O'Neal",
           2000
          ],
          [
           "Allen Iverson",
           2001
          ],
          [
           "Tim Duncan",
           2002
          ],
          [
           "Tim Duncan",
           2003
          ],
          [
           "Kevin Garnett",
           2004
          ],
          [
           "Steve Nash",
           2005
          ],
          [
           "Steve Nash",
           2006
          ],
          [
           "Dirk Nowitzki",
           2007
          ],
          [
           "Kobe Bryant",
           2008
          ],
          [
           "LeBron James",
           2009
          ],
          [
           "LeBron James",
           2010
          ],
          [
           "Derrick Rose",
           2011
          ],
          [
           "LeBron James",
           2012
          ],
          [
           "LeBron James",
           2013
          ],
          [
           "Kevin Durant",
           2014
          ],
          [
           "Stephen Curry",
           2015
          ],
          [
           "Stephen Curry",
           2016
          ],
          [
           "Russell Westbrook",
           2017
          ],
          [
           "James Harden",
           2018
          ],
          [
           "Giannis Antetokounmpo",
           2019
          ],
          [
           "Giannis Antetokounmpo",
           2020
          ],
          [
           "Nikola Jokić",
           2021
          ],
          [
           "Nikola Jokić",
           2022
          ],
          [
           "Joel Embiid",
           2023
          ]
         ],
         "hovertemplate": "MVP=Y<br>wl_pct=%{x}<br>value_over_replacement_player=%{y}<br>Player=%{customdata[0]}<br>Year=%{customdata[1]}<extra></extra>",
         "legendgroup": "Y",
         "marker": {
          "color": "#636efa",
          "symbol": "circle"
         },
         "mode": "markers",
         "name": "Y",
         "orientation": "v",
         "showlegend": true,
         "type": "scatter",
         "x": [
          0.7317073170731707,
          0.7560975609756098,
          0.5609756097560976,
          0.7926829268292683,
          0.7560975609756098,
          0.7682926829268293,
          0.8170731707317073,
          0.7926829268292683,
          0.6097560975609756,
          0.6951219512195121,
          0.7682926829268293,
          0.7439024390243902,
          0.8170731707317073,
          0.7560975609756098,
          0.7073170731707317,
          0.7560975609756098,
          0.8780487804878049,
          0.7804878048780488,
          0.7560975609756098,
          0.74,
          0.8170731707317073,
          0.6829268292682927,
          0.7073170731707317,
          0.7317073170731707,
          0.7073170731707317,
          0.7560975609756098,
          0.6585365853658537,
          0.8170731707317073,
          0.6951219512195121,
          0.8048780487804879,
          0.7439024390243902,
          0.7560975609756098,
          0.696969696969697,
          0.8048780487804879,
          0.7195121951219512,
          0.8170731707317073,
          0.8902439024390244,
          0.573170731707317,
          0.7926829268292683,
          0.7317073170731707,
          0.7671232876712328,
          0.6527777777777778,
          0.5853658536585366,
          0.6585365853658537
         ],
         "xaxis": "x",
         "y": [
          7.3,
          6.9,
          5.5,
          4.2,
          7.3,
          8.7,
          8.4,
          8,
          12.5,
          8.3,
          8.9,
          10.8,
          9.2,
          7.1,
          7.3,
          8.7,
          9.8,
          7.8,
          7.1,
          4,
          9,
          6.1,
          8,
          7.7,
          10,
          4.4,
          4.9,
          7.4,
          6.3,
          11.8,
          10.3,
          6.7,
          7.6,
          9.9,
          9.6,
          7.9,
          9.5,
          9.3,
          7.7,
          7.4,
          6.6,
          8.8,
          9.8,
          6.4
         ],
         "yaxis": "y"
        },
        {
         "customdata": [
          [
           "Julius Erving",
           1980
          ],
          [
           "George Gervin",
           1980
          ],
          [
           "Larry Bird",
           1980
          ],
          [
           "Tiny Archibald",
           1980
          ],
          [
           "Dennis Johnson",
           1980
          ],
          [
           "Dan Roundfield",
           1980
          ],
          [
           "Gus Williams",
           1980
          ],
          [
           "Moses Malone",
           1980
          ],
          [
           "Larry Bird",
           1981
          ],
          [
           "Kareem Abdul-Jabbar",
           1981
          ],
          [
           "Moses Malone",
           1981
          ],
          [
           "George Gervin",
           1981
          ],
          [
           "Marques Johnson",
           1981
          ],
          [
           "Robert Parish",
           1981
          ],
          [
           "Dennis Johnson",
           1981
          ],
          [
           "Larry Bird",
           1982
          ],
          [
           "Julius Erving",
           1982
          ],
          [
           "Robert Parish",
           1982
          ],
          [
           "Gus Williams",
           1982
          ],
          [
           "George Gervin",
           1982
          ],
          [
           "Sidney Moncrief",
           1982
          ],
          [
           "Magic Johnson",
           1982
          ],
          [
           "Jack Sikma",
           1982
          ],
          [
           "Kareem Abdul-Jabbar",
           1982
          ],
          [
           "Larry Bird",
           1983
          ],
          [
           "Magic Johnson",
           1983
          ],
          [
           "Sidney Moncrief",
           1983
          ],
          [
           "Julius Erving",
           1983
          ],
          [
           "Alex English",
           1983
          ],
          [
           "Buck Williams",
           1983
          ],
          [
           "Artis Gilmore",
           1983
          ],
          [
           "George Gervin",
           1983
          ],
          [
           "Kareem Abdul-Jabbar",
           1983
          ],
          [
           "Bernard King",
           1984
          ],
          [
           "Magic Johnson",
           1984
          ],
          [
           "Kareem Abdul-Jabbar",
           1984
          ],
          [
           "Isiah Thomas",
           1984
          ],
          [
           "Julius Erving",
           1984
          ],
          [
           "Adrian Dantley",
           1984
          ],
          [
           "Sidney Moncrief",
           1984
          ],
          [
           "Magic Johnson",
           1985
          ],
          [
           "Moses Malone",
           1985
          ],
          [
           "Kareem Abdul-Jabbar",
           1985
          ],
          [
           "Terry Cummings",
           1985
          ],
          [
           "Michael Jordan",
           1985
          ],
          [
           "Bernard King",
           1985
          ],
          [
           "Sidney Moncrief",
           1985
          ],
          [
           "Isiah Thomas",
           1985
          ],
          [
           "Ralph Sampson",
           1985
          ],
          [
           "Dominique Wilkins",
           1986
          ],
          [
           "Magic Johnson",
           1986
          ],
          [
           "Hakeem Olajuwon",
           1986
          ],
          [
           "Kareem Abdul-Jabbar",
           1986
          ],
          [
           "Charles Barkley",
           1986
          ],
          [
           "Sidney Moncrief",
           1986
          ],
          [
           "Alex English",
           1986
          ],
          [
           "Isiah Thomas",
           1986
          ],
          [
           "Michael Jordan",
           1987
          ],
          [
           "Larry Bird",
           1987
          ],
          [
           "Kevin McHale",
           1987
          ],
          [
           "Dominique Wilkins",
           1987
          ],
          [
           "Charles Barkley",
           1987
          ],
          [
           "Hakeem Olajuwon",
           1987
          ],
          [
           "Isiah Thomas",
           1987
          ],
          [
           "Fat Lever",
           1987
          ],
          [
           "Larry Bird",
           1988
          ],
          [
           "Magic Johnson",
           1988
          ],
          [
           "Charles Barkley",
           1988
          ],
          [
           "Clyde Drexler",
           1988
          ],
          [
           "Dominique Wilkins",
           1988
          ],
          [
           "Hakeem Olajuwon",
           1988
          ],
          [
           "Karl Malone",
           1988
          ],
          [
           "Fat Lever",
           1988
          ],
          [
           "John Stockton",
           1988
          ],
          [
           "Michael Jordan",
           1989
          ],
          [
           "Karl Malone",
           1989
          ],
          [
           "Patrick Ewing",
           1989
          ],
          [
           "Hakeem Olajuwon",
           1989
          ],
          [
           "Charles Barkley",
           1989
          ],
          [
           "John Stockton",
           1989
          ],
          [
           "Kevin Johnson",
           1989
          ],
          [
           "Tom Chambers",
           1989
          ],
          [
           "Mark Price",
           1989
          ],
          [
           "Charles Barkley",
           1990
          ],
          [
           "Michael Jordan",
           1990
          ],
          [
           "Karl Malone",
           1990
          ],
          [
           "Patrick Ewing",
           1990
          ],
          [
           "David Robinson",
           1990
          ],
          [
           "Hakeem Olajuwon",
           1990
          ],
          [
           "Tom Chambers",
           1990
          ],
          [
           "John Stockton",
           1990
          ],
          [
           "Larry Bird",
           1990
          ],
          [
           "Magic Johnson",
           1991
          ],
          [
           "David Robinson",
           1991
          ],
          [
           "Charles Barkley",
           1991
          ],
          [
           "Karl Malone",
           1991
          ],
          [
           "Clyde Drexler",
           1991
          ],
          [
           "Kevin Johnson",
           1991
          ],
          [
           "Dominique Wilkins",
           1991
          ],
          [
           "Larry Bird",
           1991
          ],
          [
           "Terry Porter",
           1991
          ],
          [
           "Clyde Drexler",
           1992
          ],
          [
           "David Robinson",
           1992
          ],
          [
           "Karl Malone",
           1992
          ],
          [
           "Patrick Ewing",
           1992
          ],
          [
           "Chris Mullin",
           1992
          ],
          [
           "Mark Price",
           1992
          ],
          [
           "Tim Hardaway",
           1992
          ],
          [
           "Scottie Pippen",
           1992
          ],
          [
           "Dennis Rodman",
           1992
          ],
          [
           "Hakeem Olajuwon",
           1993
          ],
          [
           "Michael Jordan",
           1993
          ],
          [
           "Patrick Ewing",
           1993
          ],
          [
           "Dominique Wilkins",
           1993
          ],
          [
           "David Robinson",
           1993
          ],
          [
           "Shaquille O'Neal",
           1993
          ],
          [
           "Karl Malone",
           1993
          ],
          [
           "Mark Price",
           1993
          ],
          [
           "Brad Daugherty",
           1993
          ],
          [
           "David Robinson",
           1994
          ],
          [
           "Scottie Pippen",
           1994
          ],
          [
           "Shaquille O'Neal",
           1994
          ],
          [
           "Patrick Ewing",
           1994
          ],
          [
           "Gary Payton",
           1994
          ],
          [
           "Shawn Kemp",
           1994
          ],
          [
           "Karl Malone",
           1994
          ],
          [
           "Mark Price",
           1994
          ],
          [
           "Charles Barkley",
           1994
          ],
          [
           "Shaquille O'Neal",
           1995
          ],
          [
           "Karl Malone",
           1995
          ],
          [
           "Patrick Ewing",
           1995
          ],
          [
           "Hakeem Olajuwon",
           1995
          ],
          [
           "Charles Barkley",
           1995
          ],
          [
           "Scottie Pippen",
           1995
          ],
          [
           "John Stockton",
           1995
          ],
          [
           "Gary Payton",
           1995
          ],
          [
           "Anfernee Hardaway",
           1995
          ],
          [
           "David Robinson",
           1996
          ],
          [
           "Anfernee Hardaway",
           1996
          ],
          [
           "Hakeem Olajuwon",
           1996
          ],
          [
           "Scottie Pippen",
           1996
          ],
          [
           "Gary Payton",
           1996
          ],
          [
           "Karl Malone",
           1996
          ],
          [
           "Shawn Kemp",
           1996
          ],
          [
           "Grant Hill",
           1996
          ],
          [
           "Michael Jordan",
           1997
          ],
          [
           "Grant Hill",
           1997
          ],
          [
           "Tim Hardaway",
           1997
          ],
          [
           "Glen Rice",
           1997
          ],
          [
           "Gary Payton",
           1997
          ],
          [
           "Hakeem Olajuwon",
           1997
          ],
          [
           "Patrick Ewing",
           1997
          ],
          [
           "Anthony Mason",
           1997
          ],
          [
           "Shaquille O'Neal",
           1997
          ],
          [
           "Karl Malone",
           1998
          ],
          [
           "Gary Payton",
           1998
          ],
          [
           "Shaquille O'Neal",
           1998
          ],
          [
           "Tim Duncan",
           1998
          ],
          [
           "Tim Hardaway",
           1998
          ],
          [
           "David Robinson",
           1998
          ],
          [
           "Grant Hill",
           1998
          ],
          [
           "Scottie Pippen",
           1998
          ],
          [
           "Alonzo Mourning",
           1999
          ],
          [
           "Tim Duncan",
           1999
          ],
          [
           "Allen Iverson",
           1999
          ],
          [
           "Jason Kidd",
           1999
          ],
          [
           "Shaquille O'Neal",
           1999
          ],
          [
           "Chris Webber",
           1999
          ],
          [
           "Grant Hill",
           1999
          ],
          [
           "Gary Payton",
           1999
          ],
          [
           "Kevin Garnett",
           1999
          ],
          [
           "Kevin Garnett",
           2000
          ],
          [
           "Alonzo Mourning",
           2000
          ],
          [
           "Karl Malone",
           2000
          ],
          [
           "Tim Duncan",
           2000
          ],
          [
           "Gary Payton",
           2000
          ],
          [
           "Allen Iverson",
           2000
          ],
          [
           "Grant Hill",
           2000
          ],
          [
           "Chris Webber",
           2000
          ],
          [
           "Vince Carter",
           2000
          ],
          [
           "Tim Duncan",
           2001
          ],
          [
           "Shaquille O'Neal",
           2001
          ],
          [
           "Chris Webber",
           2001
          ],
          [
           "Kevin Garnett",
           2001
          ],
          [
           "Tracy McGrady",
           2001
          ],
          [
           "Karl Malone",
           2001
          ],
          [
           "Jason Kidd",
           2001
          ],
          [
           "Kobe Bryant",
           2001
          ],
          [
           "David Robinson",
           2001
          ],
          [
           "Jason Kidd",
           2002
          ],
          [
           "Shaquille O'Neal",
           2002
          ],
          [
           "Tracy McGrady",
           2002
          ],
          [
           "Kobe Bryant",
           2002
          ],
          [
           "Gary Payton",
           2002
          ],
          [
           "Chris Webber",
           2002
          ],
          [
           "Dirk Nowitzki",
           2002
          ],
          [
           "Allen Iverson",
           2002
          ],
          [
           "Ben Wallace",
           2002
          ],
          [
           "Kevin Garnett",
           2003
          ],
          [
           "Kobe Bryant",
           2003
          ],
          [
           "Tracy McGrady",
           2003
          ],
          [
           "Shaquille O'Neal",
           2003
          ],
          [
           "Allen Iverson",
           2003
          ],
          [
           "Dirk Nowitzki",
           2003
          ],
          [
           "Ben Wallace",
           2003
          ],
          [
           "Jason Kidd",
           2003
          ],
          [
           "Chris Webber",
           2003
          ],
          [
           "Tim Duncan",
           2004
          ],
          [
           "Jermaine O'Neal",
           2004
          ],
          [
           "Peja Stojaković",
           2004
          ],
          [
           "Kobe Bryant",
           2004
          ],
          [
           "Shaquille O'Neal",
           2004
          ],
          [
           "Ben Wallace",
           2004
          ],
          [
           "Jason Kidd",
           2004
          ],
          [
           "LeBron James",
           2004
          ],
          [
           "Sam Cassell",
           2004
          ],
          [
           "Shaquille O'Neal",
           2005
          ],
          [
           "Dirk Nowitzki",
           2005
          ],
          [
           "Tim Duncan",
           2005
          ],
          [
           "Allen Iverson",
           2005
          ],
          [
           "LeBron James",
           2005
          ],
          [
           "Tracy McGrady",
           2005
          ],
          [
           "Dwyane Wade",
           2005
          ],
          [
           "Amar'e Stoudemire",
           2005
          ],
          [
           "Ray Allen",
           2005
          ],
          [
           "LeBron James",
           2006
          ],
          [
           "Dirk Nowitzki",
           2006
          ],
          [
           "Kobe Bryant",
           2006
          ],
          [
           "Chauncey Billups",
           2006
          ],
          [
           "Dwyane Wade",
           2006
          ],
          [
           "Elton Brand",
           2006
          ],
          [
           "Tim Duncan",
           2006
          ],
          [
           "Tony Parker",
           2006
          ],
          [
           "Allen Iverson",
           2006
          ],
          [
           "Steve Nash",
           2007
          ],
          [
           "Kobe Bryant",
           2007
          ],
          [
           "Tim Duncan",
           2007
          ],
          [
           "LeBron James",
           2007
          ],
          [
           "Tracy McGrady",
           2007
          ],
          [
           "Chris Bosh",
           2007
          ],
          [
           "Gilbert Arenas",
           2007
          ],
          [
           "Carlos Boozer",
           2007
          ],
          [
           "Kevin Garnett",
           2007
          ],
          [
           "Chris Paul",
           2008
          ],
          [
           "Kevin Garnett",
           2008
          ],
          [
           "LeBron James",
           2008
          ],
          [
           "Dwight Howard",
           2008
          ],
          [
           "Amar'e Stoudemire",
           2008
          ],
          [
           "Tim Duncan",
           2008
          ],
          [
           "Tracy McGrady",
           2008
          ],
          [
           "Steve Nash",
           2008
          ],
          [
           "Manu Ginóbili",
           2008
          ],
          [
           "Kobe Bryant",
           2009
          ],
          [
           "Dwyane Wade",
           2009
          ],
          [
           "Dwight Howard",
           2009
          ],
          [
           "Chris Paul",
           2009
          ],
          [
           "Chauncey Billups",
           2009
          ],
          [
           "Paul Pierce",
           2009
          ],
          [
           "Tony Parker",
           2009
          ],
          [
           "Brandon Roy",
           2009
          ],
          [
           "Dirk Nowitzki",
           2009
          ],
          [
           "Kevin Durant",
           2010
          ],
          [
           "Kobe Bryant",
           2010
          ],
          [
           "Dwight Howard",
           2010
          ],
          [
           "Dwyane Wade",
           2010
          ],
          [
           "Carmelo Anthony",
           2010
          ],
          [
           "Dirk Nowitzki",
           2010
          ],
          [
           "Steve Nash",
           2010
          ],
          [
           "Deron Williams",
           2010
          ],
          [
           "Dwight Howard",
           2011
          ],
          [
           "LeBron James",
           2011
          ],
          [
           "Kobe Bryant",
           2011
          ],
          [
           "Kevin Durant",
           2011
          ],
          [
           "Dirk Nowitzki",
           2011
          ],
          [
           "Dwyane Wade",
           2011
          ],
          [
           "Manu Ginóbili",
           2011
          ],
          [
           "Amar'e Stoudemire",
           2011
          ],
          [
           "Blake Griffin",
           2011
          ],
          [
           "Kevin Durant",
           2012
          ],
          [
           "Chris Paul",
           2012
          ],
          [
           "Kobe Bryant",
           2012
          ],
          [
           "Tony Parker",
           2012
          ],
          [
           "Kevin Love",
           2012
          ],
          [
           "Dwight Howard",
           2012
          ],
          [
           "Rajon Rondo",
           2012
          ],
          [
           "Steve Nash",
           2012
          ],
          [
           "Dwyane Wade",
           2012
          ],
          [
           "Kevin Durant",
           2013
          ],
          [
           "Carmelo Anthony",
           2013
          ],
          [
           "Chris Paul",
           2013
          ],
          [
           "Kobe Bryant",
           2013
          ],
          [
           "Tony Parker",
           2013
          ],
          [
           "Tim Duncan",
           2013
          ],
          [
           "James Harden",
           2013
          ],
          [
           "Russell Westbrook",
           2013
          ],
          [
           "Dwyane Wade",
           2013
          ],
          [
           "LeBron James",
           2014
          ],
          [
           "Blake Griffin",
           2014
          ],
          [
           "Joakim Noah",
           2014
          ],
          [
           "James Harden",
           2014
          ],
          [
           "Stephen Curry",
           2014
          ],
          [
           "Chris Paul",
           2014
          ],
          [
           "Al Jefferson",
           2014
          ],
          [
           "Paul George",
           2014
          ],
          [
           "LaMarcus Aldridge",
           2014
          ],
          [
           "James Harden",
           2015
          ],
          [
           "LeBron James",
           2015
          ],
          [
           "Russell Westbrook",
           2015
          ],
          [
           "Anthony Davis",
           2015
          ],
          [
           "Chris Paul",
           2015
          ],
          [
           "LaMarcus Aldridge",
           2015
          ],
          [
           "Marc Gasol",
           2015
          ],
          [
           "Blake Griffin",
           2015
          ],
          [
           "Tim Duncan",
           2015
          ],
          [
           "Kawhi Leonard",
           2016
          ],
          [
           "LeBron James",
           2016
          ],
          [
           "Russell Westbrook",
           2016
          ],
          [
           "Kevin Durant",
           2016
          ],
          [
           "Chris Paul",
           2016
          ],
          [
           "Draymond Green",
           2016
          ],
          [
           "Damian Lillard",
           2016
          ],
          [
           "James Harden",
           2016
          ],
          [
           "Kyle Lowry",
           2016
          ],
          [
           "James Harden",
           2017
          ],
          [
           "Kawhi Leonard",
           2017
          ],
          [
           "LeBron James",
           2017
          ],
          [
           "Isaiah Thomas",
           2017
          ],
          [
           "Stephen Curry",
           2017
          ],
          [
           "Giannis Antetokounmpo",
           2017
          ],
          [
           "John Wall",
           2017
          ],
          [
           "Anthony Davis",
           2017
          ],
          [
           "Kevin Durant",
           2017
          ],
          [
           "LeBron James",
           2018
          ],
          [
           "Anthony Davis",
           2018
          ],
          [
           "Damian Lillard",
           2018
          ],
          [
           "Russell Westbrook",
           2018
          ],
          [
           "Giannis Antetokounmpo",
           2018
          ],
          [
           "Kevin Durant",
           2018
          ],
          [
           "DeMar DeRozan",
           2018
          ],
          [
           "LaMarcus Aldridge",
           2018
          ],
          [
           "Jimmy Butler",
           2018
          ],
          [
           "James Harden",
           2019
          ],
          [
           "Paul George",
           2019
          ],
          [
           "Nikola Jokić",
           2019
          ],
          [
           "Stephen Curry",
           2019
          ],
          [
           "Damian Lillard",
           2019
          ],
          [
           "Joel Embiid",
           2019
          ],
          [
           "Kevin Durant",
           2019
          ],
          [
           "Kawhi Leonard",
           2019
          ],
          [
           "Russell Westbrook",
           2019
          ],
          [
           "LeBron James",
           2020
          ],
          [
           "James Harden",
           2020
          ],
          [
           "Luka Dončić",
           2020
          ],
          [
           "Kawhi Leonard",
           2020
          ],
          [
           "Anthony Davis",
           2020
          ],
          [
           "Chris Paul",
           2020
          ],
          [
           "Damian Lillard",
           2020
          ],
          [
           "Nikola Jokić",
           2020
          ],
          [
           "Pascal Siakam",
           2020
          ],
          [
           "Joel Embiid",
           2021
          ],
          [
           "Stephen Curry",
           2021
          ],
          [
           "Giannis Antetokounmpo",
           2021
          ],
          [
           "Chris Paul",
           2021
          ],
          [
           "Luka Dončić",
           2021
          ],
          [
           "Damian Lillard",
           2021
          ],
          [
           "Julius Randle",
           2021
          ],
          [
           "Rudy Gobert",
           2021
          ],
          [
           "Joel Embiid",
           2022
          ],
          [
           "Giannis Antetokounmpo",
           2022
          ],
          [
           "Devin Booker",
           2022
          ],
          [
           "Luka Dončić",
           2022
          ],
          [
           "Jayson Tatum",
           2022
          ],
          [
           "Ja Morant",
           2022
          ],
          [
           "Stephen Curry",
           2022
          ],
          [
           "Chris Paul",
           2022
          ],
          [
           "DeMar DeRozan",
           2022
          ],
          [
           "Nikola Jokić",
           2023
          ],
          [
           "Giannis Antetokounmpo",
           2023
          ],
          [
           "Jayson Tatum",
           2023
          ],
          [
           "Shai Gilgeous-Alexander",
           2023
          ],
          [
           "Donovan Mitchell",
           2023
          ],
          [
           "Domantas Sabonis",
           2023
          ],
          [
           "Luka Dončić",
           2023
          ],
          [
           "Stephen Curry",
           2023
          ],
          [
           "Jimmy Butler",
           2023
          ]
         ],
         "hovertemplate": "MVP=N<br>wl_pct=%{x}<br>value_over_replacement_player=%{y}<br>Player=%{customdata[0]}<br>Year=%{customdata[1]}<extra></extra>",
         "legendgroup": "N",
         "marker": {
          "color": "#EF553B",
          "symbol": "circle"
         },
         "mode": "markers",
         "name": "N",
         "orientation": "v",
         "showlegend": true,
         "type": "scatter",
         "x": [
          0.7195121951219512,
          0.5,
          0.7439024390243902,
          0.7439024390243902,
          0.6829268292682927,
          0.6097560975609756,
          0.6829268292682927,
          0.5,
          0.7560975609756098,
          0.6585365853658537,
          0.4878048780487805,
          0.6341463414634146,
          0.7317073170731707,
          0.7560975609756098,
          0.6951219512195121,
          0.7682926829268293,
          0.7073170731707317,
          0.7682926829268293,
          0.6341463414634146,
          0.5853658536585366,
          0.6707317073170732,
          0.6951219512195121,
          0.6341463414634146,
          0.6951219512195121,
          0.6829268292682927,
          0.7073170731707317,
          0.6219512195121951,
          0.7926829268292683,
          0.5487804878048781,
          0.5975609756097561,
          0.6463414634146342,
          0.6463414634146342,
          0.7073170731707317,
          0.573170731707317,
          0.6585365853658537,
          0.6585365853658537,
          0.5975609756097561,
          0.6341463414634146,
          0.5487804878048781,
          0.6097560975609756,
          0.7560975609756098,
          0.7073170731707317,
          0.7560975609756098,
          0.7195121951219512,
          0.4634146341463415,
          0.2926829268292683,
          0.7195121951219512,
          0.5609756097560976,
          0.5853658536585366,
          0.6097560975609756,
          0.7560975609756098,
          0.6219512195121951,
          0.7560975609756098,
          0.6585365853658537,
          0.6951219512195121,
          0.573170731707317,
          0.5609756097560976,
          0.4878048780487805,
          0.7195121951219512,
          0.7195121951219512,
          0.6951219512195121,
          0.5487804878048781,
          0.5121951219512195,
          0.6341463414634146,
          0.4512195121951219,
          0.6951219512195121,
          0.7560975609756098,
          0.4390243902439024,
          0.6463414634146342,
          0.6097560975609756,
          0.5609756097560976,
          0.573170731707317,
          0.6585365853658537,
          0.573170731707317,
          0.573170731707317,
          0.6219512195121951,
          0.6341463414634146,
          0.5487804878048781,
          0.5609756097560976,
          0.6219512195121951,
          0.6707317073170732,
          0.6707317073170732,
          0.6951219512195121,
          0.6463414634146342,
          0.6707317073170732,
          0.6707317073170732,
          0.5487804878048781,
          0.6829268292682927,
          0.5,
          0.6585365853658537,
          0.6707317073170732,
          0.6341463414634146,
          0.7073170731707317,
          0.6707317073170732,
          0.5365853658536586,
          0.6585365853658537,
          0.7682926829268293,
          0.6707317073170732,
          0.524390243902439,
          0.6829268292682927,
          0.7682926829268293,
          0.6951219512195121,
          0.573170731707317,
          0.6707317073170732,
          0.6219512195121951,
          0.6707317073170732,
          0.6951219512195121,
          0.6707317073170732,
          0.8170731707317073,
          0.5853658536585366,
          0.6707317073170732,
          0.6951219512195121,
          0.7317073170731707,
          0.524390243902439,
          0.5975609756097561,
          0.5,
          0.573170731707317,
          0.6585365853658537,
          0.6585365853658537,
          0.6707317073170732,
          0.6707317073170732,
          0.6097560975609756,
          0.6951219512195121,
          0.7682926829268293,
          0.7682926829268293,
          0.6463414634146342,
          0.573170731707317,
          0.6829268292682927,
          0.6951219512195121,
          0.7317073170731707,
          0.6707317073170732,
          0.573170731707317,
          0.7195121951219512,
          0.573170731707317,
          0.7317073170731707,
          0.6951219512195121,
          0.6951219512195121,
          0.7195121951219512,
          0.7317073170731707,
          0.5853658536585366,
          0.8780487804878049,
          0.7804878048780488,
          0.6707317073170732,
          0.7804878048780488,
          0.5609756097560976,
          0.8414634146341463,
          0.6585365853658537,
          0.7439024390243902,
          0.6585365853658537,
          0.6951219512195121,
          0.6951219512195121,
          0.6951219512195121,
          0.6585365853658537,
          0.6829268292682927,
          0.7560975609756098,
          0.7439024390243902,
          0.7439024390243902,
          0.6829268292682927,
          0.6707317073170732,
          0.6829268292682927,
          0.4512195121951219,
          0.7560975609756098,
          0.66,
          0.74,
          0.56,
          0.54,
          0.62,
          0.54,
          0.58,
          0.5,
          0.5,
          0.6097560975609756,
          0.6341463414634146,
          0.6707317073170732,
          0.6463414634146342,
          0.5487804878048781,
          0.5975609756097561,
          0.5121951219512195,
          0.5365853658536586,
          0.5487804878048781,
          0.7073170731707317,
          0.6829268292682927,
          0.6707317073170732,
          0.573170731707317,
          0.524390243902439,
          0.6463414634146342,
          0.6219512195121951,
          0.6829268292682927,
          0.7073170731707317,
          0.6341463414634146,
          0.7073170731707317,
          0.5365853658536586,
          0.7073170731707317,
          0.5487804878048781,
          0.7439024390243902,
          0.6951219512195121,
          0.524390243902439,
          0.6097560975609756,
          0.6219512195121951,
          0.6097560975609756,
          0.5121951219512195,
          0.6097560975609756,
          0.5853658536585366,
          0.7317073170731707,
          0.6097560975609756,
          0.5975609756097561,
          0.7195121951219512,
          0.6951219512195121,
          0.7439024390243902,
          0.6707317073170732,
          0.6829268292682927,
          0.6829268292682927,
          0.6585365853658537,
          0.573170731707317,
          0.4268292682926829,
          0.7073170731707317,
          0.7195121951219512,
          0.7073170731707317,
          0.7195121951219512,
          0.524390243902439,
          0.5121951219512195,
          0.6219512195121951,
          0.7195121951219512,
          0.7560975609756098,
          0.6341463414634146,
          0.6097560975609756,
          0.7317073170731707,
          0.5487804878048781,
          0.7804878048780488,
          0.6341463414634146,
          0.573170731707317,
          0.7682926829268293,
          0.7682926829268293,
          0.4634146341463415,
          0.7439024390243902,
          0.5121951219512195,
          0.7073170731707317,
          0.6097560975609756,
          0.6341463414634146,
          0.573170731707317,
          0.5,
          0.6219512195121951,
          0.3902439024390244,
          0.6829268292682927,
          0.8048780487804879,
          0.5487804878048781,
          0.6341463414634146,
          0.6707317073170732,
          0.6829268292682927,
          0.6707317073170732,
          0.6707317073170732,
          0.6829268292682927,
          0.7926829268292683,
          0.524390243902439,
          0.7195121951219512,
          0.5975609756097561,
          0.6585365853658537,
          0.7560975609756098,
          0.6585365853658537,
          0.6585365853658537,
          0.6097560975609756,
          0.6097560975609756,
          0.6951219512195121,
          0.7195121951219512,
          0.573170731707317,
          0.6463414634146342,
          0.6707317073170732,
          0.6585365853658537,
          0.6463414634146342,
          0.6341463414634146,
          0.7073170731707317,
          0.6951219512195121,
          0.6707317073170732,
          0.6951219512195121,
          0.7073170731707317,
          0.7439024390243902,
          0.5121951219512195,
          0.3902439024390244,
          0.7121212121212122,
          0.6060606060606061,
          0.6212121212121212,
          0.7575757575757576,
          0.3939393939393939,
          0.5606060606060606,
          0.5909090909090909,
          0.5,
          0.696969696969697,
          0.7317073170731707,
          0.6585365853658537,
          0.6829268292682927,
          0.5487804878048781,
          0.7073170731707317,
          0.7073170731707317,
          0.5487804878048781,
          0.7317073170731707,
          0.8048780487804879,
          0.6585365853658537,
          0.6951219512195121,
          0.5853658536585366,
          0.6585365853658537,
          0.6219512195121951,
          0.6951219512195121,
          0.524390243902439,
          0.6829268292682927,
          0.6585365853658537,
          0.6829268292682927,
          0.6463414634146342,
          0.5487804878048781,
          0.5487804878048781,
          0.6829268292682927,
          0.6219512195121951,
          0.6707317073170732,
          0.6829268292682927,
          0.6707317073170732,
          0.8170731707317073,
          0.6951219512195121,
          0.6707317073170732,
          0.6707317073170732,
          0.6463414634146342,
          0.8902439024390244,
          0.5365853658536586,
          0.5,
          0.6829268292682927,
          0.6707317073170732,
          0.7439024390243902,
          0.6219512195121951,
          0.6463414634146342,
          0.8170731707317073,
          0.5121951219512195,
          0.5975609756097561,
          0.4146341463414634,
          0.8170731707317073,
          0.6097560975609756,
          0.5853658536585366,
          0.5975609756097561,
          0.5853658536585366,
          0.5365853658536586,
          0.7073170731707317,
          0.7195121951219512,
          0.573170731707317,
          0.573170731707317,
          0.6463414634146342,
          0.5975609756097561,
          0.6585365853658537,
          0.6951219512195121,
          0.6463414634146342,
          0.6219512195121951,
          0.6951219512195121,
          0.7073170731707317,
          0.5975609756097561,
          0.7323943661971831,
          0.6111111111111112,
          0.5733333333333334,
          0.6805555555555556,
          0.7323943661971831,
          0.6111111111111112,
          0.4729729729729729,
          0.6301369863013698,
          0.7361111111111112,
          0.6805555555555556,
          0.5416666666666666,
          0.6388888888888888,
          0.7083333333333334,
          0.5833333333333334,
          0.5833333333333334,
          0.5694444444444444,
          0.7222222222222222,
          0.6219512195121951,
          0.6219512195121951,
          0.7804878048780488,
          0.6341463414634146,
          0.6219512195121951,
          0.6829268292682927,
          0.6463414634146342,
          0.7804878048780488,
          0.5609756097560976,
          0.6463414634146342,
          0.7073170731707317,
          0.6951219512195121,
          0.4878048780487805,
          0.6219512195121951,
          0.5853658536585366,
          0.4634146341463415,
          0.5365853658536586,
          0.5365853658536586
         ],
         "xaxis": "x",
         "y": [
          6.8,
          4.4,
          4.8,
          2.3,
          2.5,
          3.2,
          5,
          3.2,
          5.2,
          6.1,
          4.3,
          3.5,
          4.9,
          4.3,
          2.5,
          6.4,
          6.8,
          3.7,
          5.2,
          4.2,
          5.1,
          7,
          4.5,
          4.7,
          7.2,
          6.8,
          5.1,
          5.2,
          5,
          3,
          3.4,
          2.7,
          4.2,
          4.3,
          5.6,
          3.3,
          5.1,
          5.3,
          4.7,
          4.7,
          6.1,
          2.7,
          4.8,
          4.3,
          7.4,
          3.6,
          4.7,
          6.5,
          1.8,
          4.8,
          5.7,
          3.8,
          4.9,
          5.3,
          4.5,
          3.7,
          4.9,
          10.6,
          8.6,
          5.5,
          5.6,
          6,
          5.4,
          4,
          5.4,
          8.1,
          5.3,
          7.5,
          7,
          4.7,
          4.6,
          2.9,
          5.5,
          7.6,
          11.4,
          5.9,
          4.8,
          5.7,
          7.4,
          8.3,
          5,
          2.6,
          4.5,
          8,
          10.6,
          6.6,
          6,
          6.8,
          6.2,
          3.3,
          8,
          5.5,
          8.1,
          8.2,
          7,
          6.2,
          6.4,
          6,
          5.4,
          3.8,
          6.2,
          7.4,
          7.4,
          5.9,
          5.5,
          4.8,
          4.2,
          4.1,
          6.4,
          4,
          7.8,
          10.2,
          4,
          4.9,
          6.8,
          4.3,
          7.3,
          4.4,
          4.7,
          11.4,
          6.8,
          7.2,
          5.5,
          3.7,
          4.2,
          6.4,
          5,
          4.2,
          5.7,
          6,
          4.1,
          5.3,
          5,
          7.2,
          7.9,
          5.2,
          4.5,
          8.3,
          6.9,
          4.9,
          5.9,
          5.2,
          7.1,
          3.2,
          5.6,
          8.6,
          8,
          6.5,
          3.2,
          6.1,
          3.9,
          3.5,
          4.3,
          4.1,
          7.1,
          5.7,
          4.3,
          5.3,
          5.5,
          6.3,
          5.6,
          2.9,
          3,
          3.2,
          3.9,
          3.9,
          3.9,
          1.7,
          3.8,
          3.6,
          3.3,
          6.8,
          5,
          7.1,
          5.5,
          7.3,
          3.8,
          5.2,
          5.6,
          5.9,
          5.4,
          7.1,
          5.3,
          6.4,
          7,
          6.3,
          4.8,
          4.7,
          4.3,
          5,
          6.1,
          6.4,
          5.2,
          5.9,
          3.9,
          5.5,
          4.5,
          4.8,
          8.7,
          7.7,
          9.3,
          5.5,
          4.8,
          7.3,
          4.3,
          6.5,
          3.6,
          6.7,
          3.1,
          4.9,
          4.7,
          4.1,
          4.3,
          4.2,
          2.9,
          4.6,
          4.6,
          7.1,
          5.4,
          5,
          9.1,
          6.9,
          4.9,
          4.7,
          4.8,
          9.4,
          7.9,
          8,
          6.1,
          7.1,
          6.8,
          4.9,
          3.3,
          5.3,
          5.3,
          6.1,
          6.2,
          8.1,
          5.2,
          3.1,
          5,
          4.3,
          5.5,
          9.3,
          6,
          9.8,
          3.7,
          4.6,
          4.8,
          3.1,
          4.2,
          6,
          5.9,
          9.6,
          4.7,
          9.9,
          3.7,
          3.9,
          3.5,
          6,
          4.2,
          7.5,
          4.4,
          4.6,
          7.9,
          2.9,
          4.7,
          4.2,
          4.1,
          5.4,
          7.8,
          5,
          5.3,
          4.5,
          6.1,
          4.5,
          2.4,
          3.6,
          5.8,
          6.1,
          2.9,
          2.3,
          3.9,
          3.3,
          2.1,
          2.7,
          4,
          8.9,
          3.9,
          6.4,
          5,
          3.1,
          3.8,
          5.8,
          4.6,
          3.8,
          7.9,
          4.7,
          5.2,
          5.3,
          6.7,
          5.8,
          3,
          5,
          2.7,
          8.1,
          5.7,
          5.8,
          6.7,
          7.2,
          3.1,
          4.8,
          3.6,
          4,
          6.7,
          7.5,
          6.8,
          7.8,
          6,
          5.3,
          4.3,
          6.8,
          5.7,
          8,
          7.1,
          6.7,
          5.6,
          5.9,
          6.7,
          4.8,
          5.4,
          5.7,
          8.2,
          5.9,
          6.3,
          6.1,
          5.7,
          5.5,
          3.2,
          3.7,
          4.2,
          9.3,
          6.6,
          7,
          5.1,
          6,
          3.8,
          5.1,
          4.7,
          4.7,
          6.1,
          7.3,
          5.4,
          5.1,
          5.4,
          3.5,
          5.9,
          5.5,
          2,
          3.8,
          5.8,
          5.6,
          3.6,
          5.1,
          5,
          3.9,
          3.8,
          6.5,
          7.4,
          3.6,
          5.9,
          4.8,
          3.9,
          4.4,
          4,
          3.1,
          8.8,
          5.4,
          5.1,
          5.6,
          5,
          5.4,
          6.6,
          4.7,
          5.8
         ],
         "yaxis": "y"
        }
       ],
       "layout": {
        "height": 600,
        "legend": {
         "title": {
          "text": "MVP"
         },
         "tracegroupgap": 0
        },
        "margin": {
         "t": 60
        },
        "template": {
         "data": {
          "bar": [
           {
            "error_x": {
             "color": "#2a3f5f"
            },
            "error_y": {
             "color": "#2a3f5f"
            },
            "marker": {
             "line": {
              "color": "#E5ECF6",
              "width": 0.5
             },
             "pattern": {
              "fillmode": "overlay",
              "size": 10,
              "solidity": 0.2
             }
            },
            "type": "bar"
           }
          ],
          "barpolar": [
           {
            "marker": {
             "line": {
              "color": "#E5ECF6",
              "width": 0.5
             },
             "pattern": {
              "fillmode": "overlay",
              "size": 10,
              "solidity": 0.2
             }
            },
            "type": "barpolar"
           }
          ],
          "carpet": [
           {
            "aaxis": {
             "endlinecolor": "#2a3f5f",
             "gridcolor": "white",
             "linecolor": "white",
             "minorgridcolor": "white",
             "startlinecolor": "#2a3f5f"
            },
            "baxis": {
             "endlinecolor": "#2a3f5f",
             "gridcolor": "white",
             "linecolor": "white",
             "minorgridcolor": "white",
             "startlinecolor": "#2a3f5f"
            },
            "type": "carpet"
           }
          ],
          "choropleth": [
           {
            "colorbar": {
             "outlinewidth": 0,
             "ticks": ""
            },
            "type": "choropleth"
           }
          ],
          "contour": [
           {
            "colorbar": {
             "outlinewidth": 0,
             "ticks": ""
            },
            "colorscale": [
             [
              0,
              "#0d0887"
             ],
             [
              0.1111111111111111,
              "#46039f"
             ],
             [
              0.2222222222222222,
              "#7201a8"
             ],
             [
              0.3333333333333333,
              "#9c179e"
             ],
             [
              0.4444444444444444,
              "#bd3786"
             ],
             [
              0.5555555555555556,
              "#d8576b"
             ],
             [
              0.6666666666666666,
              "#ed7953"
             ],
             [
              0.7777777777777778,
              "#fb9f3a"
             ],
             [
              0.8888888888888888,
              "#fdca26"
             ],
             [
              1,
              "#f0f921"
             ]
            ],
            "type": "contour"
           }
          ],
          "contourcarpet": [
           {
            "colorbar": {
             "outlinewidth": 0,
             "ticks": ""
            },
            "type": "contourcarpet"
           }
          ],
          "heatmap": [
           {
            "colorbar": {
             "outlinewidth": 0,
             "ticks": ""
            },
            "colorscale": [
             [
              0,
              "#0d0887"
             ],
             [
              0.1111111111111111,
              "#46039f"
             ],
             [
              0.2222222222222222,
              "#7201a8"
             ],
             [
              0.3333333333333333,
              "#9c179e"
             ],
             [
              0.4444444444444444,
              "#bd3786"
             ],
             [
              0.5555555555555556,
              "#d8576b"
             ],
             [
              0.6666666666666666,
              "#ed7953"
             ],
             [
              0.7777777777777778,
              "#fb9f3a"
             ],
             [
              0.8888888888888888,
              "#fdca26"
             ],
             [
              1,
              "#f0f921"
             ]
            ],
            "type": "heatmap"
           }
          ],
          "heatmapgl": [
           {
            "colorbar": {
             "outlinewidth": 0,
             "ticks": ""
            },
            "colorscale": [
             [
              0,
              "#0d0887"
             ],
             [
              0.1111111111111111,
              "#46039f"
             ],
             [
              0.2222222222222222,
              "#7201a8"
             ],
             [
              0.3333333333333333,
              "#9c179e"
             ],
             [
              0.4444444444444444,
              "#bd3786"
             ],
             [
              0.5555555555555556,
              "#d8576b"
             ],
             [
              0.6666666666666666,
              "#ed7953"
             ],
             [
              0.7777777777777778,
              "#fb9f3a"
             ],
             [
              0.8888888888888888,
              "#fdca26"
             ],
             [
              1,
              "#f0f921"
             ]
            ],
            "type": "heatmapgl"
           }
          ],
          "histogram": [
           {
            "marker": {
             "pattern": {
              "fillmode": "overlay",
              "size": 10,
              "solidity": 0.2
             }
            },
            "type": "histogram"
           }
          ],
          "histogram2d": [
           {
            "colorbar": {
             "outlinewidth": 0,
             "ticks": ""
            },
            "colorscale": [
             [
              0,
              "#0d0887"
             ],
             [
              0.1111111111111111,
              "#46039f"
             ],
             [
              0.2222222222222222,
              "#7201a8"
             ],
             [
              0.3333333333333333,
              "#9c179e"
             ],
             [
              0.4444444444444444,
              "#bd3786"
             ],
             [
              0.5555555555555556,
              "#d8576b"
             ],
             [
              0.6666666666666666,
              "#ed7953"
             ],
             [
              0.7777777777777778,
              "#fb9f3a"
             ],
             [
              0.8888888888888888,
              "#fdca26"
             ],
             [
              1,
              "#f0f921"
             ]
            ],
            "type": "histogram2d"
           }
          ],
          "histogram2dcontour": [
           {
            "colorbar": {
             "outlinewidth": 0,
             "ticks": ""
            },
            "colorscale": [
             [
              0,
              "#0d0887"
             ],
             [
              0.1111111111111111,
              "#46039f"
             ],
             [
              0.2222222222222222,
              "#7201a8"
             ],
             [
              0.3333333333333333,
              "#9c179e"
             ],
             [
              0.4444444444444444,
              "#bd3786"
             ],
             [
              0.5555555555555556,
              "#d8576b"
             ],
             [
              0.6666666666666666,
              "#ed7953"
             ],
             [
              0.7777777777777778,
              "#fb9f3a"
             ],
             [
              0.8888888888888888,
              "#fdca26"
             ],
             [
              1,
              "#f0f921"
             ]
            ],
            "type": "histogram2dcontour"
           }
          ],
          "mesh3d": [
           {
            "colorbar": {
             "outlinewidth": 0,
             "ticks": ""
            },
            "type": "mesh3d"
           }
          ],
          "parcoords": [
           {
            "line": {
             "colorbar": {
              "outlinewidth": 0,
              "ticks": ""
             }
            },
            "type": "parcoords"
           }
          ],
          "pie": [
           {
            "automargin": true,
            "type": "pie"
           }
          ],
          "scatter": [
           {
            "fillpattern": {
             "fillmode": "overlay",
             "size": 10,
             "solidity": 0.2
            },
            "type": "scatter"
           }
          ],
          "scatter3d": [
           {
            "line": {
             "colorbar": {
              "outlinewidth": 0,
              "ticks": ""
             }
            },
            "marker": {
             "colorbar": {
              "outlinewidth": 0,
              "ticks": ""
             }
            },
            "type": "scatter3d"
           }
          ],
          "scattercarpet": [
           {
            "marker": {
             "colorbar": {
              "outlinewidth": 0,
              "ticks": ""
             }
            },
            "type": "scattercarpet"
           }
          ],
          "scattergeo": [
           {
            "marker": {
             "colorbar": {
              "outlinewidth": 0,
              "ticks": ""
             }
            },
            "type": "scattergeo"
           }
          ],
          "scattergl": [
           {
            "marker": {
             "colorbar": {
              "outlinewidth": 0,
              "ticks": ""
             }
            },
            "type": "scattergl"
           }
          ],
          "scattermapbox": [
           {
            "marker": {
             "colorbar": {
              "outlinewidth": 0,
              "ticks": ""
             }
            },
            "type": "scattermapbox"
           }
          ],
          "scatterpolar": [
           {
            "marker": {
             "colorbar": {
              "outlinewidth": 0,
              "ticks": ""
             }
            },
            "type": "scatterpolar"
           }
          ],
          "scatterpolargl": [
           {
            "marker": {
             "colorbar": {
              "outlinewidth": 0,
              "ticks": ""
             }
            },
            "type": "scatterpolargl"
           }
          ],
          "scatterternary": [
           {
            "marker": {
             "colorbar": {
              "outlinewidth": 0,
              "ticks": ""
             }
            },
            "type": "scatterternary"
           }
          ],
          "surface": [
           {
            "colorbar": {
             "outlinewidth": 0,
             "ticks": ""
            },
            "colorscale": [
             [
              0,
              "#0d0887"
             ],
             [
              0.1111111111111111,
              "#46039f"
             ],
             [
              0.2222222222222222,
              "#7201a8"
             ],
             [
              0.3333333333333333,
              "#9c179e"
             ],
             [
              0.4444444444444444,
              "#bd3786"
             ],
             [
              0.5555555555555556,
              "#d8576b"
             ],
             [
              0.6666666666666666,
              "#ed7953"
             ],
             [
              0.7777777777777778,
              "#fb9f3a"
             ],
             [
              0.8888888888888888,
              "#fdca26"
             ],
             [
              1,
              "#f0f921"
             ]
            ],
            "type": "surface"
           }
          ],
          "table": [
           {
            "cells": {
             "fill": {
              "color": "#EBF0F8"
             },
             "line": {
              "color": "white"
             }
            },
            "header": {
             "fill": {
              "color": "#C8D4E3"
             },
             "line": {
              "color": "white"
             }
            },
            "type": "table"
           }
          ]
         },
         "layout": {
          "annotationdefaults": {
           "arrowcolor": "#2a3f5f",
           "arrowhead": 0,
           "arrowwidth": 1
          },
          "autotypenumbers": "strict",
          "coloraxis": {
           "colorbar": {
            "outlinewidth": 0,
            "ticks": ""
           }
          },
          "colorscale": {
           "diverging": [
            [
             0,
             "#8e0152"
            ],
            [
             0.1,
             "#c51b7d"
            ],
            [
             0.2,
             "#de77ae"
            ],
            [
             0.3,
             "#f1b6da"
            ],
            [
             0.4,
             "#fde0ef"
            ],
            [
             0.5,
             "#f7f7f7"
            ],
            [
             0.6,
             "#e6f5d0"
            ],
            [
             0.7,
             "#b8e186"
            ],
            [
             0.8,
             "#7fbc41"
            ],
            [
             0.9,
             "#4d9221"
            ],
            [
             1,
             "#276419"
            ]
           ],
           "sequential": [
            [
             0,
             "#0d0887"
            ],
            [
             0.1111111111111111,
             "#46039f"
            ],
            [
             0.2222222222222222,
             "#7201a8"
            ],
            [
             0.3333333333333333,
             "#9c179e"
            ],
            [
             0.4444444444444444,
             "#bd3786"
            ],
            [
             0.5555555555555556,
             "#d8576b"
            ],
            [
             0.6666666666666666,
             "#ed7953"
            ],
            [
             0.7777777777777778,
             "#fb9f3a"
            ],
            [
             0.8888888888888888,
             "#fdca26"
            ],
            [
             1,
             "#f0f921"
            ]
           ],
           "sequentialminus": [
            [
             0,
             "#0d0887"
            ],
            [
             0.1111111111111111,
             "#46039f"
            ],
            [
             0.2222222222222222,
             "#7201a8"
            ],
            [
             0.3333333333333333,
             "#9c179e"
            ],
            [
             0.4444444444444444,
             "#bd3786"
            ],
            [
             0.5555555555555556,
             "#d8576b"
            ],
            [
             0.6666666666666666,
             "#ed7953"
            ],
            [
             0.7777777777777778,
             "#fb9f3a"
            ],
            [
             0.8888888888888888,
             "#fdca26"
            ],
            [
             1,
             "#f0f921"
            ]
           ]
          },
          "colorway": [
           "#636efa",
           "#EF553B",
           "#00cc96",
           "#ab63fa",
           "#FFA15A",
           "#19d3f3",
           "#FF6692",
           "#B6E880",
           "#FF97FF",
           "#FECB52"
          ],
          "font": {
           "color": "#2a3f5f"
          },
          "geo": {
           "bgcolor": "white",
           "lakecolor": "white",
           "landcolor": "#E5ECF6",
           "showlakes": true,
           "showland": true,
           "subunitcolor": "white"
          },
          "hoverlabel": {
           "align": "left"
          },
          "hovermode": "closest",
          "mapbox": {
           "style": "light"
          },
          "paper_bgcolor": "white",
          "plot_bgcolor": "#E5ECF6",
          "polar": {
           "angularaxis": {
            "gridcolor": "white",
            "linecolor": "white",
            "ticks": ""
           },
           "bgcolor": "#E5ECF6",
           "radialaxis": {
            "gridcolor": "white",
            "linecolor": "white",
            "ticks": ""
           }
          },
          "scene": {
           "xaxis": {
            "backgroundcolor": "#E5ECF6",
            "gridcolor": "white",
            "gridwidth": 2,
            "linecolor": "white",
            "showbackground": true,
            "ticks": "",
            "zerolinecolor": "white"
           },
           "yaxis": {
            "backgroundcolor": "#E5ECF6",
            "gridcolor": "white",
            "gridwidth": 2,
            "linecolor": "white",
            "showbackground": true,
            "ticks": "",
            "zerolinecolor": "white"
           },
           "zaxis": {
            "backgroundcolor": "#E5ECF6",
            "gridcolor": "white",
            "gridwidth": 2,
            "linecolor": "white",
            "showbackground": true,
            "ticks": "",
            "zerolinecolor": "white"
           }
          },
          "shapedefaults": {
           "line": {
            "color": "#2a3f5f"
           }
          },
          "ternary": {
           "aaxis": {
            "gridcolor": "white",
            "linecolor": "white",
            "ticks": ""
           },
           "baxis": {
            "gridcolor": "white",
            "linecolor": "white",
            "ticks": ""
           },
           "bgcolor": "#E5ECF6",
           "caxis": {
            "gridcolor": "white",
            "linecolor": "white",
            "ticks": ""
           }
          },
          "title": {
           "x": 0.05
          },
          "xaxis": {
           "automargin": true,
           "gridcolor": "white",
           "linecolor": "white",
           "ticks": "",
           "title": {
            "standoff": 15
           },
           "zerolinecolor": "white",
           "zerolinewidth": 2
          },
          "yaxis": {
           "automargin": true,
           "gridcolor": "white",
           "linecolor": "white",
           "ticks": "",
           "title": {
            "standoff": 15
           },
           "zerolinecolor": "white",
           "zerolinewidth": 2
          }
         }
        },
        "title": {
         "text": "VORP vs W/L % Pct for MVP Candiates"
        },
        "xaxis": {
         "anchor": "y",
         "domain": [
          0,
          1
         ],
         "title": {
          "text": "wl_pct"
         }
        },
        "yaxis": {
         "anchor": "x",
         "domain": [
          0,
          1
         ],
         "title": {
          "text": "value_over_replacement_player"
         }
        }
       }
      }
     },
     "metadata": {},
     "output_type": "display_data"
    }
   ],
   "source": [
    "fig = px.scatter(df, x=\"wl_pct\", y=\"value_over_replacement_player\",color='MVP', hover_data=['Player', 'Year'])\n",
    "fig.update_layout(height=600, title_text= 'VORP vs W/L % Pct for MVP Candiates')\n",
    "fig.show()"
   ]
  },
  {
   "cell_type": "code",
   "execution_count": 10,
   "metadata": {},
   "outputs": [
    {
     "data": {
      "application/vnd.plotly.v1+json": {
       "config": {
        "plotlyServerURL": "https://plot.ly"
       },
       "data": [
        {
         "customdata": [
          [
           "Kareem Abdul-Jabbar",
           1980
          ],
          [
           "Julius Erving",
           1981
          ],
          [
           "Moses Malone",
           1982
          ],
          [
           "Moses Malone",
           1983
          ],
          [
           "Larry Bird",
           1984
          ],
          [
           "Larry Bird",
           1985
          ],
          [
           "Larry Bird",
           1986
          ],
          [
           "Magic Johnson",
           1987
          ],
          [
           "Michael Jordan",
           1988
          ],
          [
           "Magic Johnson",
           1989
          ],
          [
           "Magic Johnson",
           1990
          ],
          [
           "Michael Jordan",
           1991
          ],
          [
           "Michael Jordan",
           1992
          ],
          [
           "Charles Barkley",
           1993
          ],
          [
           "Hakeem Olajuwon",
           1994
          ],
          [
           "David Robinson",
           1995
          ],
          [
           "Michael Jordan",
           1996
          ],
          [
           "Karl Malone",
           1997
          ],
          [
           "Michael Jordan",
           1998
          ],
          [
           "Karl Malone",
           1999
          ],
          [
           "Shaquille O'Neal",
           2000
          ],
          [
           "Allen Iverson",
           2001
          ],
          [
           "Tim Duncan",
           2002
          ],
          [
           "Tim Duncan",
           2003
          ],
          [
           "Kevin Garnett",
           2004
          ],
          [
           "Steve Nash",
           2005
          ],
          [
           "Steve Nash",
           2006
          ],
          [
           "Dirk Nowitzki",
           2007
          ],
          [
           "Kobe Bryant",
           2008
          ],
          [
           "LeBron James",
           2009
          ],
          [
           "LeBron James",
           2010
          ],
          [
           "Derrick Rose",
           2011
          ],
          [
           "LeBron James",
           2012
          ],
          [
           "LeBron James",
           2013
          ],
          [
           "Kevin Durant",
           2014
          ],
          [
           "Stephen Curry",
           2015
          ],
          [
           "Stephen Curry",
           2016
          ],
          [
           "Russell Westbrook",
           2017
          ],
          [
           "James Harden",
           2018
          ],
          [
           "Giannis Antetokounmpo",
           2019
          ],
          [
           "Giannis Antetokounmpo",
           2020
          ],
          [
           "Nikola Jokić",
           2021
          ],
          [
           "Nikola Jokić",
           2022
          ],
          [
           "Joel Embiid",
           2023
          ]
         ],
         "hovertemplate": "MVP=Y<br>wl_pct=%{x}<br>WS/48=%{y}<br>Player=%{customdata[0]}<br>Year=%{customdata[1]}<extra></extra>",
         "legendgroup": "Y",
         "marker": {
          "color": "#636efa",
          "symbol": "circle"
         },
         "mode": "markers",
         "name": "Y",
         "orientation": "v",
         "showlegend": true,
         "type": "scatter",
         "x": [
          0.7317073170731707,
          0.7560975609756098,
          0.5609756097560976,
          0.7926829268292683,
          0.7560975609756098,
          0.7682926829268293,
          0.8170731707317073,
          0.7926829268292683,
          0.6097560975609756,
          0.6951219512195121,
          0.7682926829268293,
          0.7439024390243902,
          0.8170731707317073,
          0.7560975609756098,
          0.7073170731707317,
          0.7560975609756098,
          0.8780487804878049,
          0.7804878048780488,
          0.7560975609756098,
          0.74,
          0.8170731707317073,
          0.6829268292682927,
          0.7073170731707317,
          0.7317073170731707,
          0.7073170731707317,
          0.7560975609756098,
          0.6585365853658537,
          0.8170731707317073,
          0.6951219512195121,
          0.8048780487804879,
          0.7439024390243902,
          0.7560975609756098,
          0.696969696969697,
          0.8048780487804879,
          0.7195121951219512,
          0.8170731707317073,
          0.8902439024390244,
          0.573170731707317,
          0.7926829268292683,
          0.7317073170731707,
          0.7671232876712328,
          0.6527777777777778,
          0.5853658536585366,
          0.6585365853658537
         ],
         "xaxis": "x",
         "y": [
          0.227,
          0.231,
          0.218,
          0.248,
          0.215,
          0.238,
          0.244,
          0.263,
          0.308,
          0.267,
          0.27,
          0.321,
          0.274,
          0.242,
          0.21,
          0.273,
          0.317,
          0.268,
          0.238,
          0.252,
          0.283,
          0.19,
          0.257,
          0.248,
          0.272,
          0.203,
          0.212,
          0.278,
          0.208,
          0.318,
          0.299,
          0.208,
          0.298,
          0.322,
          0.295,
          0.288,
          0.318,
          0.224,
          0.289,
          0.292,
          0.279,
          0.301,
          0.296,
          0.259
         ],
         "yaxis": "y"
        },
        {
         "customdata": [
          [
           "Julius Erving",
           1980
          ],
          [
           "George Gervin",
           1980
          ],
          [
           "Larry Bird",
           1980
          ],
          [
           "Tiny Archibald",
           1980
          ],
          [
           "Dennis Johnson",
           1980
          ],
          [
           "Dan Roundfield",
           1980
          ],
          [
           "Gus Williams",
           1980
          ],
          [
           "Moses Malone",
           1980
          ],
          [
           "Larry Bird",
           1981
          ],
          [
           "Kareem Abdul-Jabbar",
           1981
          ],
          [
           "Moses Malone",
           1981
          ],
          [
           "George Gervin",
           1981
          ],
          [
           "Marques Johnson",
           1981
          ],
          [
           "Robert Parish",
           1981
          ],
          [
           "Dennis Johnson",
           1981
          ],
          [
           "Larry Bird",
           1982
          ],
          [
           "Julius Erving",
           1982
          ],
          [
           "Robert Parish",
           1982
          ],
          [
           "Gus Williams",
           1982
          ],
          [
           "George Gervin",
           1982
          ],
          [
           "Sidney Moncrief",
           1982
          ],
          [
           "Magic Johnson",
           1982
          ],
          [
           "Jack Sikma",
           1982
          ],
          [
           "Kareem Abdul-Jabbar",
           1982
          ],
          [
           "Larry Bird",
           1983
          ],
          [
           "Magic Johnson",
           1983
          ],
          [
           "Sidney Moncrief",
           1983
          ],
          [
           "Julius Erving",
           1983
          ],
          [
           "Alex English",
           1983
          ],
          [
           "Buck Williams",
           1983
          ],
          [
           "Artis Gilmore",
           1983
          ],
          [
           "George Gervin",
           1983
          ],
          [
           "Kareem Abdul-Jabbar",
           1983
          ],
          [
           "Bernard King",
           1984
          ],
          [
           "Magic Johnson",
           1984
          ],
          [
           "Kareem Abdul-Jabbar",
           1984
          ],
          [
           "Isiah Thomas",
           1984
          ],
          [
           "Julius Erving",
           1984
          ],
          [
           "Adrian Dantley",
           1984
          ],
          [
           "Sidney Moncrief",
           1984
          ],
          [
           "Magic Johnson",
           1985
          ],
          [
           "Moses Malone",
           1985
          ],
          [
           "Kareem Abdul-Jabbar",
           1985
          ],
          [
           "Terry Cummings",
           1985
          ],
          [
           "Michael Jordan",
           1985
          ],
          [
           "Bernard King",
           1985
          ],
          [
           "Sidney Moncrief",
           1985
          ],
          [
           "Isiah Thomas",
           1985
          ],
          [
           "Ralph Sampson",
           1985
          ],
          [
           "Dominique Wilkins",
           1986
          ],
          [
           "Magic Johnson",
           1986
          ],
          [
           "Hakeem Olajuwon",
           1986
          ],
          [
           "Kareem Abdul-Jabbar",
           1986
          ],
          [
           "Charles Barkley",
           1986
          ],
          [
           "Sidney Moncrief",
           1986
          ],
          [
           "Alex English",
           1986
          ],
          [
           "Isiah Thomas",
           1986
          ],
          [
           "Michael Jordan",
           1987
          ],
          [
           "Larry Bird",
           1987
          ],
          [
           "Kevin McHale",
           1987
          ],
          [
           "Dominique Wilkins",
           1987
          ],
          [
           "Charles Barkley",
           1987
          ],
          [
           "Hakeem Olajuwon",
           1987
          ],
          [
           "Isiah Thomas",
           1987
          ],
          [
           "Fat Lever",
           1987
          ],
          [
           "Larry Bird",
           1988
          ],
          [
           "Magic Johnson",
           1988
          ],
          [
           "Charles Barkley",
           1988
          ],
          [
           "Clyde Drexler",
           1988
          ],
          [
           "Dominique Wilkins",
           1988
          ],
          [
           "Hakeem Olajuwon",
           1988
          ],
          [
           "Karl Malone",
           1988
          ],
          [
           "Fat Lever",
           1988
          ],
          [
           "John Stockton",
           1988
          ],
          [
           "Michael Jordan",
           1989
          ],
          [
           "Karl Malone",
           1989
          ],
          [
           "Patrick Ewing",
           1989
          ],
          [
           "Hakeem Olajuwon",
           1989
          ],
          [
           "Charles Barkley",
           1989
          ],
          [
           "John Stockton",
           1989
          ],
          [
           "Kevin Johnson",
           1989
          ],
          [
           "Tom Chambers",
           1989
          ],
          [
           "Mark Price",
           1989
          ],
          [
           "Charles Barkley",
           1990
          ],
          [
           "Michael Jordan",
           1990
          ],
          [
           "Karl Malone",
           1990
          ],
          [
           "Patrick Ewing",
           1990
          ],
          [
           "David Robinson",
           1990
          ],
          [
           "Hakeem Olajuwon",
           1990
          ],
          [
           "Tom Chambers",
           1990
          ],
          [
           "John Stockton",
           1990
          ],
          [
           "Larry Bird",
           1990
          ],
          [
           "Magic Johnson",
           1991
          ],
          [
           "David Robinson",
           1991
          ],
          [
           "Charles Barkley",
           1991
          ],
          [
           "Karl Malone",
           1991
          ],
          [
           "Clyde Drexler",
           1991
          ],
          [
           "Kevin Johnson",
           1991
          ],
          [
           "Dominique Wilkins",
           1991
          ],
          [
           "Larry Bird",
           1991
          ],
          [
           "Terry Porter",
           1991
          ],
          [
           "Clyde Drexler",
           1992
          ],
          [
           "David Robinson",
           1992
          ],
          [
           "Karl Malone",
           1992
          ],
          [
           "Patrick Ewing",
           1992
          ],
          [
           "Chris Mullin",
           1992
          ],
          [
           "Mark Price",
           1992
          ],
          [
           "Tim Hardaway",
           1992
          ],
          [
           "Scottie Pippen",
           1992
          ],
          [
           "Dennis Rodman",
           1992
          ],
          [
           "Hakeem Olajuwon",
           1993
          ],
          [
           "Michael Jordan",
           1993
          ],
          [
           "Patrick Ewing",
           1993
          ],
          [
           "Dominique Wilkins",
           1993
          ],
          [
           "David Robinson",
           1993
          ],
          [
           "Shaquille O'Neal",
           1993
          ],
          [
           "Karl Malone",
           1993
          ],
          [
           "Mark Price",
           1993
          ],
          [
           "Brad Daugherty",
           1993
          ],
          [
           "David Robinson",
           1994
          ],
          [
           "Scottie Pippen",
           1994
          ],
          [
           "Shaquille O'Neal",
           1994
          ],
          [
           "Patrick Ewing",
           1994
          ],
          [
           "Gary Payton",
           1994
          ],
          [
           "Shawn Kemp",
           1994
          ],
          [
           "Karl Malone",
           1994
          ],
          [
           "Mark Price",
           1994
          ],
          [
           "Charles Barkley",
           1994
          ],
          [
           "Shaquille O'Neal",
           1995
          ],
          [
           "Karl Malone",
           1995
          ],
          [
           "Patrick Ewing",
           1995
          ],
          [
           "Hakeem Olajuwon",
           1995
          ],
          [
           "Charles Barkley",
           1995
          ],
          [
           "Scottie Pippen",
           1995
          ],
          [
           "John Stockton",
           1995
          ],
          [
           "Gary Payton",
           1995
          ],
          [
           "Anfernee Hardaway",
           1995
          ],
          [
           "David Robinson",
           1996
          ],
          [
           "Anfernee Hardaway",
           1996
          ],
          [
           "Hakeem Olajuwon",
           1996
          ],
          [
           "Scottie Pippen",
           1996
          ],
          [
           "Gary Payton",
           1996
          ],
          [
           "Karl Malone",
           1996
          ],
          [
           "Shawn Kemp",
           1996
          ],
          [
           "Grant Hill",
           1996
          ],
          [
           "Michael Jordan",
           1997
          ],
          [
           "Grant Hill",
           1997
          ],
          [
           "Tim Hardaway",
           1997
          ],
          [
           "Glen Rice",
           1997
          ],
          [
           "Gary Payton",
           1997
          ],
          [
           "Hakeem Olajuwon",
           1997
          ],
          [
           "Patrick Ewing",
           1997
          ],
          [
           "Anthony Mason",
           1997
          ],
          [
           "Shaquille O'Neal",
           1997
          ],
          [
           "Karl Malone",
           1998
          ],
          [
           "Gary Payton",
           1998
          ],
          [
           "Shaquille O'Neal",
           1998
          ],
          [
           "Tim Duncan",
           1998
          ],
          [
           "Tim Hardaway",
           1998
          ],
          [
           "David Robinson",
           1998
          ],
          [
           "Grant Hill",
           1998
          ],
          [
           "Scottie Pippen",
           1998
          ],
          [
           "Alonzo Mourning",
           1999
          ],
          [
           "Tim Duncan",
           1999
          ],
          [
           "Allen Iverson",
           1999
          ],
          [
           "Jason Kidd",
           1999
          ],
          [
           "Shaquille O'Neal",
           1999
          ],
          [
           "Chris Webber",
           1999
          ],
          [
           "Grant Hill",
           1999
          ],
          [
           "Gary Payton",
           1999
          ],
          [
           "Kevin Garnett",
           1999
          ],
          [
           "Kevin Garnett",
           2000
          ],
          [
           "Alonzo Mourning",
           2000
          ],
          [
           "Karl Malone",
           2000
          ],
          [
           "Tim Duncan",
           2000
          ],
          [
           "Gary Payton",
           2000
          ],
          [
           "Allen Iverson",
           2000
          ],
          [
           "Grant Hill",
           2000
          ],
          [
           "Chris Webber",
           2000
          ],
          [
           "Vince Carter",
           2000
          ],
          [
           "Tim Duncan",
           2001
          ],
          [
           "Shaquille O'Neal",
           2001
          ],
          [
           "Chris Webber",
           2001
          ],
          [
           "Kevin Garnett",
           2001
          ],
          [
           "Tracy McGrady",
           2001
          ],
          [
           "Karl Malone",
           2001
          ],
          [
           "Jason Kidd",
           2001
          ],
          [
           "Kobe Bryant",
           2001
          ],
          [
           "David Robinson",
           2001
          ],
          [
           "Jason Kidd",
           2002
          ],
          [
           "Shaquille O'Neal",
           2002
          ],
          [
           "Tracy McGrady",
           2002
          ],
          [
           "Kobe Bryant",
           2002
          ],
          [
           "Gary Payton",
           2002
          ],
          [
           "Chris Webber",
           2002
          ],
          [
           "Dirk Nowitzki",
           2002
          ],
          [
           "Allen Iverson",
           2002
          ],
          [
           "Ben Wallace",
           2002
          ],
          [
           "Kevin Garnett",
           2003
          ],
          [
           "Kobe Bryant",
           2003
          ],
          [
           "Tracy McGrady",
           2003
          ],
          [
           "Shaquille O'Neal",
           2003
          ],
          [
           "Allen Iverson",
           2003
          ],
          [
           "Dirk Nowitzki",
           2003
          ],
          [
           "Ben Wallace",
           2003
          ],
          [
           "Jason Kidd",
           2003
          ],
          [
           "Chris Webber",
           2003
          ],
          [
           "Tim Duncan",
           2004
          ],
          [
           "Jermaine O'Neal",
           2004
          ],
          [
           "Peja Stojaković",
           2004
          ],
          [
           "Kobe Bryant",
           2004
          ],
          [
           "Shaquille O'Neal",
           2004
          ],
          [
           "Ben Wallace",
           2004
          ],
          [
           "Jason Kidd",
           2004
          ],
          [
           "LeBron James",
           2004
          ],
          [
           "Sam Cassell",
           2004
          ],
          [
           "Shaquille O'Neal",
           2005
          ],
          [
           "Dirk Nowitzki",
           2005
          ],
          [
           "Tim Duncan",
           2005
          ],
          [
           "Allen Iverson",
           2005
          ],
          [
           "LeBron James",
           2005
          ],
          [
           "Tracy McGrady",
           2005
          ],
          [
           "Dwyane Wade",
           2005
          ],
          [
           "Amar'e Stoudemire",
           2005
          ],
          [
           "Ray Allen",
           2005
          ],
          [
           "LeBron James",
           2006
          ],
          [
           "Dirk Nowitzki",
           2006
          ],
          [
           "Kobe Bryant",
           2006
          ],
          [
           "Chauncey Billups",
           2006
          ],
          [
           "Dwyane Wade",
           2006
          ],
          [
           "Elton Brand",
           2006
          ],
          [
           "Tim Duncan",
           2006
          ],
          [
           "Tony Parker",
           2006
          ],
          [
           "Allen Iverson",
           2006
          ],
          [
           "Steve Nash",
           2007
          ],
          [
           "Kobe Bryant",
           2007
          ],
          [
           "Tim Duncan",
           2007
          ],
          [
           "LeBron James",
           2007
          ],
          [
           "Tracy McGrady",
           2007
          ],
          [
           "Chris Bosh",
           2007
          ],
          [
           "Gilbert Arenas",
           2007
          ],
          [
           "Carlos Boozer",
           2007
          ],
          [
           "Kevin Garnett",
           2007
          ],
          [
           "Chris Paul",
           2008
          ],
          [
           "Kevin Garnett",
           2008
          ],
          [
           "LeBron James",
           2008
          ],
          [
           "Dwight Howard",
           2008
          ],
          [
           "Amar'e Stoudemire",
           2008
          ],
          [
           "Tim Duncan",
           2008
          ],
          [
           "Tracy McGrady",
           2008
          ],
          [
           "Steve Nash",
           2008
          ],
          [
           "Manu Ginóbili",
           2008
          ],
          [
           "Kobe Bryant",
           2009
          ],
          [
           "Dwyane Wade",
           2009
          ],
          [
           "Dwight Howard",
           2009
          ],
          [
           "Chris Paul",
           2009
          ],
          [
           "Chauncey Billups",
           2009
          ],
          [
           "Paul Pierce",
           2009
          ],
          [
           "Tony Parker",
           2009
          ],
          [
           "Brandon Roy",
           2009
          ],
          [
           "Dirk Nowitzki",
           2009
          ],
          [
           "Kevin Durant",
           2010
          ],
          [
           "Kobe Bryant",
           2010
          ],
          [
           "Dwight Howard",
           2010
          ],
          [
           "Dwyane Wade",
           2010
          ],
          [
           "Carmelo Anthony",
           2010
          ],
          [
           "Dirk Nowitzki",
           2010
          ],
          [
           "Steve Nash",
           2010
          ],
          [
           "Deron Williams",
           2010
          ],
          [
           "Dwight Howard",
           2011
          ],
          [
           "LeBron James",
           2011
          ],
          [
           "Kobe Bryant",
           2011
          ],
          [
           "Kevin Durant",
           2011
          ],
          [
           "Dirk Nowitzki",
           2011
          ],
          [
           "Dwyane Wade",
           2011
          ],
          [
           "Manu Ginóbili",
           2011
          ],
          [
           "Amar'e Stoudemire",
           2011
          ],
          [
           "Blake Griffin",
           2011
          ],
          [
           "Kevin Durant",
           2012
          ],
          [
           "Chris Paul",
           2012
          ],
          [
           "Kobe Bryant",
           2012
          ],
          [
           "Tony Parker",
           2012
          ],
          [
           "Kevin Love",
           2012
          ],
          [
           "Dwight Howard",
           2012
          ],
          [
           "Rajon Rondo",
           2012
          ],
          [
           "Steve Nash",
           2012
          ],
          [
           "Dwyane Wade",
           2012
          ],
          [
           "Kevin Durant",
           2013
          ],
          [
           "Carmelo Anthony",
           2013
          ],
          [
           "Chris Paul",
           2013
          ],
          [
           "Kobe Bryant",
           2013
          ],
          [
           "Tony Parker",
           2013
          ],
          [
           "Tim Duncan",
           2013
          ],
          [
           "James Harden",
           2013
          ],
          [
           "Russell Westbrook",
           2013
          ],
          [
           "Dwyane Wade",
           2013
          ],
          [
           "LeBron James",
           2014
          ],
          [
           "Blake Griffin",
           2014
          ],
          [
           "Joakim Noah",
           2014
          ],
          [
           "James Harden",
           2014
          ],
          [
           "Stephen Curry",
           2014
          ],
          [
           "Chris Paul",
           2014
          ],
          [
           "Al Jefferson",
           2014
          ],
          [
           "Paul George",
           2014
          ],
          [
           "LaMarcus Aldridge",
           2014
          ],
          [
           "James Harden",
           2015
          ],
          [
           "LeBron James",
           2015
          ],
          [
           "Russell Westbrook",
           2015
          ],
          [
           "Anthony Davis",
           2015
          ],
          [
           "Chris Paul",
           2015
          ],
          [
           "LaMarcus Aldridge",
           2015
          ],
          [
           "Marc Gasol",
           2015
          ],
          [
           "Blake Griffin",
           2015
          ],
          [
           "Tim Duncan",
           2015
          ],
          [
           "Kawhi Leonard",
           2016
          ],
          [
           "LeBron James",
           2016
          ],
          [
           "Russell Westbrook",
           2016
          ],
          [
           "Kevin Durant",
           2016
          ],
          [
           "Chris Paul",
           2016
          ],
          [
           "Draymond Green",
           2016
          ],
          [
           "Damian Lillard",
           2016
          ],
          [
           "James Harden",
           2016
          ],
          [
           "Kyle Lowry",
           2016
          ],
          [
           "James Harden",
           2017
          ],
          [
           "Kawhi Leonard",
           2017
          ],
          [
           "LeBron James",
           2017
          ],
          [
           "Isaiah Thomas",
           2017
          ],
          [
           "Stephen Curry",
           2017
          ],
          [
           "Giannis Antetokounmpo",
           2017
          ],
          [
           "John Wall",
           2017
          ],
          [
           "Anthony Davis",
           2017
          ],
          [
           "Kevin Durant",
           2017
          ],
          [
           "LeBron James",
           2018
          ],
          [
           "Anthony Davis",
           2018
          ],
          [
           "Damian Lillard",
           2018
          ],
          [
           "Russell Westbrook",
           2018
          ],
          [
           "Giannis Antetokounmpo",
           2018
          ],
          [
           "Kevin Durant",
           2018
          ],
          [
           "DeMar DeRozan",
           2018
          ],
          [
           "LaMarcus Aldridge",
           2018
          ],
          [
           "Jimmy Butler",
           2018
          ],
          [
           "James Harden",
           2019
          ],
          [
           "Paul George",
           2019
          ],
          [
           "Nikola Jokić",
           2019
          ],
          [
           "Stephen Curry",
           2019
          ],
          [
           "Damian Lillard",
           2019
          ],
          [
           "Joel Embiid",
           2019
          ],
          [
           "Kevin Durant",
           2019
          ],
          [
           "Kawhi Leonard",
           2019
          ],
          [
           "Russell Westbrook",
           2019
          ],
          [
           "LeBron James",
           2020
          ],
          [
           "James Harden",
           2020
          ],
          [
           "Luka Dončić",
           2020
          ],
          [
           "Kawhi Leonard",
           2020
          ],
          [
           "Anthony Davis",
           2020
          ],
          [
           "Chris Paul",
           2020
          ],
          [
           "Damian Lillard",
           2020
          ],
          [
           "Nikola Jokić",
           2020
          ],
          [
           "Pascal Siakam",
           2020
          ],
          [
           "Joel Embiid",
           2021
          ],
          [
           "Stephen Curry",
           2021
          ],
          [
           "Giannis Antetokounmpo",
           2021
          ],
          [
           "Chris Paul",
           2021
          ],
          [
           "Luka Dončić",
           2021
          ],
          [
           "Damian Lillard",
           2021
          ],
          [
           "Julius Randle",
           2021
          ],
          [
           "Rudy Gobert",
           2021
          ],
          [
           "Joel Embiid",
           2022
          ],
          [
           "Giannis Antetokounmpo",
           2022
          ],
          [
           "Devin Booker",
           2022
          ],
          [
           "Luka Dončić",
           2022
          ],
          [
           "Jayson Tatum",
           2022
          ],
          [
           "Ja Morant",
           2022
          ],
          [
           "Stephen Curry",
           2022
          ],
          [
           "Chris Paul",
           2022
          ],
          [
           "DeMar DeRozan",
           2022
          ],
          [
           "Nikola Jokić",
           2023
          ],
          [
           "Giannis Antetokounmpo",
           2023
          ],
          [
           "Jayson Tatum",
           2023
          ],
          [
           "Shai Gilgeous-Alexander",
           2023
          ],
          [
           "Donovan Mitchell",
           2023
          ],
          [
           "Domantas Sabonis",
           2023
          ],
          [
           "Luka Dončić",
           2023
          ],
          [
           "Stephen Curry",
           2023
          ],
          [
           "Jimmy Butler",
           2023
          ]
         ],
         "hovertemplate": "MVP=N<br>wl_pct=%{x}<br>WS/48=%{y}<br>Player=%{customdata[0]}<br>Year=%{customdata[1]}<extra></extra>",
         "legendgroup": "N",
         "marker": {
          "color": "#EF553B",
          "symbol": "circle"
         },
         "mode": "markers",
         "name": "N",
         "orientation": "v",
         "showlegend": true,
         "type": "scatter",
         "x": [
          0.7195121951219512,
          0.5,
          0.7439024390243902,
          0.7439024390243902,
          0.6829268292682927,
          0.6097560975609756,
          0.6829268292682927,
          0.5,
          0.7560975609756098,
          0.6585365853658537,
          0.4878048780487805,
          0.6341463414634146,
          0.7317073170731707,
          0.7560975609756098,
          0.6951219512195121,
          0.7682926829268293,
          0.7073170731707317,
          0.7682926829268293,
          0.6341463414634146,
          0.5853658536585366,
          0.6707317073170732,
          0.6951219512195121,
          0.6341463414634146,
          0.6951219512195121,
          0.6829268292682927,
          0.7073170731707317,
          0.6219512195121951,
          0.7926829268292683,
          0.5487804878048781,
          0.5975609756097561,
          0.6463414634146342,
          0.6463414634146342,
          0.7073170731707317,
          0.573170731707317,
          0.6585365853658537,
          0.6585365853658537,
          0.5975609756097561,
          0.6341463414634146,
          0.5487804878048781,
          0.6097560975609756,
          0.7560975609756098,
          0.7073170731707317,
          0.7560975609756098,
          0.7195121951219512,
          0.4634146341463415,
          0.2926829268292683,
          0.7195121951219512,
          0.5609756097560976,
          0.5853658536585366,
          0.6097560975609756,
          0.7560975609756098,
          0.6219512195121951,
          0.7560975609756098,
          0.6585365853658537,
          0.6951219512195121,
          0.573170731707317,
          0.5609756097560976,
          0.4878048780487805,
          0.7195121951219512,
          0.7195121951219512,
          0.6951219512195121,
          0.5487804878048781,
          0.5121951219512195,
          0.6341463414634146,
          0.4512195121951219,
          0.6951219512195121,
          0.7560975609756098,
          0.4390243902439024,
          0.6463414634146342,
          0.6097560975609756,
          0.5609756097560976,
          0.573170731707317,
          0.6585365853658537,
          0.573170731707317,
          0.573170731707317,
          0.6219512195121951,
          0.6341463414634146,
          0.5487804878048781,
          0.5609756097560976,
          0.6219512195121951,
          0.6707317073170732,
          0.6707317073170732,
          0.6951219512195121,
          0.6463414634146342,
          0.6707317073170732,
          0.6707317073170732,
          0.5487804878048781,
          0.6829268292682927,
          0.5,
          0.6585365853658537,
          0.6707317073170732,
          0.6341463414634146,
          0.7073170731707317,
          0.6707317073170732,
          0.5365853658536586,
          0.6585365853658537,
          0.7682926829268293,
          0.6707317073170732,
          0.524390243902439,
          0.6829268292682927,
          0.7682926829268293,
          0.6951219512195121,
          0.573170731707317,
          0.6707317073170732,
          0.6219512195121951,
          0.6707317073170732,
          0.6951219512195121,
          0.6707317073170732,
          0.8170731707317073,
          0.5853658536585366,
          0.6707317073170732,
          0.6951219512195121,
          0.7317073170731707,
          0.524390243902439,
          0.5975609756097561,
          0.5,
          0.573170731707317,
          0.6585365853658537,
          0.6585365853658537,
          0.6707317073170732,
          0.6707317073170732,
          0.6097560975609756,
          0.6951219512195121,
          0.7682926829268293,
          0.7682926829268293,
          0.6463414634146342,
          0.573170731707317,
          0.6829268292682927,
          0.6951219512195121,
          0.7317073170731707,
          0.6707317073170732,
          0.573170731707317,
          0.7195121951219512,
          0.573170731707317,
          0.7317073170731707,
          0.6951219512195121,
          0.6951219512195121,
          0.7195121951219512,
          0.7317073170731707,
          0.5853658536585366,
          0.8780487804878049,
          0.7804878048780488,
          0.6707317073170732,
          0.7804878048780488,
          0.5609756097560976,
          0.8414634146341463,
          0.6585365853658537,
          0.7439024390243902,
          0.6585365853658537,
          0.6951219512195121,
          0.6951219512195121,
          0.6951219512195121,
          0.6585365853658537,
          0.6829268292682927,
          0.7560975609756098,
          0.7439024390243902,
          0.7439024390243902,
          0.6829268292682927,
          0.6707317073170732,
          0.6829268292682927,
          0.4512195121951219,
          0.7560975609756098,
          0.66,
          0.74,
          0.56,
          0.54,
          0.62,
          0.54,
          0.58,
          0.5,
          0.5,
          0.6097560975609756,
          0.6341463414634146,
          0.6707317073170732,
          0.6463414634146342,
          0.5487804878048781,
          0.5975609756097561,
          0.5121951219512195,
          0.5365853658536586,
          0.5487804878048781,
          0.7073170731707317,
          0.6829268292682927,
          0.6707317073170732,
          0.573170731707317,
          0.524390243902439,
          0.6463414634146342,
          0.6219512195121951,
          0.6829268292682927,
          0.7073170731707317,
          0.6341463414634146,
          0.7073170731707317,
          0.5365853658536586,
          0.7073170731707317,
          0.5487804878048781,
          0.7439024390243902,
          0.6951219512195121,
          0.524390243902439,
          0.6097560975609756,
          0.6219512195121951,
          0.6097560975609756,
          0.5121951219512195,
          0.6097560975609756,
          0.5853658536585366,
          0.7317073170731707,
          0.6097560975609756,
          0.5975609756097561,
          0.7195121951219512,
          0.6951219512195121,
          0.7439024390243902,
          0.6707317073170732,
          0.6829268292682927,
          0.6829268292682927,
          0.6585365853658537,
          0.573170731707317,
          0.4268292682926829,
          0.7073170731707317,
          0.7195121951219512,
          0.7073170731707317,
          0.7195121951219512,
          0.524390243902439,
          0.5121951219512195,
          0.6219512195121951,
          0.7195121951219512,
          0.7560975609756098,
          0.6341463414634146,
          0.6097560975609756,
          0.7317073170731707,
          0.5487804878048781,
          0.7804878048780488,
          0.6341463414634146,
          0.573170731707317,
          0.7682926829268293,
          0.7682926829268293,
          0.4634146341463415,
          0.7439024390243902,
          0.5121951219512195,
          0.7073170731707317,
          0.6097560975609756,
          0.6341463414634146,
          0.573170731707317,
          0.5,
          0.6219512195121951,
          0.3902439024390244,
          0.6829268292682927,
          0.8048780487804879,
          0.5487804878048781,
          0.6341463414634146,
          0.6707317073170732,
          0.6829268292682927,
          0.6707317073170732,
          0.6707317073170732,
          0.6829268292682927,
          0.7926829268292683,
          0.524390243902439,
          0.7195121951219512,
          0.5975609756097561,
          0.6585365853658537,
          0.7560975609756098,
          0.6585365853658537,
          0.6585365853658537,
          0.6097560975609756,
          0.6097560975609756,
          0.6951219512195121,
          0.7195121951219512,
          0.573170731707317,
          0.6463414634146342,
          0.6707317073170732,
          0.6585365853658537,
          0.6463414634146342,
          0.6341463414634146,
          0.7073170731707317,
          0.6951219512195121,
          0.6707317073170732,
          0.6951219512195121,
          0.7073170731707317,
          0.7439024390243902,
          0.5121951219512195,
          0.3902439024390244,
          0.7121212121212122,
          0.6060606060606061,
          0.6212121212121212,
          0.7575757575757576,
          0.3939393939393939,
          0.5606060606060606,
          0.5909090909090909,
          0.5,
          0.696969696969697,
          0.7317073170731707,
          0.6585365853658537,
          0.6829268292682927,
          0.5487804878048781,
          0.7073170731707317,
          0.7073170731707317,
          0.5487804878048781,
          0.7317073170731707,
          0.8048780487804879,
          0.6585365853658537,
          0.6951219512195121,
          0.5853658536585366,
          0.6585365853658537,
          0.6219512195121951,
          0.6951219512195121,
          0.524390243902439,
          0.6829268292682927,
          0.6585365853658537,
          0.6829268292682927,
          0.6463414634146342,
          0.5487804878048781,
          0.5487804878048781,
          0.6829268292682927,
          0.6219512195121951,
          0.6707317073170732,
          0.6829268292682927,
          0.6707317073170732,
          0.8170731707317073,
          0.6951219512195121,
          0.6707317073170732,
          0.6707317073170732,
          0.6463414634146342,
          0.8902439024390244,
          0.5365853658536586,
          0.5,
          0.6829268292682927,
          0.6707317073170732,
          0.7439024390243902,
          0.6219512195121951,
          0.6463414634146342,
          0.8170731707317073,
          0.5121951219512195,
          0.5975609756097561,
          0.4146341463414634,
          0.8170731707317073,
          0.6097560975609756,
          0.5853658536585366,
          0.5975609756097561,
          0.5853658536585366,
          0.5365853658536586,
          0.7073170731707317,
          0.7195121951219512,
          0.573170731707317,
          0.573170731707317,
          0.6463414634146342,
          0.5975609756097561,
          0.6585365853658537,
          0.6951219512195121,
          0.6463414634146342,
          0.6219512195121951,
          0.6951219512195121,
          0.7073170731707317,
          0.5975609756097561,
          0.7323943661971831,
          0.6111111111111112,
          0.5733333333333334,
          0.6805555555555556,
          0.7323943661971831,
          0.6111111111111112,
          0.4729729729729729,
          0.6301369863013698,
          0.7361111111111112,
          0.6805555555555556,
          0.5416666666666666,
          0.6388888888888888,
          0.7083333333333334,
          0.5833333333333334,
          0.5833333333333334,
          0.5694444444444444,
          0.7222222222222222,
          0.6219512195121951,
          0.6219512195121951,
          0.7804878048780488,
          0.6341463414634146,
          0.6219512195121951,
          0.6829268292682927,
          0.6463414634146342,
          0.7804878048780488,
          0.5609756097560976,
          0.6463414634146342,
          0.7073170731707317,
          0.6951219512195121,
          0.4878048780487805,
          0.6219512195121951,
          0.5853658536585366,
          0.4634146341463415,
          0.5365853658536586,
          0.5365853658536586
         ],
         "xaxis": "x",
         "y": [
          0.213,
          0.173,
          0.182,
          0.148,
          0.12,
          0.169,
          0.187,
          0.183,
          0.16,
          0.23,
          0.202,
          0.182,
          0.211,
          0.228,
          0.154,
          0.205,
          0.229,
          0.19,
          0.171,
          0.182,
          0.216,
          0.207,
          0.199,
          0.192,
          0.225,
          0.207,
          0.233,
          0.217,
          0.166,
          0.185,
          0.189,
          0.159,
          0.205,
          0.218,
          0.191,
          0.163,
          0.144,
          0.18,
          0.235,
          0.198,
          0.22,
          0.193,
          0.204,
          0.189,
          0.213,
          0.166,
          0.197,
          0.173,
          0.096,
          0.17,
          0.226,
          0.186,
          0.197,
          0.176,
          0.219,
          0.156,
          0.151,
          0.247,
          0.243,
          0.232,
          0.197,
          0.21,
          0.189,
          0.121,
          0.153,
          0.243,
          0.199,
          0.253,
          0.207,
          0.16,
          0.182,
          0.152,
          0.163,
          0.238,
          0.292,
          0.233,
          0.181,
          0.197,
          0.25,
          0.236,
          0.184,
          0.146,
          0.199,
          0.269,
          0.285,
          0.245,
          0.205,
          0.241,
          0.173,
          0.176,
          0.238,
          0.154,
          0.251,
          0.264,
          0.258,
          0.225,
          0.209,
          0.22,
          0.177,
          0.14,
          0.235,
          0.223,
          0.26,
          0.237,
          0.198,
          0.155,
          0.205,
          0.132,
          0.192,
          0.183,
          0.234,
          0.27,
          0.17,
          0.191,
          0.197,
          0.163,
          0.238,
          0.197,
          0.226,
          0.296,
          0.194,
          0.252,
          0.211,
          0.155,
          0.216,
          0.193,
          0.201,
          0.185,
          0.23,
          0.212,
          0.157,
          0.181,
          0.214,
          0.188,
          0.233,
          0.187,
          0.177,
          0.29,
          0.229,
          0.166,
          0.209,
          0.174,
          0.233,
          0.205,
          0.172,
          0.283,
          0.223,
          0.198,
          0.154,
          0.193,
          0.154,
          0.163,
          0.173,
          0.197,
          0.259,
          0.19,
          0.224,
          0.192,
          0.185,
          0.269,
          0.149,
          0.193,
          0.216,
          0.213,
          0.173,
          0.188,
          0.255,
          0.102,
          0.189,
          0.172,
          0.146,
          0.172,
          0.226,
          0.249,
          0.218,
          0.195,
          0.116,
          0.185,
          0.179,
          0.182,
          0.2,
          0.245,
          0.186,
          0.176,
          0.189,
          0.217,
          0.15,
          0.196,
          0.246,
          0.14,
          0.262,
          0.189,
          0.199,
          0.183,
          0.2,
          0.222,
          0.126,
          0.19,
          0.225,
          0.21,
          0.262,
          0.25,
          0.127,
          0.249,
          0.176,
          0.182,
          0.127,
          0.249,
          0.155,
          0.198,
          0.21,
          0.192,
          0.16,
          0.141,
          0.078,
          0.205,
          0.211,
          0.248,
          0.245,
          0.136,
          0.203,
          0.18,
          0.177,
          0.243,
          0.168,
          0.232,
          0.275,
          0.224,
          0.254,
          0.239,
          0.229,
          0.187,
          0.169,
          0.165,
          0.225,
          0.199,
          0.23,
          0.206,
          0.163,
          0.174,
          0.177,
          0.185,
          0.171,
          0.284,
          0.265,
          0.242,
          0.2,
          0.262,
          0.201,
          0.115,
          0.181,
          0.232,
          0.206,
          0.232,
          0.234,
          0.292,
          0.174,
          0.164,
          0.168,
          0.223,
          0.171,
          0.238,
          0.16,
          0.223,
          0.224,
          0.145,
          0.194,
          0.178,
          0.177,
          0.235,
          0.244,
          0.178,
          0.189,
          0.213,
          0.218,
          0.195,
          0.134,
          0.152,
          0.23,
          0.278,
          0.132,
          0.177,
          0.223,
          0.179,
          0.121,
          0.144,
          0.227,
          0.291,
          0.184,
          0.287,
          0.174,
          0.206,
          0.191,
          0.206,
          0.195,
          0.192,
          0.264,
          0.205,
          0.19,
          0.221,
          0.225,
          0.27,
          0.146,
          0.178,
          0.144,
          0.265,
          0.199,
          0.222,
          0.274,
          0.27,
          0.165,
          0.182,
          0.183,
          0.207,
          0.277,
          0.242,
          0.245,
          0.27,
          0.253,
          0.19,
          0.165,
          0.204,
          0.196,
          0.245,
          0.264,
          0.221,
          0.234,
          0.229,
          0.21,
          0.149,
          0.195,
          0.278,
          0.221,
          0.241,
          0.227,
          0.166,
          0.207,
          0.215,
          0.17,
          0.209,
          0.198,
          0.254,
          0.201,
          0.226,
          0.199,
          0.205,
          0.194,
          0.204,
          0.224,
          0.124,
          0.204,
          0.254,
          0.207,
          0.226,
          0.25,
          0.193,
          0.225,
          0.202,
          0.123,
          0.266,
          0.201,
          0.244,
          0.201,
          0.163,
          0.209,
          0.14,
          0.248,
          0.252,
          0.281,
          0.156,
          0.159,
          0.169,
          0.171,
          0.173,
          0.21,
          0.154,
          0.308,
          0.204,
          0.185,
          0.226,
          0.176,
          0.221,
          0.204,
          0.192,
          0.277
         ],
         "yaxis": "y"
        }
       ],
       "layout": {
        "height": 600,
        "legend": {
         "title": {
          "text": "MVP"
         },
         "tracegroupgap": 0
        },
        "margin": {
         "t": 60
        },
        "template": {
         "data": {
          "bar": [
           {
            "error_x": {
             "color": "#2a3f5f"
            },
            "error_y": {
             "color": "#2a3f5f"
            },
            "marker": {
             "line": {
              "color": "#E5ECF6",
              "width": 0.5
             },
             "pattern": {
              "fillmode": "overlay",
              "size": 10,
              "solidity": 0.2
             }
            },
            "type": "bar"
           }
          ],
          "barpolar": [
           {
            "marker": {
             "line": {
              "color": "#E5ECF6",
              "width": 0.5
             },
             "pattern": {
              "fillmode": "overlay",
              "size": 10,
              "solidity": 0.2
             }
            },
            "type": "barpolar"
           }
          ],
          "carpet": [
           {
            "aaxis": {
             "endlinecolor": "#2a3f5f",
             "gridcolor": "white",
             "linecolor": "white",
             "minorgridcolor": "white",
             "startlinecolor": "#2a3f5f"
            },
            "baxis": {
             "endlinecolor": "#2a3f5f",
             "gridcolor": "white",
             "linecolor": "white",
             "minorgridcolor": "white",
             "startlinecolor": "#2a3f5f"
            },
            "type": "carpet"
           }
          ],
          "choropleth": [
           {
            "colorbar": {
             "outlinewidth": 0,
             "ticks": ""
            },
            "type": "choropleth"
           }
          ],
          "contour": [
           {
            "colorbar": {
             "outlinewidth": 0,
             "ticks": ""
            },
            "colorscale": [
             [
              0,
              "#0d0887"
             ],
             [
              0.1111111111111111,
              "#46039f"
             ],
             [
              0.2222222222222222,
              "#7201a8"
             ],
             [
              0.3333333333333333,
              "#9c179e"
             ],
             [
              0.4444444444444444,
              "#bd3786"
             ],
             [
              0.5555555555555556,
              "#d8576b"
             ],
             [
              0.6666666666666666,
              "#ed7953"
             ],
             [
              0.7777777777777778,
              "#fb9f3a"
             ],
             [
              0.8888888888888888,
              "#fdca26"
             ],
             [
              1,
              "#f0f921"
             ]
            ],
            "type": "contour"
           }
          ],
          "contourcarpet": [
           {
            "colorbar": {
             "outlinewidth": 0,
             "ticks": ""
            },
            "type": "contourcarpet"
           }
          ],
          "heatmap": [
           {
            "colorbar": {
             "outlinewidth": 0,
             "ticks": ""
            },
            "colorscale": [
             [
              0,
              "#0d0887"
             ],
             [
              0.1111111111111111,
              "#46039f"
             ],
             [
              0.2222222222222222,
              "#7201a8"
             ],
             [
              0.3333333333333333,
              "#9c179e"
             ],
             [
              0.4444444444444444,
              "#bd3786"
             ],
             [
              0.5555555555555556,
              "#d8576b"
             ],
             [
              0.6666666666666666,
              "#ed7953"
             ],
             [
              0.7777777777777778,
              "#fb9f3a"
             ],
             [
              0.8888888888888888,
              "#fdca26"
             ],
             [
              1,
              "#f0f921"
             ]
            ],
            "type": "heatmap"
           }
          ],
          "heatmapgl": [
           {
            "colorbar": {
             "outlinewidth": 0,
             "ticks": ""
            },
            "colorscale": [
             [
              0,
              "#0d0887"
             ],
             [
              0.1111111111111111,
              "#46039f"
             ],
             [
              0.2222222222222222,
              "#7201a8"
             ],
             [
              0.3333333333333333,
              "#9c179e"
             ],
             [
              0.4444444444444444,
              "#bd3786"
             ],
             [
              0.5555555555555556,
              "#d8576b"
             ],
             [
              0.6666666666666666,
              "#ed7953"
             ],
             [
              0.7777777777777778,
              "#fb9f3a"
             ],
             [
              0.8888888888888888,
              "#fdca26"
             ],
             [
              1,
              "#f0f921"
             ]
            ],
            "type": "heatmapgl"
           }
          ],
          "histogram": [
           {
            "marker": {
             "pattern": {
              "fillmode": "overlay",
              "size": 10,
              "solidity": 0.2
             }
            },
            "type": "histogram"
           }
          ],
          "histogram2d": [
           {
            "colorbar": {
             "outlinewidth": 0,
             "ticks": ""
            },
            "colorscale": [
             [
              0,
              "#0d0887"
             ],
             [
              0.1111111111111111,
              "#46039f"
             ],
             [
              0.2222222222222222,
              "#7201a8"
             ],
             [
              0.3333333333333333,
              "#9c179e"
             ],
             [
              0.4444444444444444,
              "#bd3786"
             ],
             [
              0.5555555555555556,
              "#d8576b"
             ],
             [
              0.6666666666666666,
              "#ed7953"
             ],
             [
              0.7777777777777778,
              "#fb9f3a"
             ],
             [
              0.8888888888888888,
              "#fdca26"
             ],
             [
              1,
              "#f0f921"
             ]
            ],
            "type": "histogram2d"
           }
          ],
          "histogram2dcontour": [
           {
            "colorbar": {
             "outlinewidth": 0,
             "ticks": ""
            },
            "colorscale": [
             [
              0,
              "#0d0887"
             ],
             [
              0.1111111111111111,
              "#46039f"
             ],
             [
              0.2222222222222222,
              "#7201a8"
             ],
             [
              0.3333333333333333,
              "#9c179e"
             ],
             [
              0.4444444444444444,
              "#bd3786"
             ],
             [
              0.5555555555555556,
              "#d8576b"
             ],
             [
              0.6666666666666666,
              "#ed7953"
             ],
             [
              0.7777777777777778,
              "#fb9f3a"
             ],
             [
              0.8888888888888888,
              "#fdca26"
             ],
             [
              1,
              "#f0f921"
             ]
            ],
            "type": "histogram2dcontour"
           }
          ],
          "mesh3d": [
           {
            "colorbar": {
             "outlinewidth": 0,
             "ticks": ""
            },
            "type": "mesh3d"
           }
          ],
          "parcoords": [
           {
            "line": {
             "colorbar": {
              "outlinewidth": 0,
              "ticks": ""
             }
            },
            "type": "parcoords"
           }
          ],
          "pie": [
           {
            "automargin": true,
            "type": "pie"
           }
          ],
          "scatter": [
           {
            "fillpattern": {
             "fillmode": "overlay",
             "size": 10,
             "solidity": 0.2
            },
            "type": "scatter"
           }
          ],
          "scatter3d": [
           {
            "line": {
             "colorbar": {
              "outlinewidth": 0,
              "ticks": ""
             }
            },
            "marker": {
             "colorbar": {
              "outlinewidth": 0,
              "ticks": ""
             }
            },
            "type": "scatter3d"
           }
          ],
          "scattercarpet": [
           {
            "marker": {
             "colorbar": {
              "outlinewidth": 0,
              "ticks": ""
             }
            },
            "type": "scattercarpet"
           }
          ],
          "scattergeo": [
           {
            "marker": {
             "colorbar": {
              "outlinewidth": 0,
              "ticks": ""
             }
            },
            "type": "scattergeo"
           }
          ],
          "scattergl": [
           {
            "marker": {
             "colorbar": {
              "outlinewidth": 0,
              "ticks": ""
             }
            },
            "type": "scattergl"
           }
          ],
          "scattermapbox": [
           {
            "marker": {
             "colorbar": {
              "outlinewidth": 0,
              "ticks": ""
             }
            },
            "type": "scattermapbox"
           }
          ],
          "scatterpolar": [
           {
            "marker": {
             "colorbar": {
              "outlinewidth": 0,
              "ticks": ""
             }
            },
            "type": "scatterpolar"
           }
          ],
          "scatterpolargl": [
           {
            "marker": {
             "colorbar": {
              "outlinewidth": 0,
              "ticks": ""
             }
            },
            "type": "scatterpolargl"
           }
          ],
          "scatterternary": [
           {
            "marker": {
             "colorbar": {
              "outlinewidth": 0,
              "ticks": ""
             }
            },
            "type": "scatterternary"
           }
          ],
          "surface": [
           {
            "colorbar": {
             "outlinewidth": 0,
             "ticks": ""
            },
            "colorscale": [
             [
              0,
              "#0d0887"
             ],
             [
              0.1111111111111111,
              "#46039f"
             ],
             [
              0.2222222222222222,
              "#7201a8"
             ],
             [
              0.3333333333333333,
              "#9c179e"
             ],
             [
              0.4444444444444444,
              "#bd3786"
             ],
             [
              0.5555555555555556,
              "#d8576b"
             ],
             [
              0.6666666666666666,
              "#ed7953"
             ],
             [
              0.7777777777777778,
              "#fb9f3a"
             ],
             [
              0.8888888888888888,
              "#fdca26"
             ],
             [
              1,
              "#f0f921"
             ]
            ],
            "type": "surface"
           }
          ],
          "table": [
           {
            "cells": {
             "fill": {
              "color": "#EBF0F8"
             },
             "line": {
              "color": "white"
             }
            },
            "header": {
             "fill": {
              "color": "#C8D4E3"
             },
             "line": {
              "color": "white"
             }
            },
            "type": "table"
           }
          ]
         },
         "layout": {
          "annotationdefaults": {
           "arrowcolor": "#2a3f5f",
           "arrowhead": 0,
           "arrowwidth": 1
          },
          "autotypenumbers": "strict",
          "coloraxis": {
           "colorbar": {
            "outlinewidth": 0,
            "ticks": ""
           }
          },
          "colorscale": {
           "diverging": [
            [
             0,
             "#8e0152"
            ],
            [
             0.1,
             "#c51b7d"
            ],
            [
             0.2,
             "#de77ae"
            ],
            [
             0.3,
             "#f1b6da"
            ],
            [
             0.4,
             "#fde0ef"
            ],
            [
             0.5,
             "#f7f7f7"
            ],
            [
             0.6,
             "#e6f5d0"
            ],
            [
             0.7,
             "#b8e186"
            ],
            [
             0.8,
             "#7fbc41"
            ],
            [
             0.9,
             "#4d9221"
            ],
            [
             1,
             "#276419"
            ]
           ],
           "sequential": [
            [
             0,
             "#0d0887"
            ],
            [
             0.1111111111111111,
             "#46039f"
            ],
            [
             0.2222222222222222,
             "#7201a8"
            ],
            [
             0.3333333333333333,
             "#9c179e"
            ],
            [
             0.4444444444444444,
             "#bd3786"
            ],
            [
             0.5555555555555556,
             "#d8576b"
            ],
            [
             0.6666666666666666,
             "#ed7953"
            ],
            [
             0.7777777777777778,
             "#fb9f3a"
            ],
            [
             0.8888888888888888,
             "#fdca26"
            ],
            [
             1,
             "#f0f921"
            ]
           ],
           "sequentialminus": [
            [
             0,
             "#0d0887"
            ],
            [
             0.1111111111111111,
             "#46039f"
            ],
            [
             0.2222222222222222,
             "#7201a8"
            ],
            [
             0.3333333333333333,
             "#9c179e"
            ],
            [
             0.4444444444444444,
             "#bd3786"
            ],
            [
             0.5555555555555556,
             "#d8576b"
            ],
            [
             0.6666666666666666,
             "#ed7953"
            ],
            [
             0.7777777777777778,
             "#fb9f3a"
            ],
            [
             0.8888888888888888,
             "#fdca26"
            ],
            [
             1,
             "#f0f921"
            ]
           ]
          },
          "colorway": [
           "#636efa",
           "#EF553B",
           "#00cc96",
           "#ab63fa",
           "#FFA15A",
           "#19d3f3",
           "#FF6692",
           "#B6E880",
           "#FF97FF",
           "#FECB52"
          ],
          "font": {
           "color": "#2a3f5f"
          },
          "geo": {
           "bgcolor": "white",
           "lakecolor": "white",
           "landcolor": "#E5ECF6",
           "showlakes": true,
           "showland": true,
           "subunitcolor": "white"
          },
          "hoverlabel": {
           "align": "left"
          },
          "hovermode": "closest",
          "mapbox": {
           "style": "light"
          },
          "paper_bgcolor": "white",
          "plot_bgcolor": "#E5ECF6",
          "polar": {
           "angularaxis": {
            "gridcolor": "white",
            "linecolor": "white",
            "ticks": ""
           },
           "bgcolor": "#E5ECF6",
           "radialaxis": {
            "gridcolor": "white",
            "linecolor": "white",
            "ticks": ""
           }
          },
          "scene": {
           "xaxis": {
            "backgroundcolor": "#E5ECF6",
            "gridcolor": "white",
            "gridwidth": 2,
            "linecolor": "white",
            "showbackground": true,
            "ticks": "",
            "zerolinecolor": "white"
           },
           "yaxis": {
            "backgroundcolor": "#E5ECF6",
            "gridcolor": "white",
            "gridwidth": 2,
            "linecolor": "white",
            "showbackground": true,
            "ticks": "",
            "zerolinecolor": "white"
           },
           "zaxis": {
            "backgroundcolor": "#E5ECF6",
            "gridcolor": "white",
            "gridwidth": 2,
            "linecolor": "white",
            "showbackground": true,
            "ticks": "",
            "zerolinecolor": "white"
           }
          },
          "shapedefaults": {
           "line": {
            "color": "#2a3f5f"
           }
          },
          "ternary": {
           "aaxis": {
            "gridcolor": "white",
            "linecolor": "white",
            "ticks": ""
           },
           "baxis": {
            "gridcolor": "white",
            "linecolor": "white",
            "ticks": ""
           },
           "bgcolor": "#E5ECF6",
           "caxis": {
            "gridcolor": "white",
            "linecolor": "white",
            "ticks": ""
           }
          },
          "title": {
           "x": 0.05
          },
          "xaxis": {
           "automargin": true,
           "gridcolor": "white",
           "linecolor": "white",
           "ticks": "",
           "title": {
            "standoff": 15
           },
           "zerolinecolor": "white",
           "zerolinewidth": 2
          },
          "yaxis": {
           "automargin": true,
           "gridcolor": "white",
           "linecolor": "white",
           "ticks": "",
           "title": {
            "standoff": 15
           },
           "zerolinecolor": "white",
           "zerolinewidth": 2
          }
         }
        },
        "title": {
         "text": "Win Shares per 48 vs W/L % Pct for MVP Candiates"
        },
        "xaxis": {
         "anchor": "y",
         "domain": [
          0,
          1
         ],
         "title": {
          "text": "wl_pct"
         }
        },
        "yaxis": {
         "anchor": "x",
         "domain": [
          0,
          1
         ],
         "title": {
          "text": "WS/48"
         }
        }
       }
      }
     },
     "metadata": {},
     "output_type": "display_data"
    }
   ],
   "source": [
    "fig = px.scatter(df, x=\"wl_pct\", y=\"WS/48\",color='MVP', hover_data=['Player', 'Year'])\n",
    "fig.update_layout(height=600, title_text= 'Win Shares per 48 vs W/L % Pct for MVP Candiates')\n",
    "fig.show()"
   ]
  },
  {
   "cell_type": "code",
   "execution_count": 18,
   "metadata": {},
   "outputs": [
    {
     "data": {
      "application/vnd.plotly.v1+json": {
       "config": {
        "plotlyServerURL": "https://plot.ly"
       },
       "data": [
        {
         "marker": {
          "color": [
           0.701,
           0.655,
           0.627,
           0.27,
           0.135,
           0.075,
           0.043,
           0.033,
           0.03,
           0.008
          ],
          "colorscale": [
           [
            0,
            "#440154"
           ],
           [
            0.1111111111111111,
            "#482878"
           ],
           [
            0.2222222222222222,
            "#3e4989"
           ],
           [
            0.3333333333333333,
            "#31688e"
           ],
           [
            0.4444444444444444,
            "#26828e"
           ],
           [
            0.5555555555555556,
            "#1f9e89"
           ],
           [
            0.6666666666666666,
            "#35b779"
           ],
           [
            0.7777777777777778,
            "#6ece58"
           ],
           [
            0.8888888888888888,
            "#b5de2b"
           ],
           [
            1,
            "#fde725"
           ]
          ],
          "showscale": true
         },
         "mode": "markers",
         "text": [
          "Karl Malone",
          "Alonzo Mourning",
          "Tim Duncan",
          "Allen Iverson",
          "Jason Kidd",
          "Shaquille O'Neal",
          "Chris Webber",
          "Grant Hill",
          "Gary Payton",
          "Kevin Garnett"
         ],
         "type": "scatter",
         "x": [
          0.74,
          0.66,
          0.74,
          0.56,
          0.54,
          0.62,
          0.54,
          0.58,
          0.5,
          0.5
         ],
         "xaxis": "x",
         "y": [
          0.252,
          0.216,
          0.213,
          0.173,
          0.188,
          0.255,
          0.102,
          0.189,
          0.172,
          0.146
         ],
         "yaxis": "y"
        },
        {
         "marker": {
          "color": [
           0.735,
           0.588,
           0.294,
           0.19,
           0.167,
           0.159,
           0.146,
           0.097,
           0.048,
           0.045
          ],
          "colorscale": [
           [
            0,
            "#440154"
           ],
           [
            0.1111111111111111,
            "#482878"
           ],
           [
            0.2222222222222222,
            "#3e4989"
           ],
           [
            0.3333333333333333,
            "#31688e"
           ],
           [
            0.4444444444444444,
            "#26828e"
           ],
           [
            0.5555555555555556,
            "#1f9e89"
           ],
           [
            0.6666666666666666,
            "#35b779"
           ],
           [
            0.7777777777777778,
            "#6ece58"
           ],
           [
            0.8888888888888888,
            "#b5de2b"
           ],
           [
            1,
            "#fde725"
           ]
          ],
          "showscale": true
         },
         "mode": "markers",
         "text": [
          "Moses Malone",
          "Larry Bird",
          "Julius Erving",
          "Robert Parish",
          "Gus Williams",
          "George Gervin",
          "Sidney Moncrief",
          "Magic Johnson",
          "Jack Sikma",
          "Kareem Abdul-Jabbar"
         ],
         "type": "scatter",
         "x": [
          0.5609756097560976,
          0.7682926829268293,
          0.7073170731707317,
          0.7682926829268293,
          0.6341463414634146,
          0.5853658536585366,
          0.6707317073170732,
          0.6951219512195121,
          0.6341463414634146,
          0.6951219512195121
         ],
         "xaxis": "x3",
         "y": [
          0.218,
          0.205,
          0.229,
          0.19,
          0.171,
          0.182,
          0.216,
          0.207,
          0.199,
          0.192
         ],
         "yaxis": "y3"
        },
        {
         "marker": {
          "color": [
           0.739,
           0.55,
           0.435,
           0.386,
           0.344,
           0.07,
           0.04,
           0.026,
           0.007,
           0.001
          ],
          "colorscale": [
           [
            0,
            "#440154"
           ],
           [
            0.1111111111111111,
            "#482878"
           ],
           [
            0.2222222222222222,
            "#3e4989"
           ],
           [
            0.3333333333333333,
            "#31688e"
           ],
           [
            0.4444444444444444,
            "#26828e"
           ],
           [
            0.5555555555555556,
            "#1f9e89"
           ],
           [
            0.6666666666666666,
            "#35b779"
           ],
           [
            0.7777777777777778,
            "#6ece58"
           ],
           [
            0.8888888888888888,
            "#b5de2b"
           ],
           [
            1,
            "#fde725"
           ]
          ],
          "showscale": true
         },
         "mode": "markers",
         "text": [
          "Steve Nash",
          "LeBron James",
          "Dirk Nowitzki",
          "Kobe Bryant",
          "Chauncey Billups",
          "Dwyane Wade",
          "Elton Brand",
          "Tim Duncan",
          "Tony Parker",
          "Allen Iverson"
         ],
         "type": "scatter",
         "x": [
          0.6585365853658537,
          0.6097560975609756,
          0.7317073170731707,
          0.5487804878048781,
          0.7804878048780488,
          0.6341463414634146,
          0.573170731707317,
          0.7682926829268293,
          0.7682926829268293,
          0.4634146341463415
         ],
         "xaxis": "x2",
         "y": [
          0.212,
          0.232,
          0.275,
          0.224,
          0.254,
          0.239,
          0.229,
          0.187,
          0.169,
          0.165
         ],
         "yaxis": "y2"
        },
        {
         "marker": {
          "color": [
           0.977,
           0.531,
           0.431,
           0.354,
           0.157,
           0.093,
           0.02,
           0.017,
           0.007,
           0.004
          ],
          "colorscale": [
           [
            0,
            "#440154"
           ],
           [
            0.1111111111111111,
            "#482878"
           ],
           [
            0.2222222222222222,
            "#3e4989"
           ],
           [
            0.3333333333333333,
            "#31688e"
           ],
           [
            0.4444444444444444,
            "#26828e"
           ],
           [
            0.5555555555555556,
            "#1f9e89"
           ],
           [
            0.6666666666666666,
            "#35b779"
           ],
           [
            0.7777777777777778,
            "#6ece58"
           ],
           [
            0.8888888888888888,
            "#b5de2b"
           ],
           [
            1,
            "#fde725"
           ]
          ],
          "showscale": true
         },
         "mode": "markers",
         "text": [
          "Derrick Rose",
          "Dwight Howard",
          "LeBron James",
          "Kobe Bryant",
          "Kevin Durant",
          "Dirk Nowitzki",
          "Dwyane Wade",
          "Manu Ginóbili",
          "Amar'e Stoudemire",
          "Blake Griffin"
         ],
         "type": "scatter",
         "x": [
          0.7560975609756098,
          0.6341463414634146,
          0.7073170731707317,
          0.6951219512195121,
          0.6707317073170732,
          0.6951219512195121,
          0.7073170731707317,
          0.7439024390243902,
          0.5121951219512195,
          0.3902439024390244
         ],
         "xaxis": "x4",
         "y": [
          0.208,
          0.235,
          0.244,
          0.178,
          0.189,
          0.213,
          0.218,
          0.195,
          0.134,
          0.152
         ],
         "yaxis": "y4"
        }
       ],
       "layout": {
        "annotations": [
         {
          "font": {
           "size": 16
          },
          "showarrow": false,
          "text": "1999",
          "x": 0.225,
          "xanchor": "center",
          "xref": "paper",
          "y": 0.375,
          "yanchor": "bottom",
          "yref": "paper"
         },
         {
          "font": {
           "size": 16
          },
          "showarrow": false,
          "text": "1982",
          "x": 0.775,
          "xanchor": "center",
          "xref": "paper",
          "y": 0.375,
          "yanchor": "bottom",
          "yref": "paper"
         },
         {
          "font": {
           "size": 16
          },
          "showarrow": false,
          "text": "2006",
          "x": 0.225,
          "xanchor": "center",
          "xref": "paper",
          "y": 1,
          "yanchor": "bottom",
          "yref": "paper"
         },
         {
          "font": {
           "size": 16
          },
          "showarrow": false,
          "text": "2011",
          "x": 0.775,
          "xanchor": "center",
          "xref": "paper",
          "y": 1,
          "yanchor": "bottom",
          "yref": "paper"
         }
        ],
        "height": 800,
        "showlegend": false,
        "template": {
         "data": {
          "bar": [
           {
            "error_x": {
             "color": "#2a3f5f"
            },
            "error_y": {
             "color": "#2a3f5f"
            },
            "marker": {
             "line": {
              "color": "#E5ECF6",
              "width": 0.5
             },
             "pattern": {
              "fillmode": "overlay",
              "size": 10,
              "solidity": 0.2
             }
            },
            "type": "bar"
           }
          ],
          "barpolar": [
           {
            "marker": {
             "line": {
              "color": "#E5ECF6",
              "width": 0.5
             },
             "pattern": {
              "fillmode": "overlay",
              "size": 10,
              "solidity": 0.2
             }
            },
            "type": "barpolar"
           }
          ],
          "carpet": [
           {
            "aaxis": {
             "endlinecolor": "#2a3f5f",
             "gridcolor": "white",
             "linecolor": "white",
             "minorgridcolor": "white",
             "startlinecolor": "#2a3f5f"
            },
            "baxis": {
             "endlinecolor": "#2a3f5f",
             "gridcolor": "white",
             "linecolor": "white",
             "minorgridcolor": "white",
             "startlinecolor": "#2a3f5f"
            },
            "type": "carpet"
           }
          ],
          "choropleth": [
           {
            "colorbar": {
             "outlinewidth": 0,
             "ticks": ""
            },
            "type": "choropleth"
           }
          ],
          "contour": [
           {
            "colorbar": {
             "outlinewidth": 0,
             "ticks": ""
            },
            "colorscale": [
             [
              0,
              "#0d0887"
             ],
             [
              0.1111111111111111,
              "#46039f"
             ],
             [
              0.2222222222222222,
              "#7201a8"
             ],
             [
              0.3333333333333333,
              "#9c179e"
             ],
             [
              0.4444444444444444,
              "#bd3786"
             ],
             [
              0.5555555555555556,
              "#d8576b"
             ],
             [
              0.6666666666666666,
              "#ed7953"
             ],
             [
              0.7777777777777778,
              "#fb9f3a"
             ],
             [
              0.8888888888888888,
              "#fdca26"
             ],
             [
              1,
              "#f0f921"
             ]
            ],
            "type": "contour"
           }
          ],
          "contourcarpet": [
           {
            "colorbar": {
             "outlinewidth": 0,
             "ticks": ""
            },
            "type": "contourcarpet"
           }
          ],
          "heatmap": [
           {
            "colorbar": {
             "outlinewidth": 0,
             "ticks": ""
            },
            "colorscale": [
             [
              0,
              "#0d0887"
             ],
             [
              0.1111111111111111,
              "#46039f"
             ],
             [
              0.2222222222222222,
              "#7201a8"
             ],
             [
              0.3333333333333333,
              "#9c179e"
             ],
             [
              0.4444444444444444,
              "#bd3786"
             ],
             [
              0.5555555555555556,
              "#d8576b"
             ],
             [
              0.6666666666666666,
              "#ed7953"
             ],
             [
              0.7777777777777778,
              "#fb9f3a"
             ],
             [
              0.8888888888888888,
              "#fdca26"
             ],
             [
              1,
              "#f0f921"
             ]
            ],
            "type": "heatmap"
           }
          ],
          "heatmapgl": [
           {
            "colorbar": {
             "outlinewidth": 0,
             "ticks": ""
            },
            "colorscale": [
             [
              0,
              "#0d0887"
             ],
             [
              0.1111111111111111,
              "#46039f"
             ],
             [
              0.2222222222222222,
              "#7201a8"
             ],
             [
              0.3333333333333333,
              "#9c179e"
             ],
             [
              0.4444444444444444,
              "#bd3786"
             ],
             [
              0.5555555555555556,
              "#d8576b"
             ],
             [
              0.6666666666666666,
              "#ed7953"
             ],
             [
              0.7777777777777778,
              "#fb9f3a"
             ],
             [
              0.8888888888888888,
              "#fdca26"
             ],
             [
              1,
              "#f0f921"
             ]
            ],
            "type": "heatmapgl"
           }
          ],
          "histogram": [
           {
            "marker": {
             "pattern": {
              "fillmode": "overlay",
              "size": 10,
              "solidity": 0.2
             }
            },
            "type": "histogram"
           }
          ],
          "histogram2d": [
           {
            "colorbar": {
             "outlinewidth": 0,
             "ticks": ""
            },
            "colorscale": [
             [
              0,
              "#0d0887"
             ],
             [
              0.1111111111111111,
              "#46039f"
             ],
             [
              0.2222222222222222,
              "#7201a8"
             ],
             [
              0.3333333333333333,
              "#9c179e"
             ],
             [
              0.4444444444444444,
              "#bd3786"
             ],
             [
              0.5555555555555556,
              "#d8576b"
             ],
             [
              0.6666666666666666,
              "#ed7953"
             ],
             [
              0.7777777777777778,
              "#fb9f3a"
             ],
             [
              0.8888888888888888,
              "#fdca26"
             ],
             [
              1,
              "#f0f921"
             ]
            ],
            "type": "histogram2d"
           }
          ],
          "histogram2dcontour": [
           {
            "colorbar": {
             "outlinewidth": 0,
             "ticks": ""
            },
            "colorscale": [
             [
              0,
              "#0d0887"
             ],
             [
              0.1111111111111111,
              "#46039f"
             ],
             [
              0.2222222222222222,
              "#7201a8"
             ],
             [
              0.3333333333333333,
              "#9c179e"
             ],
             [
              0.4444444444444444,
              "#bd3786"
             ],
             [
              0.5555555555555556,
              "#d8576b"
             ],
             [
              0.6666666666666666,
              "#ed7953"
             ],
             [
              0.7777777777777778,
              "#fb9f3a"
             ],
             [
              0.8888888888888888,
              "#fdca26"
             ],
             [
              1,
              "#f0f921"
             ]
            ],
            "type": "histogram2dcontour"
           }
          ],
          "mesh3d": [
           {
            "colorbar": {
             "outlinewidth": 0,
             "ticks": ""
            },
            "type": "mesh3d"
           }
          ],
          "parcoords": [
           {
            "line": {
             "colorbar": {
              "outlinewidth": 0,
              "ticks": ""
             }
            },
            "type": "parcoords"
           }
          ],
          "pie": [
           {
            "automargin": true,
            "type": "pie"
           }
          ],
          "scatter": [
           {
            "fillpattern": {
             "fillmode": "overlay",
             "size": 10,
             "solidity": 0.2
            },
            "type": "scatter"
           }
          ],
          "scatter3d": [
           {
            "line": {
             "colorbar": {
              "outlinewidth": 0,
              "ticks": ""
             }
            },
            "marker": {
             "colorbar": {
              "outlinewidth": 0,
              "ticks": ""
             }
            },
            "type": "scatter3d"
           }
          ],
          "scattercarpet": [
           {
            "marker": {
             "colorbar": {
              "outlinewidth": 0,
              "ticks": ""
             }
            },
            "type": "scattercarpet"
           }
          ],
          "scattergeo": [
           {
            "marker": {
             "colorbar": {
              "outlinewidth": 0,
              "ticks": ""
             }
            },
            "type": "scattergeo"
           }
          ],
          "scattergl": [
           {
            "marker": {
             "colorbar": {
              "outlinewidth": 0,
              "ticks": ""
             }
            },
            "type": "scattergl"
           }
          ],
          "scattermapbox": [
           {
            "marker": {
             "colorbar": {
              "outlinewidth": 0,
              "ticks": ""
             }
            },
            "type": "scattermapbox"
           }
          ],
          "scatterpolar": [
           {
            "marker": {
             "colorbar": {
              "outlinewidth": 0,
              "ticks": ""
             }
            },
            "type": "scatterpolar"
           }
          ],
          "scatterpolargl": [
           {
            "marker": {
             "colorbar": {
              "outlinewidth": 0,
              "ticks": ""
             }
            },
            "type": "scatterpolargl"
           }
          ],
          "scatterternary": [
           {
            "marker": {
             "colorbar": {
              "outlinewidth": 0,
              "ticks": ""
             }
            },
            "type": "scatterternary"
           }
          ],
          "surface": [
           {
            "colorbar": {
             "outlinewidth": 0,
             "ticks": ""
            },
            "colorscale": [
             [
              0,
              "#0d0887"
             ],
             [
              0.1111111111111111,
              "#46039f"
             ],
             [
              0.2222222222222222,
              "#7201a8"
             ],
             [
              0.3333333333333333,
              "#9c179e"
             ],
             [
              0.4444444444444444,
              "#bd3786"
             ],
             [
              0.5555555555555556,
              "#d8576b"
             ],
             [
              0.6666666666666666,
              "#ed7953"
             ],
             [
              0.7777777777777778,
              "#fb9f3a"
             ],
             [
              0.8888888888888888,
              "#fdca26"
             ],
             [
              1,
              "#f0f921"
             ]
            ],
            "type": "surface"
           }
          ],
          "table": [
           {
            "cells": {
             "fill": {
              "color": "#EBF0F8"
             },
             "line": {
              "color": "white"
             }
            },
            "header": {
             "fill": {
              "color": "#C8D4E3"
             },
             "line": {
              "color": "white"
             }
            },
            "type": "table"
           }
          ]
         },
         "layout": {
          "annotationdefaults": {
           "arrowcolor": "#2a3f5f",
           "arrowhead": 0,
           "arrowwidth": 1
          },
          "autotypenumbers": "strict",
          "coloraxis": {
           "colorbar": {
            "outlinewidth": 0,
            "ticks": ""
           }
          },
          "colorscale": {
           "diverging": [
            [
             0,
             "#8e0152"
            ],
            [
             0.1,
             "#c51b7d"
            ],
            [
             0.2,
             "#de77ae"
            ],
            [
             0.3,
             "#f1b6da"
            ],
            [
             0.4,
             "#fde0ef"
            ],
            [
             0.5,
             "#f7f7f7"
            ],
            [
             0.6,
             "#e6f5d0"
            ],
            [
             0.7,
             "#b8e186"
            ],
            [
             0.8,
             "#7fbc41"
            ],
            [
             0.9,
             "#4d9221"
            ],
            [
             1,
             "#276419"
            ]
           ],
           "sequential": [
            [
             0,
             "#0d0887"
            ],
            [
             0.1111111111111111,
             "#46039f"
            ],
            [
             0.2222222222222222,
             "#7201a8"
            ],
            [
             0.3333333333333333,
             "#9c179e"
            ],
            [
             0.4444444444444444,
             "#bd3786"
            ],
            [
             0.5555555555555556,
             "#d8576b"
            ],
            [
             0.6666666666666666,
             "#ed7953"
            ],
            [
             0.7777777777777778,
             "#fb9f3a"
            ],
            [
             0.8888888888888888,
             "#fdca26"
            ],
            [
             1,
             "#f0f921"
            ]
           ],
           "sequentialminus": [
            [
             0,
             "#0d0887"
            ],
            [
             0.1111111111111111,
             "#46039f"
            ],
            [
             0.2222222222222222,
             "#7201a8"
            ],
            [
             0.3333333333333333,
             "#9c179e"
            ],
            [
             0.4444444444444444,
             "#bd3786"
            ],
            [
             0.5555555555555556,
             "#d8576b"
            ],
            [
             0.6666666666666666,
             "#ed7953"
            ],
            [
             0.7777777777777778,
             "#fb9f3a"
            ],
            [
             0.8888888888888888,
             "#fdca26"
            ],
            [
             1,
             "#f0f921"
            ]
           ]
          },
          "colorway": [
           "#636efa",
           "#EF553B",
           "#00cc96",
           "#ab63fa",
           "#FFA15A",
           "#19d3f3",
           "#FF6692",
           "#B6E880",
           "#FF97FF",
           "#FECB52"
          ],
          "font": {
           "color": "#2a3f5f"
          },
          "geo": {
           "bgcolor": "white",
           "lakecolor": "white",
           "landcolor": "#E5ECF6",
           "showlakes": true,
           "showland": true,
           "subunitcolor": "white"
          },
          "hoverlabel": {
           "align": "left"
          },
          "hovermode": "closest",
          "mapbox": {
           "style": "light"
          },
          "paper_bgcolor": "white",
          "plot_bgcolor": "#E5ECF6",
          "polar": {
           "angularaxis": {
            "gridcolor": "white",
            "linecolor": "white",
            "ticks": ""
           },
           "bgcolor": "#E5ECF6",
           "radialaxis": {
            "gridcolor": "white",
            "linecolor": "white",
            "ticks": ""
           }
          },
          "scene": {
           "xaxis": {
            "backgroundcolor": "#E5ECF6",
            "gridcolor": "white",
            "gridwidth": 2,
            "linecolor": "white",
            "showbackground": true,
            "ticks": "",
            "zerolinecolor": "white"
           },
           "yaxis": {
            "backgroundcolor": "#E5ECF6",
            "gridcolor": "white",
            "gridwidth": 2,
            "linecolor": "white",
            "showbackground": true,
            "ticks": "",
            "zerolinecolor": "white"
           },
           "zaxis": {
            "backgroundcolor": "#E5ECF6",
            "gridcolor": "white",
            "gridwidth": 2,
            "linecolor": "white",
            "showbackground": true,
            "ticks": "",
            "zerolinecolor": "white"
           }
          },
          "shapedefaults": {
           "line": {
            "color": "#2a3f5f"
           }
          },
          "ternary": {
           "aaxis": {
            "gridcolor": "white",
            "linecolor": "white",
            "ticks": ""
           },
           "baxis": {
            "gridcolor": "white",
            "linecolor": "white",
            "ticks": ""
           },
           "bgcolor": "#E5ECF6",
           "caxis": {
            "gridcolor": "white",
            "linecolor": "white",
            "ticks": ""
           }
          },
          "title": {
           "x": 0.05
          },
          "xaxis": {
           "automargin": true,
           "gridcolor": "white",
           "linecolor": "white",
           "ticks": "",
           "title": {
            "standoff": 15
           },
           "zerolinecolor": "white",
           "zerolinewidth": 2
          },
          "yaxis": {
           "automargin": true,
           "gridcolor": "white",
           "linecolor": "white",
           "ticks": "",
           "title": {
            "standoff": 15
           },
           "zerolinecolor": "white",
           "zerolinewidth": 2
          }
         }
        },
        "title": {
         "text": "Win Shares per 48 vs W/L % Pct for MVP Candidates (Subplots)"
        },
        "xaxis": {
         "anchor": "y",
         "domain": [
          0,
          0.45
         ]
        },
        "xaxis2": {
         "anchor": "y2",
         "domain": [
          0.55,
          1
         ]
        },
        "xaxis3": {
         "anchor": "y3",
         "domain": [
          0,
          0.45
         ]
        },
        "xaxis4": {
         "anchor": "y4",
         "domain": [
          0.55,
          1
         ]
        },
        "yaxis": {
         "anchor": "x",
         "domain": [
          0,
          0.375
         ]
        },
        "yaxis2": {
         "anchor": "x2",
         "domain": [
          0,
          0.375
         ]
        },
        "yaxis3": {
         "anchor": "x3",
         "domain": [
          0.625,
          1
         ]
        },
        "yaxis4": {
         "anchor": "x4",
         "domain": [
          0.625,
          1
         ]
        }
       }
      }
     },
     "metadata": {},
     "output_type": "display_data"
    }
   ],
   "source": [
    "years_to_plot = [1999, 1982, 2006, 2011]\n",
    "df99 = df[df['Year']==1999]\n",
    "df05 = df[df['Year']==2005]\n",
    "df06 = df[df['Year']==2006]\n",
    "df11 = df[df['Year']==2011]\n",
    "df82 = df[df['Year']==1982]\n",
    "\n",
    "fig = make_subplots(rows=2, cols=2, subplot_titles=[f'{year}' for year in years_to_plot], start_cell=\"bottom-left\")\n",
    "\n",
    "#fig.add_trace(go.Scatter(x=df99[\"wl_pct\"], y=df99[\"WS/48\"],mode='markers', marker_color=df99['Share'], text=df99['Player']), row=1, col=1)\n",
    "fig.add_trace(go.Scatter(x=df99[\"wl_pct\"], y=df99[\"WS/48\"],mode='markers', marker=dict(color=df99['Share'], colorscale='Viridis', showscale=True), \n",
    "                text=df99['Player']), row=1, col=1)\n",
    "fig.add_trace(go.Scatter(x=df82[\"wl_pct\"], y=df82[\"WS/48\"], mode='markers',marker=dict(color=df82['Share'], colorscale='Viridis', showscale=True), text=df82['Player']), row=2, col=1)\n",
    "fig.add_trace(go.Scatter(x=df06[\"wl_pct\"], y=df06[\"WS/48\"], mode='markers',marker=dict(color=df06['Share'], colorscale='Viridis', showscale=True), text=df06['Player']), row=1, col=2)\n",
    "fig.add_trace(go.Scatter(x=df11[\"wl_pct\"], y=df11[\"WS/48\"],mode='markers', marker=dict(color=df11['Share'], colorscale='Viridis', showscale=True), text=df11['Player']), row=2, col=2)\n",
    "\n",
    "#for i, year in enumerate(years_to_plot, start=1):\n",
    "    #subplot_df = df[df['Year'] == year]\n",
    "    #scatter_fig = px.scatter(subplot_df, x=\"wl_pct\", y=\"WS/48\", color='MVP', hover_data=['Player', 'Year'])\n",
    "    #fig.add_trace(scatter_fig['data'][0], row=i // 2 + 1, col=i % 2 + 1)\n",
    "\n",
    "fig.update_layout(height=800, title_text='Win Shares per 48 vs W/L % Pct for MVP Candidates (Subplots)', showlegend=False)\n",
    "fig.show()"
   ]
  },
  {
   "cell_type": "code",
   "execution_count": 12,
   "metadata": {},
   "outputs": [
    {
     "data": {
      "application/vnd.plotly.v1+json": {
       "config": {
        "plotlyServerURL": "https://plot.ly"
       },
       "data": [
        {
         "marker": {
          "color": [
           0.701,
           0.655,
           0.627,
           0.27,
           0.135,
           0.075,
           0.043,
           0.033,
           0.03,
           0.008
          ],
          "colorscale": [
           [
            0,
            "#440154"
           ],
           [
            0.1111111111111111,
            "#482878"
           ],
           [
            0.2222222222222222,
            "#3e4989"
           ],
           [
            0.3333333333333333,
            "#31688e"
           ],
           [
            0.4444444444444444,
            "#26828e"
           ],
           [
            0.5555555555555556,
            "#1f9e89"
           ],
           [
            0.6666666666666666,
            "#35b779"
           ],
           [
            0.7777777777777778,
            "#6ece58"
           ],
           [
            0.8888888888888888,
            "#b5de2b"
           ],
           [
            1,
            "#fde725"
           ]
          ],
          "showscale": true
         },
         "mode": "markers",
         "text": [
          "Karl Malone",
          "Alonzo Mourning",
          "Tim Duncan",
          "Allen Iverson",
          "Jason Kidd",
          "Shaquille O'Neal",
          "Chris Webber",
          "Grant Hill",
          "Gary Payton",
          "Kevin Garnett"
         ],
         "type": "scatter",
         "x": [
          0.74,
          0.66,
          0.74,
          0.56,
          0.54,
          0.62,
          0.54,
          0.58,
          0.5,
          0.5
         ],
         "xaxis": "x",
         "y": [
          4,
          3,
          3.2,
          3.9,
          3.9,
          3.9,
          1.7,
          3.8,
          3.6,
          3.3
         ],
         "yaxis": "y"
        },
        {
         "marker": {
          "color": [
           0.839,
           0.813,
           0.275,
           0.258,
           0.189,
           0.073,
           0.035,
           0.034,
           0.032,
           0.032
          ],
          "colorscale": [
           [
            0,
            "#440154"
           ],
           [
            0.1111111111111111,
            "#482878"
           ],
           [
            0.2222222222222222,
            "#3e4989"
           ],
           [
            0.3333333333333333,
            "#31688e"
           ],
           [
            0.4444444444444444,
            "#26828e"
           ],
           [
            0.5555555555555556,
            "#1f9e89"
           ],
           [
            0.6666666666666666,
            "#35b779"
           ],
           [
            0.7777777777777778,
            "#6ece58"
           ],
           [
            0.8888888888888888,
            "#b5de2b"
           ],
           [
            1,
            "#fde725"
           ]
          ],
          "showscale": true
         },
         "mode": "markers",
         "text": [
          "Steve Nash",
          "Shaquille O'Neal",
          "Dirk Nowitzki",
          "Tim Duncan",
          "Allen Iverson",
          "LeBron James",
          "Tracy McGrady",
          "Dwyane Wade",
          "Amar'e Stoudemire",
          "Ray Allen"
         ],
         "type": "scatter",
         "x": [
          0.7560975609756098,
          0.7195121951219512,
          0.7073170731707317,
          0.7195121951219512,
          0.524390243902439,
          0.5121951219512195,
          0.6219512195121951,
          0.7195121951219512,
          0.7560975609756098,
          0.6341463414634146
         ],
         "xaxis": "x3",
         "y": [
          4.4,
          4.6,
          7.1,
          5.4,
          5,
          9.1,
          6.9,
          4.9,
          4.7,
          4.8
         ],
         "yaxis": "y3"
        },
        {
         "marker": {
          "color": [
           0.739,
           0.55,
           0.435,
           0.386,
           0.344,
           0.07,
           0.04,
           0.026,
           0.007,
           0.001
          ],
          "colorscale": [
           [
            0,
            "#440154"
           ],
           [
            0.1111111111111111,
            "#482878"
           ],
           [
            0.2222222222222222,
            "#3e4989"
           ],
           [
            0.3333333333333333,
            "#31688e"
           ],
           [
            0.4444444444444444,
            "#26828e"
           ],
           [
            0.5555555555555556,
            "#1f9e89"
           ],
           [
            0.6666666666666666,
            "#35b779"
           ],
           [
            0.7777777777777778,
            "#6ece58"
           ],
           [
            0.8888888888888888,
            "#b5de2b"
           ],
           [
            1,
            "#fde725"
           ]
          ],
          "showscale": true
         },
         "mode": "markers",
         "text": [
          "Steve Nash",
          "LeBron James",
          "Dirk Nowitzki",
          "Kobe Bryant",
          "Chauncey Billups",
          "Dwyane Wade",
          "Elton Brand",
          "Tim Duncan",
          "Tony Parker",
          "Allen Iverson"
         ],
         "type": "scatter",
         "x": [
          0.6585365853658537,
          0.6097560975609756,
          0.7317073170731707,
          0.5487804878048781,
          0.7804878048780488,
          0.6341463414634146,
          0.573170731707317,
          0.7682926829268293,
          0.7682926829268293,
          0.4634146341463415
         ],
         "xaxis": "x2",
         "y": [
          4.9,
          9.4,
          7.9,
          8,
          6.1,
          7.1,
          6.8,
          4.9,
          3.3,
          5.3
         ],
         "yaxis": "y2"
        },
        {
         "marker": {
          "color": [
           0.977,
           0.531,
           0.431,
           0.354,
           0.157,
           0.093,
           0.02,
           0.017,
           0.007,
           0.004
          ],
          "colorscale": [
           [
            0,
            "#440154"
           ],
           [
            0.1111111111111111,
            "#482878"
           ],
           [
            0.2222222222222222,
            "#3e4989"
           ],
           [
            0.3333333333333333,
            "#31688e"
           ],
           [
            0.4444444444444444,
            "#26828e"
           ],
           [
            0.5555555555555556,
            "#1f9e89"
           ],
           [
            0.6666666666666666,
            "#35b779"
           ],
           [
            0.7777777777777778,
            "#6ece58"
           ],
           [
            0.8888888888888888,
            "#b5de2b"
           ],
           [
            1,
            "#fde725"
           ]
          ],
          "showscale": true
         },
         "mode": "markers",
         "text": [
          "Derrick Rose",
          "Dwight Howard",
          "LeBron James",
          "Kobe Bryant",
          "Kevin Durant",
          "Dirk Nowitzki",
          "Dwyane Wade",
          "Manu Ginóbili",
          "Amar'e Stoudemire",
          "Blake Griffin"
         ],
         "type": "scatter",
         "x": [
          0.7560975609756098,
          0.6341463414634146,
          0.7073170731707317,
          0.6951219512195121,
          0.6707317073170732,
          0.6951219512195121,
          0.7073170731707317,
          0.7439024390243902,
          0.5121951219512195,
          0.3902439024390244
         ],
         "xaxis": "x4",
         "y": [
          6.7,
          5.4,
          7.8,
          5,
          5.3,
          4.5,
          6.1,
          4.5,
          2.4,
          3.6
         ],
         "yaxis": "y4"
        }
       ],
       "layout": {
        "annotations": [
         {
          "font": {
           "size": 16
          },
          "showarrow": false,
          "text": "1999",
          "x": 0.225,
          "xanchor": "center",
          "xref": "paper",
          "y": 0.375,
          "yanchor": "bottom",
          "yref": "paper"
         },
         {
          "font": {
           "size": 16
          },
          "showarrow": false,
          "text": "2005",
          "x": 0.775,
          "xanchor": "center",
          "xref": "paper",
          "y": 0.375,
          "yanchor": "bottom",
          "yref": "paper"
         },
         {
          "font": {
           "size": 16
          },
          "showarrow": false,
          "text": "2006",
          "x": 0.225,
          "xanchor": "center",
          "xref": "paper",
          "y": 1,
          "yanchor": "bottom",
          "yref": "paper"
         },
         {
          "font": {
           "size": 16
          },
          "showarrow": false,
          "text": "2011",
          "x": 0.775,
          "xanchor": "center",
          "xref": "paper",
          "y": 1,
          "yanchor": "bottom",
          "yref": "paper"
         }
        ],
        "height": 800,
        "showlegend": false,
        "template": {
         "data": {
          "bar": [
           {
            "error_x": {
             "color": "#2a3f5f"
            },
            "error_y": {
             "color": "#2a3f5f"
            },
            "marker": {
             "line": {
              "color": "#E5ECF6",
              "width": 0.5
             },
             "pattern": {
              "fillmode": "overlay",
              "size": 10,
              "solidity": 0.2
             }
            },
            "type": "bar"
           }
          ],
          "barpolar": [
           {
            "marker": {
             "line": {
              "color": "#E5ECF6",
              "width": 0.5
             },
             "pattern": {
              "fillmode": "overlay",
              "size": 10,
              "solidity": 0.2
             }
            },
            "type": "barpolar"
           }
          ],
          "carpet": [
           {
            "aaxis": {
             "endlinecolor": "#2a3f5f",
             "gridcolor": "white",
             "linecolor": "white",
             "minorgridcolor": "white",
             "startlinecolor": "#2a3f5f"
            },
            "baxis": {
             "endlinecolor": "#2a3f5f",
             "gridcolor": "white",
             "linecolor": "white",
             "minorgridcolor": "white",
             "startlinecolor": "#2a3f5f"
            },
            "type": "carpet"
           }
          ],
          "choropleth": [
           {
            "colorbar": {
             "outlinewidth": 0,
             "ticks": ""
            },
            "type": "choropleth"
           }
          ],
          "contour": [
           {
            "colorbar": {
             "outlinewidth": 0,
             "ticks": ""
            },
            "colorscale": [
             [
              0,
              "#0d0887"
             ],
             [
              0.1111111111111111,
              "#46039f"
             ],
             [
              0.2222222222222222,
              "#7201a8"
             ],
             [
              0.3333333333333333,
              "#9c179e"
             ],
             [
              0.4444444444444444,
              "#bd3786"
             ],
             [
              0.5555555555555556,
              "#d8576b"
             ],
             [
              0.6666666666666666,
              "#ed7953"
             ],
             [
              0.7777777777777778,
              "#fb9f3a"
             ],
             [
              0.8888888888888888,
              "#fdca26"
             ],
             [
              1,
              "#f0f921"
             ]
            ],
            "type": "contour"
           }
          ],
          "contourcarpet": [
           {
            "colorbar": {
             "outlinewidth": 0,
             "ticks": ""
            },
            "type": "contourcarpet"
           }
          ],
          "heatmap": [
           {
            "colorbar": {
             "outlinewidth": 0,
             "ticks": ""
            },
            "colorscale": [
             [
              0,
              "#0d0887"
             ],
             [
              0.1111111111111111,
              "#46039f"
             ],
             [
              0.2222222222222222,
              "#7201a8"
             ],
             [
              0.3333333333333333,
              "#9c179e"
             ],
             [
              0.4444444444444444,
              "#bd3786"
             ],
             [
              0.5555555555555556,
              "#d8576b"
             ],
             [
              0.6666666666666666,
              "#ed7953"
             ],
             [
              0.7777777777777778,
              "#fb9f3a"
             ],
             [
              0.8888888888888888,
              "#fdca26"
             ],
             [
              1,
              "#f0f921"
             ]
            ],
            "type": "heatmap"
           }
          ],
          "heatmapgl": [
           {
            "colorbar": {
             "outlinewidth": 0,
             "ticks": ""
            },
            "colorscale": [
             [
              0,
              "#0d0887"
             ],
             [
              0.1111111111111111,
              "#46039f"
             ],
             [
              0.2222222222222222,
              "#7201a8"
             ],
             [
              0.3333333333333333,
              "#9c179e"
             ],
             [
              0.4444444444444444,
              "#bd3786"
             ],
             [
              0.5555555555555556,
              "#d8576b"
             ],
             [
              0.6666666666666666,
              "#ed7953"
             ],
             [
              0.7777777777777778,
              "#fb9f3a"
             ],
             [
              0.8888888888888888,
              "#fdca26"
             ],
             [
              1,
              "#f0f921"
             ]
            ],
            "type": "heatmapgl"
           }
          ],
          "histogram": [
           {
            "marker": {
             "pattern": {
              "fillmode": "overlay",
              "size": 10,
              "solidity": 0.2
             }
            },
            "type": "histogram"
           }
          ],
          "histogram2d": [
           {
            "colorbar": {
             "outlinewidth": 0,
             "ticks": ""
            },
            "colorscale": [
             [
              0,
              "#0d0887"
             ],
             [
              0.1111111111111111,
              "#46039f"
             ],
             [
              0.2222222222222222,
              "#7201a8"
             ],
             [
              0.3333333333333333,
              "#9c179e"
             ],
             [
              0.4444444444444444,
              "#bd3786"
             ],
             [
              0.5555555555555556,
              "#d8576b"
             ],
             [
              0.6666666666666666,
              "#ed7953"
             ],
             [
              0.7777777777777778,
              "#fb9f3a"
             ],
             [
              0.8888888888888888,
              "#fdca26"
             ],
             [
              1,
              "#f0f921"
             ]
            ],
            "type": "histogram2d"
           }
          ],
          "histogram2dcontour": [
           {
            "colorbar": {
             "outlinewidth": 0,
             "ticks": ""
            },
            "colorscale": [
             [
              0,
              "#0d0887"
             ],
             [
              0.1111111111111111,
              "#46039f"
             ],
             [
              0.2222222222222222,
              "#7201a8"
             ],
             [
              0.3333333333333333,
              "#9c179e"
             ],
             [
              0.4444444444444444,
              "#bd3786"
             ],
             [
              0.5555555555555556,
              "#d8576b"
             ],
             [
              0.6666666666666666,
              "#ed7953"
             ],
             [
              0.7777777777777778,
              "#fb9f3a"
             ],
             [
              0.8888888888888888,
              "#fdca26"
             ],
             [
              1,
              "#f0f921"
             ]
            ],
            "type": "histogram2dcontour"
           }
          ],
          "mesh3d": [
           {
            "colorbar": {
             "outlinewidth": 0,
             "ticks": ""
            },
            "type": "mesh3d"
           }
          ],
          "parcoords": [
           {
            "line": {
             "colorbar": {
              "outlinewidth": 0,
              "ticks": ""
             }
            },
            "type": "parcoords"
           }
          ],
          "pie": [
           {
            "automargin": true,
            "type": "pie"
           }
          ],
          "scatter": [
           {
            "fillpattern": {
             "fillmode": "overlay",
             "size": 10,
             "solidity": 0.2
            },
            "type": "scatter"
           }
          ],
          "scatter3d": [
           {
            "line": {
             "colorbar": {
              "outlinewidth": 0,
              "ticks": ""
             }
            },
            "marker": {
             "colorbar": {
              "outlinewidth": 0,
              "ticks": ""
             }
            },
            "type": "scatter3d"
           }
          ],
          "scattercarpet": [
           {
            "marker": {
             "colorbar": {
              "outlinewidth": 0,
              "ticks": ""
             }
            },
            "type": "scattercarpet"
           }
          ],
          "scattergeo": [
           {
            "marker": {
             "colorbar": {
              "outlinewidth": 0,
              "ticks": ""
             }
            },
            "type": "scattergeo"
           }
          ],
          "scattergl": [
           {
            "marker": {
             "colorbar": {
              "outlinewidth": 0,
              "ticks": ""
             }
            },
            "type": "scattergl"
           }
          ],
          "scattermapbox": [
           {
            "marker": {
             "colorbar": {
              "outlinewidth": 0,
              "ticks": ""
             }
            },
            "type": "scattermapbox"
           }
          ],
          "scatterpolar": [
           {
            "marker": {
             "colorbar": {
              "outlinewidth": 0,
              "ticks": ""
             }
            },
            "type": "scatterpolar"
           }
          ],
          "scatterpolargl": [
           {
            "marker": {
             "colorbar": {
              "outlinewidth": 0,
              "ticks": ""
             }
            },
            "type": "scatterpolargl"
           }
          ],
          "scatterternary": [
           {
            "marker": {
             "colorbar": {
              "outlinewidth": 0,
              "ticks": ""
             }
            },
            "type": "scatterternary"
           }
          ],
          "surface": [
           {
            "colorbar": {
             "outlinewidth": 0,
             "ticks": ""
            },
            "colorscale": [
             [
              0,
              "#0d0887"
             ],
             [
              0.1111111111111111,
              "#46039f"
             ],
             [
              0.2222222222222222,
              "#7201a8"
             ],
             [
              0.3333333333333333,
              "#9c179e"
             ],
             [
              0.4444444444444444,
              "#bd3786"
             ],
             [
              0.5555555555555556,
              "#d8576b"
             ],
             [
              0.6666666666666666,
              "#ed7953"
             ],
             [
              0.7777777777777778,
              "#fb9f3a"
             ],
             [
              0.8888888888888888,
              "#fdca26"
             ],
             [
              1,
              "#f0f921"
             ]
            ],
            "type": "surface"
           }
          ],
          "table": [
           {
            "cells": {
             "fill": {
              "color": "#EBF0F8"
             },
             "line": {
              "color": "white"
             }
            },
            "header": {
             "fill": {
              "color": "#C8D4E3"
             },
             "line": {
              "color": "white"
             }
            },
            "type": "table"
           }
          ]
         },
         "layout": {
          "annotationdefaults": {
           "arrowcolor": "#2a3f5f",
           "arrowhead": 0,
           "arrowwidth": 1
          },
          "autotypenumbers": "strict",
          "coloraxis": {
           "colorbar": {
            "outlinewidth": 0,
            "ticks": ""
           }
          },
          "colorscale": {
           "diverging": [
            [
             0,
             "#8e0152"
            ],
            [
             0.1,
             "#c51b7d"
            ],
            [
             0.2,
             "#de77ae"
            ],
            [
             0.3,
             "#f1b6da"
            ],
            [
             0.4,
             "#fde0ef"
            ],
            [
             0.5,
             "#f7f7f7"
            ],
            [
             0.6,
             "#e6f5d0"
            ],
            [
             0.7,
             "#b8e186"
            ],
            [
             0.8,
             "#7fbc41"
            ],
            [
             0.9,
             "#4d9221"
            ],
            [
             1,
             "#276419"
            ]
           ],
           "sequential": [
            [
             0,
             "#0d0887"
            ],
            [
             0.1111111111111111,
             "#46039f"
            ],
            [
             0.2222222222222222,
             "#7201a8"
            ],
            [
             0.3333333333333333,
             "#9c179e"
            ],
            [
             0.4444444444444444,
             "#bd3786"
            ],
            [
             0.5555555555555556,
             "#d8576b"
            ],
            [
             0.6666666666666666,
             "#ed7953"
            ],
            [
             0.7777777777777778,
             "#fb9f3a"
            ],
            [
             0.8888888888888888,
             "#fdca26"
            ],
            [
             1,
             "#f0f921"
            ]
           ],
           "sequentialminus": [
            [
             0,
             "#0d0887"
            ],
            [
             0.1111111111111111,
             "#46039f"
            ],
            [
             0.2222222222222222,
             "#7201a8"
            ],
            [
             0.3333333333333333,
             "#9c179e"
            ],
            [
             0.4444444444444444,
             "#bd3786"
            ],
            [
             0.5555555555555556,
             "#d8576b"
            ],
            [
             0.6666666666666666,
             "#ed7953"
            ],
            [
             0.7777777777777778,
             "#fb9f3a"
            ],
            [
             0.8888888888888888,
             "#fdca26"
            ],
            [
             1,
             "#f0f921"
            ]
           ]
          },
          "colorway": [
           "#636efa",
           "#EF553B",
           "#00cc96",
           "#ab63fa",
           "#FFA15A",
           "#19d3f3",
           "#FF6692",
           "#B6E880",
           "#FF97FF",
           "#FECB52"
          ],
          "font": {
           "color": "#2a3f5f"
          },
          "geo": {
           "bgcolor": "white",
           "lakecolor": "white",
           "landcolor": "#E5ECF6",
           "showlakes": true,
           "showland": true,
           "subunitcolor": "white"
          },
          "hoverlabel": {
           "align": "left"
          },
          "hovermode": "closest",
          "mapbox": {
           "style": "light"
          },
          "paper_bgcolor": "white",
          "plot_bgcolor": "#E5ECF6",
          "polar": {
           "angularaxis": {
            "gridcolor": "white",
            "linecolor": "white",
            "ticks": ""
           },
           "bgcolor": "#E5ECF6",
           "radialaxis": {
            "gridcolor": "white",
            "linecolor": "white",
            "ticks": ""
           }
          },
          "scene": {
           "xaxis": {
            "backgroundcolor": "#E5ECF6",
            "gridcolor": "white",
            "gridwidth": 2,
            "linecolor": "white",
            "showbackground": true,
            "ticks": "",
            "zerolinecolor": "white"
           },
           "yaxis": {
            "backgroundcolor": "#E5ECF6",
            "gridcolor": "white",
            "gridwidth": 2,
            "linecolor": "white",
            "showbackground": true,
            "ticks": "",
            "zerolinecolor": "white"
           },
           "zaxis": {
            "backgroundcolor": "#E5ECF6",
            "gridcolor": "white",
            "gridwidth": 2,
            "linecolor": "white",
            "showbackground": true,
            "ticks": "",
            "zerolinecolor": "white"
           }
          },
          "shapedefaults": {
           "line": {
            "color": "#2a3f5f"
           }
          },
          "ternary": {
           "aaxis": {
            "gridcolor": "white",
            "linecolor": "white",
            "ticks": ""
           },
           "baxis": {
            "gridcolor": "white",
            "linecolor": "white",
            "ticks": ""
           },
           "bgcolor": "#E5ECF6",
           "caxis": {
            "gridcolor": "white",
            "linecolor": "white",
            "ticks": ""
           }
          },
          "title": {
           "x": 0.05
          },
          "xaxis": {
           "automargin": true,
           "gridcolor": "white",
           "linecolor": "white",
           "ticks": "",
           "title": {
            "standoff": 15
           },
           "zerolinecolor": "white",
           "zerolinewidth": 2
          },
          "yaxis": {
           "automargin": true,
           "gridcolor": "white",
           "linecolor": "white",
           "ticks": "",
           "title": {
            "standoff": 15
           },
           "zerolinecolor": "white",
           "zerolinewidth": 2
          }
         }
        },
        "title": {
         "text": "VORP vs W/L % Pct for MVP Candidates (Subplots)"
        },
        "xaxis": {
         "anchor": "y",
         "domain": [
          0,
          0.45
         ]
        },
        "xaxis2": {
         "anchor": "y2",
         "domain": [
          0.55,
          1
         ]
        },
        "xaxis3": {
         "anchor": "y3",
         "domain": [
          0,
          0.45
         ]
        },
        "xaxis4": {
         "anchor": "y4",
         "domain": [
          0.55,
          1
         ]
        },
        "yaxis": {
         "anchor": "x",
         "domain": [
          0,
          0.375
         ]
        },
        "yaxis2": {
         "anchor": "x2",
         "domain": [
          0,
          0.375
         ]
        },
        "yaxis3": {
         "anchor": "x3",
         "domain": [
          0.625,
          1
         ]
        },
        "yaxis4": {
         "anchor": "x4",
         "domain": [
          0.625,
          1
         ]
        }
       }
      }
     },
     "metadata": {},
     "output_type": "display_data"
    }
   ],
   "source": [
    "fig = make_subplots(rows=2, cols=2, subplot_titles=[f'{year}' for year in years_to_plot], start_cell=\"bottom-left\")\n",
    "\n",
    "#fig.add_trace(go.Scatter(x=df99[\"wl_pct\"], y=df99[\"WS/48\"],mode='markers', marker_color=df99['Share'], text=df99['Player']), row=1, col=1)\n",
    "fig.add_trace(go.Scatter(x=df99[\"wl_pct\"], y=df99[\"value_over_replacement_player\"],mode='markers', marker=dict(color=df99['Share'], colorscale='Viridis', showscale=True), \n",
    "                text=df99['Player']), row=1, col=1)\n",
    "fig.add_trace(go.Scatter(x=df05[\"wl_pct\"], y=df05[\"value_over_replacement_player\"], mode='markers',marker=dict(color=df05['Share'], colorscale='Viridis', showscale=True), text=df05['Player']), row=2, col=1)\n",
    "fig.add_trace(go.Scatter(x=df06[\"wl_pct\"], y=df06[\"value_over_replacement_player\"], mode='markers',marker=dict(color=df06['Share'], colorscale='Viridis', showscale=True), text=df06['Player']), row=1, col=2)\n",
    "fig.add_trace(go.Scatter(x=df11[\"wl_pct\"], y=df11[\"value_over_replacement_player\"],mode='markers', marker=dict(color=df11['Share'], colorscale='Viridis', showscale=True), text=df11['Player']), row=2, col=2)\n",
    "\n",
    "#for i, year in enumerate(years_to_plot, start=1):\n",
    "    #subplot_df = df[df['Year'] == year]\n",
    "    #scatter_fig = px.scatter(subplot_df, x=\"wl_pct\", y=\"WS/48\", color='MVP', hover_data=['Player', 'Year'])\n",
    "    #fig.add_trace(scatter_fig['data'][0], row=i // 2 + 1, col=i % 2 + 1)\n",
    "\n",
    "fig.update_layout(height=800, title_text='VORP vs W/L % Pct for MVP Candidates (Subplots)', showlegend=False)\n",
    "fig.show()"
   ]
  },
  {
   "cell_type": "code",
   "execution_count": 13,
   "metadata": {},
   "outputs": [
    {
     "data": {
      "application/vnd.plotly.v1+json": {
       "config": {
        "plotlyServerURL": "https://plot.ly"
       },
       "data": [
        {
         "marker": {
          "color": [
           0.701,
           0.655,
           0.627,
           0.27,
           0.135,
           0.075,
           0.043,
           0.033,
           0.03,
           0.008
          ],
          "colorscale": [
           [
            0,
            "#440154"
           ],
           [
            0.1111111111111111,
            "#482878"
           ],
           [
            0.2222222222222222,
            "#3e4989"
           ],
           [
            0.3333333333333333,
            "#31688e"
           ],
           [
            0.4444444444444444,
            "#26828e"
           ],
           [
            0.5555555555555556,
            "#1f9e89"
           ],
           [
            0.6666666666666666,
            "#35b779"
           ],
           [
            0.7777777777777778,
            "#6ece58"
           ],
           [
            0.8888888888888888,
            "#b5de2b"
           ],
           [
            1,
            "#fde725"
           ]
          ],
          "showscale": true
         },
         "mode": "markers",
         "text": [
          "Karl Malone",
          "Alonzo Mourning",
          "Tim Duncan",
          "Allen Iverson",
          "Jason Kidd",
          "Shaquille O'Neal",
          "Chris Webber",
          "Grant Hill",
          "Gary Payton",
          "Kevin Garnett"
         ],
         "type": "scatter",
         "x": [
          0.74,
          0.66,
          0.74,
          0.56,
          0.54,
          0.62,
          0.54,
          0.58,
          0.5,
          0.5
         ],
         "xaxis": "x",
         "y": [
          4,
          3,
          3.2,
          3.9,
          3.9,
          3.9,
          1.7,
          3.8,
          3.6,
          3.3
         ],
         "yaxis": "y"
        },
        {
         "marker": {
          "color": [
           0.839,
           0.813,
           0.275,
           0.258,
           0.189,
           0.073,
           0.035,
           0.034,
           0.032,
           0.032
          ],
          "colorscale": [
           [
            0,
            "#440154"
           ],
           [
            0.1111111111111111,
            "#482878"
           ],
           [
            0.2222222222222222,
            "#3e4989"
           ],
           [
            0.3333333333333333,
            "#31688e"
           ],
           [
            0.4444444444444444,
            "#26828e"
           ],
           [
            0.5555555555555556,
            "#1f9e89"
           ],
           [
            0.6666666666666666,
            "#35b779"
           ],
           [
            0.7777777777777778,
            "#6ece58"
           ],
           [
            0.8888888888888888,
            "#b5de2b"
           ],
           [
            1,
            "#fde725"
           ]
          ],
          "showscale": true
         },
         "mode": "markers",
         "text": [
          "Steve Nash",
          "Shaquille O'Neal",
          "Dirk Nowitzki",
          "Tim Duncan",
          "Allen Iverson",
          "LeBron James",
          "Tracy McGrady",
          "Dwyane Wade",
          "Amar'e Stoudemire",
          "Ray Allen"
         ],
         "type": "scatter",
         "x": [
          0.7560975609756098,
          0.7195121951219512,
          0.7073170731707317,
          0.7195121951219512,
          0.524390243902439,
          0.5121951219512195,
          0.6219512195121951,
          0.7195121951219512,
          0.7560975609756098,
          0.6341463414634146
         ],
         "xaxis": "x3",
         "y": [
          4.4,
          4.6,
          7.1,
          5.4,
          5,
          9.1,
          6.9,
          4.9,
          4.7,
          4.8
         ],
         "yaxis": "y3"
        },
        {
         "marker": {
          "color": [
           0.739,
           0.55,
           0.435,
           0.386,
           0.344,
           0.07,
           0.04,
           0.026,
           0.007,
           0.001
          ],
          "colorscale": [
           [
            0,
            "#440154"
           ],
           [
            0.1111111111111111,
            "#482878"
           ],
           [
            0.2222222222222222,
            "#3e4989"
           ],
           [
            0.3333333333333333,
            "#31688e"
           ],
           [
            0.4444444444444444,
            "#26828e"
           ],
           [
            0.5555555555555556,
            "#1f9e89"
           ],
           [
            0.6666666666666666,
            "#35b779"
           ],
           [
            0.7777777777777778,
            "#6ece58"
           ],
           [
            0.8888888888888888,
            "#b5de2b"
           ],
           [
            1,
            "#fde725"
           ]
          ],
          "showscale": true
         },
         "mode": "markers",
         "text": [
          "Steve Nash",
          "LeBron James",
          "Dirk Nowitzki",
          "Kobe Bryant",
          "Chauncey Billups",
          "Dwyane Wade",
          "Elton Brand",
          "Tim Duncan",
          "Tony Parker",
          "Allen Iverson"
         ],
         "type": "scatter",
         "x": [
          0.6585365853658537,
          0.6097560975609756,
          0.7317073170731707,
          0.5487804878048781,
          0.7804878048780488,
          0.6341463414634146,
          0.573170731707317,
          0.7682926829268293,
          0.7682926829268293,
          0.4634146341463415
         ],
         "xaxis": "x2",
         "y": [
          4.9,
          9.4,
          7.9,
          8,
          6.1,
          7.1,
          6.8,
          4.9,
          3.3,
          5.3
         ],
         "yaxis": "y2"
        },
        {
         "marker": {
          "color": [
           0.977,
           0.531,
           0.431,
           0.354,
           0.157,
           0.093,
           0.02,
           0.017,
           0.007,
           0.004
          ],
          "colorscale": [
           [
            0,
            "#440154"
           ],
           [
            0.1111111111111111,
            "#482878"
           ],
           [
            0.2222222222222222,
            "#3e4989"
           ],
           [
            0.3333333333333333,
            "#31688e"
           ],
           [
            0.4444444444444444,
            "#26828e"
           ],
           [
            0.5555555555555556,
            "#1f9e89"
           ],
           [
            0.6666666666666666,
            "#35b779"
           ],
           [
            0.7777777777777778,
            "#6ece58"
           ],
           [
            0.8888888888888888,
            "#b5de2b"
           ],
           [
            1,
            "#fde725"
           ]
          ],
          "showscale": true
         },
         "mode": "markers",
         "text": [
          "Derrick Rose",
          "Dwight Howard",
          "LeBron James",
          "Kobe Bryant",
          "Kevin Durant",
          "Dirk Nowitzki",
          "Dwyane Wade",
          "Manu Ginóbili",
          "Amar'e Stoudemire",
          "Blake Griffin"
         ],
         "type": "scatter",
         "x": [
          0.7560975609756098,
          0.6341463414634146,
          0.7073170731707317,
          0.6951219512195121,
          0.6707317073170732,
          0.6951219512195121,
          0.7073170731707317,
          0.7439024390243902,
          0.5121951219512195,
          0.3902439024390244
         ],
         "xaxis": "x4",
         "y": [
          6.7,
          5.4,
          7.8,
          5,
          5.3,
          4.5,
          6.1,
          4.5,
          2.4,
          3.6
         ],
         "yaxis": "y4"
        }
       ],
       "layout": {
        "annotations": [
         {
          "font": {
           "size": 16
          },
          "showarrow": false,
          "text": "1999",
          "x": 0.225,
          "xanchor": "center",
          "xref": "paper",
          "y": 0.375,
          "yanchor": "bottom",
          "yref": "paper"
         },
         {
          "font": {
           "size": 16
          },
          "showarrow": false,
          "text": "2005",
          "x": 0.775,
          "xanchor": "center",
          "xref": "paper",
          "y": 0.375,
          "yanchor": "bottom",
          "yref": "paper"
         },
         {
          "font": {
           "size": 16
          },
          "showarrow": false,
          "text": "2006",
          "x": 0.225,
          "xanchor": "center",
          "xref": "paper",
          "y": 1,
          "yanchor": "bottom",
          "yref": "paper"
         },
         {
          "font": {
           "size": 16
          },
          "showarrow": false,
          "text": "2011",
          "x": 0.775,
          "xanchor": "center",
          "xref": "paper",
          "y": 1,
          "yanchor": "bottom",
          "yref": "paper"
         }
        ],
        "height": 800,
        "showlegend": false,
        "template": {
         "data": {
          "bar": [
           {
            "error_x": {
             "color": "#2a3f5f"
            },
            "error_y": {
             "color": "#2a3f5f"
            },
            "marker": {
             "line": {
              "color": "#E5ECF6",
              "width": 0.5
             },
             "pattern": {
              "fillmode": "overlay",
              "size": 10,
              "solidity": 0.2
             }
            },
            "type": "bar"
           }
          ],
          "barpolar": [
           {
            "marker": {
             "line": {
              "color": "#E5ECF6",
              "width": 0.5
             },
             "pattern": {
              "fillmode": "overlay",
              "size": 10,
              "solidity": 0.2
             }
            },
            "type": "barpolar"
           }
          ],
          "carpet": [
           {
            "aaxis": {
             "endlinecolor": "#2a3f5f",
             "gridcolor": "white",
             "linecolor": "white",
             "minorgridcolor": "white",
             "startlinecolor": "#2a3f5f"
            },
            "baxis": {
             "endlinecolor": "#2a3f5f",
             "gridcolor": "white",
             "linecolor": "white",
             "minorgridcolor": "white",
             "startlinecolor": "#2a3f5f"
            },
            "type": "carpet"
           }
          ],
          "choropleth": [
           {
            "colorbar": {
             "outlinewidth": 0,
             "ticks": ""
            },
            "type": "choropleth"
           }
          ],
          "contour": [
           {
            "colorbar": {
             "outlinewidth": 0,
             "ticks": ""
            },
            "colorscale": [
             [
              0,
              "#0d0887"
             ],
             [
              0.1111111111111111,
              "#46039f"
             ],
             [
              0.2222222222222222,
              "#7201a8"
             ],
             [
              0.3333333333333333,
              "#9c179e"
             ],
             [
              0.4444444444444444,
              "#bd3786"
             ],
             [
              0.5555555555555556,
              "#d8576b"
             ],
             [
              0.6666666666666666,
              "#ed7953"
             ],
             [
              0.7777777777777778,
              "#fb9f3a"
             ],
             [
              0.8888888888888888,
              "#fdca26"
             ],
             [
              1,
              "#f0f921"
             ]
            ],
            "type": "contour"
           }
          ],
          "contourcarpet": [
           {
            "colorbar": {
             "outlinewidth": 0,
             "ticks": ""
            },
            "type": "contourcarpet"
           }
          ],
          "heatmap": [
           {
            "colorbar": {
             "outlinewidth": 0,
             "ticks": ""
            },
            "colorscale": [
             [
              0,
              "#0d0887"
             ],
             [
              0.1111111111111111,
              "#46039f"
             ],
             [
              0.2222222222222222,
              "#7201a8"
             ],
             [
              0.3333333333333333,
              "#9c179e"
             ],
             [
              0.4444444444444444,
              "#bd3786"
             ],
             [
              0.5555555555555556,
              "#d8576b"
             ],
             [
              0.6666666666666666,
              "#ed7953"
             ],
             [
              0.7777777777777778,
              "#fb9f3a"
             ],
             [
              0.8888888888888888,
              "#fdca26"
             ],
             [
              1,
              "#f0f921"
             ]
            ],
            "type": "heatmap"
           }
          ],
          "heatmapgl": [
           {
            "colorbar": {
             "outlinewidth": 0,
             "ticks": ""
            },
            "colorscale": [
             [
              0,
              "#0d0887"
             ],
             [
              0.1111111111111111,
              "#46039f"
             ],
             [
              0.2222222222222222,
              "#7201a8"
             ],
             [
              0.3333333333333333,
              "#9c179e"
             ],
             [
              0.4444444444444444,
              "#bd3786"
             ],
             [
              0.5555555555555556,
              "#d8576b"
             ],
             [
              0.6666666666666666,
              "#ed7953"
             ],
             [
              0.7777777777777778,
              "#fb9f3a"
             ],
             [
              0.8888888888888888,
              "#fdca26"
             ],
             [
              1,
              "#f0f921"
             ]
            ],
            "type": "heatmapgl"
           }
          ],
          "histogram": [
           {
            "marker": {
             "pattern": {
              "fillmode": "overlay",
              "size": 10,
              "solidity": 0.2
             }
            },
            "type": "histogram"
           }
          ],
          "histogram2d": [
           {
            "colorbar": {
             "outlinewidth": 0,
             "ticks": ""
            },
            "colorscale": [
             [
              0,
              "#0d0887"
             ],
             [
              0.1111111111111111,
              "#46039f"
             ],
             [
              0.2222222222222222,
              "#7201a8"
             ],
             [
              0.3333333333333333,
              "#9c179e"
             ],
             [
              0.4444444444444444,
              "#bd3786"
             ],
             [
              0.5555555555555556,
              "#d8576b"
             ],
             [
              0.6666666666666666,
              "#ed7953"
             ],
             [
              0.7777777777777778,
              "#fb9f3a"
             ],
             [
              0.8888888888888888,
              "#fdca26"
             ],
             [
              1,
              "#f0f921"
             ]
            ],
            "type": "histogram2d"
           }
          ],
          "histogram2dcontour": [
           {
            "colorbar": {
             "outlinewidth": 0,
             "ticks": ""
            },
            "colorscale": [
             [
              0,
              "#0d0887"
             ],
             [
              0.1111111111111111,
              "#46039f"
             ],
             [
              0.2222222222222222,
              "#7201a8"
             ],
             [
              0.3333333333333333,
              "#9c179e"
             ],
             [
              0.4444444444444444,
              "#bd3786"
             ],
             [
              0.5555555555555556,
              "#d8576b"
             ],
             [
              0.6666666666666666,
              "#ed7953"
             ],
             [
              0.7777777777777778,
              "#fb9f3a"
             ],
             [
              0.8888888888888888,
              "#fdca26"
             ],
             [
              1,
              "#f0f921"
             ]
            ],
            "type": "histogram2dcontour"
           }
          ],
          "mesh3d": [
           {
            "colorbar": {
             "outlinewidth": 0,
             "ticks": ""
            },
            "type": "mesh3d"
           }
          ],
          "parcoords": [
           {
            "line": {
             "colorbar": {
              "outlinewidth": 0,
              "ticks": ""
             }
            },
            "type": "parcoords"
           }
          ],
          "pie": [
           {
            "automargin": true,
            "type": "pie"
           }
          ],
          "scatter": [
           {
            "fillpattern": {
             "fillmode": "overlay",
             "size": 10,
             "solidity": 0.2
            },
            "type": "scatter"
           }
          ],
          "scatter3d": [
           {
            "line": {
             "colorbar": {
              "outlinewidth": 0,
              "ticks": ""
             }
            },
            "marker": {
             "colorbar": {
              "outlinewidth": 0,
              "ticks": ""
             }
            },
            "type": "scatter3d"
           }
          ],
          "scattercarpet": [
           {
            "marker": {
             "colorbar": {
              "outlinewidth": 0,
              "ticks": ""
             }
            },
            "type": "scattercarpet"
           }
          ],
          "scattergeo": [
           {
            "marker": {
             "colorbar": {
              "outlinewidth": 0,
              "ticks": ""
             }
            },
            "type": "scattergeo"
           }
          ],
          "scattergl": [
           {
            "marker": {
             "colorbar": {
              "outlinewidth": 0,
              "ticks": ""
             }
            },
            "type": "scattergl"
           }
          ],
          "scattermapbox": [
           {
            "marker": {
             "colorbar": {
              "outlinewidth": 0,
              "ticks": ""
             }
            },
            "type": "scattermapbox"
           }
          ],
          "scatterpolar": [
           {
            "marker": {
             "colorbar": {
              "outlinewidth": 0,
              "ticks": ""
             }
            },
            "type": "scatterpolar"
           }
          ],
          "scatterpolargl": [
           {
            "marker": {
             "colorbar": {
              "outlinewidth": 0,
              "ticks": ""
             }
            },
            "type": "scatterpolargl"
           }
          ],
          "scatterternary": [
           {
            "marker": {
             "colorbar": {
              "outlinewidth": 0,
              "ticks": ""
             }
            },
            "type": "scatterternary"
           }
          ],
          "surface": [
           {
            "colorbar": {
             "outlinewidth": 0,
             "ticks": ""
            },
            "colorscale": [
             [
              0,
              "#0d0887"
             ],
             [
              0.1111111111111111,
              "#46039f"
             ],
             [
              0.2222222222222222,
              "#7201a8"
             ],
             [
              0.3333333333333333,
              "#9c179e"
             ],
             [
              0.4444444444444444,
              "#bd3786"
             ],
             [
              0.5555555555555556,
              "#d8576b"
             ],
             [
              0.6666666666666666,
              "#ed7953"
             ],
             [
              0.7777777777777778,
              "#fb9f3a"
             ],
             [
              0.8888888888888888,
              "#fdca26"
             ],
             [
              1,
              "#f0f921"
             ]
            ],
            "type": "surface"
           }
          ],
          "table": [
           {
            "cells": {
             "fill": {
              "color": "#EBF0F8"
             },
             "line": {
              "color": "white"
             }
            },
            "header": {
             "fill": {
              "color": "#C8D4E3"
             },
             "line": {
              "color": "white"
             }
            },
            "type": "table"
           }
          ]
         },
         "layout": {
          "annotationdefaults": {
           "arrowcolor": "#2a3f5f",
           "arrowhead": 0,
           "arrowwidth": 1
          },
          "autotypenumbers": "strict",
          "coloraxis": {
           "colorbar": {
            "outlinewidth": 0,
            "ticks": ""
           }
          },
          "colorscale": {
           "diverging": [
            [
             0,
             "#8e0152"
            ],
            [
             0.1,
             "#c51b7d"
            ],
            [
             0.2,
             "#de77ae"
            ],
            [
             0.3,
             "#f1b6da"
            ],
            [
             0.4,
             "#fde0ef"
            ],
            [
             0.5,
             "#f7f7f7"
            ],
            [
             0.6,
             "#e6f5d0"
            ],
            [
             0.7,
             "#b8e186"
            ],
            [
             0.8,
             "#7fbc41"
            ],
            [
             0.9,
             "#4d9221"
            ],
            [
             1,
             "#276419"
            ]
           ],
           "sequential": [
            [
             0,
             "#0d0887"
            ],
            [
             0.1111111111111111,
             "#46039f"
            ],
            [
             0.2222222222222222,
             "#7201a8"
            ],
            [
             0.3333333333333333,
             "#9c179e"
            ],
            [
             0.4444444444444444,
             "#bd3786"
            ],
            [
             0.5555555555555556,
             "#d8576b"
            ],
            [
             0.6666666666666666,
             "#ed7953"
            ],
            [
             0.7777777777777778,
             "#fb9f3a"
            ],
            [
             0.8888888888888888,
             "#fdca26"
            ],
            [
             1,
             "#f0f921"
            ]
           ],
           "sequentialminus": [
            [
             0,
             "#0d0887"
            ],
            [
             0.1111111111111111,
             "#46039f"
            ],
            [
             0.2222222222222222,
             "#7201a8"
            ],
            [
             0.3333333333333333,
             "#9c179e"
            ],
            [
             0.4444444444444444,
             "#bd3786"
            ],
            [
             0.5555555555555556,
             "#d8576b"
            ],
            [
             0.6666666666666666,
             "#ed7953"
            ],
            [
             0.7777777777777778,
             "#fb9f3a"
            ],
            [
             0.8888888888888888,
             "#fdca26"
            ],
            [
             1,
             "#f0f921"
            ]
           ]
          },
          "colorway": [
           "#636efa",
           "#EF553B",
           "#00cc96",
           "#ab63fa",
           "#FFA15A",
           "#19d3f3",
           "#FF6692",
           "#B6E880",
           "#FF97FF",
           "#FECB52"
          ],
          "font": {
           "color": "#2a3f5f"
          },
          "geo": {
           "bgcolor": "white",
           "lakecolor": "white",
           "landcolor": "#E5ECF6",
           "showlakes": true,
           "showland": true,
           "subunitcolor": "white"
          },
          "hoverlabel": {
           "align": "left"
          },
          "hovermode": "closest",
          "mapbox": {
           "style": "light"
          },
          "paper_bgcolor": "white",
          "plot_bgcolor": "#E5ECF6",
          "polar": {
           "angularaxis": {
            "gridcolor": "white",
            "linecolor": "white",
            "ticks": ""
           },
           "bgcolor": "#E5ECF6",
           "radialaxis": {
            "gridcolor": "white",
            "linecolor": "white",
            "ticks": ""
           }
          },
          "scene": {
           "xaxis": {
            "backgroundcolor": "#E5ECF6",
            "gridcolor": "white",
            "gridwidth": 2,
            "linecolor": "white",
            "showbackground": true,
            "ticks": "",
            "zerolinecolor": "white"
           },
           "yaxis": {
            "backgroundcolor": "#E5ECF6",
            "gridcolor": "white",
            "gridwidth": 2,
            "linecolor": "white",
            "showbackground": true,
            "ticks": "",
            "zerolinecolor": "white"
           },
           "zaxis": {
            "backgroundcolor": "#E5ECF6",
            "gridcolor": "white",
            "gridwidth": 2,
            "linecolor": "white",
            "showbackground": true,
            "ticks": "",
            "zerolinecolor": "white"
           }
          },
          "shapedefaults": {
           "line": {
            "color": "#2a3f5f"
           }
          },
          "ternary": {
           "aaxis": {
            "gridcolor": "white",
            "linecolor": "white",
            "ticks": ""
           },
           "baxis": {
            "gridcolor": "white",
            "linecolor": "white",
            "ticks": ""
           },
           "bgcolor": "#E5ECF6",
           "caxis": {
            "gridcolor": "white",
            "linecolor": "white",
            "ticks": ""
           }
          },
          "title": {
           "x": 0.05
          },
          "xaxis": {
           "automargin": true,
           "gridcolor": "white",
           "linecolor": "white",
           "ticks": "",
           "title": {
            "standoff": 15
           },
           "zerolinecolor": "white",
           "zerolinewidth": 2
          },
          "yaxis": {
           "automargin": true,
           "gridcolor": "white",
           "linecolor": "white",
           "ticks": "",
           "title": {
            "standoff": 15
           },
           "zerolinecolor": "white",
           "zerolinewidth": 2
          }
         }
        },
        "title": {
         "text": "VORP vs W/L % Pct for MVP Candidates (Subplots)"
        },
        "xaxis": {
         "anchor": "y",
         "domain": [
          0,
          0.45
         ]
        },
        "xaxis2": {
         "anchor": "y2",
         "domain": [
          0.55,
          1
         ]
        },
        "xaxis3": {
         "anchor": "y3",
         "domain": [
          0,
          0.45
         ]
        },
        "xaxis4": {
         "anchor": "y4",
         "domain": [
          0.55,
          1
         ]
        },
        "yaxis": {
         "anchor": "x",
         "domain": [
          0,
          0.375
         ]
        },
        "yaxis2": {
         "anchor": "x2",
         "domain": [
          0,
          0.375
         ]
        },
        "yaxis3": {
         "anchor": "x3",
         "domain": [
          0.625,
          1
         ]
        },
        "yaxis4": {
         "anchor": "x4",
         "domain": [
          0.625,
          1
         ]
        }
       }
      }
     },
     "metadata": {},
     "output_type": "display_data"
    }
   ],
   "source": [
    "fig = make_subplots(rows=2, cols=2, subplot_titles=[f'{year}' for year in years_to_plot], start_cell=\"bottom-left\")\n",
    "\n",
    "#fig.add_trace(go.Scatter(x=df99[\"wl_pct\"], y=df99[\"WS/48\"],mode='markers', marker_color=df99['Share'], text=df99['Player']), row=1, col=1)\n",
    "fig.add_trace(go.Scatter(x=df99[\"wl_pct\"], y=df99[\"value_over_replacement_player\"],mode='markers', marker=dict(color=df99['Share'], colorscale='Viridis', showscale=True), \n",
    "                text=df99['Player']), row=1, col=1)\n",
    "fig.add_trace(go.Scatter(x=df05[\"wl_pct\"], y=df05[\"value_over_replacement_player\"], mode='markers',marker=dict(color=df05['Share'], colorscale='Viridis', showscale=True), text=df05['Player']), row=2, col=1)\n",
    "fig.add_trace(go.Scatter(x=df06[\"wl_pct\"], y=df06[\"value_over_replacement_player\"], mode='markers',marker=dict(color=df06['Share'], colorscale='Viridis', showscale=True), text=df06['Player']), row=1, col=2)\n",
    "fig.add_trace(go.Scatter(x=df11[\"wl_pct\"], y=df11[\"value_over_replacement_player\"],mode='markers', marker=dict(color=df11['Share'], colorscale='Viridis', showscale=True), text=df11['Player']), row=2, col=2)\n",
    "\n",
    "#for i, year in enumerate(years_to_plot, start=1):\n",
    "    #subplot_df = df[df['Year'] == year]\n",
    "    #scatter_fig = px.scatter(subplot_df, x=\"wl_pct\", y=\"WS/48\", color='MVP', hover_data=['Player', 'Year'])\n",
    "    #fig.add_trace(scatter_fig['data'][0], row=i // 2 + 1, col=i % 2 + 1)\n",
    "\n",
    "fig.update_layout(height=800, title_text='VORP vs W/L % Pct for MVP Candidates (Subplots)', showlegend=False)\n",
    "fig.show()"
   ]
  },
  {
   "cell_type": "code",
   "execution_count": 14,
   "metadata": {},
   "outputs": [
    {
     "data": {
      "application/vnd.plotly.v1+json": {
       "config": {
        "plotlyServerURL": "https://plot.ly"
       },
       "data": [
        {
         "customdata": [
          [
           "Kareem Abdul-Jabbar",
           1980
          ],
          [
           "Julius Erving",
           1981
          ],
          [
           "Moses Malone",
           1982
          ],
          [
           "Moses Malone",
           1983
          ],
          [
           "Larry Bird",
           1984
          ],
          [
           "Larry Bird",
           1985
          ],
          [
           "Larry Bird",
           1986
          ],
          [
           "Magic Johnson",
           1987
          ],
          [
           "Michael Jordan",
           1988
          ],
          [
           "Magic Johnson",
           1989
          ],
          [
           "Magic Johnson",
           1990
          ],
          [
           "Michael Jordan",
           1991
          ],
          [
           "Michael Jordan",
           1992
          ],
          [
           "Charles Barkley",
           1993
          ],
          [
           "Hakeem Olajuwon",
           1994
          ],
          [
           "David Robinson",
           1995
          ],
          [
           "Michael Jordan",
           1996
          ],
          [
           "Karl Malone",
           1997
          ],
          [
           "Michael Jordan",
           1998
          ],
          [
           "Karl Malone",
           1999
          ],
          [
           "Shaquille O'Neal",
           2000
          ],
          [
           "Allen Iverson",
           2001
          ],
          [
           "Tim Duncan",
           2002
          ],
          [
           "Tim Duncan",
           2003
          ],
          [
           "Kevin Garnett",
           2004
          ],
          [
           "Steve Nash",
           2005
          ],
          [
           "Steve Nash",
           2006
          ],
          [
           "Dirk Nowitzki",
           2007
          ],
          [
           "Kobe Bryant",
           2008
          ],
          [
           "LeBron James",
           2009
          ],
          [
           "LeBron James",
           2010
          ],
          [
           "Derrick Rose",
           2011
          ],
          [
           "LeBron James",
           2012
          ],
          [
           "LeBron James",
           2013
          ],
          [
           "Kevin Durant",
           2014
          ],
          [
           "Stephen Curry",
           2015
          ],
          [
           "Stephen Curry",
           2016
          ],
          [
           "Russell Westbrook",
           2017
          ],
          [
           "James Harden",
           2018
          ],
          [
           "Giannis Antetokounmpo",
           2019
          ],
          [
           "Giannis Antetokounmpo",
           2020
          ],
          [
           "Nikola Jokić",
           2021
          ],
          [
           "Nikola Jokić",
           2022
          ],
          [
           "Joel Embiid",
           2023
          ]
         ],
         "hovertemplate": "MVP=Y<br>seed=%{x}<br>WS/48=%{y}<br>Player=%{customdata[0]}<br>Year=%{customdata[1]}<extra></extra>",
         "legendgroup": "Y",
         "marker": {
          "color": "#636efa",
          "symbol": "circle"
         },
         "mode": "markers",
         "name": "Y",
         "orientation": "v",
         "showlegend": true,
         "type": "scatter",
         "x": [
          1,
          1,
          4,
          1,
          1,
          1,
          1,
          1,
          3,
          1,
          1,
          1,
          1,
          1,
          2,
          1,
          1,
          1,
          1,
          1,
          1,
          1,
          2,
          1,
          1,
          1,
          3,
          1,
          1,
          1,
          1,
          1,
          2,
          1,
          2,
          1,
          1,
          6,
          1,
          1,
          1,
          3,
          6,
          3
         ],
         "xaxis": "x",
         "y": [
          0.227,
          0.231,
          0.218,
          0.248,
          0.215,
          0.238,
          0.244,
          0.263,
          0.308,
          0.267,
          0.27,
          0.321,
          0.274,
          0.242,
          0.21,
          0.273,
          0.317,
          0.268,
          0.238,
          0.252,
          0.283,
          0.19,
          0.257,
          0.248,
          0.272,
          0.203,
          0.212,
          0.278,
          0.208,
          0.318,
          0.299,
          0.208,
          0.298,
          0.322,
          0.295,
          0.288,
          0.318,
          0.224,
          0.289,
          0.292,
          0.279,
          0.301,
          0.296,
          0.259
         ],
         "yaxis": "y"
        },
        {
         "customdata": [
          [
           "Julius Erving",
           1980
          ],
          [
           "George Gervin",
           1980
          ],
          [
           "Larry Bird",
           1980
          ],
          [
           "Tiny Archibald",
           1980
          ],
          [
           "Dennis Johnson",
           1980
          ],
          [
           "Dan Roundfield",
           1980
          ],
          [
           "Gus Williams",
           1980
          ],
          [
           "Moses Malone",
           1980
          ],
          [
           "Larry Bird",
           1981
          ],
          [
           "Kareem Abdul-Jabbar",
           1981
          ],
          [
           "Moses Malone",
           1981
          ],
          [
           "George Gervin",
           1981
          ],
          [
           "Marques Johnson",
           1981
          ],
          [
           "Robert Parish",
           1981
          ],
          [
           "Dennis Johnson",
           1981
          ],
          [
           "Larry Bird",
           1982
          ],
          [
           "Julius Erving",
           1982
          ],
          [
           "Robert Parish",
           1982
          ],
          [
           "Gus Williams",
           1982
          ],
          [
           "George Gervin",
           1982
          ],
          [
           "Sidney Moncrief",
           1982
          ],
          [
           "Magic Johnson",
           1982
          ],
          [
           "Jack Sikma",
           1982
          ],
          [
           "Kareem Abdul-Jabbar",
           1982
          ],
          [
           "Larry Bird",
           1983
          ],
          [
           "Magic Johnson",
           1983
          ],
          [
           "Sidney Moncrief",
           1983
          ],
          [
           "Julius Erving",
           1983
          ],
          [
           "Alex English",
           1983
          ],
          [
           "Buck Williams",
           1983
          ],
          [
           "Artis Gilmore",
           1983
          ],
          [
           "George Gervin",
           1983
          ],
          [
           "Kareem Abdul-Jabbar",
           1983
          ],
          [
           "Bernard King",
           1984
          ],
          [
           "Magic Johnson",
           1984
          ],
          [
           "Kareem Abdul-Jabbar",
           1984
          ],
          [
           "Isiah Thomas",
           1984
          ],
          [
           "Julius Erving",
           1984
          ],
          [
           "Adrian Dantley",
           1984
          ],
          [
           "Sidney Moncrief",
           1984
          ],
          [
           "Magic Johnson",
           1985
          ],
          [
           "Moses Malone",
           1985
          ],
          [
           "Kareem Abdul-Jabbar",
           1985
          ],
          [
           "Terry Cummings",
           1985
          ],
          [
           "Michael Jordan",
           1985
          ],
          [
           "Bernard King",
           1985
          ],
          [
           "Sidney Moncrief",
           1985
          ],
          [
           "Isiah Thomas",
           1985
          ],
          [
           "Ralph Sampson",
           1985
          ],
          [
           "Dominique Wilkins",
           1986
          ],
          [
           "Magic Johnson",
           1986
          ],
          [
           "Hakeem Olajuwon",
           1986
          ],
          [
           "Kareem Abdul-Jabbar",
           1986
          ],
          [
           "Charles Barkley",
           1986
          ],
          [
           "Sidney Moncrief",
           1986
          ],
          [
           "Alex English",
           1986
          ],
          [
           "Isiah Thomas",
           1986
          ],
          [
           "Michael Jordan",
           1987
          ],
          [
           "Larry Bird",
           1987
          ],
          [
           "Kevin McHale",
           1987
          ],
          [
           "Dominique Wilkins",
           1987
          ],
          [
           "Charles Barkley",
           1987
          ],
          [
           "Hakeem Olajuwon",
           1987
          ],
          [
           "Isiah Thomas",
           1987
          ],
          [
           "Fat Lever",
           1987
          ],
          [
           "Larry Bird",
           1988
          ],
          [
           "Magic Johnson",
           1988
          ],
          [
           "Charles Barkley",
           1988
          ],
          [
           "Clyde Drexler",
           1988
          ],
          [
           "Dominique Wilkins",
           1988
          ],
          [
           "Hakeem Olajuwon",
           1988
          ],
          [
           "Karl Malone",
           1988
          ],
          [
           "Fat Lever",
           1988
          ],
          [
           "John Stockton",
           1988
          ],
          [
           "Michael Jordan",
           1989
          ],
          [
           "Karl Malone",
           1989
          ],
          [
           "Patrick Ewing",
           1989
          ],
          [
           "Hakeem Olajuwon",
           1989
          ],
          [
           "Charles Barkley",
           1989
          ],
          [
           "John Stockton",
           1989
          ],
          [
           "Kevin Johnson",
           1989
          ],
          [
           "Tom Chambers",
           1989
          ],
          [
           "Mark Price",
           1989
          ],
          [
           "Charles Barkley",
           1990
          ],
          [
           "Michael Jordan",
           1990
          ],
          [
           "Karl Malone",
           1990
          ],
          [
           "Patrick Ewing",
           1990
          ],
          [
           "David Robinson",
           1990
          ],
          [
           "Hakeem Olajuwon",
           1990
          ],
          [
           "Tom Chambers",
           1990
          ],
          [
           "John Stockton",
           1990
          ],
          [
           "Larry Bird",
           1990
          ],
          [
           "Magic Johnson",
           1991
          ],
          [
           "David Robinson",
           1991
          ],
          [
           "Charles Barkley",
           1991
          ],
          [
           "Karl Malone",
           1991
          ],
          [
           "Clyde Drexler",
           1991
          ],
          [
           "Kevin Johnson",
           1991
          ],
          [
           "Dominique Wilkins",
           1991
          ],
          [
           "Larry Bird",
           1991
          ],
          [
           "Terry Porter",
           1991
          ],
          [
           "Clyde Drexler",
           1992
          ],
          [
           "David Robinson",
           1992
          ],
          [
           "Karl Malone",
           1992
          ],
          [
           "Patrick Ewing",
           1992
          ],
          [
           "Chris Mullin",
           1992
          ],
          [
           "Mark Price",
           1992
          ],
          [
           "Tim Hardaway",
           1992
          ],
          [
           "Scottie Pippen",
           1992
          ],
          [
           "Dennis Rodman",
           1992
          ],
          [
           "Hakeem Olajuwon",
           1993
          ],
          [
           "Michael Jordan",
           1993
          ],
          [
           "Patrick Ewing",
           1993
          ],
          [
           "Dominique Wilkins",
           1993
          ],
          [
           "David Robinson",
           1993
          ],
          [
           "Shaquille O'Neal",
           1993
          ],
          [
           "Karl Malone",
           1993
          ],
          [
           "Mark Price",
           1993
          ],
          [
           "Brad Daugherty",
           1993
          ],
          [
           "David Robinson",
           1994
          ],
          [
           "Scottie Pippen",
           1994
          ],
          [
           "Shaquille O'Neal",
           1994
          ],
          [
           "Patrick Ewing",
           1994
          ],
          [
           "Gary Payton",
           1994
          ],
          [
           "Shawn Kemp",
           1994
          ],
          [
           "Karl Malone",
           1994
          ],
          [
           "Mark Price",
           1994
          ],
          [
           "Charles Barkley",
           1994
          ],
          [
           "Shaquille O'Neal",
           1995
          ],
          [
           "Karl Malone",
           1995
          ],
          [
           "Patrick Ewing",
           1995
          ],
          [
           "Hakeem Olajuwon",
           1995
          ],
          [
           "Charles Barkley",
           1995
          ],
          [
           "Scottie Pippen",
           1995
          ],
          [
           "John Stockton",
           1995
          ],
          [
           "Gary Payton",
           1995
          ],
          [
           "Anfernee Hardaway",
           1995
          ],
          [
           "David Robinson",
           1996
          ],
          [
           "Anfernee Hardaway",
           1996
          ],
          [
           "Hakeem Olajuwon",
           1996
          ],
          [
           "Scottie Pippen",
           1996
          ],
          [
           "Gary Payton",
           1996
          ],
          [
           "Karl Malone",
           1996
          ],
          [
           "Shawn Kemp",
           1996
          ],
          [
           "Grant Hill",
           1996
          ],
          [
           "Michael Jordan",
           1997
          ],
          [
           "Grant Hill",
           1997
          ],
          [
           "Tim Hardaway",
           1997
          ],
          [
           "Glen Rice",
           1997
          ],
          [
           "Gary Payton",
           1997
          ],
          [
           "Hakeem Olajuwon",
           1997
          ],
          [
           "Patrick Ewing",
           1997
          ],
          [
           "Anthony Mason",
           1997
          ],
          [
           "Shaquille O'Neal",
           1997
          ],
          [
           "Karl Malone",
           1998
          ],
          [
           "Gary Payton",
           1998
          ],
          [
           "Shaquille O'Neal",
           1998
          ],
          [
           "Tim Duncan",
           1998
          ],
          [
           "Tim Hardaway",
           1998
          ],
          [
           "David Robinson",
           1998
          ],
          [
           "Grant Hill",
           1998
          ],
          [
           "Scottie Pippen",
           1998
          ],
          [
           "Alonzo Mourning",
           1999
          ],
          [
           "Tim Duncan",
           1999
          ],
          [
           "Allen Iverson",
           1999
          ],
          [
           "Jason Kidd",
           1999
          ],
          [
           "Shaquille O'Neal",
           1999
          ],
          [
           "Chris Webber",
           1999
          ],
          [
           "Grant Hill",
           1999
          ],
          [
           "Gary Payton",
           1999
          ],
          [
           "Kevin Garnett",
           1999
          ],
          [
           "Kevin Garnett",
           2000
          ],
          [
           "Alonzo Mourning",
           2000
          ],
          [
           "Karl Malone",
           2000
          ],
          [
           "Tim Duncan",
           2000
          ],
          [
           "Gary Payton",
           2000
          ],
          [
           "Allen Iverson",
           2000
          ],
          [
           "Grant Hill",
           2000
          ],
          [
           "Chris Webber",
           2000
          ],
          [
           "Vince Carter",
           2000
          ],
          [
           "Tim Duncan",
           2001
          ],
          [
           "Shaquille O'Neal",
           2001
          ],
          [
           "Chris Webber",
           2001
          ],
          [
           "Kevin Garnett",
           2001
          ],
          [
           "Tracy McGrady",
           2001
          ],
          [
           "Karl Malone",
           2001
          ],
          [
           "Jason Kidd",
           2001
          ],
          [
           "Kobe Bryant",
           2001
          ],
          [
           "David Robinson",
           2001
          ],
          [
           "Jason Kidd",
           2002
          ],
          [
           "Shaquille O'Neal",
           2002
          ],
          [
           "Tracy McGrady",
           2002
          ],
          [
           "Kobe Bryant",
           2002
          ],
          [
           "Gary Payton",
           2002
          ],
          [
           "Chris Webber",
           2002
          ],
          [
           "Dirk Nowitzki",
           2002
          ],
          [
           "Allen Iverson",
           2002
          ],
          [
           "Ben Wallace",
           2002
          ],
          [
           "Kevin Garnett",
           2003
          ],
          [
           "Kobe Bryant",
           2003
          ],
          [
           "Tracy McGrady",
           2003
          ],
          [
           "Shaquille O'Neal",
           2003
          ],
          [
           "Allen Iverson",
           2003
          ],
          [
           "Dirk Nowitzki",
           2003
          ],
          [
           "Ben Wallace",
           2003
          ],
          [
           "Jason Kidd",
           2003
          ],
          [
           "Chris Webber",
           2003
          ],
          [
           "Tim Duncan",
           2004
          ],
          [
           "Jermaine O'Neal",
           2004
          ],
          [
           "Peja Stojaković",
           2004
          ],
          [
           "Kobe Bryant",
           2004
          ],
          [
           "Shaquille O'Neal",
           2004
          ],
          [
           "Ben Wallace",
           2004
          ],
          [
           "Jason Kidd",
           2004
          ],
          [
           "LeBron James",
           2004
          ],
          [
           "Sam Cassell",
           2004
          ],
          [
           "Shaquille O'Neal",
           2005
          ],
          [
           "Dirk Nowitzki",
           2005
          ],
          [
           "Tim Duncan",
           2005
          ],
          [
           "Allen Iverson",
           2005
          ],
          [
           "LeBron James",
           2005
          ],
          [
           "Tracy McGrady",
           2005
          ],
          [
           "Dwyane Wade",
           2005
          ],
          [
           "Amar'e Stoudemire",
           2005
          ],
          [
           "Ray Allen",
           2005
          ],
          [
           "LeBron James",
           2006
          ],
          [
           "Dirk Nowitzki",
           2006
          ],
          [
           "Kobe Bryant",
           2006
          ],
          [
           "Chauncey Billups",
           2006
          ],
          [
           "Dwyane Wade",
           2006
          ],
          [
           "Elton Brand",
           2006
          ],
          [
           "Tim Duncan",
           2006
          ],
          [
           "Tony Parker",
           2006
          ],
          [
           "Allen Iverson",
           2006
          ],
          [
           "Steve Nash",
           2007
          ],
          [
           "Kobe Bryant",
           2007
          ],
          [
           "Tim Duncan",
           2007
          ],
          [
           "LeBron James",
           2007
          ],
          [
           "Tracy McGrady",
           2007
          ],
          [
           "Chris Bosh",
           2007
          ],
          [
           "Gilbert Arenas",
           2007
          ],
          [
           "Carlos Boozer",
           2007
          ],
          [
           "Kevin Garnett",
           2007
          ],
          [
           "Chris Paul",
           2008
          ],
          [
           "Kevin Garnett",
           2008
          ],
          [
           "LeBron James",
           2008
          ],
          [
           "Dwight Howard",
           2008
          ],
          [
           "Amar'e Stoudemire",
           2008
          ],
          [
           "Tim Duncan",
           2008
          ],
          [
           "Tracy McGrady",
           2008
          ],
          [
           "Steve Nash",
           2008
          ],
          [
           "Manu Ginóbili",
           2008
          ],
          [
           "Kobe Bryant",
           2009
          ],
          [
           "Dwyane Wade",
           2009
          ],
          [
           "Dwight Howard",
           2009
          ],
          [
           "Chris Paul",
           2009
          ],
          [
           "Chauncey Billups",
           2009
          ],
          [
           "Paul Pierce",
           2009
          ],
          [
           "Tony Parker",
           2009
          ],
          [
           "Brandon Roy",
           2009
          ],
          [
           "Dirk Nowitzki",
           2009
          ],
          [
           "Kevin Durant",
           2010
          ],
          [
           "Kobe Bryant",
           2010
          ],
          [
           "Dwight Howard",
           2010
          ],
          [
           "Dwyane Wade",
           2010
          ],
          [
           "Carmelo Anthony",
           2010
          ],
          [
           "Dirk Nowitzki",
           2010
          ],
          [
           "Steve Nash",
           2010
          ],
          [
           "Deron Williams",
           2010
          ],
          [
           "Dwight Howard",
           2011
          ],
          [
           "LeBron James",
           2011
          ],
          [
           "Kobe Bryant",
           2011
          ],
          [
           "Kevin Durant",
           2011
          ],
          [
           "Dirk Nowitzki",
           2011
          ],
          [
           "Dwyane Wade",
           2011
          ],
          [
           "Manu Ginóbili",
           2011
          ],
          [
           "Amar'e Stoudemire",
           2011
          ],
          [
           "Blake Griffin",
           2011
          ],
          [
           "Kevin Durant",
           2012
          ],
          [
           "Chris Paul",
           2012
          ],
          [
           "Kobe Bryant",
           2012
          ],
          [
           "Tony Parker",
           2012
          ],
          [
           "Kevin Love",
           2012
          ],
          [
           "Dwight Howard",
           2012
          ],
          [
           "Rajon Rondo",
           2012
          ],
          [
           "Steve Nash",
           2012
          ],
          [
           "Dwyane Wade",
           2012
          ],
          [
           "Kevin Durant",
           2013
          ],
          [
           "Carmelo Anthony",
           2013
          ],
          [
           "Chris Paul",
           2013
          ],
          [
           "Kobe Bryant",
           2013
          ],
          [
           "Tony Parker",
           2013
          ],
          [
           "Tim Duncan",
           2013
          ],
          [
           "James Harden",
           2013
          ],
          [
           "Russell Westbrook",
           2013
          ],
          [
           "Dwyane Wade",
           2013
          ],
          [
           "LeBron James",
           2014
          ],
          [
           "Blake Griffin",
           2014
          ],
          [
           "Joakim Noah",
           2014
          ],
          [
           "James Harden",
           2014
          ],
          [
           "Stephen Curry",
           2014
          ],
          [
           "Chris Paul",
           2014
          ],
          [
           "Al Jefferson",
           2014
          ],
          [
           "Paul George",
           2014
          ],
          [
           "LaMarcus Aldridge",
           2014
          ],
          [
           "James Harden",
           2015
          ],
          [
           "LeBron James",
           2015
          ],
          [
           "Russell Westbrook",
           2015
          ],
          [
           "Anthony Davis",
           2015
          ],
          [
           "Chris Paul",
           2015
          ],
          [
           "LaMarcus Aldridge",
           2015
          ],
          [
           "Marc Gasol",
           2015
          ],
          [
           "Blake Griffin",
           2015
          ],
          [
           "Tim Duncan",
           2015
          ],
          [
           "Kawhi Leonard",
           2016
          ],
          [
           "LeBron James",
           2016
          ],
          [
           "Russell Westbrook",
           2016
          ],
          [
           "Kevin Durant",
           2016
          ],
          [
           "Chris Paul",
           2016
          ],
          [
           "Draymond Green",
           2016
          ],
          [
           "Damian Lillard",
           2016
          ],
          [
           "James Harden",
           2016
          ],
          [
           "Kyle Lowry",
           2016
          ],
          [
           "James Harden",
           2017
          ],
          [
           "Kawhi Leonard",
           2017
          ],
          [
           "LeBron James",
           2017
          ],
          [
           "Isaiah Thomas",
           2017
          ],
          [
           "Stephen Curry",
           2017
          ],
          [
           "Giannis Antetokounmpo",
           2017
          ],
          [
           "John Wall",
           2017
          ],
          [
           "Anthony Davis",
           2017
          ],
          [
           "Kevin Durant",
           2017
          ],
          [
           "LeBron James",
           2018
          ],
          [
           "Anthony Davis",
           2018
          ],
          [
           "Damian Lillard",
           2018
          ],
          [
           "Russell Westbrook",
           2018
          ],
          [
           "Giannis Antetokounmpo",
           2018
          ],
          [
           "Kevin Durant",
           2018
          ],
          [
           "DeMar DeRozan",
           2018
          ],
          [
           "LaMarcus Aldridge",
           2018
          ],
          [
           "Jimmy Butler",
           2018
          ],
          [
           "James Harden",
           2019
          ],
          [
           "Paul George",
           2019
          ],
          [
           "Nikola Jokić",
           2019
          ],
          [
           "Stephen Curry",
           2019
          ],
          [
           "Damian Lillard",
           2019
          ],
          [
           "Joel Embiid",
           2019
          ],
          [
           "Kevin Durant",
           2019
          ],
          [
           "Kawhi Leonard",
           2019
          ],
          [
           "Russell Westbrook",
           2019
          ],
          [
           "LeBron James",
           2020
          ],
          [
           "James Harden",
           2020
          ],
          [
           "Luka Dončić",
           2020
          ],
          [
           "Kawhi Leonard",
           2020
          ],
          [
           "Anthony Davis",
           2020
          ],
          [
           "Chris Paul",
           2020
          ],
          [
           "Damian Lillard",
           2020
          ],
          [
           "Nikola Jokić",
           2020
          ],
          [
           "Pascal Siakam",
           2020
          ],
          [
           "Joel Embiid",
           2021
          ],
          [
           "Stephen Curry",
           2021
          ],
          [
           "Giannis Antetokounmpo",
           2021
          ],
          [
           "Chris Paul",
           2021
          ],
          [
           "Luka Dončić",
           2021
          ],
          [
           "Damian Lillard",
           2021
          ],
          [
           "Julius Randle",
           2021
          ],
          [
           "Rudy Gobert",
           2021
          ],
          [
           "Joel Embiid",
           2022
          ],
          [
           "Giannis Antetokounmpo",
           2022
          ],
          [
           "Devin Booker",
           2022
          ],
          [
           "Luka Dončić",
           2022
          ],
          [
           "Jayson Tatum",
           2022
          ],
          [
           "Ja Morant",
           2022
          ],
          [
           "Stephen Curry",
           2022
          ],
          [
           "Chris Paul",
           2022
          ],
          [
           "DeMar DeRozan",
           2022
          ],
          [
           "Nikola Jokić",
           2023
          ],
          [
           "Giannis Antetokounmpo",
           2023
          ],
          [
           "Jayson Tatum",
           2023
          ],
          [
           "Shai Gilgeous-Alexander",
           2023
          ],
          [
           "Donovan Mitchell",
           2023
          ],
          [
           "Domantas Sabonis",
           2023
          ],
          [
           "Luka Dončić",
           2023
          ],
          [
           "Stephen Curry",
           2023
          ],
          [
           "Jimmy Butler",
           2023
          ]
         ],
         "hovertemplate": "MVP=N<br>seed=%{x}<br>WS/48=%{y}<br>Player=%{customdata[0]}<br>Year=%{customdata[1]}<extra></extra>",
         "legendgroup": "N",
         "marker": {
          "color": "#EF553B",
          "symbol": "circle"
         },
         "mode": "markers",
         "name": "N",
         "orientation": "v",
         "showlegend": true,
         "type": "scatter",
         "x": [
          2,
          4,
          1,
          1,
          2,
          3,
          2,
          4,
          1,
          2,
          5,
          3,
          3,
          1,
          1,
          1,
          2,
          1,
          2,
          3,
          3,
          1,
          2,
          1,
          2,
          1,
          3,
          1,
          6,
          4,
          2,
          2,
          1,
          5,
          1,
          1,
          4,
          2,
          3,
          3,
          1,
          3,
          1,
          2,
          7,
          10,
          2,
          4,
          3,
          4,
          1,
          2,
          1,
          3,
          2,
          3,
          5,
          8,
          1,
          1,
          2,
          5,
          5,
          3,
          8,
          1,
          1,
          10,
          3,
          3,
          6,
          5,
          2,
          5,
          6,
          3,
          3,
          5,
          7,
          3,
          2,
          2,
          2,
          3,
          2,
          4,
          5,
          3,
          8,
          5,
          4,
          4,
          2,
          3,
          5,
          5,
          1,
          3,
          6,
          2,
          1,
          1,
          5,
          2,
          3,
          2,
          2,
          2,
          1,
          5,
          2,
          2,
          1,
          6,
          5,
          8,
          6,
          3,
          3,
          4,
          3,
          4,
          1,
          1,
          1,
          5,
          5,
          3,
          1,
          2,
          2,
          6,
          3,
          5,
          2,
          4,
          1,
          2,
          2,
          5,
          1,
          1,
          3,
          1,
          6,
          1,
          5,
          2,
          5,
          2,
          2,
          3,
          5,
          4,
          1,
          2,
          2,
          4,
          3,
          4,
          11,
          1,
          1,
          1,
          6,
          6,
          4,
          6,
          5,
          8,
          8,
          6,
          2,
          3,
          4,
          7,
          4,
          7,
          8,
          6,
          1,
          2,
          3,
          8,
          7,
          4,
          6,
          2,
          1,
          1,
          2,
          4,
          2,
          7,
          1,
          4,
          6,
          2,
          4,
          5,
          7,
          5,
          3,
          1,
          1,
          2,
          3,
          2,
          1,
          4,
          3,
          3,
          2,
          3,
          9,
          1,
          1,
          3,
          2,
          7,
          8,
          5,
          1,
          1,
          4,
          3,
          2,
          6,
          1,
          2,
          5,
          1,
          1,
          9,
          2,
          7,
          3,
          2,
          4,
          4,
          6,
          5,
          12,
          2,
          1,
          4,
          3,
          4,
          2,
          4,
          4,
          2,
          1,
          5,
          3,
          7,
          2,
          2,
          2,
          2,
          6,
          6,
          1,
          2,
          5,
          4,
          2,
          3,
          4,
          4,
          2,
          2,
          4,
          2,
          2,
          1,
          6,
          13,
          2,
          5,
          3,
          1,
          12,
          6,
          5,
          10,
          2,
          1,
          2,
          4,
          7,
          2,
          2,
          7,
          1,
          1,
          2,
          3,
          3,
          4,
          6,
          3,
          7,
          1,
          4,
          2,
          2,
          8,
          8,
          2,
          6,
          4,
          2,
          4,
          2,
          1,
          3,
          3,
          4,
          1,
          5,
          8,
          2,
          3,
          2,
          2,
          1,
          1,
          6,
          4,
          10,
          1,
          4,
          4,
          3,
          4,
          6,
          2,
          1,
          7,
          7,
          3,
          6,
          2,
          1,
          3,
          3,
          1,
          2,
          6,
          1,
          4,
          7,
          2,
          1,
          4,
          8,
          3,
          2,
          1,
          8,
          3,
          2,
          5,
          5,
          4,
          1,
          2,
          2,
          1,
          4,
          2,
          2,
          3,
          1,
          6,
          1,
          1,
          2,
          10,
          4,
          3,
          11,
          5,
          7
         ],
         "xaxis": "x",
         "y": [
          0.213,
          0.173,
          0.182,
          0.148,
          0.12,
          0.169,
          0.187,
          0.183,
          0.16,
          0.23,
          0.202,
          0.182,
          0.211,
          0.228,
          0.154,
          0.205,
          0.229,
          0.19,
          0.171,
          0.182,
          0.216,
          0.207,
          0.199,
          0.192,
          0.225,
          0.207,
          0.233,
          0.217,
          0.166,
          0.185,
          0.189,
          0.159,
          0.205,
          0.218,
          0.191,
          0.163,
          0.144,
          0.18,
          0.235,
          0.198,
          0.22,
          0.193,
          0.204,
          0.189,
          0.213,
          0.166,
          0.197,
          0.173,
          0.096,
          0.17,
          0.226,
          0.186,
          0.197,
          0.176,
          0.219,
          0.156,
          0.151,
          0.247,
          0.243,
          0.232,
          0.197,
          0.21,
          0.189,
          0.121,
          0.153,
          0.243,
          0.199,
          0.253,
          0.207,
          0.16,
          0.182,
          0.152,
          0.163,
          0.238,
          0.292,
          0.233,
          0.181,
          0.197,
          0.25,
          0.236,
          0.184,
          0.146,
          0.199,
          0.269,
          0.285,
          0.245,
          0.205,
          0.241,
          0.173,
          0.176,
          0.238,
          0.154,
          0.251,
          0.264,
          0.258,
          0.225,
          0.209,
          0.22,
          0.177,
          0.14,
          0.235,
          0.223,
          0.26,
          0.237,
          0.198,
          0.155,
          0.205,
          0.132,
          0.192,
          0.183,
          0.234,
          0.27,
          0.17,
          0.191,
          0.197,
          0.163,
          0.238,
          0.197,
          0.226,
          0.296,
          0.194,
          0.252,
          0.211,
          0.155,
          0.216,
          0.193,
          0.201,
          0.185,
          0.23,
          0.212,
          0.157,
          0.181,
          0.214,
          0.188,
          0.233,
          0.187,
          0.177,
          0.29,
          0.229,
          0.166,
          0.209,
          0.174,
          0.233,
          0.205,
          0.172,
          0.283,
          0.223,
          0.198,
          0.154,
          0.193,
          0.154,
          0.163,
          0.173,
          0.197,
          0.259,
          0.19,
          0.224,
          0.192,
          0.185,
          0.269,
          0.149,
          0.193,
          0.216,
          0.213,
          0.173,
          0.188,
          0.255,
          0.102,
          0.189,
          0.172,
          0.146,
          0.172,
          0.226,
          0.249,
          0.218,
          0.195,
          0.116,
          0.185,
          0.179,
          0.182,
          0.2,
          0.245,
          0.186,
          0.176,
          0.189,
          0.217,
          0.15,
          0.196,
          0.246,
          0.14,
          0.262,
          0.189,
          0.199,
          0.183,
          0.2,
          0.222,
          0.126,
          0.19,
          0.225,
          0.21,
          0.262,
          0.25,
          0.127,
          0.249,
          0.176,
          0.182,
          0.127,
          0.249,
          0.155,
          0.198,
          0.21,
          0.192,
          0.16,
          0.141,
          0.078,
          0.205,
          0.211,
          0.248,
          0.245,
          0.136,
          0.203,
          0.18,
          0.177,
          0.243,
          0.168,
          0.232,
          0.275,
          0.224,
          0.254,
          0.239,
          0.229,
          0.187,
          0.169,
          0.165,
          0.225,
          0.199,
          0.23,
          0.206,
          0.163,
          0.174,
          0.177,
          0.185,
          0.171,
          0.284,
          0.265,
          0.242,
          0.2,
          0.262,
          0.201,
          0.115,
          0.181,
          0.232,
          0.206,
          0.232,
          0.234,
          0.292,
          0.174,
          0.164,
          0.168,
          0.223,
          0.171,
          0.238,
          0.16,
          0.223,
          0.224,
          0.145,
          0.194,
          0.178,
          0.177,
          0.235,
          0.244,
          0.178,
          0.189,
          0.213,
          0.218,
          0.195,
          0.134,
          0.152,
          0.23,
          0.278,
          0.132,
          0.177,
          0.223,
          0.179,
          0.121,
          0.144,
          0.227,
          0.291,
          0.184,
          0.287,
          0.174,
          0.206,
          0.191,
          0.206,
          0.195,
          0.192,
          0.264,
          0.205,
          0.19,
          0.221,
          0.225,
          0.27,
          0.146,
          0.178,
          0.144,
          0.265,
          0.199,
          0.222,
          0.274,
          0.27,
          0.165,
          0.182,
          0.183,
          0.207,
          0.277,
          0.242,
          0.245,
          0.27,
          0.253,
          0.19,
          0.165,
          0.204,
          0.196,
          0.245,
          0.264,
          0.221,
          0.234,
          0.229,
          0.21,
          0.149,
          0.195,
          0.278,
          0.221,
          0.241,
          0.227,
          0.166,
          0.207,
          0.215,
          0.17,
          0.209,
          0.198,
          0.254,
          0.201,
          0.226,
          0.199,
          0.205,
          0.194,
          0.204,
          0.224,
          0.124,
          0.204,
          0.254,
          0.207,
          0.226,
          0.25,
          0.193,
          0.225,
          0.202,
          0.123,
          0.266,
          0.201,
          0.244,
          0.201,
          0.163,
          0.209,
          0.14,
          0.248,
          0.252,
          0.281,
          0.156,
          0.159,
          0.169,
          0.171,
          0.173,
          0.21,
          0.154,
          0.308,
          0.204,
          0.185,
          0.226,
          0.176,
          0.221,
          0.204,
          0.192,
          0.277
         ],
         "yaxis": "y"
        }
       ],
       "layout": {
        "height": 600,
        "legend": {
         "title": {
          "text": "MVP"
         },
         "tracegroupgap": 0
        },
        "margin": {
         "t": 60
        },
        "template": {
         "data": {
          "bar": [
           {
            "error_x": {
             "color": "#2a3f5f"
            },
            "error_y": {
             "color": "#2a3f5f"
            },
            "marker": {
             "line": {
              "color": "#E5ECF6",
              "width": 0.5
             },
             "pattern": {
              "fillmode": "overlay",
              "size": 10,
              "solidity": 0.2
             }
            },
            "type": "bar"
           }
          ],
          "barpolar": [
           {
            "marker": {
             "line": {
              "color": "#E5ECF6",
              "width": 0.5
             },
             "pattern": {
              "fillmode": "overlay",
              "size": 10,
              "solidity": 0.2
             }
            },
            "type": "barpolar"
           }
          ],
          "carpet": [
           {
            "aaxis": {
             "endlinecolor": "#2a3f5f",
             "gridcolor": "white",
             "linecolor": "white",
             "minorgridcolor": "white",
             "startlinecolor": "#2a3f5f"
            },
            "baxis": {
             "endlinecolor": "#2a3f5f",
             "gridcolor": "white",
             "linecolor": "white",
             "minorgridcolor": "white",
             "startlinecolor": "#2a3f5f"
            },
            "type": "carpet"
           }
          ],
          "choropleth": [
           {
            "colorbar": {
             "outlinewidth": 0,
             "ticks": ""
            },
            "type": "choropleth"
           }
          ],
          "contour": [
           {
            "colorbar": {
             "outlinewidth": 0,
             "ticks": ""
            },
            "colorscale": [
             [
              0,
              "#0d0887"
             ],
             [
              0.1111111111111111,
              "#46039f"
             ],
             [
              0.2222222222222222,
              "#7201a8"
             ],
             [
              0.3333333333333333,
              "#9c179e"
             ],
             [
              0.4444444444444444,
              "#bd3786"
             ],
             [
              0.5555555555555556,
              "#d8576b"
             ],
             [
              0.6666666666666666,
              "#ed7953"
             ],
             [
              0.7777777777777778,
              "#fb9f3a"
             ],
             [
              0.8888888888888888,
              "#fdca26"
             ],
             [
              1,
              "#f0f921"
             ]
            ],
            "type": "contour"
           }
          ],
          "contourcarpet": [
           {
            "colorbar": {
             "outlinewidth": 0,
             "ticks": ""
            },
            "type": "contourcarpet"
           }
          ],
          "heatmap": [
           {
            "colorbar": {
             "outlinewidth": 0,
             "ticks": ""
            },
            "colorscale": [
             [
              0,
              "#0d0887"
             ],
             [
              0.1111111111111111,
              "#46039f"
             ],
             [
              0.2222222222222222,
              "#7201a8"
             ],
             [
              0.3333333333333333,
              "#9c179e"
             ],
             [
              0.4444444444444444,
              "#bd3786"
             ],
             [
              0.5555555555555556,
              "#d8576b"
             ],
             [
              0.6666666666666666,
              "#ed7953"
             ],
             [
              0.7777777777777778,
              "#fb9f3a"
             ],
             [
              0.8888888888888888,
              "#fdca26"
             ],
             [
              1,
              "#f0f921"
             ]
            ],
            "type": "heatmap"
           }
          ],
          "heatmapgl": [
           {
            "colorbar": {
             "outlinewidth": 0,
             "ticks": ""
            },
            "colorscale": [
             [
              0,
              "#0d0887"
             ],
             [
              0.1111111111111111,
              "#46039f"
             ],
             [
              0.2222222222222222,
              "#7201a8"
             ],
             [
              0.3333333333333333,
              "#9c179e"
             ],
             [
              0.4444444444444444,
              "#bd3786"
             ],
             [
              0.5555555555555556,
              "#d8576b"
             ],
             [
              0.6666666666666666,
              "#ed7953"
             ],
             [
              0.7777777777777778,
              "#fb9f3a"
             ],
             [
              0.8888888888888888,
              "#fdca26"
             ],
             [
              1,
              "#f0f921"
             ]
            ],
            "type": "heatmapgl"
           }
          ],
          "histogram": [
           {
            "marker": {
             "pattern": {
              "fillmode": "overlay",
              "size": 10,
              "solidity": 0.2
             }
            },
            "type": "histogram"
           }
          ],
          "histogram2d": [
           {
            "colorbar": {
             "outlinewidth": 0,
             "ticks": ""
            },
            "colorscale": [
             [
              0,
              "#0d0887"
             ],
             [
              0.1111111111111111,
              "#46039f"
             ],
             [
              0.2222222222222222,
              "#7201a8"
             ],
             [
              0.3333333333333333,
              "#9c179e"
             ],
             [
              0.4444444444444444,
              "#bd3786"
             ],
             [
              0.5555555555555556,
              "#d8576b"
             ],
             [
              0.6666666666666666,
              "#ed7953"
             ],
             [
              0.7777777777777778,
              "#fb9f3a"
             ],
             [
              0.8888888888888888,
              "#fdca26"
             ],
             [
              1,
              "#f0f921"
             ]
            ],
            "type": "histogram2d"
           }
          ],
          "histogram2dcontour": [
           {
            "colorbar": {
             "outlinewidth": 0,
             "ticks": ""
            },
            "colorscale": [
             [
              0,
              "#0d0887"
             ],
             [
              0.1111111111111111,
              "#46039f"
             ],
             [
              0.2222222222222222,
              "#7201a8"
             ],
             [
              0.3333333333333333,
              "#9c179e"
             ],
             [
              0.4444444444444444,
              "#bd3786"
             ],
             [
              0.5555555555555556,
              "#d8576b"
             ],
             [
              0.6666666666666666,
              "#ed7953"
             ],
             [
              0.7777777777777778,
              "#fb9f3a"
             ],
             [
              0.8888888888888888,
              "#fdca26"
             ],
             [
              1,
              "#f0f921"
             ]
            ],
            "type": "histogram2dcontour"
           }
          ],
          "mesh3d": [
           {
            "colorbar": {
             "outlinewidth": 0,
             "ticks": ""
            },
            "type": "mesh3d"
           }
          ],
          "parcoords": [
           {
            "line": {
             "colorbar": {
              "outlinewidth": 0,
              "ticks": ""
             }
            },
            "type": "parcoords"
           }
          ],
          "pie": [
           {
            "automargin": true,
            "type": "pie"
           }
          ],
          "scatter": [
           {
            "fillpattern": {
             "fillmode": "overlay",
             "size": 10,
             "solidity": 0.2
            },
            "type": "scatter"
           }
          ],
          "scatter3d": [
           {
            "line": {
             "colorbar": {
              "outlinewidth": 0,
              "ticks": ""
             }
            },
            "marker": {
             "colorbar": {
              "outlinewidth": 0,
              "ticks": ""
             }
            },
            "type": "scatter3d"
           }
          ],
          "scattercarpet": [
           {
            "marker": {
             "colorbar": {
              "outlinewidth": 0,
              "ticks": ""
             }
            },
            "type": "scattercarpet"
           }
          ],
          "scattergeo": [
           {
            "marker": {
             "colorbar": {
              "outlinewidth": 0,
              "ticks": ""
             }
            },
            "type": "scattergeo"
           }
          ],
          "scattergl": [
           {
            "marker": {
             "colorbar": {
              "outlinewidth": 0,
              "ticks": ""
             }
            },
            "type": "scattergl"
           }
          ],
          "scattermapbox": [
           {
            "marker": {
             "colorbar": {
              "outlinewidth": 0,
              "ticks": ""
             }
            },
            "type": "scattermapbox"
           }
          ],
          "scatterpolar": [
           {
            "marker": {
             "colorbar": {
              "outlinewidth": 0,
              "ticks": ""
             }
            },
            "type": "scatterpolar"
           }
          ],
          "scatterpolargl": [
           {
            "marker": {
             "colorbar": {
              "outlinewidth": 0,
              "ticks": ""
             }
            },
            "type": "scatterpolargl"
           }
          ],
          "scatterternary": [
           {
            "marker": {
             "colorbar": {
              "outlinewidth": 0,
              "ticks": ""
             }
            },
            "type": "scatterternary"
           }
          ],
          "surface": [
           {
            "colorbar": {
             "outlinewidth": 0,
             "ticks": ""
            },
            "colorscale": [
             [
              0,
              "#0d0887"
             ],
             [
              0.1111111111111111,
              "#46039f"
             ],
             [
              0.2222222222222222,
              "#7201a8"
             ],
             [
              0.3333333333333333,
              "#9c179e"
             ],
             [
              0.4444444444444444,
              "#bd3786"
             ],
             [
              0.5555555555555556,
              "#d8576b"
             ],
             [
              0.6666666666666666,
              "#ed7953"
             ],
             [
              0.7777777777777778,
              "#fb9f3a"
             ],
             [
              0.8888888888888888,
              "#fdca26"
             ],
             [
              1,
              "#f0f921"
             ]
            ],
            "type": "surface"
           }
          ],
          "table": [
           {
            "cells": {
             "fill": {
              "color": "#EBF0F8"
             },
             "line": {
              "color": "white"
             }
            },
            "header": {
             "fill": {
              "color": "#C8D4E3"
             },
             "line": {
              "color": "white"
             }
            },
            "type": "table"
           }
          ]
         },
         "layout": {
          "annotationdefaults": {
           "arrowcolor": "#2a3f5f",
           "arrowhead": 0,
           "arrowwidth": 1
          },
          "autotypenumbers": "strict",
          "coloraxis": {
           "colorbar": {
            "outlinewidth": 0,
            "ticks": ""
           }
          },
          "colorscale": {
           "diverging": [
            [
             0,
             "#8e0152"
            ],
            [
             0.1,
             "#c51b7d"
            ],
            [
             0.2,
             "#de77ae"
            ],
            [
             0.3,
             "#f1b6da"
            ],
            [
             0.4,
             "#fde0ef"
            ],
            [
             0.5,
             "#f7f7f7"
            ],
            [
             0.6,
             "#e6f5d0"
            ],
            [
             0.7,
             "#b8e186"
            ],
            [
             0.8,
             "#7fbc41"
            ],
            [
             0.9,
             "#4d9221"
            ],
            [
             1,
             "#276419"
            ]
           ],
           "sequential": [
            [
             0,
             "#0d0887"
            ],
            [
             0.1111111111111111,
             "#46039f"
            ],
            [
             0.2222222222222222,
             "#7201a8"
            ],
            [
             0.3333333333333333,
             "#9c179e"
            ],
            [
             0.4444444444444444,
             "#bd3786"
            ],
            [
             0.5555555555555556,
             "#d8576b"
            ],
            [
             0.6666666666666666,
             "#ed7953"
            ],
            [
             0.7777777777777778,
             "#fb9f3a"
            ],
            [
             0.8888888888888888,
             "#fdca26"
            ],
            [
             1,
             "#f0f921"
            ]
           ],
           "sequentialminus": [
            [
             0,
             "#0d0887"
            ],
            [
             0.1111111111111111,
             "#46039f"
            ],
            [
             0.2222222222222222,
             "#7201a8"
            ],
            [
             0.3333333333333333,
             "#9c179e"
            ],
            [
             0.4444444444444444,
             "#bd3786"
            ],
            [
             0.5555555555555556,
             "#d8576b"
            ],
            [
             0.6666666666666666,
             "#ed7953"
            ],
            [
             0.7777777777777778,
             "#fb9f3a"
            ],
            [
             0.8888888888888888,
             "#fdca26"
            ],
            [
             1,
             "#f0f921"
            ]
           ]
          },
          "colorway": [
           "#636efa",
           "#EF553B",
           "#00cc96",
           "#ab63fa",
           "#FFA15A",
           "#19d3f3",
           "#FF6692",
           "#B6E880",
           "#FF97FF",
           "#FECB52"
          ],
          "font": {
           "color": "#2a3f5f"
          },
          "geo": {
           "bgcolor": "white",
           "lakecolor": "white",
           "landcolor": "#E5ECF6",
           "showlakes": true,
           "showland": true,
           "subunitcolor": "white"
          },
          "hoverlabel": {
           "align": "left"
          },
          "hovermode": "closest",
          "mapbox": {
           "style": "light"
          },
          "paper_bgcolor": "white",
          "plot_bgcolor": "#E5ECF6",
          "polar": {
           "angularaxis": {
            "gridcolor": "white",
            "linecolor": "white",
            "ticks": ""
           },
           "bgcolor": "#E5ECF6",
           "radialaxis": {
            "gridcolor": "white",
            "linecolor": "white",
            "ticks": ""
           }
          },
          "scene": {
           "xaxis": {
            "backgroundcolor": "#E5ECF6",
            "gridcolor": "white",
            "gridwidth": 2,
            "linecolor": "white",
            "showbackground": true,
            "ticks": "",
            "zerolinecolor": "white"
           },
           "yaxis": {
            "backgroundcolor": "#E5ECF6",
            "gridcolor": "white",
            "gridwidth": 2,
            "linecolor": "white",
            "showbackground": true,
            "ticks": "",
            "zerolinecolor": "white"
           },
           "zaxis": {
            "backgroundcolor": "#E5ECF6",
            "gridcolor": "white",
            "gridwidth": 2,
            "linecolor": "white",
            "showbackground": true,
            "ticks": "",
            "zerolinecolor": "white"
           }
          },
          "shapedefaults": {
           "line": {
            "color": "#2a3f5f"
           }
          },
          "ternary": {
           "aaxis": {
            "gridcolor": "white",
            "linecolor": "white",
            "ticks": ""
           },
           "baxis": {
            "gridcolor": "white",
            "linecolor": "white",
            "ticks": ""
           },
           "bgcolor": "#E5ECF6",
           "caxis": {
            "gridcolor": "white",
            "linecolor": "white",
            "ticks": ""
           }
          },
          "title": {
           "x": 0.05
          },
          "xaxis": {
           "automargin": true,
           "gridcolor": "white",
           "linecolor": "white",
           "ticks": "",
           "title": {
            "standoff": 15
           },
           "zerolinecolor": "white",
           "zerolinewidth": 2
          },
          "yaxis": {
           "automargin": true,
           "gridcolor": "white",
           "linecolor": "white",
           "ticks": "",
           "title": {
            "standoff": 15
           },
           "zerolinecolor": "white",
           "zerolinewidth": 2
          }
         }
        },
        "title": {
         "text": "Win Shares per 48 vs Seed for MVP Candiates"
        },
        "xaxis": {
         "anchor": "y",
         "domain": [
          0,
          1
         ],
         "title": {
          "text": "seed"
         }
        },
        "yaxis": {
         "anchor": "x",
         "domain": [
          0,
          1
         ],
         "title": {
          "text": "WS/48"
         }
        }
       }
      }
     },
     "metadata": {},
     "output_type": "display_data"
    }
   ],
   "source": [
    "fig = px.scatter(df, x=\"seed\", y=\"WS/48\",color='MVP', hover_data=['Player', 'Year'])\n",
    "fig.update_layout(height=600, title_text= 'Win Shares per 48 vs Seed for MVP Candiates')\n",
    "fig.show()"
   ]
  },
  {
   "cell_type": "code",
   "execution_count": 15,
   "metadata": {},
   "outputs": [
    {
     "data": {
      "application/vnd.plotly.v1+json": {
       "config": {
        "plotlyServerURL": "https://plot.ly"
       },
       "data": [
        {
         "customdata": [
          [
           "Kareem Abdul-Jabbar",
           1980,
           "LAL"
          ],
          [
           "Julius Erving",
           1981,
           "PHI"
          ],
          [
           "Moses Malone",
           1982,
           "HOU"
          ],
          [
           "Moses Malone",
           1983,
           "PHI"
          ],
          [
           "Larry Bird",
           1984,
           "BOS"
          ],
          [
           "Larry Bird",
           1985,
           "BOS"
          ],
          [
           "Larry Bird",
           1986,
           "BOS"
          ],
          [
           "Magic Johnson",
           1987,
           "LAL"
          ],
          [
           "Michael Jordan",
           1988,
           "CHI"
          ],
          [
           "Magic Johnson",
           1989,
           "LAL"
          ],
          [
           "Magic Johnson",
           1990,
           "LAL"
          ],
          [
           "Michael Jordan",
           1991,
           "CHI"
          ],
          [
           "Michael Jordan",
           1992,
           "CHI"
          ],
          [
           "Charles Barkley",
           1993,
           "PHO"
          ],
          [
           "Hakeem Olajuwon",
           1994,
           "HOU"
          ],
          [
           "David Robinson",
           1995,
           "SAS"
          ],
          [
           "Michael Jordan",
           1996,
           "CHI"
          ],
          [
           "Karl Malone",
           1997,
           "UTA"
          ],
          [
           "Michael Jordan",
           1998,
           "CHI"
          ],
          [
           "Karl Malone",
           1999,
           "UTA"
          ],
          [
           "Shaquille O'Neal",
           2000,
           "LAL"
          ],
          [
           "Allen Iverson",
           2001,
           "PHI"
          ],
          [
           "Tim Duncan",
           2002,
           "SAS"
          ],
          [
           "Tim Duncan",
           2003,
           "SAS"
          ],
          [
           "Kevin Garnett",
           2004,
           "MIN"
          ],
          [
           "Steve Nash",
           2005,
           "PHO"
          ],
          [
           "Steve Nash",
           2006,
           "PHO"
          ],
          [
           "Dirk Nowitzki",
           2007,
           "DAL"
          ],
          [
           "Kobe Bryant",
           2008,
           "LAL"
          ],
          [
           "LeBron James",
           2009,
           "CLE"
          ],
          [
           "LeBron James",
           2010,
           "CLE"
          ],
          [
           "Derrick Rose",
           2011,
           "CHI"
          ],
          [
           "LeBron James",
           2012,
           "MIA"
          ],
          [
           "LeBron James",
           2013,
           "MIA"
          ],
          [
           "Kevin Durant",
           2014,
           "OKC"
          ],
          [
           "Stephen Curry",
           2015,
           "GSW"
          ],
          [
           "Stephen Curry",
           2016,
           "GSW"
          ],
          [
           "Russell Westbrook",
           2017,
           "OKC"
          ],
          [
           "James Harden",
           2018,
           "HOU"
          ],
          [
           "Giannis Antetokounmpo",
           2019,
           "MIL"
          ],
          [
           "Giannis Antetokounmpo",
           2020,
           "MIL"
          ],
          [
           "Nikola Jokić",
           2021,
           "DEN"
          ],
          [
           "Nikola Jokić",
           2022,
           "DEN"
          ],
          [
           "Joel Embiid",
           2023,
           "PHI"
          ]
         ],
         "hovertemplate": "MVP=Y<br>wl_pct=%{x}<br>player_efficiency_rating=%{y}<br>Player=%{customdata[0]}<br>Year=%{customdata[1]}<br>Tm=%{customdata[2]}<extra></extra>",
         "legendgroup": "Y",
         "marker": {
          "color": "#636efa",
          "symbol": "circle"
         },
         "mode": "markers",
         "name": "Y",
         "orientation": "v",
         "showlegend": true,
         "type": "scatter",
         "x": [
          0.7317073170731707,
          0.7560975609756098,
          0.5609756097560976,
          0.7926829268292683,
          0.7560975609756098,
          0.7682926829268293,
          0.8170731707317073,
          0.7926829268292683,
          0.6097560975609756,
          0.6951219512195121,
          0.7682926829268293,
          0.7439024390243902,
          0.8170731707317073,
          0.7560975609756098,
          0.7073170731707317,
          0.7560975609756098,
          0.8780487804878049,
          0.7804878048780488,
          0.7560975609756098,
          0.74,
          0.8170731707317073,
          0.6829268292682927,
          0.7073170731707317,
          0.7317073170731707,
          0.7073170731707317,
          0.7560975609756098,
          0.6585365853658537,
          0.8170731707317073,
          0.6951219512195121,
          0.8048780487804879,
          0.7439024390243902,
          0.7560975609756098,
          0.696969696969697,
          0.8048780487804879,
          0.7195121951219512,
          0.8170731707317073,
          0.8902439024390244,
          0.573170731707317,
          0.7926829268292683,
          0.7317073170731707,
          0.7671232876712328,
          0.6527777777777778,
          0.5853658536585366,
          0.6585365853658537
         ],
         "xaxis": "x",
         "y": [
          25.3,
          25.1,
          26.8,
          25.1,
          24.2,
          26.5,
          25.6,
          27,
          31.7,
          26.9,
          26.6,
          31.6,
          27.7,
          25.9,
          25.3,
          29.1,
          29.4,
          28.9,
          25.2,
          25.6,
          30.6,
          24,
          27,
          26.9,
          29.4,
          22,
          23.3,
          27.6,
          24.2,
          31.7,
          31.1,
          23.5,
          30.7,
          31.6,
          29.8,
          28,
          31.5,
          30.6,
          29.8,
          30.9,
          31.9,
          31.3,
          32.8,
          31.4
         ],
         "yaxis": "y"
        },
        {
         "customdata": [
          [
           "Julius Erving",
           1980,
           "PHI"
          ],
          [
           "George Gervin",
           1980,
           "SAS"
          ],
          [
           "Larry Bird",
           1980,
           "BOS"
          ],
          [
           "Tiny Archibald",
           1980,
           "BOS"
          ],
          [
           "Dennis Johnson",
           1980,
           "SEA"
          ],
          [
           "Dan Roundfield",
           1980,
           "ATL"
          ],
          [
           "Gus Williams",
           1980,
           "SEA"
          ],
          [
           "Moses Malone",
           1980,
           "HOU"
          ],
          [
           "Larry Bird",
           1981,
           "BOS"
          ],
          [
           "Kareem Abdul-Jabbar",
           1981,
           "LAL"
          ],
          [
           "Moses Malone",
           1981,
           "HOU"
          ],
          [
           "George Gervin",
           1981,
           "SAS"
          ],
          [
           "Marques Johnson",
           1981,
           "MIL"
          ],
          [
           "Robert Parish",
           1981,
           "BOS"
          ],
          [
           "Dennis Johnson",
           1981,
           "PHO"
          ],
          [
           "Larry Bird",
           1982,
           "BOS"
          ],
          [
           "Julius Erving",
           1982,
           "PHI"
          ],
          [
           "Robert Parish",
           1982,
           "BOS"
          ],
          [
           "Gus Williams",
           1982,
           "SEA"
          ],
          [
           "George Gervin",
           1982,
           "SAS"
          ],
          [
           "Sidney Moncrief",
           1982,
           "MIL"
          ],
          [
           "Magic Johnson",
           1982,
           "LAL"
          ],
          [
           "Jack Sikma",
           1982,
           "SEA"
          ],
          [
           "Kareem Abdul-Jabbar",
           1982,
           "LAL"
          ],
          [
           "Larry Bird",
           1983,
           "BOS"
          ],
          [
           "Magic Johnson",
           1983,
           "LAL"
          ],
          [
           "Sidney Moncrief",
           1983,
           "MIL"
          ],
          [
           "Julius Erving",
           1983,
           "PHI"
          ],
          [
           "Alex English",
           1983,
           "DEN"
          ],
          [
           "Buck Williams",
           1983,
           "NJN"
          ],
          [
           "Artis Gilmore",
           1983,
           "SAS"
          ],
          [
           "George Gervin",
           1983,
           "SAS"
          ],
          [
           "Kareem Abdul-Jabbar",
           1983,
           "LAL"
          ],
          [
           "Bernard King",
           1984,
           "NYK"
          ],
          [
           "Magic Johnson",
           1984,
           "LAL"
          ],
          [
           "Kareem Abdul-Jabbar",
           1984,
           "LAL"
          ],
          [
           "Isiah Thomas",
           1984,
           "DET"
          ],
          [
           "Julius Erving",
           1984,
           "PHI"
          ],
          [
           "Adrian Dantley",
           1984,
           "UTA"
          ],
          [
           "Sidney Moncrief",
           1984,
           "MIL"
          ],
          [
           "Magic Johnson",
           1985,
           "LAL"
          ],
          [
           "Moses Malone",
           1985,
           "PHI"
          ],
          [
           "Kareem Abdul-Jabbar",
           1985,
           "LAL"
          ],
          [
           "Terry Cummings",
           1985,
           "MIL"
          ],
          [
           "Michael Jordan",
           1985,
           "CHI"
          ],
          [
           "Bernard King",
           1985,
           "NYK"
          ],
          [
           "Sidney Moncrief",
           1985,
           "MIL"
          ],
          [
           "Isiah Thomas",
           1985,
           "DET"
          ],
          [
           "Ralph Sampson",
           1985,
           "HOU"
          ],
          [
           "Dominique Wilkins",
           1986,
           "ATL"
          ],
          [
           "Magic Johnson",
           1986,
           "LAL"
          ],
          [
           "Hakeem Olajuwon",
           1986,
           "HOU"
          ],
          [
           "Kareem Abdul-Jabbar",
           1986,
           "LAL"
          ],
          [
           "Charles Barkley",
           1986,
           "PHI"
          ],
          [
           "Sidney Moncrief",
           1986,
           "MIL"
          ],
          [
           "Alex English",
           1986,
           "DEN"
          ],
          [
           "Isiah Thomas",
           1986,
           "DET"
          ],
          [
           "Michael Jordan",
           1987,
           "CHI"
          ],
          [
           "Larry Bird",
           1987,
           "BOS"
          ],
          [
           "Kevin McHale",
           1987,
           "BOS"
          ],
          [
           "Dominique Wilkins",
           1987,
           "ATL"
          ],
          [
           "Charles Barkley",
           1987,
           "PHI"
          ],
          [
           "Hakeem Olajuwon",
           1987,
           "HOU"
          ],
          [
           "Isiah Thomas",
           1987,
           "DET"
          ],
          [
           "Fat Lever",
           1987,
           "DEN"
          ],
          [
           "Larry Bird",
           1988,
           "BOS"
          ],
          [
           "Magic Johnson",
           1988,
           "LAL"
          ],
          [
           "Charles Barkley",
           1988,
           "PHI"
          ],
          [
           "Clyde Drexler",
           1988,
           "POR"
          ],
          [
           "Dominique Wilkins",
           1988,
           "ATL"
          ],
          [
           "Hakeem Olajuwon",
           1988,
           "HOU"
          ],
          [
           "Karl Malone",
           1988,
           "UTA"
          ],
          [
           "Fat Lever",
           1988,
           "DEN"
          ],
          [
           "John Stockton",
           1988,
           "UTA"
          ],
          [
           "Michael Jordan",
           1989,
           "CHI"
          ],
          [
           "Karl Malone",
           1989,
           "UTA"
          ],
          [
           "Patrick Ewing",
           1989,
           "NYK"
          ],
          [
           "Hakeem Olajuwon",
           1989,
           "HOU"
          ],
          [
           "Charles Barkley",
           1989,
           "PHI"
          ],
          [
           "John Stockton",
           1989,
           "UTA"
          ],
          [
           "Kevin Johnson",
           1989,
           "PHO"
          ],
          [
           "Tom Chambers",
           1989,
           "PHO"
          ],
          [
           "Mark Price",
           1989,
           "CLE"
          ],
          [
           "Charles Barkley",
           1990,
           "PHI"
          ],
          [
           "Michael Jordan",
           1990,
           "CHI"
          ],
          [
           "Karl Malone",
           1990,
           "UTA"
          ],
          [
           "Patrick Ewing",
           1990,
           "NYK"
          ],
          [
           "David Robinson",
           1990,
           "SAS"
          ],
          [
           "Hakeem Olajuwon",
           1990,
           "HOU"
          ],
          [
           "Tom Chambers",
           1990,
           "PHO"
          ],
          [
           "John Stockton",
           1990,
           "UTA"
          ],
          [
           "Larry Bird",
           1990,
           "BOS"
          ],
          [
           "Magic Johnson",
           1991,
           "LAL"
          ],
          [
           "David Robinson",
           1991,
           "SAS"
          ],
          [
           "Charles Barkley",
           1991,
           "PHI"
          ],
          [
           "Karl Malone",
           1991,
           "UTA"
          ],
          [
           "Clyde Drexler",
           1991,
           "POR"
          ],
          [
           "Kevin Johnson",
           1991,
           "PHO"
          ],
          [
           "Dominique Wilkins",
           1991,
           "ATL"
          ],
          [
           "Larry Bird",
           1991,
           "BOS"
          ],
          [
           "Terry Porter",
           1991,
           "POR"
          ],
          [
           "Clyde Drexler",
           1992,
           "POR"
          ],
          [
           "David Robinson",
           1992,
           "SAS"
          ],
          [
           "Karl Malone",
           1992,
           "UTA"
          ],
          [
           "Patrick Ewing",
           1992,
           "NYK"
          ],
          [
           "Chris Mullin",
           1992,
           "GSW"
          ],
          [
           "Mark Price",
           1992,
           "CLE"
          ],
          [
           "Tim Hardaway",
           1992,
           "GSW"
          ],
          [
           "Scottie Pippen",
           1992,
           "CHI"
          ],
          [
           "Dennis Rodman",
           1992,
           "DET"
          ],
          [
           "Hakeem Olajuwon",
           1993,
           "HOU"
          ],
          [
           "Michael Jordan",
           1993,
           "CHI"
          ],
          [
           "Patrick Ewing",
           1993,
           "NYK"
          ],
          [
           "Dominique Wilkins",
           1993,
           "ATL"
          ],
          [
           "David Robinson",
           1993,
           "SAS"
          ],
          [
           "Shaquille O'Neal",
           1993,
           "ORL"
          ],
          [
           "Karl Malone",
           1993,
           "UTA"
          ],
          [
           "Mark Price",
           1993,
           "CLE"
          ],
          [
           "Brad Daugherty",
           1993,
           "CLE"
          ],
          [
           "David Robinson",
           1994,
           "SAS"
          ],
          [
           "Scottie Pippen",
           1994,
           "CHI"
          ],
          [
           "Shaquille O'Neal",
           1994,
           "ORL"
          ],
          [
           "Patrick Ewing",
           1994,
           "NYK"
          ],
          [
           "Gary Payton",
           1994,
           "SEA"
          ],
          [
           "Shawn Kemp",
           1994,
           "SEA"
          ],
          [
           "Karl Malone",
           1994,
           "UTA"
          ],
          [
           "Mark Price",
           1994,
           "CLE"
          ],
          [
           "Charles Barkley",
           1994,
           "PHO"
          ],
          [
           "Shaquille O'Neal",
           1995,
           "ORL"
          ],
          [
           "Karl Malone",
           1995,
           "UTA"
          ],
          [
           "Patrick Ewing",
           1995,
           "NYK"
          ],
          [
           "Hakeem Olajuwon",
           1995,
           "HOU"
          ],
          [
           "Charles Barkley",
           1995,
           "PHO"
          ],
          [
           "Scottie Pippen",
           1995,
           "CHI"
          ],
          [
           "John Stockton",
           1995,
           "UTA"
          ],
          [
           "Gary Payton",
           1995,
           "SEA"
          ],
          [
           "Anfernee Hardaway",
           1995,
           "ORL"
          ],
          [
           "David Robinson",
           1996,
           "SAS"
          ],
          [
           "Anfernee Hardaway",
           1996,
           "ORL"
          ],
          [
           "Hakeem Olajuwon",
           1996,
           "HOU"
          ],
          [
           "Scottie Pippen",
           1996,
           "CHI"
          ],
          [
           "Gary Payton",
           1996,
           "SEA"
          ],
          [
           "Karl Malone",
           1996,
           "UTA"
          ],
          [
           "Shawn Kemp",
           1996,
           "SEA"
          ],
          [
           "Grant Hill",
           1996,
           "DET"
          ],
          [
           "Michael Jordan",
           1997,
           "CHI"
          ],
          [
           "Grant Hill",
           1997,
           "DET"
          ],
          [
           "Tim Hardaway",
           1997,
           "MIA"
          ],
          [
           "Glen Rice",
           1997,
           "CHH"
          ],
          [
           "Gary Payton",
           1997,
           "SEA"
          ],
          [
           "Hakeem Olajuwon",
           1997,
           "HOU"
          ],
          [
           "Patrick Ewing",
           1997,
           "NYK"
          ],
          [
           "Anthony Mason",
           1997,
           "CHH"
          ],
          [
           "Shaquille O'Neal",
           1997,
           "LAL"
          ],
          [
           "Karl Malone",
           1998,
           "UTA"
          ],
          [
           "Gary Payton",
           1998,
           "SEA"
          ],
          [
           "Shaquille O'Neal",
           1998,
           "LAL"
          ],
          [
           "Tim Duncan",
           1998,
           "SAS"
          ],
          [
           "Tim Hardaway",
           1998,
           "MIA"
          ],
          [
           "David Robinson",
           1998,
           "SAS"
          ],
          [
           "Grant Hill",
           1998,
           "DET"
          ],
          [
           "Scottie Pippen",
           1998,
           "CHI"
          ],
          [
           "Alonzo Mourning",
           1999,
           "MIA"
          ],
          [
           "Tim Duncan",
           1999,
           "SAS"
          ],
          [
           "Allen Iverson",
           1999,
           "PHI"
          ],
          [
           "Jason Kidd",
           1999,
           "PHO"
          ],
          [
           "Shaquille O'Neal",
           1999,
           "LAL"
          ],
          [
           "Chris Webber",
           1999,
           "SAC"
          ],
          [
           "Grant Hill",
           1999,
           "DET"
          ],
          [
           "Gary Payton",
           1999,
           "SEA"
          ],
          [
           "Kevin Garnett",
           1999,
           "MIN"
          ],
          [
           "Kevin Garnett",
           2000,
           "MIN"
          ],
          [
           "Alonzo Mourning",
           2000,
           "MIA"
          ],
          [
           "Karl Malone",
           2000,
           "UTA"
          ],
          [
           "Tim Duncan",
           2000,
           "SAS"
          ],
          [
           "Gary Payton",
           2000,
           "SEA"
          ],
          [
           "Allen Iverson",
           2000,
           "PHI"
          ],
          [
           "Grant Hill",
           2000,
           "DET"
          ],
          [
           "Chris Webber",
           2000,
           "SAC"
          ],
          [
           "Vince Carter",
           2000,
           "TOR"
          ],
          [
           "Tim Duncan",
           2001,
           "SAS"
          ],
          [
           "Shaquille O'Neal",
           2001,
           "LAL"
          ],
          [
           "Chris Webber",
           2001,
           "SAC"
          ],
          [
           "Kevin Garnett",
           2001,
           "MIN"
          ],
          [
           "Tracy McGrady",
           2001,
           "ORL"
          ],
          [
           "Karl Malone",
           2001,
           "UTA"
          ],
          [
           "Jason Kidd",
           2001,
           "PHO"
          ],
          [
           "Kobe Bryant",
           2001,
           "LAL"
          ],
          [
           "David Robinson",
           2001,
           "SAS"
          ],
          [
           "Jason Kidd",
           2002,
           "NJN"
          ],
          [
           "Shaquille O'Neal",
           2002,
           "LAL"
          ],
          [
           "Tracy McGrady",
           2002,
           "ORL"
          ],
          [
           "Kobe Bryant",
           2002,
           "LAL"
          ],
          [
           "Gary Payton",
           2002,
           "SEA"
          ],
          [
           "Chris Webber",
           2002,
           "SAC"
          ],
          [
           "Dirk Nowitzki",
           2002,
           "DAL"
          ],
          [
           "Allen Iverson",
           2002,
           "PHI"
          ],
          [
           "Ben Wallace",
           2002,
           "DET"
          ],
          [
           "Kevin Garnett",
           2003,
           "MIN"
          ],
          [
           "Kobe Bryant",
           2003,
           "LAL"
          ],
          [
           "Tracy McGrady",
           2003,
           "ORL"
          ],
          [
           "Shaquille O'Neal",
           2003,
           "LAL"
          ],
          [
           "Allen Iverson",
           2003,
           "PHI"
          ],
          [
           "Dirk Nowitzki",
           2003,
           "DAL"
          ],
          [
           "Ben Wallace",
           2003,
           "DET"
          ],
          [
           "Jason Kidd",
           2003,
           "NJN"
          ],
          [
           "Chris Webber",
           2003,
           "SAC"
          ],
          [
           "Tim Duncan",
           2004,
           "SAS"
          ],
          [
           "Jermaine O'Neal",
           2004,
           "IND"
          ],
          [
           "Peja Stojaković",
           2004,
           "SAC"
          ],
          [
           "Kobe Bryant",
           2004,
           "LAL"
          ],
          [
           "Shaquille O'Neal",
           2004,
           "LAL"
          ],
          [
           "Ben Wallace",
           2004,
           "DET"
          ],
          [
           "Jason Kidd",
           2004,
           "NJN"
          ],
          [
           "LeBron James",
           2004,
           "CLE"
          ],
          [
           "Sam Cassell",
           2004,
           "MIN"
          ],
          [
           "Shaquille O'Neal",
           2005,
           "MIA"
          ],
          [
           "Dirk Nowitzki",
           2005,
           "DAL"
          ],
          [
           "Tim Duncan",
           2005,
           "SAS"
          ],
          [
           "Allen Iverson",
           2005,
           "PHI"
          ],
          [
           "LeBron James",
           2005,
           "CLE"
          ],
          [
           "Tracy McGrady",
           2005,
           "HOU"
          ],
          [
           "Dwyane Wade",
           2005,
           "MIA"
          ],
          [
           "Amar'e Stoudemire",
           2005,
           "PHO"
          ],
          [
           "Ray Allen",
           2005,
           "SEA"
          ],
          [
           "LeBron James",
           2006,
           "CLE"
          ],
          [
           "Dirk Nowitzki",
           2006,
           "DAL"
          ],
          [
           "Kobe Bryant",
           2006,
           "LAL"
          ],
          [
           "Chauncey Billups",
           2006,
           "DET"
          ],
          [
           "Dwyane Wade",
           2006,
           "MIA"
          ],
          [
           "Elton Brand",
           2006,
           "LAC"
          ],
          [
           "Tim Duncan",
           2006,
           "SAS"
          ],
          [
           "Tony Parker",
           2006,
           "SAS"
          ],
          [
           "Allen Iverson",
           2006,
           "PHI"
          ],
          [
           "Steve Nash",
           2007,
           "PHO"
          ],
          [
           "Kobe Bryant",
           2007,
           "LAL"
          ],
          [
           "Tim Duncan",
           2007,
           "SAS"
          ],
          [
           "LeBron James",
           2007,
           "CLE"
          ],
          [
           "Tracy McGrady",
           2007,
           "HOU"
          ],
          [
           "Chris Bosh",
           2007,
           "TOR"
          ],
          [
           "Gilbert Arenas",
           2007,
           "WAS"
          ],
          [
           "Carlos Boozer",
           2007,
           "UTA"
          ],
          [
           "Kevin Garnett",
           2007,
           "MIN"
          ],
          [
           "Chris Paul",
           2008,
           "NOH"
          ],
          [
           "Kevin Garnett",
           2008,
           "BOS"
          ],
          [
           "LeBron James",
           2008,
           "CLE"
          ],
          [
           "Dwight Howard",
           2008,
           "ORL"
          ],
          [
           "Amar'e Stoudemire",
           2008,
           "PHO"
          ],
          [
           "Tim Duncan",
           2008,
           "SAS"
          ],
          [
           "Tracy McGrady",
           2008,
           "HOU"
          ],
          [
           "Steve Nash",
           2008,
           "PHO"
          ],
          [
           "Manu Ginóbili",
           2008,
           "SAS"
          ],
          [
           "Kobe Bryant",
           2009,
           "LAL"
          ],
          [
           "Dwyane Wade",
           2009,
           "MIA"
          ],
          [
           "Dwight Howard",
           2009,
           "ORL"
          ],
          [
           "Chris Paul",
           2009,
           "NOH"
          ],
          [
           "Chauncey Billups",
           2009,
           "TOT"
          ],
          [
           "Paul Pierce",
           2009,
           "BOS"
          ],
          [
           "Tony Parker",
           2009,
           "SAS"
          ],
          [
           "Brandon Roy",
           2009,
           "POR"
          ],
          [
           "Dirk Nowitzki",
           2009,
           "DAL"
          ],
          [
           "Kevin Durant",
           2010,
           "OKC"
          ],
          [
           "Kobe Bryant",
           2010,
           "LAL"
          ],
          [
           "Dwight Howard",
           2010,
           "ORL"
          ],
          [
           "Dwyane Wade",
           2010,
           "MIA"
          ],
          [
           "Carmelo Anthony",
           2010,
           "DEN"
          ],
          [
           "Dirk Nowitzki",
           2010,
           "DAL"
          ],
          [
           "Steve Nash",
           2010,
           "PHO"
          ],
          [
           "Deron Williams",
           2010,
           "UTA"
          ],
          [
           "Dwight Howard",
           2011,
           "ORL"
          ],
          [
           "LeBron James",
           2011,
           "MIA"
          ],
          [
           "Kobe Bryant",
           2011,
           "LAL"
          ],
          [
           "Kevin Durant",
           2011,
           "OKC"
          ],
          [
           "Dirk Nowitzki",
           2011,
           "DAL"
          ],
          [
           "Dwyane Wade",
           2011,
           "MIA"
          ],
          [
           "Manu Ginóbili",
           2011,
           "SAS"
          ],
          [
           "Amar'e Stoudemire",
           2011,
           "NYK"
          ],
          [
           "Blake Griffin",
           2011,
           "LAC"
          ],
          [
           "Kevin Durant",
           2012,
           "OKC"
          ],
          [
           "Chris Paul",
           2012,
           "LAC"
          ],
          [
           "Kobe Bryant",
           2012,
           "LAL"
          ],
          [
           "Tony Parker",
           2012,
           "SAS"
          ],
          [
           "Kevin Love",
           2012,
           "MIN"
          ],
          [
           "Dwight Howard",
           2012,
           "ORL"
          ],
          [
           "Rajon Rondo",
           2012,
           "BOS"
          ],
          [
           "Steve Nash",
           2012,
           "PHO"
          ],
          [
           "Dwyane Wade",
           2012,
           "MIA"
          ],
          [
           "Kevin Durant",
           2013,
           "OKC"
          ],
          [
           "Carmelo Anthony",
           2013,
           "NYK"
          ],
          [
           "Chris Paul",
           2013,
           "LAC"
          ],
          [
           "Kobe Bryant",
           2013,
           "LAL"
          ],
          [
           "Tony Parker",
           2013,
           "SAS"
          ],
          [
           "Tim Duncan",
           2013,
           "SAS"
          ],
          [
           "James Harden",
           2013,
           "HOU"
          ],
          [
           "Russell Westbrook",
           2013,
           "OKC"
          ],
          [
           "Dwyane Wade",
           2013,
           "MIA"
          ],
          [
           "LeBron James",
           2014,
           "MIA"
          ],
          [
           "Blake Griffin",
           2014,
           "LAC"
          ],
          [
           "Joakim Noah",
           2014,
           "CHI"
          ],
          [
           "James Harden",
           2014,
           "HOU"
          ],
          [
           "Stephen Curry",
           2014,
           "GSW"
          ],
          [
           "Chris Paul",
           2014,
           "LAC"
          ],
          [
           "Al Jefferson",
           2014,
           "CHA"
          ],
          [
           "Paul George",
           2014,
           "IND"
          ],
          [
           "LaMarcus Aldridge",
           2014,
           "POR"
          ],
          [
           "James Harden",
           2015,
           "HOU"
          ],
          [
           "LeBron James",
           2015,
           "CLE"
          ],
          [
           "Russell Westbrook",
           2015,
           "OKC"
          ],
          [
           "Anthony Davis",
           2015,
           "NOP"
          ],
          [
           "Chris Paul",
           2015,
           "LAC"
          ],
          [
           "LaMarcus Aldridge",
           2015,
           "POR"
          ],
          [
           "Marc Gasol",
           2015,
           "MEM"
          ],
          [
           "Blake Griffin",
           2015,
           "LAC"
          ],
          [
           "Tim Duncan",
           2015,
           "SAS"
          ],
          [
           "Kawhi Leonard",
           2016,
           "SAS"
          ],
          [
           "LeBron James",
           2016,
           "CLE"
          ],
          [
           "Russell Westbrook",
           2016,
           "OKC"
          ],
          [
           "Kevin Durant",
           2016,
           "OKC"
          ],
          [
           "Chris Paul",
           2016,
           "LAC"
          ],
          [
           "Draymond Green",
           2016,
           "GSW"
          ],
          [
           "Damian Lillard",
           2016,
           "POR"
          ],
          [
           "James Harden",
           2016,
           "HOU"
          ],
          [
           "Kyle Lowry",
           2016,
           "TOR"
          ],
          [
           "James Harden",
           2017,
           "HOU"
          ],
          [
           "Kawhi Leonard",
           2017,
           "SAS"
          ],
          [
           "LeBron James",
           2017,
           "CLE"
          ],
          [
           "Isaiah Thomas",
           2017,
           "BOS"
          ],
          [
           "Stephen Curry",
           2017,
           "GSW"
          ],
          [
           "Giannis Antetokounmpo",
           2017,
           "MIL"
          ],
          [
           "John Wall",
           2017,
           "WAS"
          ],
          [
           "Anthony Davis",
           2017,
           "NOP"
          ],
          [
           "Kevin Durant",
           2017,
           "GSW"
          ],
          [
           "LeBron James",
           2018,
           "CLE"
          ],
          [
           "Anthony Davis",
           2018,
           "NOP"
          ],
          [
           "Damian Lillard",
           2018,
           "POR"
          ],
          [
           "Russell Westbrook",
           2018,
           "OKC"
          ],
          [
           "Giannis Antetokounmpo",
           2018,
           "MIL"
          ],
          [
           "Kevin Durant",
           2018,
           "GSW"
          ],
          [
           "DeMar DeRozan",
           2018,
           "TOR"
          ],
          [
           "LaMarcus Aldridge",
           2018,
           "SAS"
          ],
          [
           "Jimmy Butler",
           2018,
           "MIN"
          ],
          [
           "James Harden",
           2019,
           "HOU"
          ],
          [
           "Paul George",
           2019,
           "OKC"
          ],
          [
           "Nikola Jokić",
           2019,
           "DEN"
          ],
          [
           "Stephen Curry",
           2019,
           "GSW"
          ],
          [
           "Damian Lillard",
           2019,
           "POR"
          ],
          [
           "Joel Embiid",
           2019,
           "PHI"
          ],
          [
           "Kevin Durant",
           2019,
           "GSW"
          ],
          [
           "Kawhi Leonard",
           2019,
           "TOR"
          ],
          [
           "Russell Westbrook",
           2019,
           "OKC"
          ],
          [
           "LeBron James",
           2020,
           "LAL"
          ],
          [
           "James Harden",
           2020,
           "HOU"
          ],
          [
           "Luka Dončić",
           2020,
           "DAL"
          ],
          [
           "Kawhi Leonard",
           2020,
           "LAC"
          ],
          [
           "Anthony Davis",
           2020,
           "LAL"
          ],
          [
           "Chris Paul",
           2020,
           "OKC"
          ],
          [
           "Damian Lillard",
           2020,
           "POR"
          ],
          [
           "Nikola Jokić",
           2020,
           "DEN"
          ],
          [
           "Pascal Siakam",
           2020,
           "TOR"
          ],
          [
           "Joel Embiid",
           2021,
           "PHI"
          ],
          [
           "Stephen Curry",
           2021,
           "GSW"
          ],
          [
           "Giannis Antetokounmpo",
           2021,
           "MIL"
          ],
          [
           "Chris Paul",
           2021,
           "PHO"
          ],
          [
           "Luka Dončić",
           2021,
           "DAL"
          ],
          [
           "Damian Lillard",
           2021,
           "POR"
          ],
          [
           "Julius Randle",
           2021,
           "NYK"
          ],
          [
           "Rudy Gobert",
           2021,
           "UTA"
          ],
          [
           "Joel Embiid",
           2022,
           "PHI"
          ],
          [
           "Giannis Antetokounmpo",
           2022,
           "MIL"
          ],
          [
           "Devin Booker",
           2022,
           "PHO"
          ],
          [
           "Luka Dončić",
           2022,
           "DAL"
          ],
          [
           "Jayson Tatum",
           2022,
           "BOS"
          ],
          [
           "Ja Morant",
           2022,
           "MEM"
          ],
          [
           "Stephen Curry",
           2022,
           "GSW"
          ],
          [
           "Chris Paul",
           2022,
           "PHO"
          ],
          [
           "DeMar DeRozan",
           2022,
           "CHI"
          ],
          [
           "Nikola Jokić",
           2023,
           "DEN"
          ],
          [
           "Giannis Antetokounmpo",
           2023,
           "MIL"
          ],
          [
           "Jayson Tatum",
           2023,
           "BOS"
          ],
          [
           "Shai Gilgeous-Alexander",
           2023,
           "OKC"
          ],
          [
           "Donovan Mitchell",
           2023,
           "CLE"
          ],
          [
           "Domantas Sabonis",
           2023,
           "SAC"
          ],
          [
           "Luka Dončić",
           2023,
           "DAL"
          ],
          [
           "Stephen Curry",
           2023,
           "GSW"
          ],
          [
           "Jimmy Butler",
           2023,
           "MIA"
          ]
         ],
         "hovertemplate": "MVP=N<br>wl_pct=%{x}<br>player_efficiency_rating=%{y}<br>Player=%{customdata[0]}<br>Year=%{customdata[1]}<br>Tm=%{customdata[2]}<extra></extra>",
         "legendgroup": "N",
         "marker": {
          "color": "#EF553B",
          "symbol": "circle"
         },
         "mode": "markers",
         "name": "N",
         "orientation": "v",
         "showlegend": true,
         "type": "scatter",
         "x": [
          0.7195121951219512,
          0.5,
          0.7439024390243902,
          0.7439024390243902,
          0.6829268292682927,
          0.6097560975609756,
          0.6829268292682927,
          0.5,
          0.7560975609756098,
          0.6585365853658537,
          0.4878048780487805,
          0.6341463414634146,
          0.7317073170731707,
          0.7560975609756098,
          0.6951219512195121,
          0.7682926829268293,
          0.7073170731707317,
          0.7682926829268293,
          0.6341463414634146,
          0.5853658536585366,
          0.6707317073170732,
          0.6951219512195121,
          0.6341463414634146,
          0.6951219512195121,
          0.6829268292682927,
          0.7073170731707317,
          0.6219512195121951,
          0.7926829268292683,
          0.5487804878048781,
          0.5975609756097561,
          0.6463414634146342,
          0.6463414634146342,
          0.7073170731707317,
          0.573170731707317,
          0.6585365853658537,
          0.6585365853658537,
          0.5975609756097561,
          0.6341463414634146,
          0.5487804878048781,
          0.6097560975609756,
          0.7560975609756098,
          0.7073170731707317,
          0.7560975609756098,
          0.7195121951219512,
          0.4634146341463415,
          0.2926829268292683,
          0.7195121951219512,
          0.5609756097560976,
          0.5853658536585366,
          0.6097560975609756,
          0.7560975609756098,
          0.6219512195121951,
          0.7560975609756098,
          0.6585365853658537,
          0.6951219512195121,
          0.573170731707317,
          0.5609756097560976,
          0.4878048780487805,
          0.7195121951219512,
          0.7195121951219512,
          0.6951219512195121,
          0.5487804878048781,
          0.5121951219512195,
          0.6341463414634146,
          0.4512195121951219,
          0.6951219512195121,
          0.7560975609756098,
          0.4390243902439024,
          0.6463414634146342,
          0.6097560975609756,
          0.5609756097560976,
          0.573170731707317,
          0.6585365853658537,
          0.573170731707317,
          0.573170731707317,
          0.6219512195121951,
          0.6341463414634146,
          0.5487804878048781,
          0.5609756097560976,
          0.6219512195121951,
          0.6707317073170732,
          0.6707317073170732,
          0.6951219512195121,
          0.6463414634146342,
          0.6707317073170732,
          0.6707317073170732,
          0.5487804878048781,
          0.6829268292682927,
          0.5,
          0.6585365853658537,
          0.6707317073170732,
          0.6341463414634146,
          0.7073170731707317,
          0.6707317073170732,
          0.5365853658536586,
          0.6585365853658537,
          0.7682926829268293,
          0.6707317073170732,
          0.524390243902439,
          0.6829268292682927,
          0.7682926829268293,
          0.6951219512195121,
          0.573170731707317,
          0.6707317073170732,
          0.6219512195121951,
          0.6707317073170732,
          0.6951219512195121,
          0.6707317073170732,
          0.8170731707317073,
          0.5853658536585366,
          0.6707317073170732,
          0.6951219512195121,
          0.7317073170731707,
          0.524390243902439,
          0.5975609756097561,
          0.5,
          0.573170731707317,
          0.6585365853658537,
          0.6585365853658537,
          0.6707317073170732,
          0.6707317073170732,
          0.6097560975609756,
          0.6951219512195121,
          0.7682926829268293,
          0.7682926829268293,
          0.6463414634146342,
          0.573170731707317,
          0.6829268292682927,
          0.6951219512195121,
          0.7317073170731707,
          0.6707317073170732,
          0.573170731707317,
          0.7195121951219512,
          0.573170731707317,
          0.7317073170731707,
          0.6951219512195121,
          0.6951219512195121,
          0.7195121951219512,
          0.7317073170731707,
          0.5853658536585366,
          0.8780487804878049,
          0.7804878048780488,
          0.6707317073170732,
          0.7804878048780488,
          0.5609756097560976,
          0.8414634146341463,
          0.6585365853658537,
          0.7439024390243902,
          0.6585365853658537,
          0.6951219512195121,
          0.6951219512195121,
          0.6951219512195121,
          0.6585365853658537,
          0.6829268292682927,
          0.7560975609756098,
          0.7439024390243902,
          0.7439024390243902,
          0.6829268292682927,
          0.6707317073170732,
          0.6829268292682927,
          0.4512195121951219,
          0.7560975609756098,
          0.66,
          0.74,
          0.56,
          0.54,
          0.62,
          0.54,
          0.58,
          0.5,
          0.5,
          0.6097560975609756,
          0.6341463414634146,
          0.6707317073170732,
          0.6463414634146342,
          0.5487804878048781,
          0.5975609756097561,
          0.5121951219512195,
          0.5365853658536586,
          0.5487804878048781,
          0.7073170731707317,
          0.6829268292682927,
          0.6707317073170732,
          0.573170731707317,
          0.524390243902439,
          0.6463414634146342,
          0.6219512195121951,
          0.6829268292682927,
          0.7073170731707317,
          0.6341463414634146,
          0.7073170731707317,
          0.5365853658536586,
          0.7073170731707317,
          0.5487804878048781,
          0.7439024390243902,
          0.6951219512195121,
          0.524390243902439,
          0.6097560975609756,
          0.6219512195121951,
          0.6097560975609756,
          0.5121951219512195,
          0.6097560975609756,
          0.5853658536585366,
          0.7317073170731707,
          0.6097560975609756,
          0.5975609756097561,
          0.7195121951219512,
          0.6951219512195121,
          0.7439024390243902,
          0.6707317073170732,
          0.6829268292682927,
          0.6829268292682927,
          0.6585365853658537,
          0.573170731707317,
          0.4268292682926829,
          0.7073170731707317,
          0.7195121951219512,
          0.7073170731707317,
          0.7195121951219512,
          0.524390243902439,
          0.5121951219512195,
          0.6219512195121951,
          0.7195121951219512,
          0.7560975609756098,
          0.6341463414634146,
          0.6097560975609756,
          0.7317073170731707,
          0.5487804878048781,
          0.7804878048780488,
          0.6341463414634146,
          0.573170731707317,
          0.7682926829268293,
          0.7682926829268293,
          0.4634146341463415,
          0.7439024390243902,
          0.5121951219512195,
          0.7073170731707317,
          0.6097560975609756,
          0.6341463414634146,
          0.573170731707317,
          0.5,
          0.6219512195121951,
          0.3902439024390244,
          0.6829268292682927,
          0.8048780487804879,
          0.5487804878048781,
          0.6341463414634146,
          0.6707317073170732,
          0.6829268292682927,
          0.6707317073170732,
          0.6707317073170732,
          0.6829268292682927,
          0.7926829268292683,
          0.524390243902439,
          0.7195121951219512,
          0.5975609756097561,
          0.6585365853658537,
          0.7560975609756098,
          0.6585365853658537,
          0.6585365853658537,
          0.6097560975609756,
          0.6097560975609756,
          0.6951219512195121,
          0.7195121951219512,
          0.573170731707317,
          0.6463414634146342,
          0.6707317073170732,
          0.6585365853658537,
          0.6463414634146342,
          0.6341463414634146,
          0.7073170731707317,
          0.6951219512195121,
          0.6707317073170732,
          0.6951219512195121,
          0.7073170731707317,
          0.7439024390243902,
          0.5121951219512195,
          0.3902439024390244,
          0.7121212121212122,
          0.6060606060606061,
          0.6212121212121212,
          0.7575757575757576,
          0.3939393939393939,
          0.5606060606060606,
          0.5909090909090909,
          0.5,
          0.696969696969697,
          0.7317073170731707,
          0.6585365853658537,
          0.6829268292682927,
          0.5487804878048781,
          0.7073170731707317,
          0.7073170731707317,
          0.5487804878048781,
          0.7317073170731707,
          0.8048780487804879,
          0.6585365853658537,
          0.6951219512195121,
          0.5853658536585366,
          0.6585365853658537,
          0.6219512195121951,
          0.6951219512195121,
          0.524390243902439,
          0.6829268292682927,
          0.6585365853658537,
          0.6829268292682927,
          0.6463414634146342,
          0.5487804878048781,
          0.5487804878048781,
          0.6829268292682927,
          0.6219512195121951,
          0.6707317073170732,
          0.6829268292682927,
          0.6707317073170732,
          0.8170731707317073,
          0.6951219512195121,
          0.6707317073170732,
          0.6707317073170732,
          0.6463414634146342,
          0.8902439024390244,
          0.5365853658536586,
          0.5,
          0.6829268292682927,
          0.6707317073170732,
          0.7439024390243902,
          0.6219512195121951,
          0.6463414634146342,
          0.8170731707317073,
          0.5121951219512195,
          0.5975609756097561,
          0.4146341463414634,
          0.8170731707317073,
          0.6097560975609756,
          0.5853658536585366,
          0.5975609756097561,
          0.5853658536585366,
          0.5365853658536586,
          0.7073170731707317,
          0.7195121951219512,
          0.573170731707317,
          0.573170731707317,
          0.6463414634146342,
          0.5975609756097561,
          0.6585365853658537,
          0.6951219512195121,
          0.6463414634146342,
          0.6219512195121951,
          0.6951219512195121,
          0.7073170731707317,
          0.5975609756097561,
          0.7323943661971831,
          0.6111111111111112,
          0.5733333333333334,
          0.6805555555555556,
          0.7323943661971831,
          0.6111111111111112,
          0.4729729729729729,
          0.6301369863013698,
          0.7361111111111112,
          0.6805555555555556,
          0.5416666666666666,
          0.6388888888888888,
          0.7083333333333334,
          0.5833333333333334,
          0.5833333333333334,
          0.5694444444444444,
          0.7222222222222222,
          0.6219512195121951,
          0.6219512195121951,
          0.7804878048780488,
          0.6341463414634146,
          0.6219512195121951,
          0.6829268292682927,
          0.6463414634146342,
          0.7804878048780488,
          0.5609756097560976,
          0.6463414634146342,
          0.7073170731707317,
          0.6951219512195121,
          0.4878048780487805,
          0.6219512195121951,
          0.5853658536585366,
          0.4634146341463415,
          0.5365853658536586,
          0.5365853658536586
         ],
         "xaxis": "x",
         "y": [
          25.4,
          24,
          20.5,
          15.3,
          15.9,
          19.7,
          20.6,
          24.1,
          19.9,
          25.5,
          25.1,
          22.9,
          22,
          25.2,
          17,
          22.6,
          25.9,
          22.6,
          21.8,
          24.2,
          20.1,
          22.9,
          20.6,
          23.4,
          24.1,
          23,
          22.6,
          23.1,
          24.1,
          18.6,
          21.2,
          20.5,
          23.6,
          22.7,
          22.6,
          21.3,
          20.9,
          22.9,
          24.6,
          19.8,
          23.2,
          22.5,
          22.9,
          22.1,
          25.8,
          25.2,
          20.1,
          22.2,
          17.4,
          23.3,
          24,
          24.2,
          22.7,
          22.4,
          20,
          21.7,
          21.2,
          29.8,
          26.4,
          24,
          23.5,
          25.1,
          23.8,
          18.8,
          20.8,
          27.8,
          23.1,
          27.6,
          24.1,
          23.7,
          23.4,
          20.7,
          20.5,
          23.2,
          31.1,
          24.4,
          22.1,
          25.2,
          27,
          22.9,
          20.5,
          19.3,
          20.6,
          27.1,
          31.2,
          27.2,
          25.8,
          26.3,
          24.1,
          20.9,
          23.9,
          21.9,
          25.1,
          27.4,
          28.9,
          24.8,
          22.1,
          23.7,
          23.5,
          19.7,
          21.7,
          23.6,
          27.5,
          25.4,
          22.8,
          19.9,
          22.7,
          19.1,
          21.5,
          17,
          27.3,
          29.7,
          20.8,
          24.3,
          24.2,
          22.9,
          26.2,
          22.1,
          22,
          30.7,
          23.2,
          28.5,
          22.9,
          17.8,
          22.9,
          22.9,
          22.7,
          22.8,
          28.6,
          25.1,
          21.9,
          26,
          25.2,
          22.6,
          23.3,
          21.3,
          20.8,
          29.4,
          24.6,
          25.5,
          21,
          19.6,
          26,
          22.6,
          20.9,
          27.8,
          25.5,
          20.8,
          19.7,
          21.8,
          22.7,
          21.3,
          18.9,
          27.1,
          27.9,
          21.6,
          28.8,
          22.6,
          20.6,
          27.8,
          21.2,
          20.4,
          24.6,
          23.2,
          22.2,
          22.5,
          30.6,
          19.5,
          23.9,
          23.1,
          22.4,
          23.6,
          25.8,
          27.1,
          24.8,
          23.6,
          20,
          24.5,
          23.4,
          23.4,
          23.8,
          30.2,
          24.7,
          23.9,
          24.9,
          24.7,
          19.4,
          24.5,
          23.7,
          19.1,
          29.7,
          25.1,
          23.2,
          22.9,
          24.4,
          24.1,
          21.9,
          18.6,
          26.4,
          26.2,
          30.3,
          29.5,
          21.2,
          25.6,
          17.2,
          22.2,
          20.9,
          27.1,
          21.1,
          21.8,
          23.7,
          24.4,
          17.3,
          19.7,
          18.3,
          22.8,
          27,
          26.1,
          27,
          23.2,
          25.7,
          22.9,
          23.1,
          26.6,
          20.9,
          28.1,
          28.1,
          28,
          23.4,
          27.6,
          26.5,
          23.1,
          20.8,
          25.9,
          23.8,
          26.1,
          26.1,
          24.5,
          23.2,
          22.6,
          24,
          24.1,
          24.1,
          28.3,
          25.3,
          29.1,
          22.9,
          27.6,
          24.4,
          18.4,
          21.1,
          24.3,
          24.4,
          30.4,
          25.4,
          30,
          18.8,
          17.7,
          23.4,
          24,
          23.1,
          26.2,
          21.9,
          24,
          28,
          22.2,
          22.9,
          21.6,
          20.6,
          26.1,
          27.3,
          23.9,
          23.6,
          23.4,
          25.6,
          21.7,
          22.7,
          21.9,
          26.2,
          27,
          21.9,
          22,
          25.4,
          24.2,
          17.5,
          20.3,
          26.3,
          28.3,
          24.8,
          26.4,
          23,
          23,
          24.4,
          22.9,
          23.9,
          24,
          29.3,
          23.9,
          20,
          23.5,
          24.1,
          25.9,
          22.7,
          20.1,
          21.8,
          26.7,
          25.9,
          29.1,
          30.8,
          26,
          22.8,
          21.7,
          22.8,
          22.6,
          26,
          27.5,
          27.6,
          28.2,
          26.2,
          19.3,
          22.2,
          25.3,
          22.2,
          27.4,
          27.6,
          27,
          26.5,
          24.6,
          26.1,
          23.2,
          27.5,
          27.6,
          28.6,
          28.9,
          25.2,
          24.7,
          27.3,
          26,
          21,
          25,
          23.7,
          30.6,
          23.3,
          26.3,
          24.4,
          23.7,
          26.1,
          24.2,
          25.8,
          21.1,
          25.5,
          29.1,
          27.6,
          26.9,
          27.4,
          21.7,
          26.9,
          24.9,
          17.9,
          30.3,
          26.3,
          29.2,
          21.4,
          25.3,
          25.6,
          19.7,
          23.5,
          31.2,
          32.1,
          21.3,
          25.1,
          21.8,
          24.4,
          21.4,
          20.8,
          23.1,
          31.5,
          29,
          23.7,
          27.2,
          22.9,
          23.5,
          28.7,
          24.1,
          27.6
         ],
         "yaxis": "y"
        }
       ],
       "layout": {
        "height": 600,
        "legend": {
         "title": {
          "text": "MVP"
         },
         "tracegroupgap": 0
        },
        "margin": {
         "t": 60
        },
        "template": {
         "data": {
          "bar": [
           {
            "error_x": {
             "color": "#2a3f5f"
            },
            "error_y": {
             "color": "#2a3f5f"
            },
            "marker": {
             "line": {
              "color": "#E5ECF6",
              "width": 0.5
             },
             "pattern": {
              "fillmode": "overlay",
              "size": 10,
              "solidity": 0.2
             }
            },
            "type": "bar"
           }
          ],
          "barpolar": [
           {
            "marker": {
             "line": {
              "color": "#E5ECF6",
              "width": 0.5
             },
             "pattern": {
              "fillmode": "overlay",
              "size": 10,
              "solidity": 0.2
             }
            },
            "type": "barpolar"
           }
          ],
          "carpet": [
           {
            "aaxis": {
             "endlinecolor": "#2a3f5f",
             "gridcolor": "white",
             "linecolor": "white",
             "minorgridcolor": "white",
             "startlinecolor": "#2a3f5f"
            },
            "baxis": {
             "endlinecolor": "#2a3f5f",
             "gridcolor": "white",
             "linecolor": "white",
             "minorgridcolor": "white",
             "startlinecolor": "#2a3f5f"
            },
            "type": "carpet"
           }
          ],
          "choropleth": [
           {
            "colorbar": {
             "outlinewidth": 0,
             "ticks": ""
            },
            "type": "choropleth"
           }
          ],
          "contour": [
           {
            "colorbar": {
             "outlinewidth": 0,
             "ticks": ""
            },
            "colorscale": [
             [
              0,
              "#0d0887"
             ],
             [
              0.1111111111111111,
              "#46039f"
             ],
             [
              0.2222222222222222,
              "#7201a8"
             ],
             [
              0.3333333333333333,
              "#9c179e"
             ],
             [
              0.4444444444444444,
              "#bd3786"
             ],
             [
              0.5555555555555556,
              "#d8576b"
             ],
             [
              0.6666666666666666,
              "#ed7953"
             ],
             [
              0.7777777777777778,
              "#fb9f3a"
             ],
             [
              0.8888888888888888,
              "#fdca26"
             ],
             [
              1,
              "#f0f921"
             ]
            ],
            "type": "contour"
           }
          ],
          "contourcarpet": [
           {
            "colorbar": {
             "outlinewidth": 0,
             "ticks": ""
            },
            "type": "contourcarpet"
           }
          ],
          "heatmap": [
           {
            "colorbar": {
             "outlinewidth": 0,
             "ticks": ""
            },
            "colorscale": [
             [
              0,
              "#0d0887"
             ],
             [
              0.1111111111111111,
              "#46039f"
             ],
             [
              0.2222222222222222,
              "#7201a8"
             ],
             [
              0.3333333333333333,
              "#9c179e"
             ],
             [
              0.4444444444444444,
              "#bd3786"
             ],
             [
              0.5555555555555556,
              "#d8576b"
             ],
             [
              0.6666666666666666,
              "#ed7953"
             ],
             [
              0.7777777777777778,
              "#fb9f3a"
             ],
             [
              0.8888888888888888,
              "#fdca26"
             ],
             [
              1,
              "#f0f921"
             ]
            ],
            "type": "heatmap"
           }
          ],
          "heatmapgl": [
           {
            "colorbar": {
             "outlinewidth": 0,
             "ticks": ""
            },
            "colorscale": [
             [
              0,
              "#0d0887"
             ],
             [
              0.1111111111111111,
              "#46039f"
             ],
             [
              0.2222222222222222,
              "#7201a8"
             ],
             [
              0.3333333333333333,
              "#9c179e"
             ],
             [
              0.4444444444444444,
              "#bd3786"
             ],
             [
              0.5555555555555556,
              "#d8576b"
             ],
             [
              0.6666666666666666,
              "#ed7953"
             ],
             [
              0.7777777777777778,
              "#fb9f3a"
             ],
             [
              0.8888888888888888,
              "#fdca26"
             ],
             [
              1,
              "#f0f921"
             ]
            ],
            "type": "heatmapgl"
           }
          ],
          "histogram": [
           {
            "marker": {
             "pattern": {
              "fillmode": "overlay",
              "size": 10,
              "solidity": 0.2
             }
            },
            "type": "histogram"
           }
          ],
          "histogram2d": [
           {
            "colorbar": {
             "outlinewidth": 0,
             "ticks": ""
            },
            "colorscale": [
             [
              0,
              "#0d0887"
             ],
             [
              0.1111111111111111,
              "#46039f"
             ],
             [
              0.2222222222222222,
              "#7201a8"
             ],
             [
              0.3333333333333333,
              "#9c179e"
             ],
             [
              0.4444444444444444,
              "#bd3786"
             ],
             [
              0.5555555555555556,
              "#d8576b"
             ],
             [
              0.6666666666666666,
              "#ed7953"
             ],
             [
              0.7777777777777778,
              "#fb9f3a"
             ],
             [
              0.8888888888888888,
              "#fdca26"
             ],
             [
              1,
              "#f0f921"
             ]
            ],
            "type": "histogram2d"
           }
          ],
          "histogram2dcontour": [
           {
            "colorbar": {
             "outlinewidth": 0,
             "ticks": ""
            },
            "colorscale": [
             [
              0,
              "#0d0887"
             ],
             [
              0.1111111111111111,
              "#46039f"
             ],
             [
              0.2222222222222222,
              "#7201a8"
             ],
             [
              0.3333333333333333,
              "#9c179e"
             ],
             [
              0.4444444444444444,
              "#bd3786"
             ],
             [
              0.5555555555555556,
              "#d8576b"
             ],
             [
              0.6666666666666666,
              "#ed7953"
             ],
             [
              0.7777777777777778,
              "#fb9f3a"
             ],
             [
              0.8888888888888888,
              "#fdca26"
             ],
             [
              1,
              "#f0f921"
             ]
            ],
            "type": "histogram2dcontour"
           }
          ],
          "mesh3d": [
           {
            "colorbar": {
             "outlinewidth": 0,
             "ticks": ""
            },
            "type": "mesh3d"
           }
          ],
          "parcoords": [
           {
            "line": {
             "colorbar": {
              "outlinewidth": 0,
              "ticks": ""
             }
            },
            "type": "parcoords"
           }
          ],
          "pie": [
           {
            "automargin": true,
            "type": "pie"
           }
          ],
          "scatter": [
           {
            "fillpattern": {
             "fillmode": "overlay",
             "size": 10,
             "solidity": 0.2
            },
            "type": "scatter"
           }
          ],
          "scatter3d": [
           {
            "line": {
             "colorbar": {
              "outlinewidth": 0,
              "ticks": ""
             }
            },
            "marker": {
             "colorbar": {
              "outlinewidth": 0,
              "ticks": ""
             }
            },
            "type": "scatter3d"
           }
          ],
          "scattercarpet": [
           {
            "marker": {
             "colorbar": {
              "outlinewidth": 0,
              "ticks": ""
             }
            },
            "type": "scattercarpet"
           }
          ],
          "scattergeo": [
           {
            "marker": {
             "colorbar": {
              "outlinewidth": 0,
              "ticks": ""
             }
            },
            "type": "scattergeo"
           }
          ],
          "scattergl": [
           {
            "marker": {
             "colorbar": {
              "outlinewidth": 0,
              "ticks": ""
             }
            },
            "type": "scattergl"
           }
          ],
          "scattermapbox": [
           {
            "marker": {
             "colorbar": {
              "outlinewidth": 0,
              "ticks": ""
             }
            },
            "type": "scattermapbox"
           }
          ],
          "scatterpolar": [
           {
            "marker": {
             "colorbar": {
              "outlinewidth": 0,
              "ticks": ""
             }
            },
            "type": "scatterpolar"
           }
          ],
          "scatterpolargl": [
           {
            "marker": {
             "colorbar": {
              "outlinewidth": 0,
              "ticks": ""
             }
            },
            "type": "scatterpolargl"
           }
          ],
          "scatterternary": [
           {
            "marker": {
             "colorbar": {
              "outlinewidth": 0,
              "ticks": ""
             }
            },
            "type": "scatterternary"
           }
          ],
          "surface": [
           {
            "colorbar": {
             "outlinewidth": 0,
             "ticks": ""
            },
            "colorscale": [
             [
              0,
              "#0d0887"
             ],
             [
              0.1111111111111111,
              "#46039f"
             ],
             [
              0.2222222222222222,
              "#7201a8"
             ],
             [
              0.3333333333333333,
              "#9c179e"
             ],
             [
              0.4444444444444444,
              "#bd3786"
             ],
             [
              0.5555555555555556,
              "#d8576b"
             ],
             [
              0.6666666666666666,
              "#ed7953"
             ],
             [
              0.7777777777777778,
              "#fb9f3a"
             ],
             [
              0.8888888888888888,
              "#fdca26"
             ],
             [
              1,
              "#f0f921"
             ]
            ],
            "type": "surface"
           }
          ],
          "table": [
           {
            "cells": {
             "fill": {
              "color": "#EBF0F8"
             },
             "line": {
              "color": "white"
             }
            },
            "header": {
             "fill": {
              "color": "#C8D4E3"
             },
             "line": {
              "color": "white"
             }
            },
            "type": "table"
           }
          ]
         },
         "layout": {
          "annotationdefaults": {
           "arrowcolor": "#2a3f5f",
           "arrowhead": 0,
           "arrowwidth": 1
          },
          "autotypenumbers": "strict",
          "coloraxis": {
           "colorbar": {
            "outlinewidth": 0,
            "ticks": ""
           }
          },
          "colorscale": {
           "diverging": [
            [
             0,
             "#8e0152"
            ],
            [
             0.1,
             "#c51b7d"
            ],
            [
             0.2,
             "#de77ae"
            ],
            [
             0.3,
             "#f1b6da"
            ],
            [
             0.4,
             "#fde0ef"
            ],
            [
             0.5,
             "#f7f7f7"
            ],
            [
             0.6,
             "#e6f5d0"
            ],
            [
             0.7,
             "#b8e186"
            ],
            [
             0.8,
             "#7fbc41"
            ],
            [
             0.9,
             "#4d9221"
            ],
            [
             1,
             "#276419"
            ]
           ],
           "sequential": [
            [
             0,
             "#0d0887"
            ],
            [
             0.1111111111111111,
             "#46039f"
            ],
            [
             0.2222222222222222,
             "#7201a8"
            ],
            [
             0.3333333333333333,
             "#9c179e"
            ],
            [
             0.4444444444444444,
             "#bd3786"
            ],
            [
             0.5555555555555556,
             "#d8576b"
            ],
            [
             0.6666666666666666,
             "#ed7953"
            ],
            [
             0.7777777777777778,
             "#fb9f3a"
            ],
            [
             0.8888888888888888,
             "#fdca26"
            ],
            [
             1,
             "#f0f921"
            ]
           ],
           "sequentialminus": [
            [
             0,
             "#0d0887"
            ],
            [
             0.1111111111111111,
             "#46039f"
            ],
            [
             0.2222222222222222,
             "#7201a8"
            ],
            [
             0.3333333333333333,
             "#9c179e"
            ],
            [
             0.4444444444444444,
             "#bd3786"
            ],
            [
             0.5555555555555556,
             "#d8576b"
            ],
            [
             0.6666666666666666,
             "#ed7953"
            ],
            [
             0.7777777777777778,
             "#fb9f3a"
            ],
            [
             0.8888888888888888,
             "#fdca26"
            ],
            [
             1,
             "#f0f921"
            ]
           ]
          },
          "colorway": [
           "#636efa",
           "#EF553B",
           "#00cc96",
           "#ab63fa",
           "#FFA15A",
           "#19d3f3",
           "#FF6692",
           "#B6E880",
           "#FF97FF",
           "#FECB52"
          ],
          "font": {
           "color": "#2a3f5f"
          },
          "geo": {
           "bgcolor": "white",
           "lakecolor": "white",
           "landcolor": "#E5ECF6",
           "showlakes": true,
           "showland": true,
           "subunitcolor": "white"
          },
          "hoverlabel": {
           "align": "left"
          },
          "hovermode": "closest",
          "mapbox": {
           "style": "light"
          },
          "paper_bgcolor": "white",
          "plot_bgcolor": "#E5ECF6",
          "polar": {
           "angularaxis": {
            "gridcolor": "white",
            "linecolor": "white",
            "ticks": ""
           },
           "bgcolor": "#E5ECF6",
           "radialaxis": {
            "gridcolor": "white",
            "linecolor": "white",
            "ticks": ""
           }
          },
          "scene": {
           "xaxis": {
            "backgroundcolor": "#E5ECF6",
            "gridcolor": "white",
            "gridwidth": 2,
            "linecolor": "white",
            "showbackground": true,
            "ticks": "",
            "zerolinecolor": "white"
           },
           "yaxis": {
            "backgroundcolor": "#E5ECF6",
            "gridcolor": "white",
            "gridwidth": 2,
            "linecolor": "white",
            "showbackground": true,
            "ticks": "",
            "zerolinecolor": "white"
           },
           "zaxis": {
            "backgroundcolor": "#E5ECF6",
            "gridcolor": "white",
            "gridwidth": 2,
            "linecolor": "white",
            "showbackground": true,
            "ticks": "",
            "zerolinecolor": "white"
           }
          },
          "shapedefaults": {
           "line": {
            "color": "#2a3f5f"
           }
          },
          "ternary": {
           "aaxis": {
            "gridcolor": "white",
            "linecolor": "white",
            "ticks": ""
           },
           "baxis": {
            "gridcolor": "white",
            "linecolor": "white",
            "ticks": ""
           },
           "bgcolor": "#E5ECF6",
           "caxis": {
            "gridcolor": "white",
            "linecolor": "white",
            "ticks": ""
           }
          },
          "title": {
           "x": 0.05
          },
          "xaxis": {
           "automargin": true,
           "gridcolor": "white",
           "linecolor": "white",
           "ticks": "",
           "title": {
            "standoff": 15
           },
           "zerolinecolor": "white",
           "zerolinewidth": 2
          },
          "yaxis": {
           "automargin": true,
           "gridcolor": "white",
           "linecolor": "white",
           "ticks": "",
           "title": {
            "standoff": 15
           },
           "zerolinecolor": "white",
           "zerolinewidth": 2
          }
         }
        },
        "title": {
         "text": "PER vs W/L pct for MVP Candiates"
        },
        "xaxis": {
         "anchor": "y",
         "domain": [
          0,
          1
         ],
         "title": {
          "text": "wl_pct"
         }
        },
        "yaxis": {
         "anchor": "x",
         "domain": [
          0,
          1
         ],
         "title": {
          "text": "player_efficiency_rating"
         }
        }
       }
      }
     },
     "metadata": {},
     "output_type": "display_data"
    }
   ],
   "source": [
    "fig = px.scatter(df, x=\"wl_pct\", y=\"player_efficiency_rating\",color='MVP', hover_data=['Player', 'Year', 'Tm'])\n",
    "fig.update_layout(height=600, title_text= 'PER vs W/L pct for MVP Candiates')\n",
    "fig.show()"
   ]
  },
  {
   "cell_type": "code",
   "execution_count": 16,
   "metadata": {},
   "outputs": [
    {
     "data": {
      "application/vnd.plotly.v1+json": {
       "config": {
        "plotlyServerURL": "https://plot.ly"
       },
       "data": [
        {
         "customdata": [
          [
           "Kareem Abdul-Jabbar",
           1980,
           "LAL"
          ],
          [
           "Julius Erving",
           1981,
           "PHI"
          ],
          [
           "Moses Malone",
           1982,
           "HOU"
          ],
          [
           "Moses Malone",
           1983,
           "PHI"
          ],
          [
           "Larry Bird",
           1984,
           "BOS"
          ],
          [
           "Larry Bird",
           1985,
           "BOS"
          ],
          [
           "Larry Bird",
           1986,
           "BOS"
          ],
          [
           "Magic Johnson",
           1987,
           "LAL"
          ],
          [
           "Michael Jordan",
           1988,
           "CHI"
          ],
          [
           "Magic Johnson",
           1989,
           "LAL"
          ],
          [
           "Magic Johnson",
           1990,
           "LAL"
          ],
          [
           "Michael Jordan",
           1991,
           "CHI"
          ],
          [
           "Michael Jordan",
           1992,
           "CHI"
          ],
          [
           "Charles Barkley",
           1993,
           "PHO"
          ],
          [
           "Hakeem Olajuwon",
           1994,
           "HOU"
          ],
          [
           "David Robinson",
           1995,
           "SAS"
          ],
          [
           "Michael Jordan",
           1996,
           "CHI"
          ],
          [
           "Karl Malone",
           1997,
           "UTA"
          ],
          [
           "Michael Jordan",
           1998,
           "CHI"
          ],
          [
           "Karl Malone",
           1999,
           "UTA"
          ],
          [
           "Shaquille O'Neal",
           2000,
           "LAL"
          ],
          [
           "Allen Iverson",
           2001,
           "PHI"
          ],
          [
           "Tim Duncan",
           2002,
           "SAS"
          ],
          [
           "Tim Duncan",
           2003,
           "SAS"
          ],
          [
           "Kevin Garnett",
           2004,
           "MIN"
          ],
          [
           "Steve Nash",
           2005,
           "PHO"
          ],
          [
           "Steve Nash",
           2006,
           "PHO"
          ],
          [
           "Dirk Nowitzki",
           2007,
           "DAL"
          ],
          [
           "Kobe Bryant",
           2008,
           "LAL"
          ],
          [
           "LeBron James",
           2009,
           "CLE"
          ],
          [
           "LeBron James",
           2010,
           "CLE"
          ],
          [
           "Derrick Rose",
           2011,
           "CHI"
          ],
          [
           "LeBron James",
           2012,
           "MIA"
          ],
          [
           "LeBron James",
           2013,
           "MIA"
          ],
          [
           "Kevin Durant",
           2014,
           "OKC"
          ],
          [
           "Stephen Curry",
           2015,
           "GSW"
          ],
          [
           "Stephen Curry",
           2016,
           "GSW"
          ],
          [
           "Russell Westbrook",
           2017,
           "OKC"
          ],
          [
           "James Harden",
           2018,
           "HOU"
          ],
          [
           "Giannis Antetokounmpo",
           2019,
           "MIL"
          ],
          [
           "Giannis Antetokounmpo",
           2020,
           "MIL"
          ],
          [
           "Nikola Jokić",
           2021,
           "DEN"
          ],
          [
           "Nikola Jokić",
           2022,
           "DEN"
          ],
          [
           "Joel Embiid",
           2023,
           "PHI"
          ]
         ],
         "hovertemplate": "MVP=Y<br>wl_pct=%{x}<br>box_plus_minus=%{y}<br>Player=%{customdata[0]}<br>Year=%{customdata[1]}<br>Tm=%{customdata[2]}<extra></extra>",
         "legendgroup": "Y",
         "marker": {
          "color": "#636efa",
          "symbol": "circle"
         },
         "mode": "markers",
         "name": "Y",
         "orientation": "v",
         "showlegend": true,
         "type": "scatter",
         "x": [
          0.7317073170731707,
          0.7560975609756098,
          0.5609756097560976,
          0.7926829268292683,
          0.7560975609756098,
          0.7682926829268293,
          0.8170731707317073,
          0.7926829268292683,
          0.6097560975609756,
          0.6951219512195121,
          0.7682926829268293,
          0.7439024390243902,
          0.8170731707317073,
          0.7560975609756098,
          0.7073170731707317,
          0.7560975609756098,
          0.8780487804878049,
          0.7804878048780488,
          0.7560975609756098,
          0.74,
          0.8170731707317073,
          0.6829268292682927,
          0.7073170731707317,
          0.7317073170731707,
          0.7073170731707317,
          0.7560975609756098,
          0.6585365853658537,
          0.8170731707317073,
          0.6951219512195121,
          0.8048780487804879,
          0.7439024390243902,
          0.7560975609756098,
          0.696969696969697,
          0.8048780487804879,
          0.7195121951219512,
          0.8170731707317073,
          0.8902439024390244,
          0.573170731707317,
          0.7926829268292683,
          0.7317073170731707,
          0.7671232876712328,
          0.6527777777777778,
          0.5853658536585366,
          0.6585365853658537
         ],
         "xaxis": "x",
         "y": [
          7.2,
          7.5,
          4.5,
          3.7,
          7.6,
          8.8,
          8.7,
          8.8,
          13,
          9.4,
          10.1,
          12,
          9.7,
          7.8,
          6.8,
          9.2,
          10.5,
          8.3,
          6.9,
          6.7,
          9.3,
          6.1,
          7.6,
          7.6,
          10.2,
          4.7,
          5,
          8.3,
          5.8,
          13.2,
          11.8,
          6.8,
          10.9,
          11.7,
          10.2,
          9.9,
          11.9,
          11.1,
          9.9,
          10.4,
          11.5,
          12.1,
          13.7,
          9.2
         ],
         "yaxis": "y"
        },
        {
         "customdata": [
          [
           "Julius Erving",
           1980,
           "PHI"
          ],
          [
           "George Gervin",
           1980,
           "SAS"
          ],
          [
           "Larry Bird",
           1980,
           "BOS"
          ],
          [
           "Tiny Archibald",
           1980,
           "BOS"
          ],
          [
           "Dennis Johnson",
           1980,
           "SEA"
          ],
          [
           "Dan Roundfield",
           1980,
           "ATL"
          ],
          [
           "Gus Williams",
           1980,
           "SEA"
          ],
          [
           "Moses Malone",
           1980,
           "HOU"
          ],
          [
           "Larry Bird",
           1981,
           "BOS"
          ],
          [
           "Kareem Abdul-Jabbar",
           1981,
           "LAL"
          ],
          [
           "Moses Malone",
           1981,
           "HOU"
          ],
          [
           "George Gervin",
           1981,
           "SAS"
          ],
          [
           "Marques Johnson",
           1981,
           "MIL"
          ],
          [
           "Robert Parish",
           1981,
           "BOS"
          ],
          [
           "Dennis Johnson",
           1981,
           "PHO"
          ],
          [
           "Larry Bird",
           1982,
           "BOS"
          ],
          [
           "Julius Erving",
           1982,
           "PHI"
          ],
          [
           "Robert Parish",
           1982,
           "BOS"
          ],
          [
           "Gus Williams",
           1982,
           "SEA"
          ],
          [
           "George Gervin",
           1982,
           "SAS"
          ],
          [
           "Sidney Moncrief",
           1982,
           "MIL"
          ],
          [
           "Magic Johnson",
           1982,
           "LAL"
          ],
          [
           "Jack Sikma",
           1982,
           "SEA"
          ],
          [
           "Kareem Abdul-Jabbar",
           1982,
           "LAL"
          ],
          [
           "Larry Bird",
           1983,
           "BOS"
          ],
          [
           "Magic Johnson",
           1983,
           "LAL"
          ],
          [
           "Sidney Moncrief",
           1983,
           "MIL"
          ],
          [
           "Julius Erving",
           1983,
           "PHI"
          ],
          [
           "Alex English",
           1983,
           "DEN"
          ],
          [
           "Buck Williams",
           1983,
           "NJN"
          ],
          [
           "Artis Gilmore",
           1983,
           "SAS"
          ],
          [
           "George Gervin",
           1983,
           "SAS"
          ],
          [
           "Kareem Abdul-Jabbar",
           1983,
           "LAL"
          ],
          [
           "Bernard King",
           1984,
           "NYK"
          ],
          [
           "Magic Johnson",
           1984,
           "LAL"
          ],
          [
           "Kareem Abdul-Jabbar",
           1984,
           "LAL"
          ],
          [
           "Isiah Thomas",
           1984,
           "DET"
          ],
          [
           "Julius Erving",
           1984,
           "PHI"
          ],
          [
           "Adrian Dantley",
           1984,
           "UTA"
          ],
          [
           "Sidney Moncrief",
           1984,
           "MIL"
          ],
          [
           "Magic Johnson",
           1985,
           "LAL"
          ],
          [
           "Moses Malone",
           1985,
           "PHI"
          ],
          [
           "Kareem Abdul-Jabbar",
           1985,
           "LAL"
          ],
          [
           "Terry Cummings",
           1985,
           "MIL"
          ],
          [
           "Michael Jordan",
           1985,
           "CHI"
          ],
          [
           "Bernard King",
           1985,
           "NYK"
          ],
          [
           "Sidney Moncrief",
           1985,
           "MIL"
          ],
          [
           "Isiah Thomas",
           1985,
           "DET"
          ],
          [
           "Ralph Sampson",
           1985,
           "HOU"
          ],
          [
           "Dominique Wilkins",
           1986,
           "ATL"
          ],
          [
           "Magic Johnson",
           1986,
           "LAL"
          ],
          [
           "Hakeem Olajuwon",
           1986,
           "HOU"
          ],
          [
           "Kareem Abdul-Jabbar",
           1986,
           "LAL"
          ],
          [
           "Charles Barkley",
           1986,
           "PHI"
          ],
          [
           "Sidney Moncrief",
           1986,
           "MIL"
          ],
          [
           "Alex English",
           1986,
           "DEN"
          ],
          [
           "Isiah Thomas",
           1986,
           "DET"
          ],
          [
           "Michael Jordan",
           1987,
           "CHI"
          ],
          [
           "Larry Bird",
           1987,
           "BOS"
          ],
          [
           "Kevin McHale",
           1987,
           "BOS"
          ],
          [
           "Dominique Wilkins",
           1987,
           "ATL"
          ],
          [
           "Charles Barkley",
           1987,
           "PHI"
          ],
          [
           "Hakeem Olajuwon",
           1987,
           "HOU"
          ],
          [
           "Isiah Thomas",
           1987,
           "DET"
          ],
          [
           "Fat Lever",
           1987,
           "DEN"
          ],
          [
           "Larry Bird",
           1988,
           "BOS"
          ],
          [
           "Magic Johnson",
           1988,
           "LAL"
          ],
          [
           "Charles Barkley",
           1988,
           "PHI"
          ],
          [
           "Clyde Drexler",
           1988,
           "POR"
          ],
          [
           "Dominique Wilkins",
           1988,
           "ATL"
          ],
          [
           "Hakeem Olajuwon",
           1988,
           "HOU"
          ],
          [
           "Karl Malone",
           1988,
           "UTA"
          ],
          [
           "Fat Lever",
           1988,
           "DEN"
          ],
          [
           "John Stockton",
           1988,
           "UTA"
          ],
          [
           "Michael Jordan",
           1989,
           "CHI"
          ],
          [
           "Karl Malone",
           1989,
           "UTA"
          ],
          [
           "Patrick Ewing",
           1989,
           "NYK"
          ],
          [
           "Hakeem Olajuwon",
           1989,
           "HOU"
          ],
          [
           "Charles Barkley",
           1989,
           "PHI"
          ],
          [
           "John Stockton",
           1989,
           "UTA"
          ],
          [
           "Kevin Johnson",
           1989,
           "PHO"
          ],
          [
           "Tom Chambers",
           1989,
           "PHO"
          ],
          [
           "Mark Price",
           1989,
           "CLE"
          ],
          [
           "Charles Barkley",
           1990,
           "PHI"
          ],
          [
           "Michael Jordan",
           1990,
           "CHI"
          ],
          [
           "Karl Malone",
           1990,
           "UTA"
          ],
          [
           "Patrick Ewing",
           1990,
           "NYK"
          ],
          [
           "David Robinson",
           1990,
           "SAS"
          ],
          [
           "Hakeem Olajuwon",
           1990,
           "HOU"
          ],
          [
           "Tom Chambers",
           1990,
           "PHO"
          ],
          [
           "John Stockton",
           1990,
           "UTA"
          ],
          [
           "Larry Bird",
           1990,
           "BOS"
          ],
          [
           "Magic Johnson",
           1991,
           "LAL"
          ],
          [
           "David Robinson",
           1991,
           "SAS"
          ],
          [
           "Charles Barkley",
           1991,
           "PHI"
          ],
          [
           "Karl Malone",
           1991,
           "UTA"
          ],
          [
           "Clyde Drexler",
           1991,
           "POR"
          ],
          [
           "Kevin Johnson",
           1991,
           "PHO"
          ],
          [
           "Dominique Wilkins",
           1991,
           "ATL"
          ],
          [
           "Larry Bird",
           1991,
           "BOS"
          ],
          [
           "Terry Porter",
           1991,
           "POR"
          ],
          [
           "Clyde Drexler",
           1992,
           "POR"
          ],
          [
           "David Robinson",
           1992,
           "SAS"
          ],
          [
           "Karl Malone",
           1992,
           "UTA"
          ],
          [
           "Patrick Ewing",
           1992,
           "NYK"
          ],
          [
           "Chris Mullin",
           1992,
           "GSW"
          ],
          [
           "Mark Price",
           1992,
           "CLE"
          ],
          [
           "Tim Hardaway",
           1992,
           "GSW"
          ],
          [
           "Scottie Pippen",
           1992,
           "CHI"
          ],
          [
           "Dennis Rodman",
           1992,
           "DET"
          ],
          [
           "Hakeem Olajuwon",
           1993,
           "HOU"
          ],
          [
           "Michael Jordan",
           1993,
           "CHI"
          ],
          [
           "Patrick Ewing",
           1993,
           "NYK"
          ],
          [
           "Dominique Wilkins",
           1993,
           "ATL"
          ],
          [
           "David Robinson",
           1993,
           "SAS"
          ],
          [
           "Shaquille O'Neal",
           1993,
           "ORL"
          ],
          [
           "Karl Malone",
           1993,
           "UTA"
          ],
          [
           "Mark Price",
           1993,
           "CLE"
          ],
          [
           "Brad Daugherty",
           1993,
           "CLE"
          ],
          [
           "David Robinson",
           1994,
           "SAS"
          ],
          [
           "Scottie Pippen",
           1994,
           "CHI"
          ],
          [
           "Shaquille O'Neal",
           1994,
           "ORL"
          ],
          [
           "Patrick Ewing",
           1994,
           "NYK"
          ],
          [
           "Gary Payton",
           1994,
           "SEA"
          ],
          [
           "Shawn Kemp",
           1994,
           "SEA"
          ],
          [
           "Karl Malone",
           1994,
           "UTA"
          ],
          [
           "Mark Price",
           1994,
           "CLE"
          ],
          [
           "Charles Barkley",
           1994,
           "PHO"
          ],
          [
           "Shaquille O'Neal",
           1995,
           "ORL"
          ],
          [
           "Karl Malone",
           1995,
           "UTA"
          ],
          [
           "Patrick Ewing",
           1995,
           "NYK"
          ],
          [
           "Hakeem Olajuwon",
           1995,
           "HOU"
          ],
          [
           "Charles Barkley",
           1995,
           "PHO"
          ],
          [
           "Scottie Pippen",
           1995,
           "CHI"
          ],
          [
           "John Stockton",
           1995,
           "UTA"
          ],
          [
           "Gary Payton",
           1995,
           "SEA"
          ],
          [
           "Anfernee Hardaway",
           1995,
           "ORL"
          ],
          [
           "David Robinson",
           1996,
           "SAS"
          ],
          [
           "Anfernee Hardaway",
           1996,
           "ORL"
          ],
          [
           "Hakeem Olajuwon",
           1996,
           "HOU"
          ],
          [
           "Scottie Pippen",
           1996,
           "CHI"
          ],
          [
           "Gary Payton",
           1996,
           "SEA"
          ],
          [
           "Karl Malone",
           1996,
           "UTA"
          ],
          [
           "Shawn Kemp",
           1996,
           "SEA"
          ],
          [
           "Grant Hill",
           1996,
           "DET"
          ],
          [
           "Michael Jordan",
           1997,
           "CHI"
          ],
          [
           "Grant Hill",
           1997,
           "DET"
          ],
          [
           "Tim Hardaway",
           1997,
           "MIA"
          ],
          [
           "Glen Rice",
           1997,
           "CHH"
          ],
          [
           "Gary Payton",
           1997,
           "SEA"
          ],
          [
           "Hakeem Olajuwon",
           1997,
           "HOU"
          ],
          [
           "Patrick Ewing",
           1997,
           "NYK"
          ],
          [
           "Anthony Mason",
           1997,
           "CHH"
          ],
          [
           "Shaquille O'Neal",
           1997,
           "LAL"
          ],
          [
           "Karl Malone",
           1998,
           "UTA"
          ],
          [
           "Gary Payton",
           1998,
           "SEA"
          ],
          [
           "Shaquille O'Neal",
           1998,
           "LAL"
          ],
          [
           "Tim Duncan",
           1998,
           "SAS"
          ],
          [
           "Tim Hardaway",
           1998,
           "MIA"
          ],
          [
           "David Robinson",
           1998,
           "SAS"
          ],
          [
           "Grant Hill",
           1998,
           "DET"
          ],
          [
           "Scottie Pippen",
           1998,
           "CHI"
          ],
          [
           "Alonzo Mourning",
           1999,
           "MIA"
          ],
          [
           "Tim Duncan",
           1999,
           "SAS"
          ],
          [
           "Allen Iverson",
           1999,
           "PHI"
          ],
          [
           "Jason Kidd",
           1999,
           "PHO"
          ],
          [
           "Shaquille O'Neal",
           1999,
           "LAL"
          ],
          [
           "Chris Webber",
           1999,
           "SAC"
          ],
          [
           "Grant Hill",
           1999,
           "DET"
          ],
          [
           "Gary Payton",
           1999,
           "SEA"
          ],
          [
           "Kevin Garnett",
           1999,
           "MIN"
          ],
          [
           "Kevin Garnett",
           2000,
           "MIN"
          ],
          [
           "Alonzo Mourning",
           2000,
           "MIA"
          ],
          [
           "Karl Malone",
           2000,
           "UTA"
          ],
          [
           "Tim Duncan",
           2000,
           "SAS"
          ],
          [
           "Gary Payton",
           2000,
           "SEA"
          ],
          [
           "Allen Iverson",
           2000,
           "PHI"
          ],
          [
           "Grant Hill",
           2000,
           "DET"
          ],
          [
           "Chris Webber",
           2000,
           "SAC"
          ],
          [
           "Vince Carter",
           2000,
           "TOR"
          ],
          [
           "Tim Duncan",
           2001,
           "SAS"
          ],
          [
           "Shaquille O'Neal",
           2001,
           "LAL"
          ],
          [
           "Chris Webber",
           2001,
           "SAC"
          ],
          [
           "Kevin Garnett",
           2001,
           "MIN"
          ],
          [
           "Tracy McGrady",
           2001,
           "ORL"
          ],
          [
           "Karl Malone",
           2001,
           "UTA"
          ],
          [
           "Jason Kidd",
           2001,
           "PHO"
          ],
          [
           "Kobe Bryant",
           2001,
           "LAL"
          ],
          [
           "David Robinson",
           2001,
           "SAS"
          ],
          [
           "Jason Kidd",
           2002,
           "NJN"
          ],
          [
           "Shaquille O'Neal",
           2002,
           "LAL"
          ],
          [
           "Tracy McGrady",
           2002,
           "ORL"
          ],
          [
           "Kobe Bryant",
           2002,
           "LAL"
          ],
          [
           "Gary Payton",
           2002,
           "SEA"
          ],
          [
           "Chris Webber",
           2002,
           "SAC"
          ],
          [
           "Dirk Nowitzki",
           2002,
           "DAL"
          ],
          [
           "Allen Iverson",
           2002,
           "PHI"
          ],
          [
           "Ben Wallace",
           2002,
           "DET"
          ],
          [
           "Kevin Garnett",
           2003,
           "MIN"
          ],
          [
           "Kobe Bryant",
           2003,
           "LAL"
          ],
          [
           "Tracy McGrady",
           2003,
           "ORL"
          ],
          [
           "Shaquille O'Neal",
           2003,
           "LAL"
          ],
          [
           "Allen Iverson",
           2003,
           "PHI"
          ],
          [
           "Dirk Nowitzki",
           2003,
           "DAL"
          ],
          [
           "Ben Wallace",
           2003,
           "DET"
          ],
          [
           "Jason Kidd",
           2003,
           "NJN"
          ],
          [
           "Chris Webber",
           2003,
           "SAC"
          ],
          [
           "Tim Duncan",
           2004,
           "SAS"
          ],
          [
           "Jermaine O'Neal",
           2004,
           "IND"
          ],
          [
           "Peja Stojaković",
           2004,
           "SAC"
          ],
          [
           "Kobe Bryant",
           2004,
           "LAL"
          ],
          [
           "Shaquille O'Neal",
           2004,
           "LAL"
          ],
          [
           "Ben Wallace",
           2004,
           "DET"
          ],
          [
           "Jason Kidd",
           2004,
           "NJN"
          ],
          [
           "LeBron James",
           2004,
           "CLE"
          ],
          [
           "Sam Cassell",
           2004,
           "MIN"
          ],
          [
           "Shaquille O'Neal",
           2005,
           "MIA"
          ],
          [
           "Dirk Nowitzki",
           2005,
           "DAL"
          ],
          [
           "Tim Duncan",
           2005,
           "SAS"
          ],
          [
           "Allen Iverson",
           2005,
           "PHI"
          ],
          [
           "LeBron James",
           2005,
           "CLE"
          ],
          [
           "Tracy McGrady",
           2005,
           "HOU"
          ],
          [
           "Dwyane Wade",
           2005,
           "MIA"
          ],
          [
           "Amar'e Stoudemire",
           2005,
           "PHO"
          ],
          [
           "Ray Allen",
           2005,
           "SEA"
          ],
          [
           "LeBron James",
           2006,
           "CLE"
          ],
          [
           "Dirk Nowitzki",
           2006,
           "DAL"
          ],
          [
           "Kobe Bryant",
           2006,
           "LAL"
          ],
          [
           "Chauncey Billups",
           2006,
           "DET"
          ],
          [
           "Dwyane Wade",
           2006,
           "MIA"
          ],
          [
           "Elton Brand",
           2006,
           "LAC"
          ],
          [
           "Tim Duncan",
           2006,
           "SAS"
          ],
          [
           "Tony Parker",
           2006,
           "SAS"
          ],
          [
           "Allen Iverson",
           2006,
           "PHI"
          ],
          [
           "Steve Nash",
           2007,
           "PHO"
          ],
          [
           "Kobe Bryant",
           2007,
           "LAL"
          ],
          [
           "Tim Duncan",
           2007,
           "SAS"
          ],
          [
           "LeBron James",
           2007,
           "CLE"
          ],
          [
           "Tracy McGrady",
           2007,
           "HOU"
          ],
          [
           "Chris Bosh",
           2007,
           "TOR"
          ],
          [
           "Gilbert Arenas",
           2007,
           "WAS"
          ],
          [
           "Carlos Boozer",
           2007,
           "UTA"
          ],
          [
           "Kevin Garnett",
           2007,
           "MIN"
          ],
          [
           "Chris Paul",
           2008,
           "NOH"
          ],
          [
           "Kevin Garnett",
           2008,
           "BOS"
          ],
          [
           "LeBron James",
           2008,
           "CLE"
          ],
          [
           "Dwight Howard",
           2008,
           "ORL"
          ],
          [
           "Amar'e Stoudemire",
           2008,
           "PHO"
          ],
          [
           "Tim Duncan",
           2008,
           "SAS"
          ],
          [
           "Tracy McGrady",
           2008,
           "HOU"
          ],
          [
           "Steve Nash",
           2008,
           "PHO"
          ],
          [
           "Manu Ginóbili",
           2008,
           "SAS"
          ],
          [
           "Kobe Bryant",
           2009,
           "LAL"
          ],
          [
           "Dwyane Wade",
           2009,
           "MIA"
          ],
          [
           "Dwight Howard",
           2009,
           "ORL"
          ],
          [
           "Chris Paul",
           2009,
           "NOH"
          ],
          [
           "Chauncey Billups",
           2009,
           "TOT"
          ],
          [
           "Paul Pierce",
           2009,
           "BOS"
          ],
          [
           "Tony Parker",
           2009,
           "SAS"
          ],
          [
           "Brandon Roy",
           2009,
           "POR"
          ],
          [
           "Dirk Nowitzki",
           2009,
           "DAL"
          ],
          [
           "Kevin Durant",
           2010,
           "OKC"
          ],
          [
           "Kobe Bryant",
           2010,
           "LAL"
          ],
          [
           "Dwight Howard",
           2010,
           "ORL"
          ],
          [
           "Dwyane Wade",
           2010,
           "MIA"
          ],
          [
           "Carmelo Anthony",
           2010,
           "DEN"
          ],
          [
           "Dirk Nowitzki",
           2010,
           "DAL"
          ],
          [
           "Steve Nash",
           2010,
           "PHO"
          ],
          [
           "Deron Williams",
           2010,
           "UTA"
          ],
          [
           "Dwight Howard",
           2011,
           "ORL"
          ],
          [
           "LeBron James",
           2011,
           "MIA"
          ],
          [
           "Kobe Bryant",
           2011,
           "LAL"
          ],
          [
           "Kevin Durant",
           2011,
           "OKC"
          ],
          [
           "Dirk Nowitzki",
           2011,
           "DAL"
          ],
          [
           "Dwyane Wade",
           2011,
           "MIA"
          ],
          [
           "Manu Ginóbili",
           2011,
           "SAS"
          ],
          [
           "Amar'e Stoudemire",
           2011,
           "NYK"
          ],
          [
           "Blake Griffin",
           2011,
           "LAC"
          ],
          [
           "Kevin Durant",
           2012,
           "OKC"
          ],
          [
           "Chris Paul",
           2012,
           "LAC"
          ],
          [
           "Kobe Bryant",
           2012,
           "LAL"
          ],
          [
           "Tony Parker",
           2012,
           "SAS"
          ],
          [
           "Kevin Love",
           2012,
           "MIN"
          ],
          [
           "Dwight Howard",
           2012,
           "ORL"
          ],
          [
           "Rajon Rondo",
           2012,
           "BOS"
          ],
          [
           "Steve Nash",
           2012,
           "PHO"
          ],
          [
           "Dwyane Wade",
           2012,
           "MIA"
          ],
          [
           "Kevin Durant",
           2013,
           "OKC"
          ],
          [
           "Carmelo Anthony",
           2013,
           "NYK"
          ],
          [
           "Chris Paul",
           2013,
           "LAC"
          ],
          [
           "Kobe Bryant",
           2013,
           "LAL"
          ],
          [
           "Tony Parker",
           2013,
           "SAS"
          ],
          [
           "Tim Duncan",
           2013,
           "SAS"
          ],
          [
           "James Harden",
           2013,
           "HOU"
          ],
          [
           "Russell Westbrook",
           2013,
           "OKC"
          ],
          [
           "Dwyane Wade",
           2013,
           "MIA"
          ],
          [
           "LeBron James",
           2014,
           "MIA"
          ],
          [
           "Blake Griffin",
           2014,
           "LAC"
          ],
          [
           "Joakim Noah",
           2014,
           "CHI"
          ],
          [
           "James Harden",
           2014,
           "HOU"
          ],
          [
           "Stephen Curry",
           2014,
           "GSW"
          ],
          [
           "Chris Paul",
           2014,
           "LAC"
          ],
          [
           "Al Jefferson",
           2014,
           "CHA"
          ],
          [
           "Paul George",
           2014,
           "IND"
          ],
          [
           "LaMarcus Aldridge",
           2014,
           "POR"
          ],
          [
           "James Harden",
           2015,
           "HOU"
          ],
          [
           "LeBron James",
           2015,
           "CLE"
          ],
          [
           "Russell Westbrook",
           2015,
           "OKC"
          ],
          [
           "Anthony Davis",
           2015,
           "NOP"
          ],
          [
           "Chris Paul",
           2015,
           "LAC"
          ],
          [
           "LaMarcus Aldridge",
           2015,
           "POR"
          ],
          [
           "Marc Gasol",
           2015,
           "MEM"
          ],
          [
           "Blake Griffin",
           2015,
           "LAC"
          ],
          [
           "Tim Duncan",
           2015,
           "SAS"
          ],
          [
           "Kawhi Leonard",
           2016,
           "SAS"
          ],
          [
           "LeBron James",
           2016,
           "CLE"
          ],
          [
           "Russell Westbrook",
           2016,
           "OKC"
          ],
          [
           "Kevin Durant",
           2016,
           "OKC"
          ],
          [
           "Chris Paul",
           2016,
           "LAC"
          ],
          [
           "Draymond Green",
           2016,
           "GSW"
          ],
          [
           "Damian Lillard",
           2016,
           "POR"
          ],
          [
           "James Harden",
           2016,
           "HOU"
          ],
          [
           "Kyle Lowry",
           2016,
           "TOR"
          ],
          [
           "James Harden",
           2017,
           "HOU"
          ],
          [
           "Kawhi Leonard",
           2017,
           "SAS"
          ],
          [
           "LeBron James",
           2017,
           "CLE"
          ],
          [
           "Isaiah Thomas",
           2017,
           "BOS"
          ],
          [
           "Stephen Curry",
           2017,
           "GSW"
          ],
          [
           "Giannis Antetokounmpo",
           2017,
           "MIL"
          ],
          [
           "John Wall",
           2017,
           "WAS"
          ],
          [
           "Anthony Davis",
           2017,
           "NOP"
          ],
          [
           "Kevin Durant",
           2017,
           "GSW"
          ],
          [
           "LeBron James",
           2018,
           "CLE"
          ],
          [
           "Anthony Davis",
           2018,
           "NOP"
          ],
          [
           "Damian Lillard",
           2018,
           "POR"
          ],
          [
           "Russell Westbrook",
           2018,
           "OKC"
          ],
          [
           "Giannis Antetokounmpo",
           2018,
           "MIL"
          ],
          [
           "Kevin Durant",
           2018,
           "GSW"
          ],
          [
           "DeMar DeRozan",
           2018,
           "TOR"
          ],
          [
           "LaMarcus Aldridge",
           2018,
           "SAS"
          ],
          [
           "Jimmy Butler",
           2018,
           "MIN"
          ],
          [
           "James Harden",
           2019,
           "HOU"
          ],
          [
           "Paul George",
           2019,
           "OKC"
          ],
          [
           "Nikola Jokić",
           2019,
           "DEN"
          ],
          [
           "Stephen Curry",
           2019,
           "GSW"
          ],
          [
           "Damian Lillard",
           2019,
           "POR"
          ],
          [
           "Joel Embiid",
           2019,
           "PHI"
          ],
          [
           "Kevin Durant",
           2019,
           "GSW"
          ],
          [
           "Kawhi Leonard",
           2019,
           "TOR"
          ],
          [
           "Russell Westbrook",
           2019,
           "OKC"
          ],
          [
           "LeBron James",
           2020,
           "LAL"
          ],
          [
           "James Harden",
           2020,
           "HOU"
          ],
          [
           "Luka Dončić",
           2020,
           "DAL"
          ],
          [
           "Kawhi Leonard",
           2020,
           "LAC"
          ],
          [
           "Anthony Davis",
           2020,
           "LAL"
          ],
          [
           "Chris Paul",
           2020,
           "OKC"
          ],
          [
           "Damian Lillard",
           2020,
           "POR"
          ],
          [
           "Nikola Jokić",
           2020,
           "DEN"
          ],
          [
           "Pascal Siakam",
           2020,
           "TOR"
          ],
          [
           "Joel Embiid",
           2021,
           "PHI"
          ],
          [
           "Stephen Curry",
           2021,
           "GSW"
          ],
          [
           "Giannis Antetokounmpo",
           2021,
           "MIL"
          ],
          [
           "Chris Paul",
           2021,
           "PHO"
          ],
          [
           "Luka Dončić",
           2021,
           "DAL"
          ],
          [
           "Damian Lillard",
           2021,
           "POR"
          ],
          [
           "Julius Randle",
           2021,
           "NYK"
          ],
          [
           "Rudy Gobert",
           2021,
           "UTA"
          ],
          [
           "Joel Embiid",
           2022,
           "PHI"
          ],
          [
           "Giannis Antetokounmpo",
           2022,
           "MIL"
          ],
          [
           "Devin Booker",
           2022,
           "PHO"
          ],
          [
           "Luka Dončić",
           2022,
           "DAL"
          ],
          [
           "Jayson Tatum",
           2022,
           "BOS"
          ],
          [
           "Ja Morant",
           2022,
           "MEM"
          ],
          [
           "Stephen Curry",
           2022,
           "GSW"
          ],
          [
           "Chris Paul",
           2022,
           "PHO"
          ],
          [
           "DeMar DeRozan",
           2022,
           "CHI"
          ],
          [
           "Nikola Jokić",
           2023,
           "DEN"
          ],
          [
           "Giannis Antetokounmpo",
           2023,
           "MIL"
          ],
          [
           "Jayson Tatum",
           2023,
           "BOS"
          ],
          [
           "Shai Gilgeous-Alexander",
           2023,
           "OKC"
          ],
          [
           "Donovan Mitchell",
           2023,
           "CLE"
          ],
          [
           "Domantas Sabonis",
           2023,
           "SAC"
          ],
          [
           "Luka Dončić",
           2023,
           "DAL"
          ],
          [
           "Stephen Curry",
           2023,
           "GSW"
          ],
          [
           "Jimmy Butler",
           2023,
           "MIA"
          ]
         ],
         "hovertemplate": "MVP=N<br>wl_pct=%{x}<br>box_plus_minus=%{y}<br>Player=%{customdata[0]}<br>Year=%{customdata[1]}<br>Tm=%{customdata[2]}<extra></extra>",
         "legendgroup": "N",
         "marker": {
          "color": "#EF553B",
          "symbol": "circle"
         },
         "mode": "markers",
         "name": "N",
         "orientation": "v",
         "showlegend": true,
         "type": "scatter",
         "x": [
          0.7195121951219512,
          0.5,
          0.7439024390243902,
          0.7439024390243902,
          0.6829268292682927,
          0.6097560975609756,
          0.6829268292682927,
          0.5,
          0.7560975609756098,
          0.6585365853658537,
          0.4878048780487805,
          0.6341463414634146,
          0.7317073170731707,
          0.7560975609756098,
          0.6951219512195121,
          0.7682926829268293,
          0.7073170731707317,
          0.7682926829268293,
          0.6341463414634146,
          0.5853658536585366,
          0.6707317073170732,
          0.6951219512195121,
          0.6341463414634146,
          0.6951219512195121,
          0.6829268292682927,
          0.7073170731707317,
          0.6219512195121951,
          0.7926829268292683,
          0.5487804878048781,
          0.5975609756097561,
          0.6463414634146342,
          0.6463414634146342,
          0.7073170731707317,
          0.573170731707317,
          0.6585365853658537,
          0.6585365853658537,
          0.5975609756097561,
          0.6341463414634146,
          0.5487804878048781,
          0.6097560975609756,
          0.7560975609756098,
          0.7073170731707317,
          0.7560975609756098,
          0.7195121951219512,
          0.4634146341463415,
          0.2926829268292683,
          0.7195121951219512,
          0.5609756097560976,
          0.5853658536585366,
          0.6097560975609756,
          0.7560975609756098,
          0.6219512195121951,
          0.7560975609756098,
          0.6585365853658537,
          0.6951219512195121,
          0.573170731707317,
          0.5609756097560976,
          0.4878048780487805,
          0.7195121951219512,
          0.7195121951219512,
          0.6951219512195121,
          0.5487804878048781,
          0.5121951219512195,
          0.6341463414634146,
          0.4512195121951219,
          0.6951219512195121,
          0.7560975609756098,
          0.4390243902439024,
          0.6463414634146342,
          0.6097560975609756,
          0.5609756097560976,
          0.573170731707317,
          0.6585365853658537,
          0.573170731707317,
          0.573170731707317,
          0.6219512195121951,
          0.6341463414634146,
          0.5487804878048781,
          0.5609756097560976,
          0.6219512195121951,
          0.6707317073170732,
          0.6707317073170732,
          0.6951219512195121,
          0.6463414634146342,
          0.6707317073170732,
          0.6707317073170732,
          0.5487804878048781,
          0.6829268292682927,
          0.5,
          0.6585365853658537,
          0.6707317073170732,
          0.6341463414634146,
          0.7073170731707317,
          0.6707317073170732,
          0.5365853658536586,
          0.6585365853658537,
          0.7682926829268293,
          0.6707317073170732,
          0.524390243902439,
          0.6829268292682927,
          0.7682926829268293,
          0.6951219512195121,
          0.573170731707317,
          0.6707317073170732,
          0.6219512195121951,
          0.6707317073170732,
          0.6951219512195121,
          0.6707317073170732,
          0.8170731707317073,
          0.5853658536585366,
          0.6707317073170732,
          0.6951219512195121,
          0.7317073170731707,
          0.524390243902439,
          0.5975609756097561,
          0.5,
          0.573170731707317,
          0.6585365853658537,
          0.6585365853658537,
          0.6707317073170732,
          0.6707317073170732,
          0.6097560975609756,
          0.6951219512195121,
          0.7682926829268293,
          0.7682926829268293,
          0.6463414634146342,
          0.573170731707317,
          0.6829268292682927,
          0.6951219512195121,
          0.7317073170731707,
          0.6707317073170732,
          0.573170731707317,
          0.7195121951219512,
          0.573170731707317,
          0.7317073170731707,
          0.6951219512195121,
          0.6951219512195121,
          0.7195121951219512,
          0.7317073170731707,
          0.5853658536585366,
          0.8780487804878049,
          0.7804878048780488,
          0.6707317073170732,
          0.7804878048780488,
          0.5609756097560976,
          0.8414634146341463,
          0.6585365853658537,
          0.7439024390243902,
          0.6585365853658537,
          0.6951219512195121,
          0.6951219512195121,
          0.6951219512195121,
          0.6585365853658537,
          0.6829268292682927,
          0.7560975609756098,
          0.7439024390243902,
          0.7439024390243902,
          0.6829268292682927,
          0.6707317073170732,
          0.6829268292682927,
          0.4512195121951219,
          0.7560975609756098,
          0.66,
          0.74,
          0.56,
          0.54,
          0.62,
          0.54,
          0.58,
          0.5,
          0.5,
          0.6097560975609756,
          0.6341463414634146,
          0.6707317073170732,
          0.6463414634146342,
          0.5487804878048781,
          0.5975609756097561,
          0.5121951219512195,
          0.5365853658536586,
          0.5487804878048781,
          0.7073170731707317,
          0.6829268292682927,
          0.6707317073170732,
          0.573170731707317,
          0.524390243902439,
          0.6463414634146342,
          0.6219512195121951,
          0.6829268292682927,
          0.7073170731707317,
          0.6341463414634146,
          0.7073170731707317,
          0.5365853658536586,
          0.7073170731707317,
          0.5487804878048781,
          0.7439024390243902,
          0.6951219512195121,
          0.524390243902439,
          0.6097560975609756,
          0.6219512195121951,
          0.6097560975609756,
          0.5121951219512195,
          0.6097560975609756,
          0.5853658536585366,
          0.7317073170731707,
          0.6097560975609756,
          0.5975609756097561,
          0.7195121951219512,
          0.6951219512195121,
          0.7439024390243902,
          0.6707317073170732,
          0.6829268292682927,
          0.6829268292682927,
          0.6585365853658537,
          0.573170731707317,
          0.4268292682926829,
          0.7073170731707317,
          0.7195121951219512,
          0.7073170731707317,
          0.7195121951219512,
          0.524390243902439,
          0.5121951219512195,
          0.6219512195121951,
          0.7195121951219512,
          0.7560975609756098,
          0.6341463414634146,
          0.6097560975609756,
          0.7317073170731707,
          0.5487804878048781,
          0.7804878048780488,
          0.6341463414634146,
          0.573170731707317,
          0.7682926829268293,
          0.7682926829268293,
          0.4634146341463415,
          0.7439024390243902,
          0.5121951219512195,
          0.7073170731707317,
          0.6097560975609756,
          0.6341463414634146,
          0.573170731707317,
          0.5,
          0.6219512195121951,
          0.3902439024390244,
          0.6829268292682927,
          0.8048780487804879,
          0.5487804878048781,
          0.6341463414634146,
          0.6707317073170732,
          0.6829268292682927,
          0.6707317073170732,
          0.6707317073170732,
          0.6829268292682927,
          0.7926829268292683,
          0.524390243902439,
          0.7195121951219512,
          0.5975609756097561,
          0.6585365853658537,
          0.7560975609756098,
          0.6585365853658537,
          0.6585365853658537,
          0.6097560975609756,
          0.6097560975609756,
          0.6951219512195121,
          0.7195121951219512,
          0.573170731707317,
          0.6463414634146342,
          0.6707317073170732,
          0.6585365853658537,
          0.6463414634146342,
          0.6341463414634146,
          0.7073170731707317,
          0.6951219512195121,
          0.6707317073170732,
          0.6951219512195121,
          0.7073170731707317,
          0.7439024390243902,
          0.5121951219512195,
          0.3902439024390244,
          0.7121212121212122,
          0.6060606060606061,
          0.6212121212121212,
          0.7575757575757576,
          0.3939393939393939,
          0.5606060606060606,
          0.5909090909090909,
          0.5,
          0.696969696969697,
          0.7317073170731707,
          0.6585365853658537,
          0.6829268292682927,
          0.5487804878048781,
          0.7073170731707317,
          0.7073170731707317,
          0.5487804878048781,
          0.7317073170731707,
          0.8048780487804879,
          0.6585365853658537,
          0.6951219512195121,
          0.5853658536585366,
          0.6585365853658537,
          0.6219512195121951,
          0.6951219512195121,
          0.524390243902439,
          0.6829268292682927,
          0.6585365853658537,
          0.6829268292682927,
          0.6463414634146342,
          0.5487804878048781,
          0.5487804878048781,
          0.6829268292682927,
          0.6219512195121951,
          0.6707317073170732,
          0.6829268292682927,
          0.6707317073170732,
          0.8170731707317073,
          0.6951219512195121,
          0.6707317073170732,
          0.6707317073170732,
          0.6463414634146342,
          0.8902439024390244,
          0.5365853658536586,
          0.5,
          0.6829268292682927,
          0.6707317073170732,
          0.7439024390243902,
          0.6219512195121951,
          0.6463414634146342,
          0.8170731707317073,
          0.5121951219512195,
          0.5975609756097561,
          0.4146341463414634,
          0.8170731707317073,
          0.6097560975609756,
          0.5853658536585366,
          0.5975609756097561,
          0.5853658536585366,
          0.5365853658536586,
          0.7073170731707317,
          0.7195121951219512,
          0.573170731707317,
          0.573170731707317,
          0.6463414634146342,
          0.5975609756097561,
          0.6585365853658537,
          0.6951219512195121,
          0.6463414634146342,
          0.6219512195121951,
          0.6951219512195121,
          0.7073170731707317,
          0.5975609756097561,
          0.7323943661971831,
          0.6111111111111112,
          0.5733333333333334,
          0.6805555555555556,
          0.7323943661971831,
          0.6111111111111112,
          0.4729729729729729,
          0.6301369863013698,
          0.7361111111111112,
          0.6805555555555556,
          0.5416666666666666,
          0.6388888888888888,
          0.7083333333333334,
          0.5833333333333334,
          0.5833333333333334,
          0.5694444444444444,
          0.7222222222222222,
          0.6219512195121951,
          0.6219512195121951,
          0.7804878048780488,
          0.6341463414634146,
          0.6219512195121951,
          0.6829268292682927,
          0.6463414634146342,
          0.7804878048780488,
          0.5609756097560976,
          0.6463414634146342,
          0.7073170731707317,
          0.6951219512195121,
          0.4878048780487805,
          0.6219512195121951,
          0.5853658536585366,
          0.4634146341463415,
          0.5365853658536586,
          0.5365853658536586
         ],
         "xaxis": "x",
         "y": [
          7.6,
          3.9,
          4.5,
          1.1,
          1.3,
          2.9,
          4.7,
          2.1,
          4.3,
          6.1,
          3.3,
          2.9,
          5.6,
          5.4,
          1.8,
          6.6,
          7.7,
          3.8,
          5.1,
          3.9,
          4.8,
          7.2,
          3.9,
          5,
          7.5,
          7.2,
          5.4,
          6.5,
          4.6,
          2,
          2.8,
          1.8,
          4.5,
          4.5,
          6.6,
          3,
          4.8,
          5.9,
          4.2,
          4.1,
          6.7,
          1.6,
          5.1,
          4.3,
          7.3,
          5.1,
          4.8,
          6.3,
          0.4,
          4.2,
          6.7,
          4,
          5.4,
          5.1,
          4.9,
          2.9,
          5,
          10.8,
          9.4,
          5.1,
          5.5,
          6.7,
          5.8,
          3.3,
          5,
          8.8,
          6,
          7.4,
          7,
          4.3,
          4.4,
          1.5,
          5.1,
          8.5,
          11.9,
          5.4,
          4.5,
          5.5,
          7.5,
          8.3,
          4.2,
          1.4,
          4.5,
          8.2,
          11.2,
          6.4,
          5.5,
          6.9,
          5.8,
          2.3,
          8.9,
          5.3,
          9,
          8.5,
          9.3,
          5.4,
          6.8,
          6.6,
          4.9,
          4.6,
          7.4,
          8.7,
          9.4,
          5.7,
          4.9,
          3.7,
          5.8,
          2.8,
          6.1,
          2.8,
          7.5,
          11.2,
          3.4,
          5.4,
          6.4,
          3.5,
          7.3,
          5.3,
          4.9,
          11.9,
          7.7,
          6.8,
          5.2,
          3.1,
          4.4,
          5.6,
          6.4,
          5.2,
          5.8,
          5.6,
          3.5,
          5.4,
          6.3,
          7.5,
          9,
          4.9,
          4.1,
          8.9,
          7.2,
          4.9,
          6.3,
          4.6,
          7,
          2.8,
          4.8,
          8.9,
          8.2,
          6.2,
          1.8,
          5.5,
          3.5,
          2.8,
          3.5,
          6.5,
          7.3,
          5.1,
          5.8,
          4.6,
          5.2,
          8.3,
          4.7,
          5,
          4.7,
          4.5,
          5.7,
          5.5,
          7.1,
          1.9,
          6.2,
          5.1,
          5.3,
          6.3,
          5.3,
          7.5,
          5.6,
          6.4,
          3.2,
          5.4,
          5.7,
          5.5,
          4.7,
          7.7,
          5.5,
          6,
          7,
          6.6,
          4.2,
          4.8,
          5.2,
          4.5,
          8,
          6.8,
          4.6,
          5.1,
          5.4,
          5.5,
          4.8,
          4.4,
          8.4,
          7.1,
          10.5,
          6.5,
          3.5,
          7.2,
          3.9,
          6.6,
          3.5,
          8.5,
          2.4,
          3.9,
          5.6,
          4.8,
          3.5,
          4.7,
          1.7,
          4.4,
          5.3,
          7.3,
          7.6,
          4.2,
          8.6,
          6.7,
          4.6,
          4.4,
          4.1,
          9.1,
          8.1,
          7.6,
          6.2,
          7.7,
          6.7,
          5,
          2.8,
          4.8,
          5.9,
          5.9,
          7,
          8.1,
          6.1,
          2.7,
          4.7,
          4.6,
          5.4,
          10.4,
          8.2,
          10.9,
          2.8,
          4.8,
          5.2,
          2.9,
          3.9,
          8.3,
          5.9,
          10.6,
          4.5,
          11,
          3.4,
          3.1,
          3.6,
          6.2,
          3.4,
          7.1,
          4.1,
          4.4,
          9.2,
          2.3,
          4.2,
          4.3,
          3.8,
          5.3,
          8.1,
          5.2,
          4.9,
          5.1,
          6.6,
          5.4,
          1.4,
          2.6,
          7,
          9.2,
          3.3,
          2.7,
          5.2,
          4.3,
          2.2,
          3.4,
          7.9,
          9.3,
          4.3,
          8.8,
          4.6,
          3.6,
          5.3,
          5.6,
          4.4,
          4.4,
          8.8,
          4.5,
          5.3,
          5.6,
          7.4,
          8.6,
          2.7,
          4.9,
          2.3,
          8.8,
          7.1,
          8.1,
          8.9,
          8,
          2.9,
          5.1,
          4,
          5.1,
          9.1,
          9,
          7.8,
          9.9,
          7.9,
          5.5,
          4.4,
          6.6,
          5.8,
          8.7,
          9.4,
          7.6,
          6.7,
          6.9,
          7.3,
          4.7,
          5.9,
          8.9,
          8.7,
          6.7,
          7.2,
          6.3,
          6.2,
          7.3,
          2.8,
          3.9,
          5.8,
          11,
          7.2,
          9.1,
          6.6,
          6.4,
          4.9,
          5.5,
          7.2,
          5.2,
          8.4,
          9.6,
          8.4,
          8.9,
          8,
          4.4,
          7.5,
          7.4,
          1.8,
          7.5,
          8.7,
          9,
          4.6,
          6.8,
          6.3,
          3.8,
          4.9,
          9.2,
          11.2,
          4.1,
          8.2,
          5,
          6.1,
          5.8,
          5.4,
          2.5,
          13,
          8.5,
          5.5,
          7.3,
          6.3,
          5.8,
          8.9,
          7.5,
          8.7
         ],
         "yaxis": "y"
        }
       ],
       "layout": {
        "height": 600,
        "legend": {
         "title": {
          "text": "MVP"
         },
         "tracegroupgap": 0
        },
        "margin": {
         "t": 60
        },
        "template": {
         "data": {
          "bar": [
           {
            "error_x": {
             "color": "#2a3f5f"
            },
            "error_y": {
             "color": "#2a3f5f"
            },
            "marker": {
             "line": {
              "color": "#E5ECF6",
              "width": 0.5
             },
             "pattern": {
              "fillmode": "overlay",
              "size": 10,
              "solidity": 0.2
             }
            },
            "type": "bar"
           }
          ],
          "barpolar": [
           {
            "marker": {
             "line": {
              "color": "#E5ECF6",
              "width": 0.5
             },
             "pattern": {
              "fillmode": "overlay",
              "size": 10,
              "solidity": 0.2
             }
            },
            "type": "barpolar"
           }
          ],
          "carpet": [
           {
            "aaxis": {
             "endlinecolor": "#2a3f5f",
             "gridcolor": "white",
             "linecolor": "white",
             "minorgridcolor": "white",
             "startlinecolor": "#2a3f5f"
            },
            "baxis": {
             "endlinecolor": "#2a3f5f",
             "gridcolor": "white",
             "linecolor": "white",
             "minorgridcolor": "white",
             "startlinecolor": "#2a3f5f"
            },
            "type": "carpet"
           }
          ],
          "choropleth": [
           {
            "colorbar": {
             "outlinewidth": 0,
             "ticks": ""
            },
            "type": "choropleth"
           }
          ],
          "contour": [
           {
            "colorbar": {
             "outlinewidth": 0,
             "ticks": ""
            },
            "colorscale": [
             [
              0,
              "#0d0887"
             ],
             [
              0.1111111111111111,
              "#46039f"
             ],
             [
              0.2222222222222222,
              "#7201a8"
             ],
             [
              0.3333333333333333,
              "#9c179e"
             ],
             [
              0.4444444444444444,
              "#bd3786"
             ],
             [
              0.5555555555555556,
              "#d8576b"
             ],
             [
              0.6666666666666666,
              "#ed7953"
             ],
             [
              0.7777777777777778,
              "#fb9f3a"
             ],
             [
              0.8888888888888888,
              "#fdca26"
             ],
             [
              1,
              "#f0f921"
             ]
            ],
            "type": "contour"
           }
          ],
          "contourcarpet": [
           {
            "colorbar": {
             "outlinewidth": 0,
             "ticks": ""
            },
            "type": "contourcarpet"
           }
          ],
          "heatmap": [
           {
            "colorbar": {
             "outlinewidth": 0,
             "ticks": ""
            },
            "colorscale": [
             [
              0,
              "#0d0887"
             ],
             [
              0.1111111111111111,
              "#46039f"
             ],
             [
              0.2222222222222222,
              "#7201a8"
             ],
             [
              0.3333333333333333,
              "#9c179e"
             ],
             [
              0.4444444444444444,
              "#bd3786"
             ],
             [
              0.5555555555555556,
              "#d8576b"
             ],
             [
              0.6666666666666666,
              "#ed7953"
             ],
             [
              0.7777777777777778,
              "#fb9f3a"
             ],
             [
              0.8888888888888888,
              "#fdca26"
             ],
             [
              1,
              "#f0f921"
             ]
            ],
            "type": "heatmap"
           }
          ],
          "heatmapgl": [
           {
            "colorbar": {
             "outlinewidth": 0,
             "ticks": ""
            },
            "colorscale": [
             [
              0,
              "#0d0887"
             ],
             [
              0.1111111111111111,
              "#46039f"
             ],
             [
              0.2222222222222222,
              "#7201a8"
             ],
             [
              0.3333333333333333,
              "#9c179e"
             ],
             [
              0.4444444444444444,
              "#bd3786"
             ],
             [
              0.5555555555555556,
              "#d8576b"
             ],
             [
              0.6666666666666666,
              "#ed7953"
             ],
             [
              0.7777777777777778,
              "#fb9f3a"
             ],
             [
              0.8888888888888888,
              "#fdca26"
             ],
             [
              1,
              "#f0f921"
             ]
            ],
            "type": "heatmapgl"
           }
          ],
          "histogram": [
           {
            "marker": {
             "pattern": {
              "fillmode": "overlay",
              "size": 10,
              "solidity": 0.2
             }
            },
            "type": "histogram"
           }
          ],
          "histogram2d": [
           {
            "colorbar": {
             "outlinewidth": 0,
             "ticks": ""
            },
            "colorscale": [
             [
              0,
              "#0d0887"
             ],
             [
              0.1111111111111111,
              "#46039f"
             ],
             [
              0.2222222222222222,
              "#7201a8"
             ],
             [
              0.3333333333333333,
              "#9c179e"
             ],
             [
              0.4444444444444444,
              "#bd3786"
             ],
             [
              0.5555555555555556,
              "#d8576b"
             ],
             [
              0.6666666666666666,
              "#ed7953"
             ],
             [
              0.7777777777777778,
              "#fb9f3a"
             ],
             [
              0.8888888888888888,
              "#fdca26"
             ],
             [
              1,
              "#f0f921"
             ]
            ],
            "type": "histogram2d"
           }
          ],
          "histogram2dcontour": [
           {
            "colorbar": {
             "outlinewidth": 0,
             "ticks": ""
            },
            "colorscale": [
             [
              0,
              "#0d0887"
             ],
             [
              0.1111111111111111,
              "#46039f"
             ],
             [
              0.2222222222222222,
              "#7201a8"
             ],
             [
              0.3333333333333333,
              "#9c179e"
             ],
             [
              0.4444444444444444,
              "#bd3786"
             ],
             [
              0.5555555555555556,
              "#d8576b"
             ],
             [
              0.6666666666666666,
              "#ed7953"
             ],
             [
              0.7777777777777778,
              "#fb9f3a"
             ],
             [
              0.8888888888888888,
              "#fdca26"
             ],
             [
              1,
              "#f0f921"
             ]
            ],
            "type": "histogram2dcontour"
           }
          ],
          "mesh3d": [
           {
            "colorbar": {
             "outlinewidth": 0,
             "ticks": ""
            },
            "type": "mesh3d"
           }
          ],
          "parcoords": [
           {
            "line": {
             "colorbar": {
              "outlinewidth": 0,
              "ticks": ""
             }
            },
            "type": "parcoords"
           }
          ],
          "pie": [
           {
            "automargin": true,
            "type": "pie"
           }
          ],
          "scatter": [
           {
            "fillpattern": {
             "fillmode": "overlay",
             "size": 10,
             "solidity": 0.2
            },
            "type": "scatter"
           }
          ],
          "scatter3d": [
           {
            "line": {
             "colorbar": {
              "outlinewidth": 0,
              "ticks": ""
             }
            },
            "marker": {
             "colorbar": {
              "outlinewidth": 0,
              "ticks": ""
             }
            },
            "type": "scatter3d"
           }
          ],
          "scattercarpet": [
           {
            "marker": {
             "colorbar": {
              "outlinewidth": 0,
              "ticks": ""
             }
            },
            "type": "scattercarpet"
           }
          ],
          "scattergeo": [
           {
            "marker": {
             "colorbar": {
              "outlinewidth": 0,
              "ticks": ""
             }
            },
            "type": "scattergeo"
           }
          ],
          "scattergl": [
           {
            "marker": {
             "colorbar": {
              "outlinewidth": 0,
              "ticks": ""
             }
            },
            "type": "scattergl"
           }
          ],
          "scattermapbox": [
           {
            "marker": {
             "colorbar": {
              "outlinewidth": 0,
              "ticks": ""
             }
            },
            "type": "scattermapbox"
           }
          ],
          "scatterpolar": [
           {
            "marker": {
             "colorbar": {
              "outlinewidth": 0,
              "ticks": ""
             }
            },
            "type": "scatterpolar"
           }
          ],
          "scatterpolargl": [
           {
            "marker": {
             "colorbar": {
              "outlinewidth": 0,
              "ticks": ""
             }
            },
            "type": "scatterpolargl"
           }
          ],
          "scatterternary": [
           {
            "marker": {
             "colorbar": {
              "outlinewidth": 0,
              "ticks": ""
             }
            },
            "type": "scatterternary"
           }
          ],
          "surface": [
           {
            "colorbar": {
             "outlinewidth": 0,
             "ticks": ""
            },
            "colorscale": [
             [
              0,
              "#0d0887"
             ],
             [
              0.1111111111111111,
              "#46039f"
             ],
             [
              0.2222222222222222,
              "#7201a8"
             ],
             [
              0.3333333333333333,
              "#9c179e"
             ],
             [
              0.4444444444444444,
              "#bd3786"
             ],
             [
              0.5555555555555556,
              "#d8576b"
             ],
             [
              0.6666666666666666,
              "#ed7953"
             ],
             [
              0.7777777777777778,
              "#fb9f3a"
             ],
             [
              0.8888888888888888,
              "#fdca26"
             ],
             [
              1,
              "#f0f921"
             ]
            ],
            "type": "surface"
           }
          ],
          "table": [
           {
            "cells": {
             "fill": {
              "color": "#EBF0F8"
             },
             "line": {
              "color": "white"
             }
            },
            "header": {
             "fill": {
              "color": "#C8D4E3"
             },
             "line": {
              "color": "white"
             }
            },
            "type": "table"
           }
          ]
         },
         "layout": {
          "annotationdefaults": {
           "arrowcolor": "#2a3f5f",
           "arrowhead": 0,
           "arrowwidth": 1
          },
          "autotypenumbers": "strict",
          "coloraxis": {
           "colorbar": {
            "outlinewidth": 0,
            "ticks": ""
           }
          },
          "colorscale": {
           "diverging": [
            [
             0,
             "#8e0152"
            ],
            [
             0.1,
             "#c51b7d"
            ],
            [
             0.2,
             "#de77ae"
            ],
            [
             0.3,
             "#f1b6da"
            ],
            [
             0.4,
             "#fde0ef"
            ],
            [
             0.5,
             "#f7f7f7"
            ],
            [
             0.6,
             "#e6f5d0"
            ],
            [
             0.7,
             "#b8e186"
            ],
            [
             0.8,
             "#7fbc41"
            ],
            [
             0.9,
             "#4d9221"
            ],
            [
             1,
             "#276419"
            ]
           ],
           "sequential": [
            [
             0,
             "#0d0887"
            ],
            [
             0.1111111111111111,
             "#46039f"
            ],
            [
             0.2222222222222222,
             "#7201a8"
            ],
            [
             0.3333333333333333,
             "#9c179e"
            ],
            [
             0.4444444444444444,
             "#bd3786"
            ],
            [
             0.5555555555555556,
             "#d8576b"
            ],
            [
             0.6666666666666666,
             "#ed7953"
            ],
            [
             0.7777777777777778,
             "#fb9f3a"
            ],
            [
             0.8888888888888888,
             "#fdca26"
            ],
            [
             1,
             "#f0f921"
            ]
           ],
           "sequentialminus": [
            [
             0,
             "#0d0887"
            ],
            [
             0.1111111111111111,
             "#46039f"
            ],
            [
             0.2222222222222222,
             "#7201a8"
            ],
            [
             0.3333333333333333,
             "#9c179e"
            ],
            [
             0.4444444444444444,
             "#bd3786"
            ],
            [
             0.5555555555555556,
             "#d8576b"
            ],
            [
             0.6666666666666666,
             "#ed7953"
            ],
            [
             0.7777777777777778,
             "#fb9f3a"
            ],
            [
             0.8888888888888888,
             "#fdca26"
            ],
            [
             1,
             "#f0f921"
            ]
           ]
          },
          "colorway": [
           "#636efa",
           "#EF553B",
           "#00cc96",
           "#ab63fa",
           "#FFA15A",
           "#19d3f3",
           "#FF6692",
           "#B6E880",
           "#FF97FF",
           "#FECB52"
          ],
          "font": {
           "color": "#2a3f5f"
          },
          "geo": {
           "bgcolor": "white",
           "lakecolor": "white",
           "landcolor": "#E5ECF6",
           "showlakes": true,
           "showland": true,
           "subunitcolor": "white"
          },
          "hoverlabel": {
           "align": "left"
          },
          "hovermode": "closest",
          "mapbox": {
           "style": "light"
          },
          "paper_bgcolor": "white",
          "plot_bgcolor": "#E5ECF6",
          "polar": {
           "angularaxis": {
            "gridcolor": "white",
            "linecolor": "white",
            "ticks": ""
           },
           "bgcolor": "#E5ECF6",
           "radialaxis": {
            "gridcolor": "white",
            "linecolor": "white",
            "ticks": ""
           }
          },
          "scene": {
           "xaxis": {
            "backgroundcolor": "#E5ECF6",
            "gridcolor": "white",
            "gridwidth": 2,
            "linecolor": "white",
            "showbackground": true,
            "ticks": "",
            "zerolinecolor": "white"
           },
           "yaxis": {
            "backgroundcolor": "#E5ECF6",
            "gridcolor": "white",
            "gridwidth": 2,
            "linecolor": "white",
            "showbackground": true,
            "ticks": "",
            "zerolinecolor": "white"
           },
           "zaxis": {
            "backgroundcolor": "#E5ECF6",
            "gridcolor": "white",
            "gridwidth": 2,
            "linecolor": "white",
            "showbackground": true,
            "ticks": "",
            "zerolinecolor": "white"
           }
          },
          "shapedefaults": {
           "line": {
            "color": "#2a3f5f"
           }
          },
          "ternary": {
           "aaxis": {
            "gridcolor": "white",
            "linecolor": "white",
            "ticks": ""
           },
           "baxis": {
            "gridcolor": "white",
            "linecolor": "white",
            "ticks": ""
           },
           "bgcolor": "#E5ECF6",
           "caxis": {
            "gridcolor": "white",
            "linecolor": "white",
            "ticks": ""
           }
          },
          "title": {
           "x": 0.05
          },
          "xaxis": {
           "automargin": true,
           "gridcolor": "white",
           "linecolor": "white",
           "ticks": "",
           "title": {
            "standoff": 15
           },
           "zerolinecolor": "white",
           "zerolinewidth": 2
          },
          "yaxis": {
           "automargin": true,
           "gridcolor": "white",
           "linecolor": "white",
           "ticks": "",
           "title": {
            "standoff": 15
           },
           "zerolinecolor": "white",
           "zerolinewidth": 2
          }
         }
        },
        "title": {
         "text": "Box Plus-Minus vs W/L pct for MVP Candiates"
        },
        "xaxis": {
         "anchor": "y",
         "domain": [
          0,
          1
         ],
         "title": {
          "text": "wl_pct"
         }
        },
        "yaxis": {
         "anchor": "x",
         "domain": [
          0,
          1
         ],
         "title": {
          "text": "box_plus_minus"
         }
        }
       }
      }
     },
     "metadata": {},
     "output_type": "display_data"
    }
   ],
   "source": [
    "fig = px.scatter(df, x=\"wl_pct\", y=\"box_plus_minus\",color='MVP', hover_data=['Player', 'Year', 'Tm'])\n",
    "fig.update_layout(height=600, title_text= 'Box Plus-Minus vs W/L pct for MVP Candiates')\n",
    "fig.show()"
   ]
  },
  {
   "cell_type": "code",
   "execution_count": 17,
   "metadata": {},
   "outputs": [
    {
     "data": {
      "application/vnd.plotly.v1+json": {
       "config": {
        "plotlyServerURL": "https://plot.ly"
       },
       "data": [
        {
         "customdata": [
          [
           "Kareem Abdul-Jabbar",
           1980
          ],
          [
           "Julius Erving",
           1981
          ],
          [
           "Moses Malone",
           1982
          ],
          [
           "Moses Malone",
           1983
          ],
          [
           "Larry Bird",
           1984
          ],
          [
           "Larry Bird",
           1985
          ],
          [
           "Larry Bird",
           1986
          ],
          [
           "Magic Johnson",
           1987
          ],
          [
           "Michael Jordan",
           1988
          ],
          [
           "Magic Johnson",
           1989
          ],
          [
           "Magic Johnson",
           1990
          ],
          [
           "Michael Jordan",
           1991
          ],
          [
           "Michael Jordan",
           1992
          ],
          [
           "Charles Barkley",
           1993
          ],
          [
           "Hakeem Olajuwon",
           1994
          ],
          [
           "David Robinson",
           1995
          ],
          [
           "Michael Jordan",
           1996
          ],
          [
           "Karl Malone",
           1997
          ],
          [
           "Michael Jordan",
           1998
          ],
          [
           "Karl Malone",
           1999
          ],
          [
           "Shaquille O'Neal",
           2000
          ],
          [
           "Allen Iverson",
           2001
          ],
          [
           "Tim Duncan",
           2002
          ],
          [
           "Tim Duncan",
           2003
          ],
          [
           "Kevin Garnett",
           2004
          ],
          [
           "Steve Nash",
           2005
          ],
          [
           "Steve Nash",
           2006
          ],
          [
           "Dirk Nowitzki",
           2007
          ],
          [
           "Kobe Bryant",
           2008
          ],
          [
           "LeBron James",
           2009
          ],
          [
           "LeBron James",
           2010
          ],
          [
           "Derrick Rose",
           2011
          ],
          [
           "LeBron James",
           2012
          ],
          [
           "LeBron James",
           2013
          ],
          [
           "Kevin Durant",
           2014
          ],
          [
           "Stephen Curry",
           2015
          ],
          [
           "Stephen Curry",
           2016
          ],
          [
           "Russell Westbrook",
           2017
          ],
          [
           "James Harden",
           2018
          ],
          [
           "Giannis Antetokounmpo",
           2019
          ],
          [
           "Giannis Antetokounmpo",
           2020
          ],
          [
           "Nikola Jokić",
           2021
          ],
          [
           "Nikola Jokić",
           2022
          ],
          [
           "Joel Embiid",
           2023
          ]
         ],
         "hovertemplate": "MVP=Y<br>WS=%{x}<br>player_efficiency_rating=%{y}<br>Player=%{customdata[0]}<br>Year=%{customdata[1]}<extra></extra>",
         "legendgroup": "Y",
         "marker": {
          "color": "#636efa",
          "symbol": "circle"
         },
         "mode": "markers",
         "name": "Y",
         "orientation": "v",
         "showlegend": true,
         "type": "scatter",
         "x": [
          14.8,
          13.8,
          15.4,
          15.1,
          13.6,
          15.7,
          15.8,
          15.9,
          21.2,
          16.1,
          16.5,
          20.3,
          17.7,
          14.4,
          14.3,
          17.5,
          20.4,
          16.7,
          15.8,
          9.6,
          18.6,
          11.8,
          17.8,
          16.5,
          18.3,
          10.9,
          12.4,
          16.3,
          13.8,
          20.3,
          18.5,
          13.1,
          14.5,
          19.3,
          19.2,
          15.7,
          17.9,
          13.1,
          15.4,
          14.4,
          11.1,
          15.6,
          15.2,
          12.3
         ],
         "xaxis": "x",
         "y": [
          25.3,
          25.1,
          26.8,
          25.1,
          24.2,
          26.5,
          25.6,
          27,
          31.7,
          26.9,
          26.6,
          31.6,
          27.7,
          25.9,
          25.3,
          29.1,
          29.4,
          28.9,
          25.2,
          25.6,
          30.6,
          24,
          27,
          26.9,
          29.4,
          22,
          23.3,
          27.6,
          24.2,
          31.7,
          31.1,
          23.5,
          30.7,
          31.6,
          29.8,
          28,
          31.5,
          30.6,
          29.8,
          30.9,
          31.9,
          31.3,
          32.8,
          31.4
         ],
         "yaxis": "y"
        },
        {
         "customdata": [
          [
           "Julius Erving",
           1980
          ],
          [
           "George Gervin",
           1980
          ],
          [
           "Larry Bird",
           1980
          ],
          [
           "Tiny Archibald",
           1980
          ],
          [
           "Dennis Johnson",
           1980
          ],
          [
           "Dan Roundfield",
           1980
          ],
          [
           "Gus Williams",
           1980
          ],
          [
           "Moses Malone",
           1980
          ],
          [
           "Larry Bird",
           1981
          ],
          [
           "Kareem Abdul-Jabbar",
           1981
          ],
          [
           "Moses Malone",
           1981
          ],
          [
           "George Gervin",
           1981
          ],
          [
           "Marques Johnson",
           1981
          ],
          [
           "Robert Parish",
           1981
          ],
          [
           "Dennis Johnson",
           1981
          ],
          [
           "Larry Bird",
           1982
          ],
          [
           "Julius Erving",
           1982
          ],
          [
           "Robert Parish",
           1982
          ],
          [
           "Gus Williams",
           1982
          ],
          [
           "George Gervin",
           1982
          ],
          [
           "Sidney Moncrief",
           1982
          ],
          [
           "Magic Johnson",
           1982
          ],
          [
           "Jack Sikma",
           1982
          ],
          [
           "Kareem Abdul-Jabbar",
           1982
          ],
          [
           "Larry Bird",
           1983
          ],
          [
           "Magic Johnson",
           1983
          ],
          [
           "Sidney Moncrief",
           1983
          ],
          [
           "Julius Erving",
           1983
          ],
          [
           "Alex English",
           1983
          ],
          [
           "Buck Williams",
           1983
          ],
          [
           "Artis Gilmore",
           1983
          ],
          [
           "George Gervin",
           1983
          ],
          [
           "Kareem Abdul-Jabbar",
           1983
          ],
          [
           "Bernard King",
           1984
          ],
          [
           "Magic Johnson",
           1984
          ],
          [
           "Kareem Abdul-Jabbar",
           1984
          ],
          [
           "Isiah Thomas",
           1984
          ],
          [
           "Julius Erving",
           1984
          ],
          [
           "Adrian Dantley",
           1984
          ],
          [
           "Sidney Moncrief",
           1984
          ],
          [
           "Magic Johnson",
           1985
          ],
          [
           "Moses Malone",
           1985
          ],
          [
           "Kareem Abdul-Jabbar",
           1985
          ],
          [
           "Terry Cummings",
           1985
          ],
          [
           "Michael Jordan",
           1985
          ],
          [
           "Bernard King",
           1985
          ],
          [
           "Sidney Moncrief",
           1985
          ],
          [
           "Isiah Thomas",
           1985
          ],
          [
           "Ralph Sampson",
           1985
          ],
          [
           "Dominique Wilkins",
           1986
          ],
          [
           "Magic Johnson",
           1986
          ],
          [
           "Hakeem Olajuwon",
           1986
          ],
          [
           "Kareem Abdul-Jabbar",
           1986
          ],
          [
           "Charles Barkley",
           1986
          ],
          [
           "Sidney Moncrief",
           1986
          ],
          [
           "Alex English",
           1986
          ],
          [
           "Isiah Thomas",
           1986
          ],
          [
           "Michael Jordan",
           1987
          ],
          [
           "Larry Bird",
           1987
          ],
          [
           "Kevin McHale",
           1987
          ],
          [
           "Dominique Wilkins",
           1987
          ],
          [
           "Charles Barkley",
           1987
          ],
          [
           "Hakeem Olajuwon",
           1987
          ],
          [
           "Isiah Thomas",
           1987
          ],
          [
           "Fat Lever",
           1987
          ],
          [
           "Larry Bird",
           1988
          ],
          [
           "Magic Johnson",
           1988
          ],
          [
           "Charles Barkley",
           1988
          ],
          [
           "Clyde Drexler",
           1988
          ],
          [
           "Dominique Wilkins",
           1988
          ],
          [
           "Hakeem Olajuwon",
           1988
          ],
          [
           "Karl Malone",
           1988
          ],
          [
           "Fat Lever",
           1988
          ],
          [
           "John Stockton",
           1988
          ],
          [
           "Michael Jordan",
           1989
          ],
          [
           "Karl Malone",
           1989
          ],
          [
           "Patrick Ewing",
           1989
          ],
          [
           "Hakeem Olajuwon",
           1989
          ],
          [
           "Charles Barkley",
           1989
          ],
          [
           "John Stockton",
           1989
          ],
          [
           "Kevin Johnson",
           1989
          ],
          [
           "Tom Chambers",
           1989
          ],
          [
           "Mark Price",
           1989
          ],
          [
           "Charles Barkley",
           1990
          ],
          [
           "Michael Jordan",
           1990
          ],
          [
           "Karl Malone",
           1990
          ],
          [
           "Patrick Ewing",
           1990
          ],
          [
           "David Robinson",
           1990
          ],
          [
           "Hakeem Olajuwon",
           1990
          ],
          [
           "Tom Chambers",
           1990
          ],
          [
           "John Stockton",
           1990
          ],
          [
           "Larry Bird",
           1990
          ],
          [
           "Magic Johnson",
           1991
          ],
          [
           "David Robinson",
           1991
          ],
          [
           "Charles Barkley",
           1991
          ],
          [
           "Karl Malone",
           1991
          ],
          [
           "Clyde Drexler",
           1991
          ],
          [
           "Kevin Johnson",
           1991
          ],
          [
           "Dominique Wilkins",
           1991
          ],
          [
           "Larry Bird",
           1991
          ],
          [
           "Terry Porter",
           1991
          ],
          [
           "Clyde Drexler",
           1992
          ],
          [
           "David Robinson",
           1992
          ],
          [
           "Karl Malone",
           1992
          ],
          [
           "Patrick Ewing",
           1992
          ],
          [
           "Chris Mullin",
           1992
          ],
          [
           "Mark Price",
           1992
          ],
          [
           "Tim Hardaway",
           1992
          ],
          [
           "Scottie Pippen",
           1992
          ],
          [
           "Dennis Rodman",
           1992
          ],
          [
           "Hakeem Olajuwon",
           1993
          ],
          [
           "Michael Jordan",
           1993
          ],
          [
           "Patrick Ewing",
           1993
          ],
          [
           "Dominique Wilkins",
           1993
          ],
          [
           "David Robinson",
           1993
          ],
          [
           "Shaquille O'Neal",
           1993
          ],
          [
           "Karl Malone",
           1993
          ],
          [
           "Mark Price",
           1993
          ],
          [
           "Brad Daugherty",
           1993
          ],
          [
           "David Robinson",
           1994
          ],
          [
           "Scottie Pippen",
           1994
          ],
          [
           "Shaquille O'Neal",
           1994
          ],
          [
           "Patrick Ewing",
           1994
          ],
          [
           "Gary Payton",
           1994
          ],
          [
           "Shawn Kemp",
           1994
          ],
          [
           "Karl Malone",
           1994
          ],
          [
           "Mark Price",
           1994
          ],
          [
           "Charles Barkley",
           1994
          ],
          [
           "Shaquille O'Neal",
           1995
          ],
          [
           "Karl Malone",
           1995
          ],
          [
           "Patrick Ewing",
           1995
          ],
          [
           "Hakeem Olajuwon",
           1995
          ],
          [
           "Charles Barkley",
           1995
          ],
          [
           "Scottie Pippen",
           1995
          ],
          [
           "John Stockton",
           1995
          ],
          [
           "Gary Payton",
           1995
          ],
          [
           "Anfernee Hardaway",
           1995
          ],
          [
           "David Robinson",
           1996
          ],
          [
           "Anfernee Hardaway",
           1996
          ],
          [
           "Hakeem Olajuwon",
           1996
          ],
          [
           "Scottie Pippen",
           1996
          ],
          [
           "Gary Payton",
           1996
          ],
          [
           "Karl Malone",
           1996
          ],
          [
           "Shawn Kemp",
           1996
          ],
          [
           "Grant Hill",
           1996
          ],
          [
           "Michael Jordan",
           1997
          ],
          [
           "Grant Hill",
           1997
          ],
          [
           "Tim Hardaway",
           1997
          ],
          [
           "Glen Rice",
           1997
          ],
          [
           "Gary Payton",
           1997
          ],
          [
           "Hakeem Olajuwon",
           1997
          ],
          [
           "Patrick Ewing",
           1997
          ],
          [
           "Anthony Mason",
           1997
          ],
          [
           "Shaquille O'Neal",
           1997
          ],
          [
           "Karl Malone",
           1998
          ],
          [
           "Gary Payton",
           1998
          ],
          [
           "Shaquille O'Neal",
           1998
          ],
          [
           "Tim Duncan",
           1998
          ],
          [
           "Tim Hardaway",
           1998
          ],
          [
           "David Robinson",
           1998
          ],
          [
           "Grant Hill",
           1998
          ],
          [
           "Scottie Pippen",
           1998
          ],
          [
           "Alonzo Mourning",
           1999
          ],
          [
           "Tim Duncan",
           1999
          ],
          [
           "Allen Iverson",
           1999
          ],
          [
           "Jason Kidd",
           1999
          ],
          [
           "Shaquille O'Neal",
           1999
          ],
          [
           "Chris Webber",
           1999
          ],
          [
           "Grant Hill",
           1999
          ],
          [
           "Gary Payton",
           1999
          ],
          [
           "Kevin Garnett",
           1999
          ],
          [
           "Kevin Garnett",
           2000
          ],
          [
           "Alonzo Mourning",
           2000
          ],
          [
           "Karl Malone",
           2000
          ],
          [
           "Tim Duncan",
           2000
          ],
          [
           "Gary Payton",
           2000
          ],
          [
           "Allen Iverson",
           2000
          ],
          [
           "Grant Hill",
           2000
          ],
          [
           "Chris Webber",
           2000
          ],
          [
           "Vince Carter",
           2000
          ],
          [
           "Tim Duncan",
           2001
          ],
          [
           "Shaquille O'Neal",
           2001
          ],
          [
           "Chris Webber",
           2001
          ],
          [
           "Kevin Garnett",
           2001
          ],
          [
           "Tracy McGrady",
           2001
          ],
          [
           "Karl Malone",
           2001
          ],
          [
           "Jason Kidd",
           2001
          ],
          [
           "Kobe Bryant",
           2001
          ],
          [
           "David Robinson",
           2001
          ],
          [
           "Jason Kidd",
           2002
          ],
          [
           "Shaquille O'Neal",
           2002
          ],
          [
           "Tracy McGrady",
           2002
          ],
          [
           "Kobe Bryant",
           2002
          ],
          [
           "Gary Payton",
           2002
          ],
          [
           "Chris Webber",
           2002
          ],
          [
           "Dirk Nowitzki",
           2002
          ],
          [
           "Allen Iverson",
           2002
          ],
          [
           "Ben Wallace",
           2002
          ],
          [
           "Kevin Garnett",
           2003
          ],
          [
           "Kobe Bryant",
           2003
          ],
          [
           "Tracy McGrady",
           2003
          ],
          [
           "Shaquille O'Neal",
           2003
          ],
          [
           "Allen Iverson",
           2003
          ],
          [
           "Dirk Nowitzki",
           2003
          ],
          [
           "Ben Wallace",
           2003
          ],
          [
           "Jason Kidd",
           2003
          ],
          [
           "Chris Webber",
           2003
          ],
          [
           "Tim Duncan",
           2004
          ],
          [
           "Jermaine O'Neal",
           2004
          ],
          [
           "Peja Stojaković",
           2004
          ],
          [
           "Kobe Bryant",
           2004
          ],
          [
           "Shaquille O'Neal",
           2004
          ],
          [
           "Ben Wallace",
           2004
          ],
          [
           "Jason Kidd",
           2004
          ],
          [
           "LeBron James",
           2004
          ],
          [
           "Sam Cassell",
           2004
          ],
          [
           "Shaquille O'Neal",
           2005
          ],
          [
           "Dirk Nowitzki",
           2005
          ],
          [
           "Tim Duncan",
           2005
          ],
          [
           "Allen Iverson",
           2005
          ],
          [
           "LeBron James",
           2005
          ],
          [
           "Tracy McGrady",
           2005
          ],
          [
           "Dwyane Wade",
           2005
          ],
          [
           "Amar'e Stoudemire",
           2005
          ],
          [
           "Ray Allen",
           2005
          ],
          [
           "LeBron James",
           2006
          ],
          [
           "Dirk Nowitzki",
           2006
          ],
          [
           "Kobe Bryant",
           2006
          ],
          [
           "Chauncey Billups",
           2006
          ],
          [
           "Dwyane Wade",
           2006
          ],
          [
           "Elton Brand",
           2006
          ],
          [
           "Tim Duncan",
           2006
          ],
          [
           "Tony Parker",
           2006
          ],
          [
           "Allen Iverson",
           2006
          ],
          [
           "Steve Nash",
           2007
          ],
          [
           "Kobe Bryant",
           2007
          ],
          [
           "Tim Duncan",
           2007
          ],
          [
           "LeBron James",
           2007
          ],
          [
           "Tracy McGrady",
           2007
          ],
          [
           "Chris Bosh",
           2007
          ],
          [
           "Gilbert Arenas",
           2007
          ],
          [
           "Carlos Boozer",
           2007
          ],
          [
           "Kevin Garnett",
           2007
          ],
          [
           "Chris Paul",
           2008
          ],
          [
           "Kevin Garnett",
           2008
          ],
          [
           "LeBron James",
           2008
          ],
          [
           "Dwight Howard",
           2008
          ],
          [
           "Amar'e Stoudemire",
           2008
          ],
          [
           "Tim Duncan",
           2008
          ],
          [
           "Tracy McGrady",
           2008
          ],
          [
           "Steve Nash",
           2008
          ],
          [
           "Manu Ginóbili",
           2008
          ],
          [
           "Kobe Bryant",
           2009
          ],
          [
           "Dwyane Wade",
           2009
          ],
          [
           "Dwight Howard",
           2009
          ],
          [
           "Chris Paul",
           2009
          ],
          [
           "Chauncey Billups",
           2009
          ],
          [
           "Paul Pierce",
           2009
          ],
          [
           "Tony Parker",
           2009
          ],
          [
           "Brandon Roy",
           2009
          ],
          [
           "Dirk Nowitzki",
           2009
          ],
          [
           "Kevin Durant",
           2010
          ],
          [
           "Kobe Bryant",
           2010
          ],
          [
           "Dwight Howard",
           2010
          ],
          [
           "Dwyane Wade",
           2010
          ],
          [
           "Carmelo Anthony",
           2010
          ],
          [
           "Dirk Nowitzki",
           2010
          ],
          [
           "Steve Nash",
           2010
          ],
          [
           "Deron Williams",
           2010
          ],
          [
           "Dwight Howard",
           2011
          ],
          [
           "LeBron James",
           2011
          ],
          [
           "Kobe Bryant",
           2011
          ],
          [
           "Kevin Durant",
           2011
          ],
          [
           "Dirk Nowitzki",
           2011
          ],
          [
           "Dwyane Wade",
           2011
          ],
          [
           "Manu Ginóbili",
           2011
          ],
          [
           "Amar'e Stoudemire",
           2011
          ],
          [
           "Blake Griffin",
           2011
          ],
          [
           "Kevin Durant",
           2012
          ],
          [
           "Chris Paul",
           2012
          ],
          [
           "Kobe Bryant",
           2012
          ],
          [
           "Tony Parker",
           2012
          ],
          [
           "Kevin Love",
           2012
          ],
          [
           "Dwight Howard",
           2012
          ],
          [
           "Rajon Rondo",
           2012
          ],
          [
           "Steve Nash",
           2012
          ],
          [
           "Dwyane Wade",
           2012
          ],
          [
           "Kevin Durant",
           2013
          ],
          [
           "Carmelo Anthony",
           2013
          ],
          [
           "Chris Paul",
           2013
          ],
          [
           "Kobe Bryant",
           2013
          ],
          [
           "Tony Parker",
           2013
          ],
          [
           "Tim Duncan",
           2013
          ],
          [
           "James Harden",
           2013
          ],
          [
           "Russell Westbrook",
           2013
          ],
          [
           "Dwyane Wade",
           2013
          ],
          [
           "LeBron James",
           2014
          ],
          [
           "Blake Griffin",
           2014
          ],
          [
           "Joakim Noah",
           2014
          ],
          [
           "James Harden",
           2014
          ],
          [
           "Stephen Curry",
           2014
          ],
          [
           "Chris Paul",
           2014
          ],
          [
           "Al Jefferson",
           2014
          ],
          [
           "Paul George",
           2014
          ],
          [
           "LaMarcus Aldridge",
           2014
          ],
          [
           "James Harden",
           2015
          ],
          [
           "LeBron James",
           2015
          ],
          [
           "Russell Westbrook",
           2015
          ],
          [
           "Anthony Davis",
           2015
          ],
          [
           "Chris Paul",
           2015
          ],
          [
           "LaMarcus Aldridge",
           2015
          ],
          [
           "Marc Gasol",
           2015
          ],
          [
           "Blake Griffin",
           2015
          ],
          [
           "Tim Duncan",
           2015
          ],
          [
           "Kawhi Leonard",
           2016
          ],
          [
           "LeBron James",
           2016
          ],
          [
           "Russell Westbrook",
           2016
          ],
          [
           "Kevin Durant",
           2016
          ],
          [
           "Chris Paul",
           2016
          ],
          [
           "Draymond Green",
           2016
          ],
          [
           "Damian Lillard",
           2016
          ],
          [
           "James Harden",
           2016
          ],
          [
           "Kyle Lowry",
           2016
          ],
          [
           "James Harden",
           2017
          ],
          [
           "Kawhi Leonard",
           2017
          ],
          [
           "LeBron James",
           2017
          ],
          [
           "Isaiah Thomas",
           2017
          ],
          [
           "Stephen Curry",
           2017
          ],
          [
           "Giannis Antetokounmpo",
           2017
          ],
          [
           "John Wall",
           2017
          ],
          [
           "Anthony Davis",
           2017
          ],
          [
           "Kevin Durant",
           2017
          ],
          [
           "LeBron James",
           2018
          ],
          [
           "Anthony Davis",
           2018
          ],
          [
           "Damian Lillard",
           2018
          ],
          [
           "Russell Westbrook",
           2018
          ],
          [
           "Giannis Antetokounmpo",
           2018
          ],
          [
           "Kevin Durant",
           2018
          ],
          [
           "DeMar DeRozan",
           2018
          ],
          [
           "LaMarcus Aldridge",
           2018
          ],
          [
           "Jimmy Butler",
           2018
          ],
          [
           "James Harden",
           2019
          ],
          [
           "Paul George",
           2019
          ],
          [
           "Nikola Jokić",
           2019
          ],
          [
           "Stephen Curry",
           2019
          ],
          [
           "Damian Lillard",
           2019
          ],
          [
           "Joel Embiid",
           2019
          ],
          [
           "Kevin Durant",
           2019
          ],
          [
           "Kawhi Leonard",
           2019
          ],
          [
           "Russell Westbrook",
           2019
          ],
          [
           "LeBron James",
           2020
          ],
          [
           "James Harden",
           2020
          ],
          [
           "Luka Dončić",
           2020
          ],
          [
           "Kawhi Leonard",
           2020
          ],
          [
           "Anthony Davis",
           2020
          ],
          [
           "Chris Paul",
           2020
          ],
          [
           "Damian Lillard",
           2020
          ],
          [
           "Nikola Jokić",
           2020
          ],
          [
           "Pascal Siakam",
           2020
          ],
          [
           "Joel Embiid",
           2021
          ],
          [
           "Stephen Curry",
           2021
          ],
          [
           "Giannis Antetokounmpo",
           2021
          ],
          [
           "Chris Paul",
           2021
          ],
          [
           "Luka Dončić",
           2021
          ],
          [
           "Damian Lillard",
           2021
          ],
          [
           "Julius Randle",
           2021
          ],
          [
           "Rudy Gobert",
           2021
          ],
          [
           "Joel Embiid",
           2022
          ],
          [
           "Giannis Antetokounmpo",
           2022
          ],
          [
           "Devin Booker",
           2022
          ],
          [
           "Luka Dončić",
           2022
          ],
          [
           "Jayson Tatum",
           2022
          ],
          [
           "Ja Morant",
           2022
          ],
          [
           "Stephen Curry",
           2022
          ],
          [
           "Chris Paul",
           2022
          ],
          [
           "DeMar DeRozan",
           2022
          ],
          [
           "Nikola Jokić",
           2023
          ],
          [
           "Giannis Antetokounmpo",
           2023
          ],
          [
           "Jayson Tatum",
           2023
          ],
          [
           "Shai Gilgeous-Alexander",
           2023
          ],
          [
           "Donovan Mitchell",
           2023
          ],
          [
           "Domantas Sabonis",
           2023
          ],
          [
           "Luka Dončić",
           2023
          ],
          [
           "Stephen Curry",
           2023
          ],
          [
           "Jimmy Butler",
           2023
          ]
         ],
         "hovertemplate": "MVP=N<br>WS=%{x}<br>player_efficiency_rating=%{y}<br>Player=%{customdata[0]}<br>Year=%{customdata[1]}<extra></extra>",
         "legendgroup": "N",
         "marker": {
          "color": "#EF553B",
          "symbol": "circle"
         },
         "mode": "markers",
         "name": "N",
         "orientation": "v",
         "showlegend": true,
         "type": "scatter",
         "x": [
          12.5,
          10.6,
          11.2,
          8.9,
          7.4,
          9.1,
          11.6,
          11.9,
          10.8,
          14.3,
          13.7,
          10.5,
          11.2,
          10.9,
          8.4,
          12.5,
          13.3,
          10,
          10.2,
          10.7,
          13.4,
          12.9,
          12.6,
          10.7,
          14,
          12.5,
          13.2,
          10.9,
          10.3,
          11.4,
          11,
          9.4,
          10.9,
          12.1,
          10.2,
          8.9,
          9.1,
          10.1,
          14.6,
          12.7,
          12.7,
          11.9,
          11.2,
          10.7,
          14,
          7.1,
          11.2,
          11.2,
          6.2,
          10.8,
          12.1,
          9.5,
          10.8,
          10.8,
          11.7,
          9.8,
          8.8,
          16.9,
          15.2,
          14.8,
          12.2,
          12,
          10.9,
          7.6,
          9.7,
          15,
          10.9,
          16.7,
          13.2,
          9.8,
          10.7,
          10.1,
          10.4,
          14.1,
          19.8,
          15.2,
          10.9,
          12.4,
          16.1,
          15.6,
          12.2,
          9.2,
          11.3,
          17.3,
          19,
          15.9,
          13.5,
          15.1,
          11.2,
          11.2,
          14.4,
          9.5,
          15.4,
          17,
          13.4,
          15.5,
          12.4,
          12.7,
          11.4,
          6.6,
          13,
          12.8,
          13.9,
          15.1,
          13,
          10.8,
          9.1,
          9.2,
          12.7,
          12.6,
          15.8,
          17.2,
          10.6,
          10.5,
          13.2,
          10.4,
          15.4,
          9.8,
          12.7,
          20,
          11.2,
          16.9,
          13.1,
          9.3,
          11.7,
          13.4,
          10,
          8.8,
          14,
          13.8,
          9.6,
          10.7,
          10.6,
          11.8,
          13.9,
          11.7,
          10.7,
          18.3,
          14.4,
          9.7,
          12.3,
          11.5,
          15.1,
          11.2,
          11.7,
          18.3,
          14.6,
          12.9,
          10.8,
          12.9,
          9.1,
          9.8,
          11.4,
          8,
          16.4,
          12.5,
          10.2,
          12.8,
          11.7,
          13.8,
          10.2,
          6.6,
          7.9,
          8.7,
          7.2,
          8.1,
          9,
          3.6,
          7.3,
          7.2,
          5.4,
          11.6,
          12.9,
          15.3,
          13,
          13.9,
          6.9,
          10.7,
          10.7,
          11.8,
          13.2,
          14.9,
          11,
          11.8,
          12.2,
          13.1,
          9.6,
          11.3,
          12.1,
          8.9,
          13.2,
          11.5,
          12.7,
          12.6,
          8.6,
          13.4,
          6.9,
          11.6,
          15.6,
          14.9,
          16.1,
          13.2,
          9.2,
          16.1,
          10.6,
          11.3,
          6.9,
          13.1,
          9,
          13.5,
          10.7,
          9.9,
          10.2,
          7.2,
          5.1,
          12.1,
          11,
          15.6,
          11.2,
          9,
          14.3,
          12,
          11,
          14.6,
          10.7,
          16.3,
          17.7,
          15.3,
          15.5,
          14.4,
          14.8,
          10.8,
          9.6,
          10.6,
          12.6,
          13,
          13,
          13.7,
          8.6,
          9.6,
          10.8,
          9.9,
          10.7,
          17.8,
          12.9,
          15.2,
          12.9,
          14.6,
          11.1,
          5.8,
          10.5,
          11.1,
          12.7,
          14.7,
          13.8,
          18.3,
          10.1,
          10.3,
          8.6,
          13.5,
          10.9,
          16.1,
          9.4,
          13.2,
          13,
          7.9,
          12.3,
          9.9,
          10.3,
          14.4,
          15.6,
          10.3,
          12,
          11.1,
          12.8,
          9.9,
          8,
          9.8,
          12.2,
          12.7,
          6.2,
          7.1,
          10,
          7.7,
          4.9,
          5.9,
          7.7,
          18.9,
          9.5,
          13.9,
          10.9,
          9.3,
          8.3,
          12.8,
          11.6,
          9.6,
          15.9,
          12.2,
          11.2,
          12.8,
          13.4,
          12.2,
          7.8,
          10.8,
          7.5,
          16.4,
          10.4,
          10.6,
          14,
          16.1,
          8.6,
          10.2,
          9,
          9.6,
          13.7,
          13.6,
          14,
          14.5,
          12.7,
          11.1,
          9.2,
          13.3,
          11.6,
          15,
          13.6,
          12.9,
          12.5,
          12.6,
          12.4,
          8.8,
          11,
          12,
          14,
          13.7,
          12.6,
          10.1,
          11.9,
          10.4,
          9.6,
          10.9,
          8.9,
          15.2,
          11.9,
          11.8,
          9.7,
          12.1,
          8.7,
          11.5,
          9.5,
          6.8,
          9.8,
          13.1,
          8.8,
          8.7,
          11.1,
          8.9,
          11.6,
          9.8,
          5.4,
          8.8,
          9,
          10.2,
          9.2,
          7.7,
          10.4,
          7.8,
          11.3,
          12,
          12.9,
          7.6,
          7.6,
          9.6,
          6.7,
          8,
          9.4,
          8.8,
          14.9,
          8.6,
          10.5,
          11.4,
          8.9,
          12.6,
          10.2,
          7.8,
          12.3
         ],
         "xaxis": "x",
         "y": [
          25.4,
          24,
          20.5,
          15.3,
          15.9,
          19.7,
          20.6,
          24.1,
          19.9,
          25.5,
          25.1,
          22.9,
          22,
          25.2,
          17,
          22.6,
          25.9,
          22.6,
          21.8,
          24.2,
          20.1,
          22.9,
          20.6,
          23.4,
          24.1,
          23,
          22.6,
          23.1,
          24.1,
          18.6,
          21.2,
          20.5,
          23.6,
          22.7,
          22.6,
          21.3,
          20.9,
          22.9,
          24.6,
          19.8,
          23.2,
          22.5,
          22.9,
          22.1,
          25.8,
          25.2,
          20.1,
          22.2,
          17.4,
          23.3,
          24,
          24.2,
          22.7,
          22.4,
          20,
          21.7,
          21.2,
          29.8,
          26.4,
          24,
          23.5,
          25.1,
          23.8,
          18.8,
          20.8,
          27.8,
          23.1,
          27.6,
          24.1,
          23.7,
          23.4,
          20.7,
          20.5,
          23.2,
          31.1,
          24.4,
          22.1,
          25.2,
          27,
          22.9,
          20.5,
          19.3,
          20.6,
          27.1,
          31.2,
          27.2,
          25.8,
          26.3,
          24.1,
          20.9,
          23.9,
          21.9,
          25.1,
          27.4,
          28.9,
          24.8,
          22.1,
          23.7,
          23.5,
          19.7,
          21.7,
          23.6,
          27.5,
          25.4,
          22.8,
          19.9,
          22.7,
          19.1,
          21.5,
          17,
          27.3,
          29.7,
          20.8,
          24.3,
          24.2,
          22.9,
          26.2,
          22.1,
          22,
          30.7,
          23.2,
          28.5,
          22.9,
          17.8,
          22.9,
          22.9,
          22.7,
          22.8,
          28.6,
          25.1,
          21.9,
          26,
          25.2,
          22.6,
          23.3,
          21.3,
          20.8,
          29.4,
          24.6,
          25.5,
          21,
          19.6,
          26,
          22.6,
          20.9,
          27.8,
          25.5,
          20.8,
          19.7,
          21.8,
          22.7,
          21.3,
          18.9,
          27.1,
          27.9,
          21.6,
          28.8,
          22.6,
          20.6,
          27.8,
          21.2,
          20.4,
          24.6,
          23.2,
          22.2,
          22.5,
          30.6,
          19.5,
          23.9,
          23.1,
          22.4,
          23.6,
          25.8,
          27.1,
          24.8,
          23.6,
          20,
          24.5,
          23.4,
          23.4,
          23.8,
          30.2,
          24.7,
          23.9,
          24.9,
          24.7,
          19.4,
          24.5,
          23.7,
          19.1,
          29.7,
          25.1,
          23.2,
          22.9,
          24.4,
          24.1,
          21.9,
          18.6,
          26.4,
          26.2,
          30.3,
          29.5,
          21.2,
          25.6,
          17.2,
          22.2,
          20.9,
          27.1,
          21.1,
          21.8,
          23.7,
          24.4,
          17.3,
          19.7,
          18.3,
          22.8,
          27,
          26.1,
          27,
          23.2,
          25.7,
          22.9,
          23.1,
          26.6,
          20.9,
          28.1,
          28.1,
          28,
          23.4,
          27.6,
          26.5,
          23.1,
          20.8,
          25.9,
          23.8,
          26.1,
          26.1,
          24.5,
          23.2,
          22.6,
          24,
          24.1,
          24.1,
          28.3,
          25.3,
          29.1,
          22.9,
          27.6,
          24.4,
          18.4,
          21.1,
          24.3,
          24.4,
          30.4,
          25.4,
          30,
          18.8,
          17.7,
          23.4,
          24,
          23.1,
          26.2,
          21.9,
          24,
          28,
          22.2,
          22.9,
          21.6,
          20.6,
          26.1,
          27.3,
          23.9,
          23.6,
          23.4,
          25.6,
          21.7,
          22.7,
          21.9,
          26.2,
          27,
          21.9,
          22,
          25.4,
          24.2,
          17.5,
          20.3,
          26.3,
          28.3,
          24.8,
          26.4,
          23,
          23,
          24.4,
          22.9,
          23.9,
          24,
          29.3,
          23.9,
          20,
          23.5,
          24.1,
          25.9,
          22.7,
          20.1,
          21.8,
          26.7,
          25.9,
          29.1,
          30.8,
          26,
          22.8,
          21.7,
          22.8,
          22.6,
          26,
          27.5,
          27.6,
          28.2,
          26.2,
          19.3,
          22.2,
          25.3,
          22.2,
          27.4,
          27.6,
          27,
          26.5,
          24.6,
          26.1,
          23.2,
          27.5,
          27.6,
          28.6,
          28.9,
          25.2,
          24.7,
          27.3,
          26,
          21,
          25,
          23.7,
          30.6,
          23.3,
          26.3,
          24.4,
          23.7,
          26.1,
          24.2,
          25.8,
          21.1,
          25.5,
          29.1,
          27.6,
          26.9,
          27.4,
          21.7,
          26.9,
          24.9,
          17.9,
          30.3,
          26.3,
          29.2,
          21.4,
          25.3,
          25.6,
          19.7,
          23.5,
          31.2,
          32.1,
          21.3,
          25.1,
          21.8,
          24.4,
          21.4,
          20.8,
          23.1,
          31.5,
          29,
          23.7,
          27.2,
          22.9,
          23.5,
          28.7,
          24.1,
          27.6
         ],
         "yaxis": "y"
        }
       ],
       "layout": {
        "height": 600,
        "legend": {
         "title": {
          "text": "MVP"
         },
         "tracegroupgap": 0
        },
        "margin": {
         "t": 60
        },
        "template": {
         "data": {
          "bar": [
           {
            "error_x": {
             "color": "#2a3f5f"
            },
            "error_y": {
             "color": "#2a3f5f"
            },
            "marker": {
             "line": {
              "color": "#E5ECF6",
              "width": 0.5
             },
             "pattern": {
              "fillmode": "overlay",
              "size": 10,
              "solidity": 0.2
             }
            },
            "type": "bar"
           }
          ],
          "barpolar": [
           {
            "marker": {
             "line": {
              "color": "#E5ECF6",
              "width": 0.5
             },
             "pattern": {
              "fillmode": "overlay",
              "size": 10,
              "solidity": 0.2
             }
            },
            "type": "barpolar"
           }
          ],
          "carpet": [
           {
            "aaxis": {
             "endlinecolor": "#2a3f5f",
             "gridcolor": "white",
             "linecolor": "white",
             "minorgridcolor": "white",
             "startlinecolor": "#2a3f5f"
            },
            "baxis": {
             "endlinecolor": "#2a3f5f",
             "gridcolor": "white",
             "linecolor": "white",
             "minorgridcolor": "white",
             "startlinecolor": "#2a3f5f"
            },
            "type": "carpet"
           }
          ],
          "choropleth": [
           {
            "colorbar": {
             "outlinewidth": 0,
             "ticks": ""
            },
            "type": "choropleth"
           }
          ],
          "contour": [
           {
            "colorbar": {
             "outlinewidth": 0,
             "ticks": ""
            },
            "colorscale": [
             [
              0,
              "#0d0887"
             ],
             [
              0.1111111111111111,
              "#46039f"
             ],
             [
              0.2222222222222222,
              "#7201a8"
             ],
             [
              0.3333333333333333,
              "#9c179e"
             ],
             [
              0.4444444444444444,
              "#bd3786"
             ],
             [
              0.5555555555555556,
              "#d8576b"
             ],
             [
              0.6666666666666666,
              "#ed7953"
             ],
             [
              0.7777777777777778,
              "#fb9f3a"
             ],
             [
              0.8888888888888888,
              "#fdca26"
             ],
             [
              1,
              "#f0f921"
             ]
            ],
            "type": "contour"
           }
          ],
          "contourcarpet": [
           {
            "colorbar": {
             "outlinewidth": 0,
             "ticks": ""
            },
            "type": "contourcarpet"
           }
          ],
          "heatmap": [
           {
            "colorbar": {
             "outlinewidth": 0,
             "ticks": ""
            },
            "colorscale": [
             [
              0,
              "#0d0887"
             ],
             [
              0.1111111111111111,
              "#46039f"
             ],
             [
              0.2222222222222222,
              "#7201a8"
             ],
             [
              0.3333333333333333,
              "#9c179e"
             ],
             [
              0.4444444444444444,
              "#bd3786"
             ],
             [
              0.5555555555555556,
              "#d8576b"
             ],
             [
              0.6666666666666666,
              "#ed7953"
             ],
             [
              0.7777777777777778,
              "#fb9f3a"
             ],
             [
              0.8888888888888888,
              "#fdca26"
             ],
             [
              1,
              "#f0f921"
             ]
            ],
            "type": "heatmap"
           }
          ],
          "heatmapgl": [
           {
            "colorbar": {
             "outlinewidth": 0,
             "ticks": ""
            },
            "colorscale": [
             [
              0,
              "#0d0887"
             ],
             [
              0.1111111111111111,
              "#46039f"
             ],
             [
              0.2222222222222222,
              "#7201a8"
             ],
             [
              0.3333333333333333,
              "#9c179e"
             ],
             [
              0.4444444444444444,
              "#bd3786"
             ],
             [
              0.5555555555555556,
              "#d8576b"
             ],
             [
              0.6666666666666666,
              "#ed7953"
             ],
             [
              0.7777777777777778,
              "#fb9f3a"
             ],
             [
              0.8888888888888888,
              "#fdca26"
             ],
             [
              1,
              "#f0f921"
             ]
            ],
            "type": "heatmapgl"
           }
          ],
          "histogram": [
           {
            "marker": {
             "pattern": {
              "fillmode": "overlay",
              "size": 10,
              "solidity": 0.2
             }
            },
            "type": "histogram"
           }
          ],
          "histogram2d": [
           {
            "colorbar": {
             "outlinewidth": 0,
             "ticks": ""
            },
            "colorscale": [
             [
              0,
              "#0d0887"
             ],
             [
              0.1111111111111111,
              "#46039f"
             ],
             [
              0.2222222222222222,
              "#7201a8"
             ],
             [
              0.3333333333333333,
              "#9c179e"
             ],
             [
              0.4444444444444444,
              "#bd3786"
             ],
             [
              0.5555555555555556,
              "#d8576b"
             ],
             [
              0.6666666666666666,
              "#ed7953"
             ],
             [
              0.7777777777777778,
              "#fb9f3a"
             ],
             [
              0.8888888888888888,
              "#fdca26"
             ],
             [
              1,
              "#f0f921"
             ]
            ],
            "type": "histogram2d"
           }
          ],
          "histogram2dcontour": [
           {
            "colorbar": {
             "outlinewidth": 0,
             "ticks": ""
            },
            "colorscale": [
             [
              0,
              "#0d0887"
             ],
             [
              0.1111111111111111,
              "#46039f"
             ],
             [
              0.2222222222222222,
              "#7201a8"
             ],
             [
              0.3333333333333333,
              "#9c179e"
             ],
             [
              0.4444444444444444,
              "#bd3786"
             ],
             [
              0.5555555555555556,
              "#d8576b"
             ],
             [
              0.6666666666666666,
              "#ed7953"
             ],
             [
              0.7777777777777778,
              "#fb9f3a"
             ],
             [
              0.8888888888888888,
              "#fdca26"
             ],
             [
              1,
              "#f0f921"
             ]
            ],
            "type": "histogram2dcontour"
           }
          ],
          "mesh3d": [
           {
            "colorbar": {
             "outlinewidth": 0,
             "ticks": ""
            },
            "type": "mesh3d"
           }
          ],
          "parcoords": [
           {
            "line": {
             "colorbar": {
              "outlinewidth": 0,
              "ticks": ""
             }
            },
            "type": "parcoords"
           }
          ],
          "pie": [
           {
            "automargin": true,
            "type": "pie"
           }
          ],
          "scatter": [
           {
            "fillpattern": {
             "fillmode": "overlay",
             "size": 10,
             "solidity": 0.2
            },
            "type": "scatter"
           }
          ],
          "scatter3d": [
           {
            "line": {
             "colorbar": {
              "outlinewidth": 0,
              "ticks": ""
             }
            },
            "marker": {
             "colorbar": {
              "outlinewidth": 0,
              "ticks": ""
             }
            },
            "type": "scatter3d"
           }
          ],
          "scattercarpet": [
           {
            "marker": {
             "colorbar": {
              "outlinewidth": 0,
              "ticks": ""
             }
            },
            "type": "scattercarpet"
           }
          ],
          "scattergeo": [
           {
            "marker": {
             "colorbar": {
              "outlinewidth": 0,
              "ticks": ""
             }
            },
            "type": "scattergeo"
           }
          ],
          "scattergl": [
           {
            "marker": {
             "colorbar": {
              "outlinewidth": 0,
              "ticks": ""
             }
            },
            "type": "scattergl"
           }
          ],
          "scattermapbox": [
           {
            "marker": {
             "colorbar": {
              "outlinewidth": 0,
              "ticks": ""
             }
            },
            "type": "scattermapbox"
           }
          ],
          "scatterpolar": [
           {
            "marker": {
             "colorbar": {
              "outlinewidth": 0,
              "ticks": ""
             }
            },
            "type": "scatterpolar"
           }
          ],
          "scatterpolargl": [
           {
            "marker": {
             "colorbar": {
              "outlinewidth": 0,
              "ticks": ""
             }
            },
            "type": "scatterpolargl"
           }
          ],
          "scatterternary": [
           {
            "marker": {
             "colorbar": {
              "outlinewidth": 0,
              "ticks": ""
             }
            },
            "type": "scatterternary"
           }
          ],
          "surface": [
           {
            "colorbar": {
             "outlinewidth": 0,
             "ticks": ""
            },
            "colorscale": [
             [
              0,
              "#0d0887"
             ],
             [
              0.1111111111111111,
              "#46039f"
             ],
             [
              0.2222222222222222,
              "#7201a8"
             ],
             [
              0.3333333333333333,
              "#9c179e"
             ],
             [
              0.4444444444444444,
              "#bd3786"
             ],
             [
              0.5555555555555556,
              "#d8576b"
             ],
             [
              0.6666666666666666,
              "#ed7953"
             ],
             [
              0.7777777777777778,
              "#fb9f3a"
             ],
             [
              0.8888888888888888,
              "#fdca26"
             ],
             [
              1,
              "#f0f921"
             ]
            ],
            "type": "surface"
           }
          ],
          "table": [
           {
            "cells": {
             "fill": {
              "color": "#EBF0F8"
             },
             "line": {
              "color": "white"
             }
            },
            "header": {
             "fill": {
              "color": "#C8D4E3"
             },
             "line": {
              "color": "white"
             }
            },
            "type": "table"
           }
          ]
         },
         "layout": {
          "annotationdefaults": {
           "arrowcolor": "#2a3f5f",
           "arrowhead": 0,
           "arrowwidth": 1
          },
          "autotypenumbers": "strict",
          "coloraxis": {
           "colorbar": {
            "outlinewidth": 0,
            "ticks": ""
           }
          },
          "colorscale": {
           "diverging": [
            [
             0,
             "#8e0152"
            ],
            [
             0.1,
             "#c51b7d"
            ],
            [
             0.2,
             "#de77ae"
            ],
            [
             0.3,
             "#f1b6da"
            ],
            [
             0.4,
             "#fde0ef"
            ],
            [
             0.5,
             "#f7f7f7"
            ],
            [
             0.6,
             "#e6f5d0"
            ],
            [
             0.7,
             "#b8e186"
            ],
            [
             0.8,
             "#7fbc41"
            ],
            [
             0.9,
             "#4d9221"
            ],
            [
             1,
             "#276419"
            ]
           ],
           "sequential": [
            [
             0,
             "#0d0887"
            ],
            [
             0.1111111111111111,
             "#46039f"
            ],
            [
             0.2222222222222222,
             "#7201a8"
            ],
            [
             0.3333333333333333,
             "#9c179e"
            ],
            [
             0.4444444444444444,
             "#bd3786"
            ],
            [
             0.5555555555555556,
             "#d8576b"
            ],
            [
             0.6666666666666666,
             "#ed7953"
            ],
            [
             0.7777777777777778,
             "#fb9f3a"
            ],
            [
             0.8888888888888888,
             "#fdca26"
            ],
            [
             1,
             "#f0f921"
            ]
           ],
           "sequentialminus": [
            [
             0,
             "#0d0887"
            ],
            [
             0.1111111111111111,
             "#46039f"
            ],
            [
             0.2222222222222222,
             "#7201a8"
            ],
            [
             0.3333333333333333,
             "#9c179e"
            ],
            [
             0.4444444444444444,
             "#bd3786"
            ],
            [
             0.5555555555555556,
             "#d8576b"
            ],
            [
             0.6666666666666666,
             "#ed7953"
            ],
            [
             0.7777777777777778,
             "#fb9f3a"
            ],
            [
             0.8888888888888888,
             "#fdca26"
            ],
            [
             1,
             "#f0f921"
            ]
           ]
          },
          "colorway": [
           "#636efa",
           "#EF553B",
           "#00cc96",
           "#ab63fa",
           "#FFA15A",
           "#19d3f3",
           "#FF6692",
           "#B6E880",
           "#FF97FF",
           "#FECB52"
          ],
          "font": {
           "color": "#2a3f5f"
          },
          "geo": {
           "bgcolor": "white",
           "lakecolor": "white",
           "landcolor": "#E5ECF6",
           "showlakes": true,
           "showland": true,
           "subunitcolor": "white"
          },
          "hoverlabel": {
           "align": "left"
          },
          "hovermode": "closest",
          "mapbox": {
           "style": "light"
          },
          "paper_bgcolor": "white",
          "plot_bgcolor": "#E5ECF6",
          "polar": {
           "angularaxis": {
            "gridcolor": "white",
            "linecolor": "white",
            "ticks": ""
           },
           "bgcolor": "#E5ECF6",
           "radialaxis": {
            "gridcolor": "white",
            "linecolor": "white",
            "ticks": ""
           }
          },
          "scene": {
           "xaxis": {
            "backgroundcolor": "#E5ECF6",
            "gridcolor": "white",
            "gridwidth": 2,
            "linecolor": "white",
            "showbackground": true,
            "ticks": "",
            "zerolinecolor": "white"
           },
           "yaxis": {
            "backgroundcolor": "#E5ECF6",
            "gridcolor": "white",
            "gridwidth": 2,
            "linecolor": "white",
            "showbackground": true,
            "ticks": "",
            "zerolinecolor": "white"
           },
           "zaxis": {
            "backgroundcolor": "#E5ECF6",
            "gridcolor": "white",
            "gridwidth": 2,
            "linecolor": "white",
            "showbackground": true,
            "ticks": "",
            "zerolinecolor": "white"
           }
          },
          "shapedefaults": {
           "line": {
            "color": "#2a3f5f"
           }
          },
          "ternary": {
           "aaxis": {
            "gridcolor": "white",
            "linecolor": "white",
            "ticks": ""
           },
           "baxis": {
            "gridcolor": "white",
            "linecolor": "white",
            "ticks": ""
           },
           "bgcolor": "#E5ECF6",
           "caxis": {
            "gridcolor": "white",
            "linecolor": "white",
            "ticks": ""
           }
          },
          "title": {
           "x": 0.05
          },
          "xaxis": {
           "automargin": true,
           "gridcolor": "white",
           "linecolor": "white",
           "ticks": "",
           "title": {
            "standoff": 15
           },
           "zerolinecolor": "white",
           "zerolinewidth": 2
          },
          "yaxis": {
           "automargin": true,
           "gridcolor": "white",
           "linecolor": "white",
           "ticks": "",
           "title": {
            "standoff": 15
           },
           "zerolinecolor": "white",
           "zerolinewidth": 2
          }
         }
        },
        "title": {
         "text": "Win Shares per 48 vs W/L % Pct for MVP Candiates"
        },
        "xaxis": {
         "anchor": "y",
         "domain": [
          0,
          1
         ],
         "title": {
          "text": "WS"
         }
        },
        "yaxis": {
         "anchor": "x",
         "domain": [
          0,
          1
         ],
         "title": {
          "text": "player_efficiency_rating"
         }
        }
       }
      }
     },
     "metadata": {},
     "output_type": "display_data"
    }
   ],
   "source": [
    "fig = px.scatter(df, x=\"WS\", y=\"player_efficiency_rating\",color='MVP', hover_data=['Player', 'Year'])\n",
    "fig.update_layout(height=600, title_text= 'Win Shares per 48 vs W/L % Pct for MVP Candiates')\n",
    "fig.show()"
   ]
  },
  {
   "cell_type": "code",
   "execution_count": null,
   "metadata": {},
   "outputs": [],
   "source": []
  }
 ],
 "metadata": {
  "kernelspec": {
   "display_name": "Python 3.9.12 ('base')",
   "language": "python",
   "name": "python3"
  },
  "language_info": {
   "codemirror_mode": {
    "name": "ipython",
    "version": 3
   },
   "file_extension": ".py",
   "mimetype": "text/x-python",
   "name": "python",
   "nbconvert_exporter": "python",
   "pygments_lexer": "ipython3",
   "version": "3.9.12"
  },
  "orig_nbformat": 4,
  "vscode": {
   "interpreter": {
    "hash": "0dec2d63b7814454e75af1cdd1da16dfbf6538085e18c478c68b217dc309d1fa"
   }
  }
 },
 "nbformat": 4,
 "nbformat_minor": 2
}
